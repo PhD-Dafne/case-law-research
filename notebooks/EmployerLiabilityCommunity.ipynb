{
 "cells": [
  {
   "cell_type": "markdown",
   "metadata": {},
   "source": [
    "# Community detection\n",
    "Perform Louvain community detection on different resolutions"
   ]
  },
  {
   "cell_type": "code",
   "execution_count": 2,
   "metadata": {},
   "outputs": [],
   "source": [
    "%matplotlib inline\n",
    "import pandas as pd\n",
    "import os\n",
    "import networkx as nx\n",
    "import matplotlib.pyplot as plt\n",
    "import numpy as np\n",
    "import community\n",
    "import json"
   ]
  },
  {
   "cell_type": "code",
   "execution_count": 4,
   "metadata": {},
   "outputs": [],
   "source": [
    "filepath = '/media/sf_VBox_Shared/CaseLaw/2018-01-29-lido/derived/subnetwork/article/no_phr/'\n",
    "with open(os.path.join(filepath, 'network_gcc.json')) as f:\n",
    "    nw = json.load(f)\n",
    "graph = nx.readwrite.json_graph.node_link_graph({'nodes': nw['nodes'], 'links': nw['edges']}, \n",
    "                                                directed=True, multigraph=False)"
   ]
  },
  {
   "cell_type": "code",
   "execution_count": 5,
   "metadata": {},
   "outputs": [
    {
     "data": {
      "text/plain": [
       "(338, 589)"
      ]
     },
     "execution_count": 5,
     "metadata": {},
     "output_type": "execute_result"
    }
   ],
   "source": [
    "graph.number_of_nodes(), graph.number_of_edges()"
   ]
  },
  {
   "cell_type": "code",
   "execution_count": 6,
   "metadata": {},
   "outputs": [],
   "source": [
    "resolution_range = np.arange(0.5, 2, 0.1)\n",
    "nr_communities = np.zeros(len(resolution_range))\n",
    "modularities = np.zeros(len(resolution_range))\n",
    "com_df = pd.DataFrame()\n",
    "for i in range(len(resolution_range)):\n",
    "    partition = community.best_partition(graph.to_undirected(), resolution=resolution_range[i])\n",
    "    nr_communities[i] = len(set(partition.values()))\n",
    "    modularities[i] = community.modularity(partition, graph.to_undirected())\n",
    "    com_df['com_{:.1f}'.format(resolution_range[i])] = pd.Series(partition)"
   ]
  },
  {
   "cell_type": "code",
   "execution_count": 7,
   "metadata": {},
   "outputs": [
    {
     "name": "stderr",
     "output_type": "stream",
     "text": [
      "/home/dafne/anaconda2/envs/caselaw/lib/python3.5/site-packages/matplotlib/figure.py:459: UserWarning: matplotlib is currently using a non-GUI backend, so cannot show the figure\n",
      "  \"matplotlib is currently using a non-GUI backend, \"\n"
     ]
    },
    {
     "data": {
      "image/png": "[encoded data removed]",
      "text/plain": [
       "<Figure size 720x720 with 2 Axes>"
      ]
     },
     "metadata": {},
     "output_type": "display_data"
    }
   ],
   "source": [
    "# What are the number of communities and modularity values\n",
    "plt, axes = plt.subplots(2, sharex=True, figsize=(10,10))\n",
    "axes[0].scatter(resolution_range, nr_communities)\n",
    "axes[1].scatter(resolution_range, modularities)\n",
    "plt.show()"
   ]
  },
  {
   "cell_type": "code",
   "execution_count": 9,
   "metadata": {},
   "outputs": [
    {
     "data": {
      "text/plain": [
       "com_0.5    21\n",
       "com_0.6    20\n",
       "com_0.7    17\n",
       "com_0.8    15\n",
       "com_0.9    14\n",
       "com_1.0    12\n",
       "com_1.1    10\n",
       "com_1.2    11\n",
       "com_1.3    10\n",
       "com_1.4    10\n",
       "com_1.5    10\n",
       "com_1.6     9\n",
       "com_1.7     9\n",
       "com_1.8    17\n",
       "com_1.9    17\n",
       "dtype: int64"
      ]
     },
     "execution_count": 9,
     "metadata": {},
     "output_type": "execute_result"
    }
   ],
   "source": [
    "com_df.nunique()"
   ]
  },
  {
   "cell_type": "markdown",
   "metadata": {},
   "source": [
    "## Save network with communities"
   ]
  },
  {
   "cell_type": "code",
   "execution_count": 10,
   "metadata": {
    "collapsed": true
   },
   "outputs": [],
   "source": [
    "selected_resolutions = [0.5, 0.7, 1.0, 1.3, 1.6]"
   ]
  },
  {
   "cell_type": "code",
   "execution_count": 11,
   "metadata": {
    "collapsed": true
   },
   "outputs": [],
   "source": [
    "for t in selected_resolutions:\n",
    "    att = 'com_{:.1f}'.format(t)\n",
    "    c = com_df[att.format(t)].to_dict()\n",
    "    nx.set_node_attributes(graph, {n: int(c[n]) for n in c}, name=att)"
   ]
  },
  {
   "cell_type": "code",
   "execution_count": 12,
   "metadata": {},
   "outputs": [],
   "source": [
    "fp_out = '/media/sf_VBox_Shared/CaseLaw/2018-01-29-lido/derived/subnetwork/article/no_phr/communities/'\n",
    "\n",
    "for t in selected_resolutions:\n",
    "    nw_t = {'title': nw['title']+' resolution {:.1f}'.format(t),\n",
    "           'edges': nw['edges'],\n",
    "           'nodes': [n.copy() for n in nw['nodes']] }\n",
    "    for n in nw_t['nodes']:\n",
    "        n['community'] = str(com_df.loc[n['id'],'com_{:.1f}'.format(t)])\n",
    "    with open(os.path.join(fp_out, 'network_modularity_{:.1f}.json'.format(t)), 'w') as f:\n",
    "        json.dump(nw_t, f, indent=True)"
   ]
  },
  {
   "cell_type": "code",
   "execution_count": 13,
   "metadata": {
    "collapsed": true
   },
   "outputs": [],
   "source": [
    "arts = nx.get_node_attributes(graph, 'articles')\n",
    "nx.set_node_attributes(graph, {k: ' '.join(arts[k]) for k in arts}, 'articles')"
   ]
  },
  {
   "cell_type": "code",
   "execution_count": 14,
   "metadata": {},
   "outputs": [],
   "source": [
    "nx.write_gexf(graph, os.path.join(fp_out, 'network_modularity.gexf'))"
   ]
  },
  {
   "cell_type": "code",
   "execution_count": null,
   "metadata": {
    "collapsed": true
   },
   "outputs": [],
   "source": []
  }
 ],
 "metadata": {
  "kernelspec": {
   "display_name": "Python [conda env:caselaw]",
   "language": "python",
   "name": "conda-env-caselaw-py"
  },
  "language_info": {
   "codemirror_mode": {
    "name": "ipython",
    "version": 3
   },
   "file_extension": ".py",
   "mimetype": "text/x-python",
   "name": "python",
   "nbconvert_exporter": "python",
   "pygments_lexer": "ipython3",
   "version": "3.5.5"
  }
 },
 "nbformat": 4,
 "nbformat_minor": 2
}
