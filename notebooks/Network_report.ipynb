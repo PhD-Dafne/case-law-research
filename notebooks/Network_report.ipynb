{
 "cells": [
  {
   "cell_type": "code",
   "execution_count": 1,
   "metadata": {
    "collapsed": false
   },
   "outputs": [
    {
     "name": "stdout",
     "output_type": "stream",
     "text": [
      "[nltk_data] Downloading package punkt to /home/dafne/nltk_data...\n",
      "[nltk_data]   Package punkt is already up-to-date!\n"
     ]
    }
   ],
   "source": [
    "import os\n",
    "import caselawnet\n",
    "import pandas as pd\n",
    "import matplotlib.pyplot as plt\n",
    "%matplotlib inline\n",
    "import json\n",
    "import networkx as nx\n",
    "import community"
   ]
  },
  {
   "cell_type": "code",
   "execution_count": 2,
   "metadata": {
    "collapsed": true
   },
   "outputs": [],
   "source": [
    "filepath = '/media/sf_VBox_Shared/CaseLaw/2018-01-29-lido/derived/'\n",
    "#nodes_df = pd.read_csv(os.path.join(filepath, 'article_nodes_nodup_min5.csv'), index_col='id')\n",
    "edges_df = pd.read_csv(os.path.join(filepath, 'case_to_case_lx_links.csv'))"
   ]
  },
  {
   "cell_type": "code",
   "execution_count": 3,
   "metadata": {},
   "outputs": [
    {
     "data": {
      "text/html": [
       "<div>\n",
       "<style>\n",
       "    .dataframe thead tr:only-child th {\n",
       "        text-align: right;\n",
       "    }\n",
       "\n",
       "    .dataframe thead th {\n",
       "        text-align: left;\n",
       "    }\n",
       "\n",
       "    .dataframe tbody tr th {\n",
       "        vertical-align: top;\n",
       "    }\n",
       "</style>\n",
       "<table border=\"1\" class=\"dataframe\">\n",
       "  <thead>\n",
       "    <tr style=\"text-align: right;\">\n",
       "      <th></th>\n",
       "      <th>link_id</th>\n",
       "      <th>source</th>\n",
       "      <th>target</th>\n",
       "    </tr>\n",
       "  </thead>\n",
       "  <tbody>\n",
       "    <tr>\n",
       "      <th>0</th>\n",
       "      <td>http://localhost:8984/bigdata/namespace/Regell...</td>\n",
       "      <td>http://linkeddata.overheid.nl/terms/jurisprude...</td>\n",
       "      <td>http://linkeddata.overheid.nl/terms/jurisprude...</td>\n",
       "    </tr>\n",
       "    <tr>\n",
       "      <th>1</th>\n",
       "      <td>http://localhost:8984/bigdata/namespace/Regell...</td>\n",
       "      <td>http://linkeddata.overheid.nl/terms/jurisprude...</td>\n",
       "      <td>http://linkeddata.overheid.nl/terms/jurisprude...</td>\n",
       "    </tr>\n",
       "    <tr>\n",
       "      <th>2</th>\n",
       "      <td>http://localhost:8984/bigdata/namespace/Regell...</td>\n",
       "      <td>http://linkeddata.overheid.nl/terms/jurisprude...</td>\n",
       "      <td>http://linkeddata.overheid.nl/terms/jurisprude...</td>\n",
       "    </tr>\n",
       "    <tr>\n",
       "      <th>3</th>\n",
       "      <td>http://localhost:8984/bigdata/namespace/Regell...</td>\n",
       "      <td>http://linkeddata.overheid.nl/terms/jurisprude...</td>\n",
       "      <td>http://linkeddata.overheid.nl/terms/jurisprude...</td>\n",
       "    </tr>\n",
       "    <tr>\n",
       "      <th>4</th>\n",
       "      <td>http://localhost:8984/bigdata/namespace/Regell...</td>\n",
       "      <td>http://linkeddata.overheid.nl/terms/jurisprude...</td>\n",
       "      <td>http://linkeddata.overheid.nl/terms/jurisprude...</td>\n",
       "    </tr>\n",
       "  </tbody>\n",
       "</table>\n",
       "</div>"
      ],
      "text/plain": [
       "                                             link_id  \\\n",
       "0  http://localhost:8984/bigdata/namespace/Regell...   \n",
       "1  http://localhost:8984/bigdata/namespace/Regell...   \n",
       "2  http://localhost:8984/bigdata/namespace/Regell...   \n",
       "3  http://localhost:8984/bigdata/namespace/Regell...   \n",
       "4  http://localhost:8984/bigdata/namespace/Regell...   \n",
       "\n",
       "                                              source  \\\n",
       "0  http://linkeddata.overheid.nl/terms/jurisprude...   \n",
       "1  http://linkeddata.overheid.nl/terms/jurisprude...   \n",
       "2  http://linkeddata.overheid.nl/terms/jurisprude...   \n",
       "3  http://linkeddata.overheid.nl/terms/jurisprude...   \n",
       "4  http://linkeddata.overheid.nl/terms/jurisprude...   \n",
       "\n",
       "                                              target  \n",
       "0  http://linkeddata.overheid.nl/terms/jurisprude...  \n",
       "1  http://linkeddata.overheid.nl/terms/jurisprude...  \n",
       "2  http://linkeddata.overheid.nl/terms/jurisprude...  \n",
       "3  http://linkeddata.overheid.nl/terms/jurisprude...  \n",
       "4  http://linkeddata.overheid.nl/terms/jurisprude...  "
      ]
     },
     "execution_count": 3,
     "metadata": {},
     "output_type": "execute_result"
    }
   ],
   "source": [
    "edges_df.head()"
   ]
  },
  {
   "cell_type": "code",
   "execution_count": 4,
   "metadata": {
    "collapsed": false
   },
   "outputs": [],
   "source": [
    "graph = nx.from_pandas_edgelist(edges_df, source='source', target='target', create_using=nx.DiGraph())"
   ]
  },
  {
   "cell_type": "markdown",
   "metadata": {},
   "source": [
    "## Assortativity"
   ]
  },
  {
   "cell_type": "code",
   "execution_count": 24,
   "metadata": {
    "collapsed": false
   },
   "outputs": [
    {
     "name": "stdout",
     "output_type": "stream",
     "text": [
      "authority assortativity: 0.44028534616659437 modularity: 0.22271713532865095\n",
      "book assortativity: 0.35516644114956414 modularity: 0.409178002901182\n",
      "community assortativity: 0.7246170303282646 modularity: 0.5803499438513066\n"
     ]
    }
   ],
   "source": [
    "for att in attributes[1:]:\n",
    "    ass = nx.attribute_assortativity_coefficient(graph, att)\n",
    "    mod = community.modularity(nodes_df[att].to_dict(), graph)\n",
    "    print(att, 'assortativity:', ass, 'modularity:', mod)"
   ]
  },
  {
   "cell_type": "markdown",
   "metadata": {},
   "source": [
    "## Degree distributions"
   ]
  },
  {
   "cell_type": "code",
   "execution_count": 5,
   "metadata": {
    "collapsed": true
   },
   "outputs": [],
   "source": [
    "degree_hist = nx.degree_histogram(graph)"
   ]
  },
  {
   "cell_type": "code",
   "execution_count": 34,
   "metadata": {},
   "outputs": [],
   "source": [
    "indegrees = list(dict(graph.in_degree()).values())\n",
    "outdegrees = list(dict(graph.out_degree()).values())"
   ]
  },
  {
   "cell_type": "code",
   "execution_count": 6,
   "metadata": {},
   "outputs": [
    {
     "data": {
      "text/plain": [
       "3862"
      ]
     },
     "execution_count": 6,
     "metadata": {},
     "output_type": "execute_result"
    }
   ],
   "source": [
    "len(degree_hist)"
   ]
  },
  {
   "cell_type": "code",
   "execution_count": 42,
   "metadata": {
    "collapsed": false
   },
   "outputs": [
    {
     "data": {
      "image/png": "[encoded data removed]",
      "text/plain": [
       "<matplotlib.figure.Figure at 0x7f78ad985080>"
      ]
     },
     "metadata": {},
     "output_type": "display_data"
    }
   ],
   "source": [
    "fig, axes = plt.subplots(3, 1, sharex=True, figsize=(5, 15))\n",
    "axes[0].hist(indegrees, bins=range(max(indegrees)))\n",
    "axes[0].set_xscale(\"log\")\n",
    "axes[0].set_yscale(\"log\")\n",
    "axes[0].set_title('In-degree')\n",
    "\n",
    "axes[1].hist(outdegrees,  bins=range(max(outdegrees)))\n",
    "axes[1].set_xscale(\"log\")\n",
    "axes[1].set_yscale(\"log\")\n",
    "axes[1].set_title('Out-degree')\n",
    "\n",
    "n = 500\n",
    "axes[2].bar(range(500), degree_hist[:n])\n",
    "axes[2].set_xscale(\"log\")\n",
    "axes[2].set_yscale(\"log\")\n",
    "axes[2].set_title('Degree')\n",
    "plt.show()"
   ]
  },
  {
   "cell_type": "markdown",
   "metadata": {},
   "source": [
    "## Connected components"
   ]
  },
  {
   "cell_type": "code",
   "execution_count": 10,
   "metadata": {
    "collapsed": true
   },
   "outputs": [],
   "source": [
    "import numpy as np"
   ]
  },
  {
   "cell_type": "code",
   "execution_count": 13,
   "metadata": {
    "collapsed": true
   },
   "outputs": [],
   "source": [
    "ccs = list(nx.connected_components(graph.to_undirected()))"
   ]
  },
  {
   "cell_type": "code",
   "execution_count": 14,
   "metadata": {
    "collapsed": false
   },
   "outputs": [
    {
     "name": "stdout",
     "output_type": "stream",
     "text": [
      "Number of connected components: 23507\n",
      "Relative size of largest component: 0.813366300582\n",
      "Number of non-singleton components: 23476\n",
      "Relative size of largest component without singletons: 0.813453748405\n"
     ]
    }
   ],
   "source": [
    "ccs_multiple = [c for c in ccs if len(c) > 1]\n",
    "ccs_sizes = np.array([len(c) for c in ccs])\n",
    "ccs_multiple_sizes = np.array([len(c) for c in ccs_multiple])\n",
    "print(\"Number of connected components:\", len(ccs))\n",
    "print(\"Relative size of largest component:\", np.max(ccs_sizes)/np.sum(ccs_sizes))\n",
    "print(\"Number of non-singleton components:\", len(ccs_multiple_sizes))\n",
    "print(\"Relative size of largest component without singletons:\", np.max(ccs_multiple_sizes)/np.sum(ccs_multiple_sizes))"
   ]
  },
  {
   "cell_type": "code",
   "execution_count": 19,
   "metadata": {},
   "outputs": [],
   "source": [
    "# Save largest cc\n",
    "gcc_ids = list(ccs[np.argmax(ccs_sizes)])\n",
    "#nodes_gcc = nodes_df.loc[gcc_ids]\n",
    "edges_gcc = edges_df[edges_df['source'].isin(gcc_ids) & edges_df['target'].isin(gcc_ids)]\n",
    "#print(len(nodes_gcc), len(edges_gcc))\n",
    "#nodes_gcc.to_csv(os.path.join(filepath, 'node__gcc.csv'))\n",
    "edges_gcc.to_csv(os.path.join(filepath, 'case_to_case_links_lx_gcc.csv'), index=False)"
   ]
  },
  {
   "cell_type": "code",
   "execution_count": 43,
   "metadata": {},
   "outputs": [
    {
     "data": {
      "text/plain": [
       "(505337, 3)"
      ]
     },
     "execution_count": 43,
     "metadata": {},
     "output_type": "execute_result"
    }
   ],
   "source": [
    "edges_gcc.shape"
   ]
  },
  {
   "cell_type": "markdown",
   "metadata": {},
   "source": [
    "## communities"
   ]
  },
  {
   "cell_type": "code",
   "execution_count": 37,
   "metadata": {
    "collapsed": false
   },
   "outputs": [
    {
     "name": "stdout",
     "output_type": "stream",
     "text": [
      "Number of communities: 398\n",
      "Average size of community 40.2412060302\n"
     ]
    }
   ],
   "source": [
    "community_sizes = nodes_df.groupby('community').size()\n",
    "print(\"Number of communities:\", len(community_sizes))\n",
    "print(\"Average size of community\", community_sizes.mean())"
   ]
  },
  {
   "cell_type": "code",
   "execution_count": null,
   "metadata": {
    "collapsed": true
   },
   "outputs": [],
   "source": []
  }
 ],
 "metadata": {
  "anaconda-cloud": {},
  "kernelspec": {
   "display_name": "Python [conda env:caselaw]",
   "language": "python",
   "name": "conda-env-caselaw-py"
  },
  "language_info": {
   "codemirror_mode": {
    "name": "ipython",
    "version": 3
   },
   "file_extension": ".py",
   "mimetype": "text/x-python",
   "name": "python",
   "nbconvert_exporter": "python",
   "pygments_lexer": "ipython3",
   "version": "3.5.2"
  }
 },
 "nbformat": 4,
 "nbformat_minor": 2
}
