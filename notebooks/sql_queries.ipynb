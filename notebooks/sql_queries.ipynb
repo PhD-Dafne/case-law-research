{
 "cells": [
  {
   "cell_type": "code",
   "execution_count": null,
   "metadata": {},
   "outputs": [],
   "source": [
    "import sqlalchemy\n",
    "import pandas as pd\n",
    "import os"
   ]
  },
  {
   "cell_type": "code",
   "execution_count": null,
   "metadata": {},
   "outputs": [],
   "source": [
    "engine = sqlalchemy.create_engine('mysql+pymysql://dafne@localhost/caselaw?charset=utf8')"
   ]
  },
  {
   "cell_type": "code",
   "execution_count": null,
   "metadata": {},
   "outputs": [],
   "source": [
    "query = \"\"\"\n",
    "select cta1.target as source, cta2.target as target, count(distinct cta1.source) as weight\n",
    "from caselaw.links_case_to_article cta1\n",
    "join caselaw.links_case_to_article cta2\n",
    "on cta1.source = cta2.source\n",
    "group by cta1.target, cta2.target\n",
    "having count(*)>5 and cta1.target <= cta2.target\n",
    "limit 10\n",
    ";\n",
    "\"\"\"\n",
    "article_to_article = pd.read_sql(query, engine)"
   ]
  },
  {
   "cell_type": "code",
   "execution_count": null,
   "metadata": {},
   "outputs": [],
   "source": []
  }
 ],
 "metadata": {
  "language_info": {
   "name": "python",
   "pygments_lexer": "ipython3"
  }
 },
 "nbformat": 4,
 "nbformat_minor": 2
}
