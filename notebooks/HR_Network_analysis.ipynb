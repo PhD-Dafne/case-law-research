{
 "cells": [
  {
   "cell_type": "code",
   "execution_count": 6,
   "metadata": {
    "collapsed": false
   },
   "outputs": [],
   "source": [
    "import pandas as pd\n",
    "import caselawnet\n",
    "import networkx as nx\n",
    "import os"
   ]
  },
  {
   "cell_type": "code",
   "execution_count": 3,
   "metadata": {
    "collapsed": false
   },
   "outputs": [],
   "source": [
    "datapath = '/media/sf_VBox_Shared/CaseLaw/graphs/lido/'"
   ]
  },
  {
   "cell_type": "code",
   "execution_count": 8,
   "metadata": {
    "collapsed": false
   },
   "outputs": [],
   "source": [
    "nodes = pd.read_csv(os.path.join(datapath, 'hr_enriched_nodes_2.csv'))"
   ]
  },
  {
   "cell_type": "code",
   "execution_count": 10,
   "metadata": {
    "collapsed": false
   },
   "outputs": [],
   "source": [
    "links = pd.read_csv(os.path.join(datapath, 'hr_simple_links.csv'))"
   ]
  },
  {
   "cell_type": "code",
   "execution_count": 11,
   "metadata": {
    "collapsed": true
   },
   "outputs": [],
   "source": [
    "links = links.rename(columns={'link_id': 'id'})"
   ]
  },
  {
   "cell_type": "code",
   "execution_count": 15,
   "metadata": {
    "collapsed": false
   },
   "outputs": [
    {
     "name": "stdout",
     "output_type": "stream",
     "text": [
      "(68334, 8)\n",
      "15139\n"
     ]
    }
   ],
   "source": [
    "print(nodes.shape)\n",
    "links_eclis = set(links['source']).union(set(links['target']))\n",
    "print(len(links_eclis))"
   ]
  },
  {
   "cell_type": "code",
   "execution_count": 18,
   "metadata": {
    "collapsed": false
   },
   "outputs": [
    {
     "data": {
      "text/plain": [
       "(15140, 8)"
      ]
     },
     "execution_count": 18,
     "metadata": {},
     "output_type": "execute_result"
    }
   ],
   "source": [
    "# Filter out nodes without links\n",
    "nodes_filtered = nodes[nodes['id'].isin(links_eclis)]\n",
    "nodes_filtered.shape"
   ]
  },
  {
   "cell_type": "code",
   "execution_count": 23,
   "metadata": {
    "collapsed": true
   },
   "outputs": [],
   "source": [
    "graph = caselawnet.network_analysis.get_network(nodes_filtered.to_dict(orient='records'), links.to_dict(orient='records'))"
   ]
  },
  {
   "cell_type": "code",
   "execution_count": null,
   "metadata": {
    "collapsed": true
   },
   "outputs": [],
   "source": [
    "hubs, authorities = caselawnet.network_analysis.get_hits(graph)"
   ]
  },
  {
   "cell_type": "code",
   "execution_count": null,
   "metadata": {
    "collapsed": false
   },
   "outputs": [],
   "source": [
    "statistics = {\n",
    "    'degree': graph.degree(),\n",
    "    'in_degree': graph.in_degree(),\n",
    "    'out_degree': graph.out_degree(),\n",
    "\n",
    "    'degree_centrality': nx.degree_centrality(graph),\n",
    "    'in_degree_centrality': nx.in_degree_centrality(graph),\n",
    "    'out_degree_centrality': nx.out_degree_centrality(graph),\n",
    "    'betweenness_centrality': nx.betweenness_centrality(graph),\n",
    "    'closeness_centrality': nx.closeness_centrality(graph),\n",
    "    'pagerank': caselawnet.network_analysis.get_pagerank(graph),\n",
    "    'hubs': hubs,\n",
    "    'authorities': authorities\n",
    "}"
   ]
  },
  {
   "cell_type": "code",
   "execution_count": 21,
   "metadata": {
    "collapsed": false
   },
   "outputs": [
    {
     "data": {
      "text/plain": [
       "id          15139\n",
       "ecli        15139\n",
       "title       15140\n",
       "subject        13\n",
       "creator         1\n",
       "year           67\n",
       "date         3549\n",
       "abstract     8568\n",
       "dtype: int64"
      ]
     },
     "execution_count": 21,
     "metadata": {},
     "output_type": "execute_result"
    }
   ],
   "source": [
    "nodes_filtered.nunique()"
   ]
  },
  {
   "cell_type": "code",
   "execution_count": null,
   "metadata": {
    "collapsed": true
   },
   "outputs": [],
   "source": []
  }
 ],
 "metadata": {
  "anaconda-cloud": {},
  "kernelspec": {
   "display_name": "Python [conda env:caselaw]",
   "language": "python",
   "name": "conda-env-caselaw-py"
  },
  "language_info": {
   "codemirror_mode": {
    "name": "ipython",
    "version": 3
   },
   "file_extension": ".py",
   "mimetype": "text/x-python",
   "name": "python",
   "nbconvert_exporter": "python",
   "pygments_lexer": "ipython3",
   "version": "3.5.2"
  }
 },
 "nbformat": 4,
 "nbformat_minor": 0
}
