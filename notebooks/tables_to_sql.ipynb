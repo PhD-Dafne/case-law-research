{
 "cells": [
  {
   "cell_type": "code",
   "execution_count": null,
   "metadata": {},
   "outputs": [],
   "source": [
    "import sqlalchemy\n",
    "import pandas as pd\n",
    "import os"
   ]
  },
  {
   "cell_type": "code",
   "execution_count": null,
   "metadata": {},
   "outputs": [],
   "source": [
    "engine = sqlalchemy.create_engine('mysql+pymysql://dafne@localhost/caselaw?charset=utf8')"
   ]
  },
  {
   "cell_type": "code",
   "execution_count": null,
   "metadata": {},
   "outputs": [],
   "source": [
    "fp = '/media/sf_VBox_Shared/CaseLaw/2018-01-29-lido/derived/'"
   ]
  },
  {
   "cell_type": "code",
   "execution_count": null,
   "metadata": {},
   "outputs": [],
   "source": [
    "case_to_case_links = pd.read_csv(os.path.join(fp, 'case_to_case_links.csv'))\n",
    "\n",
    "case_to_case_links.to_sql('links_case_to_case', engine)"
   ]
  },
  {
   "cell_type": "code",
   "execution_count": null,
   "metadata": {},
   "outputs": [],
   "source": [
    "case_to_article_links = pd.read_csv(os.path.join(fp, 'case-to-article-links.csv'))\n",
    "\n",
    "case_to_article_links.to_sql('links_case_to_article', engine)"
   ]
  },
  {
   "cell_type": "code",
   "execution_count": null,
   "metadata": {},
   "outputs": [],
   "source": [
    "article_nodes = pd.read_csv(os.path.join(fp, 'article_nodes_nodup.csv'), encoding='utf-8')\n",
    "\n",
    "article_nodes.to_sql('nodes_articles_lido', engine, if_exists='replace')"
   ]
  },
  {
   "cell_type": "code",
   "execution_count": null,
   "metadata": {},
   "outputs": [],
   "source": [
    "max(article_nodes['article_id'].str.len())"
   ]
  },
  {
   "cell_type": "code",
   "execution_count": null,
   "metadata": {},
   "outputs": [],
   "source": []
  }
 ],
 "metadata": {
  "language_info": {
   "name": "python",
   "pygments_lexer": "ipython3"
  }
 },
 "nbformat": 4,
 "nbformat_minor": 0
}
