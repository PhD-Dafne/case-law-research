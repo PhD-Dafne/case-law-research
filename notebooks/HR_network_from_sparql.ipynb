{
 "cells": [
  {
   "cell_type": "code",
   "execution_count": 1,
   "metadata": {
    "collapsed": true
   },
   "outputs": [],
   "source": [
    "from SPARQLWrapper import SPARQLWrapper, JSON\n",
    "import os\n",
    "import pandas as pd\n",
    "\n",
    "%matplotlib inline"
   ]
  },
  {
   "cell_type": "code",
   "execution_count": 2,
   "metadata": {
    "collapsed": true
   },
   "outputs": [],
   "source": [
    "sparql = SPARQLWrapper(\"http://localhost:9999/blazegraph/namespace/kb/sparql\")"
   ]
  },
  {
   "cell_type": "code",
   "execution_count": 3,
   "metadata": {
    "collapsed": true
   },
   "outputs": [],
   "source": [
    "def sparql_result_to_df(result):\n",
    "    cols = result['head']['vars']\n",
    "    rows_dicts = result['results']['bindings']\n",
    "    rows = [{c: r.get(c, {'value': None})['value'] for c in cols} for r in rows_dicts]\n",
    "    return pd.DataFrame(rows)[cols]"
   ]
  },
  {
   "cell_type": "code",
   "execution_count": 5,
   "metadata": {
    "collapsed": false
   },
   "outputs": [
    {
     "data": {
      "text/html": [
       "<div>\n",
       "<style>\n",
       "    .dataframe thead tr:only-child th {\n",
       "        text-align: right;\n",
       "    }\n",
       "\n",
       "    .dataframe thead th {\n",
       "        text-align: left;\n",
       "    }\n",
       "\n",
       "    .dataframe tbody tr th {\n",
       "        vertical-align: top;\n",
       "    }\n",
       "</style>\n",
       "<table border=\"1\" class=\"dataframe\">\n",
       "  <thead>\n",
       "    <tr style=\"text-align: right;\">\n",
       "      <th></th>\n",
       "      <th>type</th>\n",
       "      <th>count</th>\n",
       "    </tr>\n",
       "  </thead>\n",
       "  <tbody>\n",
       "    <tr>\n",
       "      <th>0</th>\n",
       "      <td>Jurisprudentie</td>\n",
       "      <td>162514</td>\n",
       "    </tr>\n",
       "    <tr>\n",
       "      <th>1</th>\n",
       "      <td>Verdrag</td>\n",
       "      <td>703</td>\n",
       "    </tr>\n",
       "    <tr>\n",
       "      <th>2</th>\n",
       "      <td>Wet</td>\n",
       "      <td>11879</td>\n",
       "    </tr>\n",
       "    <tr>\n",
       "      <th>3</th>\n",
       "      <td>Uitvoeringsinformatie</td>\n",
       "      <td>21</td>\n",
       "    </tr>\n",
       "    <tr>\n",
       "      <th>4</th>\n",
       "      <td>Officiele overheidspublicatie</td>\n",
       "      <td>853</td>\n",
       "    </tr>\n",
       "    <tr>\n",
       "      <th>5</th>\n",
       "      <td>Europese Regelgeving</td>\n",
       "      <td>384</td>\n",
       "    </tr>\n",
       "    <tr>\n",
       "      <th>6</th>\n",
       "      <td>BWB Beleidsregel</td>\n",
       "      <td>42</td>\n",
       "    </tr>\n",
       "    <tr>\n",
       "      <th>7</th>\n",
       "      <td>Amvb</td>\n",
       "      <td>888</td>\n",
       "    </tr>\n",
       "    <tr>\n",
       "      <th>8</th>\n",
       "      <td>MinisteriÃ«le-regeling</td>\n",
       "      <td>464</td>\n",
       "    </tr>\n",
       "    <tr>\n",
       "      <th>9</th>\n",
       "      <td>Beleidsregel</td>\n",
       "      <td>14</td>\n",
       "    </tr>\n",
       "    <tr>\n",
       "      <th>10</th>\n",
       "      <td>Rijkswet</td>\n",
       "      <td>166</td>\n",
       "    </tr>\n",
       "    <tr>\n",
       "      <th>11</th>\n",
       "      <td>KB</td>\n",
       "      <td>35</td>\n",
       "    </tr>\n",
       "    <tr>\n",
       "      <th>12</th>\n",
       "      <td>Circulaire</td>\n",
       "      <td>12</td>\n",
       "    </tr>\n",
       "    <tr>\n",
       "      <th>13</th>\n",
       "      <td>Regeling PBO</td>\n",
       "      <td>10</td>\n",
       "    </tr>\n",
       "    <tr>\n",
       "      <th>14</th>\n",
       "      <td>Regeling ZBO</td>\n",
       "      <td>9</td>\n",
       "    </tr>\n",
       "    <tr>\n",
       "      <th>15</th>\n",
       "      <td>Wet BES</td>\n",
       "      <td>11</td>\n",
       "    </tr>\n",
       "    <tr>\n",
       "      <th>16</th>\n",
       "      <td>RijksKB</td>\n",
       "      <td>4</td>\n",
       "    </tr>\n",
       "  </tbody>\n",
       "</table>\n",
       "</div>"
      ],
      "text/plain": [
       "                             type   count\n",
       "0                  Jurisprudentie  162514\n",
       "1                         Verdrag     703\n",
       "2                             Wet   11879\n",
       "3           Uitvoeringsinformatie      21\n",
       "4   Officiele overheidspublicatie     853\n",
       "5            Europese Regelgeving     384\n",
       "6                BWB Beleidsregel      42\n",
       "7                            Amvb     888\n",
       "8          MinisteriÃ«le-regeling     464\n",
       "9                    Beleidsregel      14\n",
       "10                       Rijkswet     166\n",
       "11                             KB      35\n",
       "12                     Circulaire      12\n",
       "13                   Regeling PBO      10\n",
       "14                   Regeling ZBO       9\n",
       "15                        Wet BES      11\n",
       "16                        RijksKB       4"
      ]
     },
     "execution_count": 5,
     "metadata": {},
     "output_type": "execute_result"
    }
   ],
   "source": [
    "queryString = \"\"\"\n",
    "    prefix dcterm: <http://purl.org/dc/terms/> \n",
    "    select ?type (count(?s) as ?count)\n",
    "    {\n",
    "        ?s dcterm:type ?type.\n",
    "    }\n",
    "    group by ?type\n",
    "\"\"\"\n",
    "\n",
    "sparql.setQuery(queryString)\n",
    "sparql.setReturnFormat(JSON)\n",
    "ret = sparql.query()\n",
    "result = ret.convert()\n",
    "sparql_result_to_df(result)"
   ]
  },
  {
   "cell_type": "code",
   "execution_count": 10,
   "metadata": {
    "collapsed": false
   },
   "outputs": [
    {
     "data": {
      "text/html": [
       "<div>\n",
       "<style>\n",
       "    .dataframe thead tr:only-child th {\n",
       "        text-align: right;\n",
       "    }\n",
       "\n",
       "    .dataframe thead th {\n",
       "        text-align: left;\n",
       "    }\n",
       "\n",
       "    .dataframe tbody tr th {\n",
       "        vertical-align: top;\n",
       "    }\n",
       "</style>\n",
       "<table border=\"1\" class=\"dataframe\">\n",
       "  <thead>\n",
       "    <tr style=\"text-align: right;\">\n",
       "      <th></th>\n",
       "      <th>p</th>\n",
       "      <th>count</th>\n",
       "    </tr>\n",
       "  </thead>\n",
       "  <tbody>\n",
       "    <tr>\n",
       "      <th>0</th>\n",
       "      <td>http://linkeddata.overheid.nl/terms/kleur</td>\n",
       "      <td>162514</td>\n",
       "    </tr>\n",
       "    <tr>\n",
       "      <th>1</th>\n",
       "      <td>http://linkeddata.overheid.nl/terms/volgorde</td>\n",
       "      <td>162514</td>\n",
       "    </tr>\n",
       "    <tr>\n",
       "      <th>2</th>\n",
       "      <td>http://purl.org/dc/terms/creator</td>\n",
       "      <td>68338</td>\n",
       "    </tr>\n",
       "    <tr>\n",
       "      <th>3</th>\n",
       "      <td>http://purl.org/dc/terms/hasVersion</td>\n",
       "      <td>162528</td>\n",
       "    </tr>\n",
       "    <tr>\n",
       "      <th>4</th>\n",
       "      <td>http://purl.org/dc/terms/identifier</td>\n",
       "      <td>326093</td>\n",
       "    </tr>\n",
       "    <tr>\n",
       "      <th>5</th>\n",
       "      <td>http://purl.org/dc/terms/modified</td>\n",
       "      <td>163236</td>\n",
       "    </tr>\n",
       "    <tr>\n",
       "      <th>6</th>\n",
       "      <td>http://purl.org/dc/terms/title</td>\n",
       "      <td>162521</td>\n",
       "    </tr>\n",
       "    <tr>\n",
       "      <th>7</th>\n",
       "      <td>http://purl.org/dc/terms/type</td>\n",
       "      <td>162514</td>\n",
       "    </tr>\n",
       "  </tbody>\n",
       "</table>\n",
       "</div>"
      ],
      "text/plain": [
       "                                              p   count\n",
       "0     http://linkeddata.overheid.nl/terms/kleur  162514\n",
       "1  http://linkeddata.overheid.nl/terms/volgorde  162514\n",
       "2              http://purl.org/dc/terms/creator   68338\n",
       "3           http://purl.org/dc/terms/hasVersion  162528\n",
       "4           http://purl.org/dc/terms/identifier  326093\n",
       "5             http://purl.org/dc/terms/modified  163236\n",
       "6                http://purl.org/dc/terms/title  162521\n",
       "7                 http://purl.org/dc/terms/type  162514"
      ]
     },
     "execution_count": 10,
     "metadata": {},
     "output_type": "execute_result"
    }
   ],
   "source": [
    "# wich attributes can appear multiple times?\n",
    "queryString = \"\"\"\n",
    "    prefix dcterm: <http://purl.org/dc/terms/> \n",
    "    select ?p (count(?o) as ?count) \n",
    "    {\n",
    "        ?s dcterm:type \"Jurisprudentie\".\n",
    "        ?s ?p ?o.\n",
    "    }\n",
    "    group by ?p\n",
    "    having(count(?o)>1)\n",
    "    order by ?p\n",
    "\"\"\"\n",
    "\n",
    "sparql.setQuery(queryString)\n",
    "sparql.setReturnFormat(JSON)\n",
    "ret = sparql.query()\n",
    "result = ret.convert()\n",
    "sparql_result_to_df(result)"
   ]
  },
  {
   "cell_type": "code",
   "execution_count": 14,
   "metadata": {
    "collapsed": false
   },
   "outputs": [
    {
     "data": {
      "text/plain": [
       "(68339, 5)"
      ]
     },
     "execution_count": 14,
     "metadata": {},
     "output_type": "execute_result"
    }
   ],
   "source": [
    "# Nodes: all jurispidentie that includes a creator\n",
    "queryString = \"\"\"\n",
    "    prefix dcterm: <http://purl.org/dc/terms/> \n",
    "    select ?id ?creator ?title\n",
    "    {\n",
    "        ?id dcterm:type \"Jurisprudentie\".\n",
    "         ?id dcterm:creator ?creator. \n",
    "        optional { ?id dcterm:title ?title }\n",
    "    }\n",
    "\"\"\"\n",
    "\n",
    "sparql.setQuery(queryString)\n",
    "sparql.setReturnFormat(JSON)\n",
    "ret = sparql.query()\n",
    "result = ret.convert()\n",
    "cases = sparql_result_to_df(result)\n",
    "ecli_regex = '(ECLI:[A-Z]{2}:[A-Z]*:[0-9]{4}:[0-9A-Z\\.]{1,25}$)'\n",
    "cases['ecli'] = cases.id.str.extract(ecli_regex, expand=False)\n",
    "cases['court'] = cases.ecli.str.extract('ECLI:[A-Z]{2}:([A-Z]*):[0-9]{4}:[0-9A-Z\\.]{1,25}$', expand=False)\n",
    "cases.shape"
   ]
  },
  {
   "cell_type": "code",
   "execution_count": 15,
   "metadata": {
    "collapsed": false
   },
   "outputs": [
    {
     "data": {
      "text/plain": [
       "(17240, 5)"
      ]
     },
     "execution_count": 15,
     "metadata": {},
     "output_type": "execute_result"
    }
   ],
   "source": [
    "# Links between cases\n",
    "queryString = \"\"\"\n",
    "    prefix dcterm: <http://purl.org/dc/terms/> \n",
    "    prefix overheidrl: <http://linkeddata.overheid.nl/terms/>\n",
    "    select ?link_id ?source ?target ?link_type ?link_type_label\n",
    "    {\n",
    "        ?source dcterm:type \"Jurisprudentie\".\n",
    "        ?target dcterm:type \"Jurisprudentie\".\n",
    "        ?link_id overheidrl:heeftLinktype ?link_type.\n",
    "        ?link_id overheidrl:linktVan  ?source.\n",
    "        ?link_id overheidrl:linktNaar  ?target.\n",
    "        ?link_type rdfs:label ?link_type_label.\n",
    "        ?source dcterm:creator ?creator_source. \n",
    "        ?target dcterm:creator ?creator_target. \n",
    "    }\n",
    "\"\"\"\n",
    "\n",
    "sparql.setQuery(queryString)\n",
    "sparql.setReturnFormat(JSON)\n",
    "ret = sparql.query()\n",
    "result = ret.convert()\n",
    "links = sparql_result_to_df(result)\n",
    "links.shape"
   ]
  },
  {
   "cell_type": "code",
   "execution_count": null,
   "metadata": {
    "collapsed": false
   },
   "outputs": [],
   "source": [
    "# Legislation titles\n",
    "queryString = \"\"\"\n",
    "    prefix dcterm: <http://purl.org/dc/terms/> \n",
    "    prefix overheidrl: <http://linkeddata.overheid.nl/terms/>\n",
    "    select ?title (count(*) as ?cnt)\n",
    "    {\n",
    "        ?source dcterm:type \"Jurisprudentie\".\n",
    "        ?article dcterm:type \"Wet\".\n",
    "        ?link_id overheidrl:heeftLinktype ?link_type.\n",
    "        ?link_id overheidrl:linktVan  ?source.\n",
    "        ?link_id overheidrl:linktNaar  ?article.\n",
    "        ?link_type rdfs:label ?link_type_label.\n",
    "        ?article dcterm:title ?title\n",
    "    }\n",
    "    group by ?title\n",
    "\"\"\"\n",
    "\n",
    "sparql.setQuery(queryString)\n",
    "sparql.setReturnFormat(JSON)\n",
    "ret = sparql.query()\n",
    "result = ret.convert()\n",
    "law_titles = sparql_result_to_df(result)\n",
    "law_titles.sort_values('cnt', ascending=False)"
   ]
  },
  {
   "cell_type": "code",
   "execution_count": 7,
   "metadata": {
    "collapsed": false
   },
   "outputs": [
    {
     "data": {
      "text/html": [
       "<div>\n",
       "<style>\n",
       "    .dataframe thead tr:only-child th {\n",
       "        text-align: right;\n",
       "    }\n",
       "\n",
       "    .dataframe thead th {\n",
       "        text-align: left;\n",
       "    }\n",
       "\n",
       "    .dataframe tbody tr th {\n",
       "        vertical-align: top;\n",
       "    }\n",
       "</style>\n",
       "<table border=\"1\" class=\"dataframe\">\n",
       "  <thead>\n",
       "    <tr style=\"text-align: right;\">\n",
       "      <th></th>\n",
       "      <th>title</th>\n",
       "      <th>cnt</th>\n",
       "    </tr>\n",
       "  </thead>\n",
       "  <tbody>\n",
       "    <tr>\n",
       "      <th>1398</th>\n",
       "      <td>Wetboek van Strafvordering, Artikel 218</td>\n",
       "      <td>99</td>\n",
       "    </tr>\n",
       "    <tr>\n",
       "      <th>869</th>\n",
       "      <td>Wetboek van Strafrecht, Artikel 326</td>\n",
       "      <td>96</td>\n",
       "    </tr>\n",
       "    <tr>\n",
       "      <th>326</th>\n",
       "      <td>Wetboek van Strafvordering, Artikel 361</td>\n",
       "      <td>96</td>\n",
       "    </tr>\n",
       "    <tr>\n",
       "      <th>2650</th>\n",
       "      <td>Algemene wet bestuursrecht, Artikel 8:42</td>\n",
       "      <td>92</td>\n",
       "    </tr>\n",
       "    <tr>\n",
       "      <th>239</th>\n",
       "      <td>Wetboek van Strafvordering, Artikel 98</td>\n",
       "      <td>91</td>\n",
       "    </tr>\n",
       "    <tr>\n",
       "      <th>5168</th>\n",
       "      <td>Wetboek van Strafrecht, Artikel 15i</td>\n",
       "      <td>9</td>\n",
       "    </tr>\n",
       "    <tr>\n",
       "      <th>4680</th>\n",
       "      <td>Algemene wet bestuursrecht, Artikel 6:12</td>\n",
       "      <td>9</td>\n",
       "    </tr>\n",
       "    <tr>\n",
       "      <th>494</th>\n",
       "      <td>Gezondheids- en welzijnswet voor dieren, Artik...</td>\n",
       "      <td>9</td>\n",
       "    </tr>\n",
       "    <tr>\n",
       "      <th>1140</th>\n",
       "      <td>Wetboek van Strafvordering, Artikel 282</td>\n",
       "      <td>9</td>\n",
       "    </tr>\n",
       "    <tr>\n",
       "      <th>2337</th>\n",
       "      <td>Wet financiering volksverzekeringen</td>\n",
       "      <td>9</td>\n",
       "    </tr>\n",
       "  </tbody>\n",
       "</table>\n",
       "</div>"
      ],
      "text/plain": [
       "                                                  title cnt\n",
       "1398            Wetboek van Strafvordering, Artikel 218  99\n",
       "869                 Wetboek van Strafrecht, Artikel 326  96\n",
       "326             Wetboek van Strafvordering, Artikel 361  96\n",
       "2650           Algemene wet bestuursrecht, Artikel 8:42  92\n",
       "239              Wetboek van Strafvordering, Artikel 98  91\n",
       "5168                Wetboek van Strafrecht, Artikel 15i   9\n",
       "4680           Algemene wet bestuursrecht, Artikel 6:12   9\n",
       "494   Gezondheids- en welzijnswet voor dieren, Artik...   9\n",
       "1140            Wetboek van Strafvordering, Artikel 282   9\n",
       "2337                Wet financiering volksverzekeringen   9"
      ]
     },
     "execution_count": 7,
     "metadata": {},
     "output_type": "execute_result"
    }
   ],
   "source": [
    "law_titles.sort_values('cnt', ascending=False).head(10)"
   ]
  },
  {
   "cell_type": "code",
   "execution_count": 9,
   "metadata": {
    "collapsed": false
   },
   "outputs": [
    {
     "data": {
      "text/plain": [
       "(87481, 6)"
      ]
     },
     "execution_count": 9,
     "metadata": {},
     "output_type": "execute_result"
    }
   ],
   "source": [
    "# Legislation references\n",
    "# Links between cases\n",
    "queryString = \"\"\"\n",
    "    prefix dcterm: <http://purl.org/dc/terms/> \n",
    "    prefix overheidrl: <http://linkeddata.overheid.nl/terms/>\n",
    "    select ?link_id ?source ?article ?link_type ?link_type_label  ?title\n",
    "    {\n",
    "        ?source dcterm:type \"Jurisprudentie\".\n",
    "        ?article dcterm:type \"Wet\".\n",
    "        ?link_id overheidrl:heeftLinktype ?link_type.\n",
    "        ?link_id overheidrl:linktVan  ?source.\n",
    "        ?link_id overheidrl:linktNaar  ?article.\n",
    "        ?link_type rdfs:label ?link_type_label.\n",
    "        optional {?article dcterm:title ?title}\n",
    "    }\n",
    "\"\"\"\n",
    "\n",
    "sparql.setQuery(queryString)\n",
    "sparql.setReturnFormat(JSON)\n",
    "ret = sparql.query()\n",
    "result = ret.convert()\n",
    "legislation = sparql_result_to_df(result)\n",
    "legislation.shape"
   ]
  },
  {
   "cell_type": "code",
   "execution_count": 12,
   "metadata": {
    "collapsed": false
   },
   "outputs": [
    {
     "data": {
      "text/plain": [
       "Wet op de rechterlijke organisatie, Artikel 81     14555\n",
       "Wetboek van Strafvordering                          3641\n",
       "Wetboek van Strafrecht                              2428\n",
       "Wet op de rechterlijke organisatie, Artikel 80a     1239\n",
       "Wetboek van Strafvordering, Artikel 359              731\n",
       "Opiumwet                                             720\n",
       "Wetboek van Burgerlijke Rechtsvordering              715\n",
       "Burgerlijk Wetboek Boek 6                            714\n",
       "Wet waardering onroerende zaken                      714\n",
       "Wetboek van Strafvordering, Artikel 552a             700\n",
       "Wetboek van Strafvordering, Artikel 457              658\n",
       "Burgerlijk Wetboek Boek 7                            475\n",
       "Wetboek van Strafvordering, Artikel 359a             443\n",
       "Wetboek van Strafvordering, Artikel 440              438\n",
       "Wet op de omzetbelasting 1968                        429\n",
       "Algemene wet bestuursrecht                           424\n",
       "Algemene wet inzake rijksbelastingen                 424\n",
       "Wetboek van Strafvordering, Artikel 365a             418\n",
       "Wetboek van Strafrecht, Artikel 36e                  393\n",
       "Burgerlijk Wetboek Boek 3                            382\n",
       "Name: title, dtype: int64"
      ]
     },
     "execution_count": 12,
     "metadata": {},
     "output_type": "execute_result"
    }
   ],
   "source": [
    "legislation['title'].value_counts().head(20)"
   ]
  },
  {
   "cell_type": "code",
   "execution_count": 16,
   "metadata": {
    "collapsed": false
   },
   "outputs": [
    {
     "data": {
      "text/plain": [
       "HR    68339\n",
       "Name: court, dtype: int64"
      ]
     },
     "execution_count": 16,
     "metadata": {},
     "output_type": "execute_result"
    }
   ],
   "source": [
    "cases['court'].value_counts()"
   ]
  },
  {
   "cell_type": "code",
   "execution_count": 19,
   "metadata": {
    "collapsed": false
   },
   "outputs": [
    {
     "data": {
      "text/plain": [
       "(55607, 5)"
      ]
     },
     "execution_count": 19,
     "metadata": {},
     "output_type": "execute_result"
    }
   ],
   "source": [
    "# Filter cases on 81 RO - maybe not because can still contain references\n",
    "ref81ro = legislation[legislation['title']=='Wet op de rechterlijke organisatie, Artikel 81']\n",
    "cases_filtered = cases[~cases.id.isin(ref81ro['source'].unique())]\n",
    "cases_filtered.shape"
   ]
  },
  {
   "cell_type": "code",
   "execution_count": 28,
   "metadata": {
    "collapsed": false
   },
   "outputs": [
    {
     "name": "stdout",
     "output_type": "stream",
     "text": [
      "http://linkeddata.overheid.nl/terms/jurisprudentie/id/ECLI:NL:HR:2015:743\n",
      "http://linkeddata.overheid.nl/terms/jurisprudentie/id/ECLI:NL:HR:2011:BP8952\n",
      "http://linkeddata.overheid.nl/terms/jurisprudentie/id/ECLI:NL:HR:2006:AU9096\n",
      "http://linkeddata.overheid.nl/terms/jurisprudentie/id/ECLI:NL:HR:2014:1299\n",
      "http://linkeddata.overheid.nl/terms/jurisprudentie/id/ECLI:NL:HR:2007:BA1792\n",
      "http://linkeddata.overheid.nl/terms/jurisprudentie/id/ECLI:NL:HR:2004:AR6885\n",
      "http://linkeddata.overheid.nl/terms/jurisprudentie/id/ECLI:NL:HR:2010:BM8075\n",
      "http://linkeddata.overheid.nl/terms/jurisprudentie/id/ECLI:NL:HR:2015:471\n",
      "http://linkeddata.overheid.nl/terms/jurisprudentie/id/ECLI:NL:HR:2005:AS8645\n",
      "http://linkeddata.overheid.nl/terms/jurisprudentie/id/ECLI:NL:HR:2008:BE9104\n"
     ]
    },
    {
     "data": {
      "text/plain": [
       "[None, None, None, None, None, None, None, None, None, None]"
      ]
     },
     "execution_count": 28,
     "metadata": {},
     "output_type": "execute_result"
    }
   ],
   "source": [
    "links_from_81ro = links[links.source.isin(ref81ro['source'].unique())]\n",
    "[print(l) for l in links_from_81ro['source'][:10]]"
   ]
  },
  {
   "cell_type": "code",
   "execution_count": 43,
   "metadata": {
    "collapsed": false
   },
   "outputs": [],
   "source": [
    "# Filter self-loops\n",
    "links = links[~(links['source']==links['target'])]"
   ]
  },
  {
   "cell_type": "code",
   "execution_count": 30,
   "metadata": {
    "collapsed": false
   },
   "outputs": [
    {
     "name": "stdout",
     "output_type": "stream",
     "text": [
      "[nltk_data] Error loading punkt: <urlopen error [Errno -2] Name or\n",
      "[nltk_data]     service not known>\n"
     ]
    }
   ],
   "source": [
    "import caselawnet"
   ]
  },
  {
   "cell_type": "code",
   "execution_count": 35,
   "metadata": {
    "collapsed": true
   },
   "outputs": [],
   "source": [
    "outpath = '/media/sf_VBox_Shared/CaseLaw/graphs/lido/'"
   ]
  },
  {
   "cell_type": "code",
   "execution_count": 34,
   "metadata": {
    "collapsed": false
   },
   "outputs": [],
   "source": [
    "# Export nodes and links\n",
    "caselawnet.utils.to_sigma_json(cases.to_dict(orient='records'),\n",
    "                               links.to_dict(orient='records'),\n",
    "                               'Hoge Raad',\n",
    "                               filename=os.path.join('hr_simple.json')\n",
    "                              )"
   ]
  },
  {
   "cell_type": "code",
   "execution_count": 80,
   "metadata": {
    "collapsed": true
   },
   "outputs": [],
   "source": [
    "cases.to_csv(os.path.join(outpath, 'hr_simple_nodes.csv'), index=False)\n",
    "links.to_csv(os.path.join(outpath, 'hr_simple_links.csv'), index=False)"
   ]
  },
  {
   "cell_type": "markdown",
   "metadata": {},
   "source": [
    "## Make bi-modal network"
   ]
  },
  {
   "cell_type": "code",
   "execution_count": 64,
   "metadata": {
    "collapsed": true
   },
   "outputs": [],
   "source": [
    "legislation.to_csv(os.path.join(outpath, 'hr_simple_legislation_links.csv'), index=False)"
   ]
  },
  {
   "cell_type": "code",
   "execution_count": 56,
   "metadata": {
    "collapsed": false
   },
   "outputs": [],
   "source": [
    "leg_per_node = legislation.groupby('source')['title'].apply(lambda l: \"|\".join(list(sorted(l))))"
   ]
  },
  {
   "cell_type": "code",
   "execution_count": 59,
   "metadata": {
    "collapsed": false
   },
   "outputs": [],
   "source": [
    "cases = cases.set_index('id')"
   ]
  },
  {
   "cell_type": "code",
   "execution_count": 61,
   "metadata": {
    "collapsed": false
   },
   "outputs": [],
   "source": [
    "cases['leg'] = leg_per_node"
   ]
  },
  {
   "cell_type": "code",
   "execution_count": 72,
   "metadata": {
    "collapsed": false
   },
   "outputs": [],
   "source": [
    "cases = cases.reset_index()"
   ]
  },
  {
   "cell_type": "code",
   "execution_count": 67,
   "metadata": {
    "collapsed": false
   },
   "outputs": [
    {
     "data": {
      "text/plain": [
       "title\n",
       "Wet op de rechterlijke organisatie, Artikel 81     12732\n",
       "Wetboek van Strafvordering                          2043\n",
       "Wetboek van Strafrecht                              1395\n",
       "Wet op de rechterlijke organisatie, Artikel 80a     1222\n",
       "Wet waardering onroerende zaken                      708\n",
       "Opiumwet                                             624\n",
       "Wetboek van Strafvordering, Artikel 457              614\n",
       "Wetboek van Strafvordering, Artikel 359              603\n",
       "Wetboek van Strafvordering, Artikel 552a             567\n",
       "Wetboek van Strafvordering, Artikel 440              432\n",
       "Wet op de omzetbelasting 1968                        413\n",
       "Burgerlijk Wetboek Boek 6                            410\n",
       "Wetboek van Burgerlijke Rechtsvordering              402\n",
       "Algemene wet inzake rijksbelastingen                 400\n",
       "Wetboek van Strafvordering, Artikel 365a             397\n",
       "Wetboek van Strafvordering, Artikel 359a             338\n",
       "Algemene wet bestuursrecht, Artikel 8:41             337\n",
       "Algemene wet bestuursrecht                           311\n",
       "Wetboek van Strafvordering, Artikel 415              304\n",
       "Wetboek van Strafrecht, Artikel 36e                  294\n",
       "Name: source, dtype: int64"
      ]
     },
     "execution_count": 67,
     "metadata": {},
     "output_type": "execute_result"
    }
   ],
   "source": [
    "legislation.groupby('title')['source'].nunique().sort_values(ascending=False).head(20)"
   ]
  },
  {
   "cell_type": "markdown",
   "metadata": {},
   "source": [
    "## Create subnetwork"
   ]
  },
  {
   "cell_type": "code",
   "execution_count": 77,
   "metadata": {
    "collapsed": true
   },
   "outputs": [],
   "source": [
    "def create_subnetwork(articles, legislation, nodes_in, links_in):\n",
    "    case_ids = legislation[legislation['title'].isin(articles)]['source'].unique()\n",
    "    nodes_sub = nodes_in[nodes_in['id'].isin(case_ids)]\n",
    "    links_sub = links_in[links_in['source'].isin(case_ids)]\n",
    "    links_sub = links_sub[links_sub['target'].isin(case_ids)]\n",
    "    return nodes_sub, links_sub"
   ]
  },
  {
   "cell_type": "code",
   "execution_count": 79,
   "metadata": {
    "collapsed": false
   },
   "outputs": [
    {
     "name": "stdout",
     "output_type": "stream",
     "text": [
      "(127, 6) (53, 5)\n"
     ]
    }
   ],
   "source": [
    "nodes_wga, links_wga = create_subnetwork(\n",
    "    [\"Burgerlijk Wetboek Boek 7, Artikel 658\", \"Burgerlijk Wetboek Boek 7, Artikel 611\"], \n",
    "    legislation, cases, links)\n",
    "print(nodes_wga.shape, links_wga.shape)"
   ]
  },
  {
   "cell_type": "markdown",
   "metadata": {},
   "source": [
    "## Enrich the nodes"
   ]
  },
  {
   "cell_type": "code",
   "execution_count": null,
   "metadata": {
    "collapsed": false
   },
   "outputs": [],
   "source": [
    "nodes_enriched = caselawnet.enrich_eclis(list(cases['ecli']), rootpath='/media/sf_VBox_Shared/CaseLaw/data_april/')"
   ]
  },
  {
   "cell_type": "code",
   "execution_count": 209,
   "metadata": {
    "collapsed": false
   },
   "outputs": [],
   "source": [
    "nodes_enriched_df = pd.DataFrame(nodes_enriched)\n",
    "cases_merged = cases.merge(nodes_enriched_df[['ecli', 'subject', 'creator', 'year', 'date', 'abstract']], on='ecli')"
   ]
  },
  {
   "cell_type": "code",
   "execution_count": 210,
   "metadata": {
    "collapsed": false
   },
   "outputs": [],
   "source": [
    "cases_merged['creator'] = [c['creator_x'] if c['creator_x'] else c['creator_y'].split('/')[-1].replace('_', ' ')\n",
    "                           for i, c in cases_merged.iterrows()]"
   ]
  },
  {
   "cell_type": "code",
   "execution_count": null,
   "metadata": {
    "collapsed": false
   },
   "outputs": [],
   "source": [
    "cases_merged"
   ]
  },
  {
   "cell_type": "code",
   "execution_count": null,
   "metadata": {
    "collapsed": true
   },
   "outputs": [],
   "source": []
  }
 ],
 "metadata": {
  "anaconda-cloud": {},
  "kernelspec": {
   "display_name": "Python [conda env:caselaw]",
   "language": "python",
   "name": "conda-env-caselaw-py"
  },
  "language_info": {
   "codemirror_mode": {
    "name": "ipython",
    "version": 3
   },
   "file_extension": ".py",
   "mimetype": "text/x-python",
   "name": "python",
   "nbconvert_exporter": "python",
   "pygments_lexer": "ipython3",
   "version": "3.5.2"
  }
 },
 "nbformat": 4,
 "nbformat_minor": 0
}
