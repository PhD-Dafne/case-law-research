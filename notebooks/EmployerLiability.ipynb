{
 "cells": [
  {
   "cell_type": "code",
   "execution_count": null,
   "metadata": {},
   "outputs": [],
   "source": [
    "%matplotlib inline\n",
    "import pandas as pd\n",
    "import os\n",
    "import networkx as nx\n",
    "import igraph as ig\n",
    "import numpy as np\n",
    "import louvain\n",
    "import matplotlib.pyplot as plt"
   ]
  },
  {
   "cell_type": "code",
   "execution_count": null,
   "metadata": {},
   "outputs": [],
   "source": [
    "filepath = '/media/sf_VBox_Shared/CaseLaw/2018-01-29-lido/derived/'\n",
    "links_df = pd.read_csv(os.path.join(filepath, 'case_to_article_title_links.csv'))"
   ]
  },
  {
   "cell_type": "code",
   "execution_count": null,
   "metadata": {},
   "outputs": [],
   "source": [
    "case_to_case_links = pd.read_csv(os.path.join(filepath, 'case_to_case_lx_links.csv'))"
   ]
  },
  {
   "cell_type": "code",
   "execution_count": null,
   "metadata": {},
   "outputs": [],
   "source": [
    "art_nodes = pd.read_csv(os.path.join(filepath, 'article_title_nodes.csv'))\n",
    "case_nodes = pd.read_csv(os.path.join(filepath, 'case_nodes_simple.csv'))"
   ]
  },
  {
   "cell_type": "code",
   "execution_count": null,
   "metadata": {},
   "outputs": [],
   "source": [
    "case_nodes['id'] = case_nodes['lido_id']\n",
    "case_nodes['label'] = case_nodes['ecli'].str.split(':').map(lambda l: '{}:{}'.format(l[2], l[3]) if type(l)==list else l)"
   ]
  },
  {
   "cell_type": "code",
   "execution_count": null,
   "metadata": {},
   "outputs": [],
   "source": [
    "art_nodes.head()"
   ]
  },
  {
   "cell_type": "code",
   "execution_count": null,
   "metadata": {},
   "outputs": [],
   "source": [
    "case_nodes.head()"
   ]
  },
  {
   "cell_type": "code",
   "execution_count": null,
   "metadata": {},
   "outputs": [],
   "source": [
    "seed_articles = art_nodes[art_nodes.label.str.match('Burgerlijk Wetboek Boek 7, Artikel ((611)|(658))', case=False)]\n",
    "seed_articles"
   ]
  },
  {
   "cell_type": "code",
   "execution_count": null,
   "metadata": {},
   "outputs": [],
   "source": [
    "linking_cases = links_df[links_df.target.isin(seed_articles.id)]['source'].unique()\n",
    "len(linking_cases)"
   ]
  },
  {
   "cell_type": "code",
   "execution_count": null,
   "metadata": {},
   "outputs": [],
   "source": [
    "links_sub = links_df[links_df.source.isin(linking_cases)]\n",
    "links_sub.shape"
   ]
  },
  {
   "cell_type": "code",
   "execution_count": null,
   "metadata": {},
   "outputs": [],
   "source": [
    "case_to_case_sub = case_to_case_links[case_to_case_links.source.isin(linking_cases)&case_to_case_links.target.isin(linking_cases)]\n",
    "case_to_case_sub.shape"
   ]
  },
  {
   "cell_type": "code",
   "execution_count": null,
   "metadata": {},
   "outputs": [],
   "source": [
    "art_nodes_sub = art_nodes[art_nodes.id.isin(links_sub.target.unique())]\n",
    "case_nodes_sub = case_nodes[case_nodes.lido_id.isin(linking_cases)]\n",
    "print(art_nodes_sub.shape, case_nodes_sub.shape)"
   ]
  },
  {
   "cell_type": "code",
   "execution_count": null,
   "metadata": {},
   "outputs": [],
   "source": [
    "case_to_case_sub.to_csv(os.path.join(filepath, 'subnetwork', 'case-to-case-links.csv'), index=False)\n",
    "links_sub.to_csv(os.path.join(filepath, 'subnetwork', 'case-to-article-links.csv'), index=False)\n",
    "art_nodes_sub.to_csv(os.path.join(filepath, 'subnetwork', 'article-nodes.csv'), index=False)\n",
    "case_nodes_sub.to_csv(os.path.join(filepath, 'subnetwork', 'case-nodes-sub.csv'), index=False)"
   ]
  },
  {
   "cell_type": "markdown",
   "metadata": {},
   "source": [
    "## enrich\n",
    "Use caselawnet for these nodes"
   ]
  },
  {
   "cell_type": "code",
   "execution_count": null,
   "metadata": {},
   "outputs": [],
   "source": [
    "import caselawnet"
   ]
  },
  {
   "cell_type": "code",
   "execution_count": null,
   "metadata": {},
   "outputs": [],
   "source": [
    "links_dict = [{'source': d['source'].split('/')[-1], 'target': d['target'].split('/')[-1]} for d in case_to_case_sub.to_dict(orient='records')]"
   ]
  },
  {
   "cell_type": "code",
   "execution_count": null,
   "metadata": {},
   "outputs": [],
   "source": [
    "enrich_again = False\n",
    "\n",
    "if enrich_again:\n",
    "    nodes_rich_list = caselawnet.enrich_eclis([s.split('/')[-1] for s in case_nodes_sub.id ], rootpath='/media/sf_VBox_Shared/CaseLaw/OpenDataUitspraken/')\n",
    "    nodes_rich = pd.DataFrame(nodes_rich_list)\n",
    "    nodes_rich.to_csv(os.path.join(filepath, 'subnetwork', 'nodes-cases-rich.csv'), index=False)\n",
    "else:\n",
    "    nodes_rich = pd.read_csv(os.path.join(filepath, 'subnetwork', 'nodes-cases-rich.csv')).fillna('')\n",
    "    nodes_rich_list = nodes_rich.to_dict(orient='records')"
   ]
  },
  {
   "cell_type": "code",
   "execution_count": null,
   "metadata": {},
   "outputs": [],
   "source": [
    "nodes_rich.head()"
   ]
  },
  {
   "cell_type": "code",
   "execution_count": null,
   "metadata": {},
   "outputs": [],
   "source": [
    "links_list = caselawnet.enrich_links(links_dict)"
   ]
  },
  {
   "cell_type": "code",
   "execution_count": null,
   "metadata": {},
   "outputs": [],
   "source": [
    "nodes_network, links_list = caselawnet.get_network(nodes_rich_list, links_list)"
   ]
  },
  {
   "cell_type": "code",
   "execution_count": null,
   "metadata": {},
   "outputs": [],
   "source": [
    "caselawnet.to_sigma_json(nodes_network, links_list, 'Employer liability', os.path.join(filepath, 'subnetwork', 'network.json'))"
   ]
  },
  {
   "cell_type": "code",
   "execution_count": null,
   "metadata": {},
   "outputs": [],
   "source": [
    "nodes_network_df = pd.DataFrame(nodes_network)\n",
    "nodes_network_df.community.value_counts().head()"
   ]
  },
  {
   "cell_type": "code",
   "execution_count": null,
   "metadata": {},
   "outputs": [],
   "source": [
    "graph = caselawnet.network_analysis.get_network(nodes_rich_list, links_list)"
   ]
  },
  {
   "cell_type": "code",
   "execution_count": null,
   "metadata": {},
   "outputs": [],
   "source": [
    "len(graph)"
   ]
  },
  {
   "cell_type": "code",
   "execution_count": null,
   "metadata": {},
   "outputs": [],
   "source": [
    "graph = nx.readwrite.json_graph.node_link_graph({'nodes': nodes_rich_list, 'links': links_list},\n",
    "                                       directed=True, multigraph=False)"
   ]
  },
  {
   "cell_type": "code",
   "execution_count": null,
   "metadata": {},
   "outputs": [],
   "source": [
    "graph.number_of_nodes(), graph.number_of_edges()"
   ]
  },
  {
   "cell_type": "code",
   "execution_count": null,
   "metadata": {},
   "outputs": [],
   "source": [
    "def add_network_statistics(nodes, links):\n",
    "    if len(nodes)==0:\n",
    "        return nodes\n",
    "    graph = get_network(nodes, links)\n",
    "    degree = nx.degree(graph)\n",
    "    if max(dict(degree).values()) > 0:\n",
    "        hubs, authorities = get_hits(graph)\n",
    "        statistics = {\n",
    "            'degree': degree,\n",
    "            'in_degree': graph.in_degree(),\n",
    "            'out_degree': graph.out_degree(),\n",
    "\n",
    "            'degree_centrality': nx.degree_centrality(graph),\n",
    "            'in_degree_centrality': nx.in_degree_centrality(graph),\n",
    "            'out_degree_centrality': nx.out_degree_centrality(graph),\n",
    "            'betweenness_centrality': nx.betweenness_centrality(graph),\n",
    "            'closeness_centrality': nx.closeness_centrality(graph),\n",
    "            'pagerank': get_pagerank(graph),\n",
    "            'hubs': hubs,\n",
    "            'authorities': authorities\n",
    "        }\n",
    "    else:\n",
    "        statistics = {}\n",
    "\n",
    "    # for relative in-degree we sort on date\n",
    "    derive_date = lambda k: k['date'] if k['date']!='' else '{}-01-01'.format(k['year'])\n",
    "    nodes.sort(key=derive_date, reverse=True)\n",
    "    for i, node in enumerate(nodes):\n",
    "        nodeid = node['id']\n",
    "        for var in statistics.keys():\n",
    "            node[var] = statistics[var][nodeid]\n",
    "        if 'in_degree' in node:\n",
    "            node['rel_in_degree'] = node['in_degree'] / float(max(i, 1))\n",
    "    get_community(graph, nodes)\n",
    "    return nodes"
   ]
  },
  {
   "cell_type": "code",
   "execution_count": null,
   "metadata": {},
   "outputs": [],
   "source": [
    "case_nodes_sub.court.value_counts()"
   ]
  },
  {
   "cell_type": "code",
   "execution_count": null,
   "metadata": {},
   "outputs": [],
   "source": [
    "art_nodes_sub.book.value_counts()"
   ]
  },
  {
   "cell_type": "code",
   "execution_count": null,
   "metadata": {},
   "outputs": [],
   "source": []
  }
 ],
 "metadata": {
  "language_info": {
   "name": "python",
   "pygments_lexer": "ipython3"
  }
 },
 "nbformat": 4,
 "nbformat_minor": 2
}
