{
 "cells": [
  {
   "cell_type": "code",
   "execution_count": 1,
   "metadata": {},
   "outputs": [],
   "source": [
    "%matplotlib inline\n",
    "import pandas as pd\n",
    "import os\n",
    "import networkx as nx\n",
    "import igraph as ig\n",
    "import numpy as np\n",
    "import louvain\n",
    "import matplotlib.pyplot as plt"
   ]
  },
  {
   "cell_type": "code",
   "execution_count": 2,
   "metadata": {},
   "outputs": [],
   "source": [
    "filepath = '/media/sf_VBox_Shared/CaseLaw/2018-01-29-lido/derived/'"
   ]
  },
  {
   "cell_type": "code",
   "execution_count": 3,
   "metadata": {},
   "outputs": [],
   "source": [
    "links_df = pd.read_csv(os.path.join(filepath, 'case_to_article_title_links.csv'))"
   ]
  },
  {
   "cell_type": "code",
   "execution_count": 4,
   "metadata": {},
   "outputs": [],
   "source": [
    "case_to_case_links = pd.read_csv(os.path.join(filepath, 'case_to_case_lx_links.csv'))"
   ]
  },
  {
   "cell_type": "code",
   "execution_count": 5,
   "metadata": {},
   "outputs": [],
   "source": [
    "art_nodes = pd.read_csv(os.path.join(filepath, 'article_title_nodes.csv'))\n",
    "case_nodes = pd.read_csv(os.path.join(filepath, 'case_nodes_simple.csv'))"
   ]
  },
  {
   "cell_type": "code",
   "execution_count": 6,
   "metadata": {},
   "outputs": [],
   "source": [
    "case_nodes['id'] = case_nodes['lido_id']\n",
    "case_nodes['label'] = case_nodes['ecli'].str.split(':').map(lambda l: '{}:{}'.format(l[2], l[3]) if type(l)==list else l)"
   ]
  },
  {
   "cell_type": "code",
   "execution_count": 7,
   "metadata": {},
   "outputs": [
    {
     "data": {
      "text/html": [
       "<div>\n",
       "<style>\n",
       "    .dataframe thead tr:only-child th {\n",
       "        text-align: right;\n",
       "    }\n",
       "\n",
       "    .dataframe thead th {\n",
       "        text-align: left;\n",
       "    }\n",
       "\n",
       "    .dataframe tbody tr th {\n",
       "        vertical-align: top;\n",
       "    }\n",
       "</style>\n",
       "<table border=\"1\" class=\"dataframe\">\n",
       "  <thead>\n",
       "    <tr style=\"text-align: right;\">\n",
       "      <th></th>\n",
       "      <th>id</th>\n",
       "      <th>label</th>\n",
       "      <th>book</th>\n",
       "    </tr>\n",
       "  </thead>\n",
       "  <tbody>\n",
       "    <tr>\n",
       "      <th>0</th>\n",
       "      <td>Loi concernant les Mines, les Minières et les ...</td>\n",
       "      <td>Loi concernant les Mines, les Minières et les ...</td>\n",
       "      <td>Loi concernant les Mines</td>\n",
       "    </tr>\n",
       "    <tr>\n",
       "      <th>1</th>\n",
       "      <td>Loi concernant les Mines, les Minières et les ...</td>\n",
       "      <td>Loi concernant les Mines, les Minières et les ...</td>\n",
       "      <td>Loi concernant les Mines</td>\n",
       "    </tr>\n",
       "    <tr>\n",
       "      <th>2</th>\n",
       "      <td>Loi concernant les Mines, les Minières et les ...</td>\n",
       "      <td>Loi concernant les Mines, les Minières et les ...</td>\n",
       "      <td>Loi concernant les Mines</td>\n",
       "    </tr>\n",
       "    <tr>\n",
       "      <th>3</th>\n",
       "      <td>Loi concernant les Mines, les Minières et les ...</td>\n",
       "      <td>Loi concernant les Mines, les Minières et les ...</td>\n",
       "      <td>Loi concernant les Mines</td>\n",
       "    </tr>\n",
       "    <tr>\n",
       "      <th>4</th>\n",
       "      <td>Loi concernant les Mines, les Minières et les ...</td>\n",
       "      <td>Loi concernant les Mines, les Minières et les ...</td>\n",
       "      <td>Loi concernant les Mines</td>\n",
       "    </tr>\n",
       "  </tbody>\n",
       "</table>\n",
       "</div>"
      ],
      "text/plain": [
       "                                                  id  \\\n",
       "0  Loi concernant les Mines, les Minières et les ...   \n",
       "1  Loi concernant les Mines, les Minières et les ...   \n",
       "2  Loi concernant les Mines, les Minières et les ...   \n",
       "3  Loi concernant les Mines, les Minières et les ...   \n",
       "4  Loi concernant les Mines, les Minières et les ...   \n",
       "\n",
       "                                               label                      book  \n",
       "0  Loi concernant les Mines, les Minières et les ...  Loi concernant les Mines  \n",
       "1  Loi concernant les Mines, les Minières et les ...  Loi concernant les Mines  \n",
       "2  Loi concernant les Mines, les Minières et les ...  Loi concernant les Mines  \n",
       "3  Loi concernant les Mines, les Minières et les ...  Loi concernant les Mines  \n",
       "4  Loi concernant les Mines, les Minières et les ...  Loi concernant les Mines  "
      ]
     },
     "execution_count": 7,
     "metadata": {},
     "output_type": "execute_result"
    }
   ],
   "source": [
    "art_nodes.head()"
   ]
  },
  {
   "cell_type": "code",
   "execution_count": 8,
   "metadata": {},
   "outputs": [
    {
     "data": {
      "text/html": [
       "<div>\n",
       "<style>\n",
       "    .dataframe thead tr:only-child th {\n",
       "        text-align: right;\n",
       "    }\n",
       "\n",
       "    .dataframe thead th {\n",
       "        text-align: left;\n",
       "    }\n",
       "\n",
       "    .dataframe tbody tr th {\n",
       "        vertical-align: top;\n",
       "    }\n",
       "</style>\n",
       "<table border=\"1\" class=\"dataframe\">\n",
       "  <thead>\n",
       "    <tr style=\"text-align: right;\">\n",
       "      <th></th>\n",
       "      <th>ecli</th>\n",
       "      <th>lido_id</th>\n",
       "      <th>country</th>\n",
       "      <th>court</th>\n",
       "      <th>year</th>\n",
       "      <th>id</th>\n",
       "      <th>label</th>\n",
       "    </tr>\n",
       "  </thead>\n",
       "  <tbody>\n",
       "    <tr>\n",
       "      <th>0</th>\n",
       "      <td>ECLI:NL:GHSGR:2010:BM2753</td>\n",
       "      <td>http://linkeddata.overheid.nl/terms/jurisprude...</td>\n",
       "      <td>NL</td>\n",
       "      <td>GHSGR</td>\n",
       "      <td>2010.0</td>\n",
       "      <td>http://linkeddata.overheid.nl/terms/jurisprude...</td>\n",
       "      <td>GHSGR:2010</td>\n",
       "    </tr>\n",
       "    <tr>\n",
       "      <th>1</th>\n",
       "      <td>ECLI:NL:RBHAA:2007:BC0491</td>\n",
       "      <td>http://linkeddata.overheid.nl/terms/jurisprude...</td>\n",
       "      <td>NL</td>\n",
       "      <td>RBHAA</td>\n",
       "      <td>2007.0</td>\n",
       "      <td>http://linkeddata.overheid.nl/terms/jurisprude...</td>\n",
       "      <td>RBHAA:2007</td>\n",
       "    </tr>\n",
       "    <tr>\n",
       "      <th>2</th>\n",
       "      <td>ECLI:NL:RBMAA:2007:BC1654</td>\n",
       "      <td>http://linkeddata.overheid.nl/terms/jurisprude...</td>\n",
       "      <td>NL</td>\n",
       "      <td>RBMAA</td>\n",
       "      <td>2007.0</td>\n",
       "      <td>http://linkeddata.overheid.nl/terms/jurisprude...</td>\n",
       "      <td>RBMAA:2007</td>\n",
       "    </tr>\n",
       "    <tr>\n",
       "      <th>3</th>\n",
       "      <td>ECLI:NL:CRVB:2016:4389</td>\n",
       "      <td>http://linkeddata.overheid.nl/terms/jurisprude...</td>\n",
       "      <td>NL</td>\n",
       "      <td>CRVB</td>\n",
       "      <td>2016.0</td>\n",
       "      <td>http://linkeddata.overheid.nl/terms/jurisprude...</td>\n",
       "      <td>CRVB:2016</td>\n",
       "    </tr>\n",
       "    <tr>\n",
       "      <th>4</th>\n",
       "      <td>ECLI:NL:RBLIM:2014:11172</td>\n",
       "      <td>http://linkeddata.overheid.nl/terms/jurisprude...</td>\n",
       "      <td>NL</td>\n",
       "      <td>RBLIM</td>\n",
       "      <td>2014.0</td>\n",
       "      <td>http://linkeddata.overheid.nl/terms/jurisprude...</td>\n",
       "      <td>RBLIM:2014</td>\n",
       "    </tr>\n",
       "  </tbody>\n",
       "</table>\n",
       "</div>"
      ],
      "text/plain": [
       "                        ecli  \\\n",
       "0  ECLI:NL:GHSGR:2010:BM2753   \n",
       "1  ECLI:NL:RBHAA:2007:BC0491   \n",
       "2  ECLI:NL:RBMAA:2007:BC1654   \n",
       "3     ECLI:NL:CRVB:2016:4389   \n",
       "4   ECLI:NL:RBLIM:2014:11172   \n",
       "\n",
       "                                             lido_id country  court    year  \\\n",
       "0  http://linkeddata.overheid.nl/terms/jurisprude...      NL  GHSGR  2010.0   \n",
       "1  http://linkeddata.overheid.nl/terms/jurisprude...      NL  RBHAA  2007.0   \n",
       "2  http://linkeddata.overheid.nl/terms/jurisprude...      NL  RBMAA  2007.0   \n",
       "3  http://linkeddata.overheid.nl/terms/jurisprude...      NL   CRVB  2016.0   \n",
       "4  http://linkeddata.overheid.nl/terms/jurisprude...      NL  RBLIM  2014.0   \n",
       "\n",
       "                                                  id       label  \n",
       "0  http://linkeddata.overheid.nl/terms/jurisprude...  GHSGR:2010  \n",
       "1  http://linkeddata.overheid.nl/terms/jurisprude...  RBHAA:2007  \n",
       "2  http://linkeddata.overheid.nl/terms/jurisprude...  RBMAA:2007  \n",
       "3  http://linkeddata.overheid.nl/terms/jurisprude...   CRVB:2016  \n",
       "4  http://linkeddata.overheid.nl/terms/jurisprude...  RBLIM:2014  "
      ]
     },
     "execution_count": 8,
     "metadata": {},
     "output_type": "execute_result"
    }
   ],
   "source": [
    "case_nodes.head()"
   ]
  },
  {
   "cell_type": "code",
   "execution_count": 9,
   "metadata": {},
   "outputs": [
    {
     "data": {
      "text/html": [
       "<div>\n",
       "<style>\n",
       "    .dataframe thead tr:only-child th {\n",
       "        text-align: right;\n",
       "    }\n",
       "\n",
       "    .dataframe thead th {\n",
       "        text-align: left;\n",
       "    }\n",
       "\n",
       "    .dataframe tbody tr th {\n",
       "        vertical-align: top;\n",
       "    }\n",
       "</style>\n",
       "<table border=\"1\" class=\"dataframe\">\n",
       "  <thead>\n",
       "    <tr style=\"text-align: right;\">\n",
       "      <th></th>\n",
       "      <th>id</th>\n",
       "      <th>label</th>\n",
       "      <th>book</th>\n",
       "    </tr>\n",
       "  </thead>\n",
       "  <tbody>\n",
       "    <tr>\n",
       "      <th>61134</th>\n",
       "      <td>Burgerlijk Wetboek Boek 7, Artikel 611a</td>\n",
       "      <td>Burgerlijk Wetboek Boek 7, Artikel 611a</td>\n",
       "      <td>Burgerlijk Wetboek Boek 7</td>\n",
       "    </tr>\n",
       "    <tr>\n",
       "      <th>61150</th>\n",
       "      <td>Burgerlijk Wetboek Boek 7, Artikel 658c</td>\n",
       "      <td>Burgerlijk Wetboek Boek 7, Artikel 658c</td>\n",
       "      <td>Burgerlijk Wetboek Boek 7</td>\n",
       "    </tr>\n",
       "    <tr>\n",
       "      <th>61393</th>\n",
       "      <td>Burgerlijk Wetboek Boek 7, Artikel 611</td>\n",
       "      <td>Burgerlijk Wetboek Boek 7, Artikel 611</td>\n",
       "      <td>Burgerlijk Wetboek Boek 7</td>\n",
       "    </tr>\n",
       "    <tr>\n",
       "      <th>61442</th>\n",
       "      <td>Burgerlijk Wetboek Boek 7, Artikel 658</td>\n",
       "      <td>Burgerlijk Wetboek Boek 7, Artikel 658</td>\n",
       "      <td>Burgerlijk Wetboek Boek 7</td>\n",
       "    </tr>\n",
       "    <tr>\n",
       "      <th>61502</th>\n",
       "      <td>Burgerlijk Wetboek Boek 7, Artikel 658a</td>\n",
       "      <td>Burgerlijk Wetboek Boek 7, Artikel 658a</td>\n",
       "      <td>Burgerlijk Wetboek Boek 7</td>\n",
       "    </tr>\n",
       "    <tr>\n",
       "      <th>61649</th>\n",
       "      <td>Burgerlijk Wetboek Boek 7, Artikel 658b</td>\n",
       "      <td>Burgerlijk Wetboek Boek 7, Artikel 658b</td>\n",
       "      <td>Burgerlijk Wetboek Boek 7</td>\n",
       "    </tr>\n",
       "  </tbody>\n",
       "</table>\n",
       "</div>"
      ],
      "text/plain": [
       "                                            id  \\\n",
       "61134  Burgerlijk Wetboek Boek 7, Artikel 611a   \n",
       "61150  Burgerlijk Wetboek Boek 7, Artikel 658c   \n",
       "61393   Burgerlijk Wetboek Boek 7, Artikel 611   \n",
       "61442   Burgerlijk Wetboek Boek 7, Artikel 658   \n",
       "61502  Burgerlijk Wetboek Boek 7, Artikel 658a   \n",
       "61649  Burgerlijk Wetboek Boek 7, Artikel 658b   \n",
       "\n",
       "                                         label                       book  \n",
       "61134  Burgerlijk Wetboek Boek 7, Artikel 611a  Burgerlijk Wetboek Boek 7  \n",
       "61150  Burgerlijk Wetboek Boek 7, Artikel 658c  Burgerlijk Wetboek Boek 7  \n",
       "61393   Burgerlijk Wetboek Boek 7, Artikel 611  Burgerlijk Wetboek Boek 7  \n",
       "61442   Burgerlijk Wetboek Boek 7, Artikel 658  Burgerlijk Wetboek Boek 7  \n",
       "61502  Burgerlijk Wetboek Boek 7, Artikel 658a  Burgerlijk Wetboek Boek 7  \n",
       "61649  Burgerlijk Wetboek Boek 7, Artikel 658b  Burgerlijk Wetboek Boek 7  "
      ]
     },
     "execution_count": 9,
     "metadata": {},
     "output_type": "execute_result"
    }
   ],
   "source": [
    "seed_articles = art_nodes[art_nodes.label.str.match('Burgerlijk Wetboek Boek 7, Artikel ((611)|(658))', case=False)]\n",
    "seed_articles"
   ]
  },
  {
   "cell_type": "code",
   "execution_count": 10,
   "metadata": {},
   "outputs": [
    {
     "data": {
      "text/plain": [
       "2842"
      ]
     },
     "execution_count": 10,
     "metadata": {},
     "output_type": "execute_result"
    }
   ],
   "source": [
    "linking_cases = links_df[links_df.target.isin(seed_articles.id)]['source'].unique()\n",
    "len(linking_cases)"
   ]
  },
  {
   "cell_type": "code",
   "execution_count": 12,
   "metadata": {},
   "outputs": [
    {
     "data": {
      "text/plain": [
       "array([ 'http://linkeddata.overheid.nl/terms/jurisprudentie/id/ECLI:NL:CRVB:2001:AL3230',\n",
       "       'http://linkeddata.overheid.nl/terms/jurisprudentie/id/ECLI:NL:CRVB:2002:AE3431',\n",
       "       'http://linkeddata.overheid.nl/terms/jurisprudentie/id/ECLI:NL:CRVB:2002:AE3622',\n",
       "       'http://linkeddata.overheid.nl/terms/jurisprudentie/id/ECLI:NL:CRVB:2002:AE7111',\n",
       "       'http://linkeddata.overheid.nl/terms/jurisprudentie/id/ECLI:NL:CRVB:2002:AE8899',\n",
       "       'http://linkeddata.overheid.nl/terms/jurisprudentie/id/ECLI:NL:CRVB:2002:AE8902',\n",
       "       'http://linkeddata.overheid.nl/terms/jurisprudentie/id/ECLI:NL:CRVB:2002:AE8914',\n",
       "       'http://linkeddata.overheid.nl/terms/jurisprudentie/id/ECLI:NL:CRVB:2002:AE8964',\n",
       "       'http://linkeddata.overheid.nl/terms/jurisprudentie/id/ECLI:NL:CRVB:2002:AE8965',\n",
       "       'http://linkeddata.overheid.nl/terms/jurisprudentie/id/ECLI:NL:CRVB:2002:AF1843'], dtype=object)"
      ]
     },
     "execution_count": 12,
     "metadata": {},
     "output_type": "execute_result"
    }
   ],
   "source": [
    "linking_cases[:10]"
   ]
  },
  {
   "cell_type": "code",
   "execution_count": 10,
   "metadata": {},
   "outputs": [
    {
     "data": {
      "text/plain": [
       "(11962, 2)"
      ]
     },
     "execution_count": 10,
     "metadata": {},
     "output_type": "execute_result"
    }
   ],
   "source": [
    "links_sub = links_df[links_df.source.isin(linking_cases)]\n",
    "links_sub.shape"
   ]
  },
  {
   "cell_type": "code",
   "execution_count": 11,
   "metadata": {},
   "outputs": [
    {
     "data": {
      "text/plain": [
       "(1608, 3)"
      ]
     },
     "execution_count": 11,
     "metadata": {},
     "output_type": "execute_result"
    }
   ],
   "source": [
    "case_to_case_sub = case_to_case_links[case_to_case_links.source.isin(linking_cases)&case_to_case_links.target.isin(linking_cases)]\n",
    "case_to_case_sub.shape"
   ]
  },
  {
   "cell_type": "code",
   "execution_count": 12,
   "metadata": {},
   "outputs": [
    {
     "name": "stdout",
     "output_type": "stream",
     "text": [
      "(1378, 3) (1596, 7)\n"
     ]
    }
   ],
   "source": [
    "art_nodes_sub = art_nodes[art_nodes.id.isin(links_sub.target.unique())]\n",
    "case_nodes_sub = case_nodes[case_nodes.lido_id.isin(linking_cases)]\n",
    "print(art_nodes_sub.shape, case_nodes_sub.shape)"
   ]
  },
  {
   "cell_type": "code",
   "execution_count": 11,
   "metadata": {},
   "outputs": [],
   "source": [
    "case_nodes_sub['node_type'] = 0\n",
    "art_nodes_sub['node_type'] = 1"
   ]
  },
  {
   "cell_type": "code",
   "execution_count": 22,
   "metadata": {},
   "outputs": [],
   "source": [
    "links_sub['link_type'] = 'case-article'\n",
    "case_to_case_sub['link_type'] = 'case-case'"
   ]
  },
  {
   "cell_type": "code",
   "execution_count": 23,
   "metadata": {},
   "outputs": [],
   "source": [
    "case_to_case_sub.to_csv(os.path.join(filepath, 'subnetwork', 'case-to-case-links.csv'), index=False)\n",
    "links_sub.to_csv(os.path.join(filepath, 'subnetwork', 'case-to-article-links.csv'), index=False)\n",
    "art_nodes_sub.to_csv(os.path.join(filepath, 'subnetwork', 'article-nodes.csv'), index=False)\n",
    "case_nodes_sub.to_csv(os.path.join(filepath, 'subnetwork', 'case-nodes-sub.csv'), index=False)"
   ]
  },
  {
   "cell_type": "code",
   "execution_count": 8,
   "metadata": {},
   "outputs": [],
   "source": [
    "case_to_case_sub = pd.read_csv(os.path.join(filepath, 'subnetwork', 'case-to-case-links.csv'))\n",
    "links_sub = pd.read_csv(os.path.join(filepath, 'subnetwork', 'case-to-article-links.csv'))\n",
    "art_nodes_sub = pd.read_csv(os.path.join(filepath, 'subnetwork', 'article-nodes.csv'))\n",
    "case_nodes_sub = pd.read_csv(os.path.join(filepath, 'subnetwork', 'case-nodes-sub.csv'))"
   ]
  },
  {
   "cell_type": "code",
   "execution_count": 8,
   "metadata": {},
   "outputs": [
    {
     "data": {
      "text/html": [
       "<div>\n",
       "<style>\n",
       "    .dataframe thead tr:only-child th {\n",
       "        text-align: right;\n",
       "    }\n",
       "\n",
       "    .dataframe thead th {\n",
       "        text-align: left;\n",
       "    }\n",
       "\n",
       "    .dataframe tbody tr th {\n",
       "        vertical-align: top;\n",
       "    }\n",
       "</style>\n",
       "<table border=\"1\" class=\"dataframe\">\n",
       "  <thead>\n",
       "    <tr style=\"text-align: right;\">\n",
       "      <th></th>\n",
       "      <th>ecli</th>\n",
       "      <th>lido_id</th>\n",
       "      <th>country</th>\n",
       "      <th>court</th>\n",
       "      <th>year</th>\n",
       "      <th>id</th>\n",
       "      <th>label</th>\n",
       "      <th>node_type</th>\n",
       "    </tr>\n",
       "  </thead>\n",
       "  <tbody>\n",
       "    <tr>\n",
       "      <th>0</th>\n",
       "      <td>ECLI:NL:CRVB:2016:2999</td>\n",
       "      <td>http://linkeddata.overheid.nl/terms/jurisprude...</td>\n",
       "      <td>NL</td>\n",
       "      <td>CRVB</td>\n",
       "      <td>2016.0</td>\n",
       "      <td>http://linkeddata.overheid.nl/terms/jurisprude...</td>\n",
       "      <td>CRVB:2016</td>\n",
       "      <td>0</td>\n",
       "    </tr>\n",
       "    <tr>\n",
       "      <th>1</th>\n",
       "      <td>ECLI:NL:RBROT:2013:BZ2568</td>\n",
       "      <td>http://linkeddata.overheid.nl/terms/jurisprude...</td>\n",
       "      <td>NL</td>\n",
       "      <td>RBROT</td>\n",
       "      <td>2013.0</td>\n",
       "      <td>http://linkeddata.overheid.nl/terms/jurisprude...</td>\n",
       "      <td>RBROT:2013</td>\n",
       "      <td>0</td>\n",
       "    </tr>\n",
       "    <tr>\n",
       "      <th>2</th>\n",
       "      <td>ECLI:NL:GHAMS:2011:BU6149</td>\n",
       "      <td>http://linkeddata.overheid.nl/terms/jurisprude...</td>\n",
       "      <td>NL</td>\n",
       "      <td>GHAMS</td>\n",
       "      <td>2011.0</td>\n",
       "      <td>http://linkeddata.overheid.nl/terms/jurisprude...</td>\n",
       "      <td>GHAMS:2011</td>\n",
       "      <td>0</td>\n",
       "    </tr>\n",
       "    <tr>\n",
       "      <th>3</th>\n",
       "      <td>ECLI:NL:GHARL:2014:6359</td>\n",
       "      <td>http://linkeddata.overheid.nl/terms/jurisprude...</td>\n",
       "      <td>NL</td>\n",
       "      <td>GHARL</td>\n",
       "      <td>2014.0</td>\n",
       "      <td>http://linkeddata.overheid.nl/terms/jurisprude...</td>\n",
       "      <td>GHARL:2014</td>\n",
       "      <td>0</td>\n",
       "    </tr>\n",
       "    <tr>\n",
       "      <th>4</th>\n",
       "      <td>ECLI:NL:RBNHO:2017:5966</td>\n",
       "      <td>http://linkeddata.overheid.nl/terms/jurisprude...</td>\n",
       "      <td>NL</td>\n",
       "      <td>RBNHO</td>\n",
       "      <td>2017.0</td>\n",
       "      <td>http://linkeddata.overheid.nl/terms/jurisprude...</td>\n",
       "      <td>RBNHO:2017</td>\n",
       "      <td>0</td>\n",
       "    </tr>\n",
       "  </tbody>\n",
       "</table>\n",
       "</div>"
      ],
      "text/plain": [
       "                        ecli  \\\n",
       "0     ECLI:NL:CRVB:2016:2999   \n",
       "1  ECLI:NL:RBROT:2013:BZ2568   \n",
       "2  ECLI:NL:GHAMS:2011:BU6149   \n",
       "3    ECLI:NL:GHARL:2014:6359   \n",
       "4    ECLI:NL:RBNHO:2017:5966   \n",
       "\n",
       "                                             lido_id country  court    year  \\\n",
       "0  http://linkeddata.overheid.nl/terms/jurisprude...      NL   CRVB  2016.0   \n",
       "1  http://linkeddata.overheid.nl/terms/jurisprude...      NL  RBROT  2013.0   \n",
       "2  http://linkeddata.overheid.nl/terms/jurisprude...      NL  GHAMS  2011.0   \n",
       "3  http://linkeddata.overheid.nl/terms/jurisprude...      NL  GHARL  2014.0   \n",
       "4  http://linkeddata.overheid.nl/terms/jurisprude...      NL  RBNHO  2017.0   \n",
       "\n",
       "                                                  id       label  node_type  \n",
       "0  http://linkeddata.overheid.nl/terms/jurisprude...   CRVB:2016          0  \n",
       "1  http://linkeddata.overheid.nl/terms/jurisprude...  RBROT:2013          0  \n",
       "2  http://linkeddata.overheid.nl/terms/jurisprude...  GHAMS:2011          0  \n",
       "3  http://linkeddata.overheid.nl/terms/jurisprude...  GHARL:2014          0  \n",
       "4  http://linkeddata.overheid.nl/terms/jurisprude...  RBNHO:2017          0  "
      ]
     },
     "execution_count": 8,
     "metadata": {},
     "output_type": "execute_result"
    }
   ],
   "source": [
    "case_nodes_sub.head()"
   ]
  },
  {
   "cell_type": "code",
   "execution_count": 10,
   "metadata": {},
   "outputs": [
    {
     "data": {
      "text/html": [
       "<div>\n",
       "<style>\n",
       "    .dataframe thead tr:only-child th {\n",
       "        text-align: right;\n",
       "    }\n",
       "\n",
       "    .dataframe thead th {\n",
       "        text-align: left;\n",
       "    }\n",
       "\n",
       "    .dataframe tbody tr th {\n",
       "        vertical-align: top;\n",
       "    }\n",
       "</style>\n",
       "<table border=\"1\" class=\"dataframe\">\n",
       "  <thead>\n",
       "    <tr style=\"text-align: right;\">\n",
       "      <th></th>\n",
       "      <th>link_id</th>\n",
       "      <th>source</th>\n",
       "      <th>target</th>\n",
       "    </tr>\n",
       "  </thead>\n",
       "  <tbody>\n",
       "    <tr>\n",
       "      <th>0</th>\n",
       "      <td>http://localhost:8984/bigdata/namespace/Regell...</td>\n",
       "      <td>http://linkeddata.overheid.nl/terms/jurisprude...</td>\n",
       "      <td>http://linkeddata.overheid.nl/terms/jurisprude...</td>\n",
       "    </tr>\n",
       "    <tr>\n",
       "      <th>1</th>\n",
       "      <td>http://localhost:8984/bigdata/namespace/Regell...</td>\n",
       "      <td>http://linkeddata.overheid.nl/terms/jurisprude...</td>\n",
       "      <td>http://linkeddata.overheid.nl/terms/jurisprude...</td>\n",
       "    </tr>\n",
       "    <tr>\n",
       "      <th>2</th>\n",
       "      <td>http://localhost:8984/bigdata/namespace/Regell...</td>\n",
       "      <td>http://linkeddata.overheid.nl/terms/jurisprude...</td>\n",
       "      <td>http://linkeddata.overheid.nl/terms/jurisprude...</td>\n",
       "    </tr>\n",
       "    <tr>\n",
       "      <th>3</th>\n",
       "      <td>http://localhost:8984/bigdata/namespace/Regell...</td>\n",
       "      <td>http://linkeddata.overheid.nl/terms/jurisprude...</td>\n",
       "      <td>http://linkeddata.overheid.nl/terms/jurisprude...</td>\n",
       "    </tr>\n",
       "    <tr>\n",
       "      <th>4</th>\n",
       "      <td>http://localhost:8984/bigdata/namespace/Regell...</td>\n",
       "      <td>http://linkeddata.overheid.nl/terms/jurisprude...</td>\n",
       "      <td>http://linkeddata.overheid.nl/terms/jurisprude...</td>\n",
       "    </tr>\n",
       "  </tbody>\n",
       "</table>\n",
       "</div>"
      ],
      "text/plain": [
       "                                             link_id  \\\n",
       "0  http://localhost:8984/bigdata/namespace/Regell...   \n",
       "1  http://localhost:8984/bigdata/namespace/Regell...   \n",
       "2  http://localhost:8984/bigdata/namespace/Regell...   \n",
       "3  http://localhost:8984/bigdata/namespace/Regell...   \n",
       "4  http://localhost:8984/bigdata/namespace/Regell...   \n",
       "\n",
       "                                              source  \\\n",
       "0  http://linkeddata.overheid.nl/terms/jurisprude...   \n",
       "1  http://linkeddata.overheid.nl/terms/jurisprude...   \n",
       "2  http://linkeddata.overheid.nl/terms/jurisprude...   \n",
       "3  http://linkeddata.overheid.nl/terms/jurisprude...   \n",
       "4  http://linkeddata.overheid.nl/terms/jurisprude...   \n",
       "\n",
       "                                              target  \n",
       "0  http://linkeddata.overheid.nl/terms/jurisprude...  \n",
       "1  http://linkeddata.overheid.nl/terms/jurisprude...  \n",
       "2  http://linkeddata.overheid.nl/terms/jurisprude...  \n",
       "3  http://linkeddata.overheid.nl/terms/jurisprude...  \n",
       "4  http://linkeddata.overheid.nl/terms/jurisprude...  "
      ]
     },
     "execution_count": 10,
     "metadata": {},
     "output_type": "execute_result"
    }
   ],
   "source": [
    "case_to_case_links.head()"
   ]
  },
  {
   "cell_type": "code",
   "execution_count": 9,
   "metadata": {},
   "outputs": [
    {
     "data": {
      "text/plain": [
       "((118, 8), (408, 3), (140, 4), (74, 4))"
      ]
     },
     "execution_count": 9,
     "metadata": {},
     "output_type": "execute_result"
    }
   ],
   "source": [
    "# Make smaller subnetwork\n",
    "case_nodes_hr = case_nodes_sub[case_nodes_sub['court']=='HR']\n",
    "links_sub_hr = links_sub[links_sub.source.isin(case_nodes_hr.id)]\n",
    "art_nodes_hr = art_nodes_sub[art_nodes_sub.id.isin(links_sub_hr.target.unique())]\n",
    "case_to_case_hr = case_to_case_sub[case_to_case_sub.source.isin(case_nodes_hr.id)&case_to_case_sub.target.isin(case_nodes_hr.id)]\n",
    "case_nodes_hr.shape, links_sub_hr.shape, art_nodes_hr.shape, case_to_case_hr.shape"
   ]
  },
  {
   "cell_type": "code",
   "execution_count": 26,
   "metadata": {},
   "outputs": [],
   "source": [
    "case_to_case_hr.to_csv(os.path.join(filepath, 'subnetwork', 'case-to-case-links-hr.csv'), index=False)\n",
    "links_sub_hr.to_csv(os.path.join(filepath, 'subnetwork', 'case-to-article-links-hr.csv'), index=False)\n",
    "art_nodes_hr.to_csv(os.path.join(filepath, 'subnetwork', 'article-nodes-hr.csv'), index=False)\n",
    "case_nodes_hr.to_csv(os.path.join(filepath, 'subnetwork', 'case-nodes-hr.csv'), index=False)"
   ]
  },
  {
   "cell_type": "code",
   "execution_count": 16,
   "metadata": {},
   "outputs": [
    {
     "name": "stdout",
     "output_type": "stream",
     "text": [
      "(2795, 3) (2086, 7)\n"
     ]
    }
   ],
   "source": [
    "# Extend with all cases citing the seed cases\n",
    "case_to_case_sub_ext = case_to_case_links[case_to_case_links.target.isin(case_nodes_sub.lido_id)]\n",
    "linking_cases = set(case_to_case_sub_ext.source).union(set(case_to_case_sub_ext.target))\n",
    "case_nodes_sub_ext = case_nodes[case_nodes.lido_id.isin(linking_cases)]\n",
    "print(case_to_case_sub_ext.shape, case_nodes_sub_ext.shape)"
   ]
  },
  {
   "cell_type": "code",
   "execution_count": 18,
   "metadata": {},
   "outputs": [
    {
     "data": {
      "text/plain": [
       "((130, 7), (84, 3))"
      ]
     },
     "execution_count": 18,
     "metadata": {},
     "output_type": "execute_result"
    }
   ],
   "source": [
    "# Make smaller subnetwork\n",
    "case_nodes_ext_hr = case_nodes_sub_ext[case_nodes_sub_ext['court']=='HR']\n",
    "case_to_case_ext_hr = case_to_case_sub_ext[case_to_case_sub_ext.source.isin(case_nodes_ext_hr.id)&case_to_case_sub_ext.target.isin(case_nodes_ext_hr.id)]\n",
    "case_nodes_ext_hr.shape, case_to_case_ext_hr.shape"
   ]
  },
  {
   "cell_type": "code",
   "execution_count": 21,
   "metadata": {},
   "outputs": [],
   "source": [
    "case_to_case_sub_ext.to_csv(os.path.join(filepath, 'subnetwork', 'case-to-case-links-ext.csv'), index=False)\n",
    "case_nodes_sub_ext.to_csv(os.path.join(filepath, 'subnetwork', 'case-nodes-ext.csv'), index=False)\n",
    "\n",
    "case_to_case_ext_hr.to_csv(os.path.join(filepath, 'subnetwork', 'case-to-case-links-ext-hr.csv'), index=False)\n",
    "case_nodes_ext_hr.to_csv(os.path.join(filepath, 'subnetwork', 'case-nodes-ext-hr.csv'), index=False)"
   ]
  },
  {
   "cell_type": "code",
   "execution_count": 41,
   "metadata": {},
   "outputs": [],
   "source": [
    "## cocitation network\n",
    "import scipy.sparse\n",
    "links_series = links_sub.groupby(['source', 'target']).nunique()['source']\n",
    "mat_sparse = scipy.sparse.coo_matrix(\n",
    "                (links_series.values, \n",
    "                 (links_series.index.labels[0], links_series.index.labels[1])))"
   ]
  },
  {
   "cell_type": "code",
   "execution_count": 47,
   "metadata": {},
   "outputs": [
    {
     "name": "stdout",
     "output_type": "stream",
     "text": [
      "2842 1378\n"
     ]
    }
   ],
   "source": [
    "case_ids = links_series.index.levels[0]\n",
    "article_ids = links_series.index.levels[1]\n",
    "print(len(case_ids), len(article_ids))"
   ]
  },
  {
   "cell_type": "code",
   "execution_count": 48,
   "metadata": {},
   "outputs": [
    {
     "data": {
      "text/plain": [
       "(1378, 1378)"
      ]
     },
     "execution_count": 48,
     "metadata": {},
     "output_type": "execute_result"
    }
   ],
   "source": [
    "mat_cocitation = mat_sparse.T.dot(mat_sparse)\n",
    "mat_cocitation.shape"
   ]
  },
  {
   "cell_type": "code",
   "execution_count": 49,
   "metadata": {},
   "outputs": [
    {
     "data": {
      "text/plain": [
       "(33332, 3)"
      ]
     },
     "execution_count": 49,
     "metadata": {},
     "output_type": "execute_result"
    }
   ],
   "source": [
    "x_index, y_index, data = scipy.sparse.find(mat_cocitation)\n",
    "df_cocitation = pd.DataFrame({'source':article_ids[x_index],\n",
    "             'target': article_ids[y_index],\n",
    "             'weight': data})\n",
    "df_cocitation.shape"
   ]
  },
  {
   "cell_type": "code",
   "execution_count": 50,
   "metadata": {},
   "outputs": [
    {
     "data": {
      "text/plain": [
       "(15977, 3)"
      ]
     },
     "execution_count": 50,
     "metadata": {},
     "output_type": "execute_result"
    }
   ],
   "source": [
    "df_cocitation = df_cocitation[df_cocitation['source']<df_cocitation['target']]\n",
    "df_cocitation.shape"
   ]
  },
  {
   "cell_type": "code",
   "execution_count": 52,
   "metadata": {},
   "outputs": [
    {
     "data": {
      "text/plain": [
       "(997, 3)"
      ]
     },
     "execution_count": 52,
     "metadata": {},
     "output_type": "execute_result"
    }
   ],
   "source": [
    "df_cocitation_min5 = df_cocitation[df_cocitation.weight>=5]\n",
    "df_cocitation_min5.shape"
   ]
  },
  {
   "cell_type": "code",
   "execution_count": 54,
   "metadata": {},
   "outputs": [],
   "source": [
    "df_cocitation_min5.to_csv(os.path.join(filepath, 'subnetwork', 'legislation-cociation-min5.csv'), index=False)"
   ]
  },
  {
   "cell_type": "markdown",
   "metadata": {},
   "source": [
    "## enrich\n",
    "Use caselawnet for these nodes"
   ]
  },
  {
   "cell_type": "code",
   "execution_count": 14,
   "metadata": {},
   "outputs": [
    {
     "name": "stdout",
     "output_type": "stream",
     "text": [
      "[nltk_data] Downloading package punkt to /home/dafne/nltk_data...\n",
      "[nltk_data]   Package punkt is already up-to-date!\n"
     ]
    }
   ],
   "source": [
    "import caselawnet"
   ]
  },
  {
   "cell_type": "code",
   "execution_count": 15,
   "metadata": {},
   "outputs": [],
   "source": [
    "links_dict = [{'source': d['source'].split('/')[-1], 'target': d['target'].split('/')[-1]} for d in case_to_case_sub.to_dict(orient='records')]"
   ]
  },
  {
   "cell_type": "code",
   "execution_count": 16,
   "metadata": {},
   "outputs": [],
   "source": [
    "enrich_again = False\n",
    "\n",
    "if enrich_again:\n",
    "    nodes_rich_list = caselawnet.enrich_eclis([s.split('/')[-1] for s in case_nodes_sub.id ], rootpath='/media/sf_VBox_Shared/CaseLaw/OpenDataUitspraken/')\n",
    "    nodes_rich = pd.DataFrame(nodes_rich_list)\n",
    "    nodes_rich.to_csv(os.path.join(filepath, 'subnetwork', 'nodes-cases-rich.csv'), index=False)\n",
    "else:\n",
    "    nodes_rich = pd.read_csv(os.path.join(filepath, 'subnetwork', 'nodes-cases-rich.csv')).fillna('')\n",
    "    nodes_rich_list = nodes_rich.to_dict(orient='records')"
   ]
  },
  {
   "cell_type": "code",
   "execution_count": 17,
   "metadata": {},
   "outputs": [
    {
     "data": {
      "text/html": [
       "<div>\n",
       "<style>\n",
       "    .dataframe thead tr:only-child th {\n",
       "        text-align: right;\n",
       "    }\n",
       "\n",
       "    .dataframe thead th {\n",
       "        text-align: left;\n",
       "    }\n",
       "\n",
       "    .dataframe tbody tr th {\n",
       "        vertical-align: top;\n",
       "    }\n",
       "</style>\n",
       "<table border=\"1\" class=\"dataframe\">\n",
       "  <thead>\n",
       "    <tr style=\"text-align: right;\">\n",
       "      <th></th>\n",
       "      <th>abstract</th>\n",
       "      <th>articles</th>\n",
       "      <th>count_annotation</th>\n",
       "      <th>count_version</th>\n",
       "      <th>creator</th>\n",
       "      <th>date</th>\n",
       "      <th>ecli</th>\n",
       "      <th>id</th>\n",
       "      <th>subject</th>\n",
       "      <th>title</th>\n",
       "      <th>year</th>\n",
       "    </tr>\n",
       "  </thead>\n",
       "  <tbody>\n",
       "    <tr>\n",
       "      <th>0</th>\n",
       "      <td></td>\n",
       "      <td></td>\n",
       "      <td></td>\n",
       "      <td></td>\n",
       "      <td></td>\n",
       "      <td></td>\n",
       "      <td>ECLI:NL:PHR:2017:511</td>\n",
       "      <td>http://deeplink.rechtspraak.nl/uitspraak?id=EC...</td>\n",
       "      <td></td>\n",
       "      <td></td>\n",
       "      <td></td>\n",
       "    </tr>\n",
       "    <tr>\n",
       "      <th>1</th>\n",
       "      <td></td>\n",
       "      <td></td>\n",
       "      <td></td>\n",
       "      <td></td>\n",
       "      <td></td>\n",
       "      <td></td>\n",
       "      <td>ECLI:NL:GHSHE:2015:4088</td>\n",
       "      <td>http://deeplink.rechtspraak.nl/uitspraak?id=EC...</td>\n",
       "      <td></td>\n",
       "      <td></td>\n",
       "      <td></td>\n",
       "    </tr>\n",
       "    <tr>\n",
       "      <th>2</th>\n",
       "      <td>11 maart 2005 Eerste Kamer Nr. C03/289HR JMH H...</td>\n",
       "      <td>[]</td>\n",
       "      <td>5</td>\n",
       "      <td>9</td>\n",
       "      <td>http://standaarden.overheid.nl/owms/terms/Hoge...</td>\n",
       "      <td>2005-03-11</td>\n",
       "      <td>ECLI:NL:HR:2005:AR6657</td>\n",
       "      <td>http://deeplink.rechtspraak.nl/uitspraak?id=EC...</td>\n",
       "      <td>http://psi.rechtspraak.nl/rechtsgebied#civielR...</td>\n",
       "      <td>ECLI:NL:HR:2005:AR6657 Hoge Raad , 11-03-2005 ...</td>\n",
       "      <td>2005</td>\n",
       "    </tr>\n",
       "    <tr>\n",
       "      <th>3</th>\n",
       "      <td>Ongeval ambtenaar; politieagent; afbakening be...</td>\n",
       "      <td>[]</td>\n",
       "      <td>0</td>\n",
       "      <td>2</td>\n",
       "      <td>http://standaarden.overheid.nl/owms/terms/Rech...</td>\n",
       "      <td>2009-07-22</td>\n",
       "      <td>ECLI:NL:RBROT:2009:BJ5463</td>\n",
       "      <td>http://deeplink.rechtspraak.nl/uitspraak?id=EC...</td>\n",
       "      <td>http://psi.rechtspraak.nl/rechtsgebied#civielR...</td>\n",
       "      <td>ECLI:NL:RBROT:2009:BJ5463 Rechtbank Rotterdam ...</td>\n",
       "      <td>2009</td>\n",
       "    </tr>\n",
       "    <tr>\n",
       "      <th>4</th>\n",
       "      <td>Geen schending zorgplicht ex art. 7:658 BW van...</td>\n",
       "      <td>['7:658 bw', '7:611 bw', 'Burgerlijk Wetboek B...</td>\n",
       "      <td>0</td>\n",
       "      <td>6</td>\n",
       "      <td>http://standaarden.overheid.nl/owms/terms/Gere...</td>\n",
       "      <td>2011-10-04</td>\n",
       "      <td>ECLI:NL:GHAMS:2011:BU6935</td>\n",
       "      <td>http://deeplink.rechtspraak.nl/uitspraak?id=EC...</td>\n",
       "      <td>http://psi.rechtspraak.nl/rechtsgebied#civielR...</td>\n",
       "      <td>ECLI:NL:GHAMS:2011:BU6935 Gerechtshof Amsterda...</td>\n",
       "      <td>2011</td>\n",
       "    </tr>\n",
       "  </tbody>\n",
       "</table>\n",
       "</div>"
      ],
      "text/plain": [
       "                                            abstract  \\\n",
       "0                                                      \n",
       "1                                                      \n",
       "2  11 maart 2005 Eerste Kamer Nr. C03/289HR JMH H...   \n",
       "3  Ongeval ambtenaar; politieagent; afbakening be...   \n",
       "4  Geen schending zorgplicht ex art. 7:658 BW van...   \n",
       "\n",
       "                                            articles count_annotation  \\\n",
       "0                                                                       \n",
       "1                                                                       \n",
       "2                                                 []                5   \n",
       "3                                                 []                0   \n",
       "4  ['7:658 bw', '7:611 bw', 'Burgerlijk Wetboek B...                0   \n",
       "\n",
       "  count_version                                            creator  \\\n",
       "0                                                                    \n",
       "1                                                                    \n",
       "2             9  http://standaarden.overheid.nl/owms/terms/Hoge...   \n",
       "3             2  http://standaarden.overheid.nl/owms/terms/Rech...   \n",
       "4             6  http://standaarden.overheid.nl/owms/terms/Gere...   \n",
       "\n",
       "         date                       ecli  \\\n",
       "0                   ECLI:NL:PHR:2017:511   \n",
       "1                ECLI:NL:GHSHE:2015:4088   \n",
       "2  2005-03-11     ECLI:NL:HR:2005:AR6657   \n",
       "3  2009-07-22  ECLI:NL:RBROT:2009:BJ5463   \n",
       "4  2011-10-04  ECLI:NL:GHAMS:2011:BU6935   \n",
       "\n",
       "                                                  id  \\\n",
       "0  http://deeplink.rechtspraak.nl/uitspraak?id=EC...   \n",
       "1  http://deeplink.rechtspraak.nl/uitspraak?id=EC...   \n",
       "2  http://deeplink.rechtspraak.nl/uitspraak?id=EC...   \n",
       "3  http://deeplink.rechtspraak.nl/uitspraak?id=EC...   \n",
       "4  http://deeplink.rechtspraak.nl/uitspraak?id=EC...   \n",
       "\n",
       "                                             subject  \\\n",
       "0                                                      \n",
       "1                                                      \n",
       "2  http://psi.rechtspraak.nl/rechtsgebied#civielR...   \n",
       "3  http://psi.rechtspraak.nl/rechtsgebied#civielR...   \n",
       "4  http://psi.rechtspraak.nl/rechtsgebied#civielR...   \n",
       "\n",
       "                                               title  year  \n",
       "0                                                           \n",
       "1                                                           \n",
       "2  ECLI:NL:HR:2005:AR6657 Hoge Raad , 11-03-2005 ...  2005  \n",
       "3  ECLI:NL:RBROT:2009:BJ5463 Rechtbank Rotterdam ...  2009  \n",
       "4  ECLI:NL:GHAMS:2011:BU6935 Gerechtshof Amsterda...  2011  "
      ]
     },
     "execution_count": 17,
     "metadata": {},
     "output_type": "execute_result"
    }
   ],
   "source": [
    "nodes_rich.head()"
   ]
  },
  {
   "cell_type": "code",
   "execution_count": 18,
   "metadata": {},
   "outputs": [],
   "source": [
    "links_list = caselawnet.enrich_links(links_dict)"
   ]
  },
  {
   "cell_type": "code",
   "execution_count": 19,
   "metadata": {},
   "outputs": [],
   "source": [
    "nodes_network, links_list = caselawnet.get_network(nodes_rich_list, links_list)"
   ]
  },
  {
   "cell_type": "code",
   "execution_count": 20,
   "metadata": {},
   "outputs": [],
   "source": [
    "caselawnet.to_sigma_json(nodes_network, links_list, 'Employer liability', os.path.join(filepath, 'subnetwork', 'network.json'))"
   ]
  },
  {
   "cell_type": "code",
   "execution_count": 21,
   "metadata": {},
   "outputs": [
    {
     "data": {
      "text/plain": [
       "1541    1\n",
       "1023    1\n",
       "164     1\n",
       "1140    1\n",
       "1085    1\n",
       "Name: community, dtype: int64"
      ]
     },
     "execution_count": 21,
     "metadata": {},
     "output_type": "execute_result"
    }
   ],
   "source": [
    "nodes_network_df = pd.DataFrame(nodes_network)\n",
    "nodes_network_df.community.value_counts().head()"
   ]
  },
  {
   "cell_type": "code",
   "execution_count": 22,
   "metadata": {},
   "outputs": [],
   "source": [
    "graph = caselawnet.network_analysis.get_network(nodes_rich_list, links_list)"
   ]
  },
  {
   "cell_type": "code",
   "execution_count": 23,
   "metadata": {},
   "outputs": [
    {
     "data": {
      "text/plain": [
       "2577"
      ]
     },
     "execution_count": 23,
     "metadata": {},
     "output_type": "execute_result"
    }
   ],
   "source": [
    "len(graph)"
   ]
  },
  {
   "cell_type": "code",
   "execution_count": 24,
   "metadata": {},
   "outputs": [],
   "source": [
    "graph = nx.readwrite.json_graph.node_link_graph({'nodes': nodes_rich_list, 'links': links_list},\n",
    "                                       directed=True, multigraph=False)"
   ]
  },
  {
   "cell_type": "code",
   "execution_count": 25,
   "metadata": {},
   "outputs": [
    {
     "data": {
      "text/plain": [
       "(1596, 1608)"
      ]
     },
     "execution_count": 25,
     "metadata": {},
     "output_type": "execute_result"
    }
   ],
   "source": [
    "graph.number_of_nodes(), graph.number_of_edges()"
   ]
  },
  {
   "cell_type": "code",
   "execution_count": 26,
   "metadata": {},
   "outputs": [],
   "source": [
    "def add_network_statistics(nodes, links):\n",
    "    if len(nodes)==0:\n",
    "        return nodes\n",
    "    graph = get_network(nodes, links)\n",
    "    degree = nx.degree(graph)\n",
    "    if max(dict(degree).values()) > 0:\n",
    "        hubs, authorities = get_hits(graph)\n",
    "        statistics = {\n",
    "            'degree': degree,\n",
    "            'in_degree': graph.in_degree(),\n",
    "            'out_degree': graph.out_degree(),\n",
    "\n",
    "            'degree_centrality': nx.degree_centrality(graph),\n",
    "            'in_degree_centrality': nx.in_degree_centrality(graph),\n",
    "            'out_degree_centrality': nx.out_degree_centrality(graph),\n",
    "            'betweenness_centrality': nx.betweenness_centrality(graph),\n",
    "            'closeness_centrality': nx.closeness_centrality(graph),\n",
    "            'pagerank': get_pagerank(graph),\n",
    "            'hubs': hubs,\n",
    "            'authorities': authorities\n",
    "        }\n",
    "    else:\n",
    "        statistics = {}\n",
    "\n",
    "    # for relative in-degree we sort on date\n",
    "    derive_date = lambda k: k['date'] if k['date']!='' else '{}-01-01'.format(k['year'])\n",
    "    nodes.sort(key=derive_date, reverse=True)\n",
    "    for i, node in enumerate(nodes):\n",
    "        nodeid = node['id']\n",
    "        for var in statistics.keys():\n",
    "            node[var] = statistics[var][nodeid]\n",
    "        if 'in_degree' in node:\n",
    "            node['rel_in_degree'] = node['in_degree'] / float(max(i, 1))\n",
    "    get_community(graph, nodes)\n",
    "    return nodes"
   ]
  },
  {
   "cell_type": "code",
   "execution_count": 27,
   "metadata": {},
   "outputs": [
    {
     "data": {
      "text/plain": [
       "PHR        225\n",
       "GHSHE      132\n",
       "HR         118\n",
       "CRVB        85\n",
       "GHAMS       84\n",
       "GHSGR       83\n",
       "RBROT       71\n",
       "GHARL       69\n",
       "RBUTR       66\n",
       "RBMNE       64\n",
       "RBAMS       59\n",
       "RBARN       45\n",
       "GHARN       42\n",
       "GHLEE       42\n",
       "GHDHA       39\n",
       "RBNNE       25\n",
       "RBMAA       25\n",
       "RBHAA       24\n",
       "RBNHO       24\n",
       "RBSGR       23\n",
       "RBGEL       23\n",
       "RBLEE       22\n",
       "RBDHA       18\n",
       "RBLIM       17\n",
       "RBOBR       15\n",
       "RBZLY       15\n",
       "RBMID       14\n",
       "RBSHE       13\n",
       "RBASS       12\n",
       "RBALM       12\n",
       "RBZWB       11\n",
       "RBZUT       10\n",
       "RBBRE        9\n",
       "RBOVE        9\n",
       "RBDOR        9\n",
       "RBGRO        8\n",
       "RBALK        8\n",
       "RBONE        3\n",
       "KTGMID       2\n",
       "RBROE        2\n",
       "KTGROT       2\n",
       "KTGAMS       2\n",
       "OGHACMB      1\n",
       "KTGHAR       1\n",
       "KTGAAR       1\n",
       "RBZWO        1\n",
       "KTGDEL       1\n",
       "KTGHAA       1\n",
       "KTGTIE       1\n",
       "KTGALM       1\n",
       "KTGBRI       1\n",
       "KTGBRE       1\n",
       "OGHNAA       1\n",
       "KTGSCH       1\n",
       "OGEAC        1\n",
       "KTGUTR       1\n",
       "KTGBEE       1\n",
       "Name: court, dtype: int64"
      ]
     },
     "execution_count": 27,
     "metadata": {},
     "output_type": "execute_result"
    }
   ],
   "source": [
    "case_nodes_sub.court.value_counts()"
   ]
  },
  {
   "cell_type": "code",
   "execution_count": 28,
   "metadata": {},
   "outputs": [
    {
     "data": {
      "text/plain": [
       "Wetboek van Burgerlijke Rechtsvordering (geldt in geval van digitaal procederen)                                                              179\n",
       "Burgerlijk Wetboek Boek 7                                                                                                                     176\n",
       "Burgerlijk Wetboek Boek 6                                                                                                                     102\n",
       "Algemene wet bestuursrecht                                                                                                                     79\n",
       "Arbeidsomstandighedenbesluit                                                                                                                   52\n",
       "Burgerlijk Wetboek Boek 3                                                                                                                      51\n",
       "Wetboek van Strafrecht                                                                                                                         34\n",
       "Burgerlijk Wetboek Boek 2                                                                                                                      33\n",
       "Wet op de ondernemingsraden                                                                                                                    21\n",
       "Arbeidsomstandighedenwet                                                                                                                       20\n",
       "Pensioenwet                                                                                                                                    18\n",
       "Faillissementswet                                                                                                                              16\n",
       "Burgerlijk Wetboek Boek 7A                                                                                                                     16\n",
       "Wetboek van Koophandel                                                                                                                         16\n",
       "Burgerlijk Wetboek Boek 8                                                                                                                      14\n",
       "Ziektewet                                                                                                                                      14\n",
       "Werkloosheidswet                                                                                                                               13\n",
       "Wet op de loonbelasting 1964                                                                                                                   13\n",
       "Arbeidsomstandighedenwet 1998                                                                                                                  12\n",
       "Wet op de arbeidsongeschiktheidsverzekering                                                                                                    11\n",
       "Wet arbeid vreemdelingen                                                                                                                       11\n",
       "Wet op de collectieve arbeidsovereenkomst                                                                                                      11\n",
       "Wet werk en inkomen naar arbeidsvermogen                                                                                                       11\n",
       "Grondwet                                                                                                                                       11\n",
       "Arbeidstijdenwet                                                                                                                               10\n",
       "Besluit Gedragstoezicht financiële ondernemingen Wft                                                                                           10\n",
       "Algemeen Rijksambtenarenreglement                                                                                                               9\n",
       "Wet verplichte deelneming in een bedrijfstakpensioenfonds 2000                                                                                  9\n",
       "Overgangswet nieuw Burgerlijk Wetboek                                                                                                           9\n",
       "Verdrag tot bescherming van de rechten van de mens en de fundamentele vrijheden                                                                 8\n",
       "                                                                                                                                             ... \n",
       "Besluit personenvervoer 2000                                                                                                                    1\n",
       "Wet op de omzetbelasting 1968                                                                                                                   1\n",
       "Advocatenwet                                                                                                                                    1\n",
       "Waterschapswet                                                                                                                                  1\n",
       "Wet goederenvervoer over de weg                                                                                                                 1\n",
       "Wet flexibel werken                                                                                                                             1\n",
       "Invoeringswet Wet werk en bijstand                                                                                                              1\n",
       "Regeling integriteitsgevoelige functies kredietinstellingen en verzekeraars                                                                     1\n",
       "Kaderwet zelfstandige bestuursorganen                                                                                                           1\n",
       "Verdrag betreffende de rechterlijke bevoegdheid en de tenuitvoerlegging van beslissingen in burgerlijke en handelszaken                         1\n",
       "Inkomstenbesluit militairen                                                                                                                     1\n",
       "Zorgverzekeringswet                                                                                                                             1\n",
       "Rijkswet Onderzoeksraad voor veiligheid                                                                                                         1\n",
       "Besluit beheer sociale-huursector                                                                                                               1\n",
       "Regeling tegemoetkoming asbestslachtoffers                                                                                                      1\n",
       "Regeling SUWI                                                                                                                                   1\n",
       "Algemene Ouderdomswet                                                                                                                           1\n",
       "Tijdelijk besluit Commissie advies- en verwijspunt klokkenluiden                                                                                1\n",
       "Politiewet 1993                                                                                                                                 1\n",
       "Loodsenwet                                                                                                                                      1\n",
       "Regeling procesgang eerste en tweede ziektejaar voor vangnetters zonder werkgever                                                               1\n",
       "Wet tegemoetkoming schade bij rampen                                                                                                            1\n",
       "Wet maatschappelijke ondersteuning                                                                                                              1\n",
       "Regeling werkzaamheden                                                                                                                          1\n",
       "Besluit voorwaarden in mindering brengen kosten op transitievergoeding                                                                          1\n",
       "Besluit verhaal ziekengeld                                                                                                                      1\n",
       "Protocol bij het Verdrag tot bescherming van de rechten van de mens en de fundamentele vrijheden                                                1\n",
       "Wet werk en bijstand                                                                                                                            1\n",
       "Europese Overeenkomst nopens de arbeidsvoorwaarden voor de bemanningen van motorrijtuigen in het internationale vervoer over de weg (AETR)      1\n",
       "Invoerings- en aanpassingswet Zorgverzekeringswet                                                                                               1\n",
       "Name: book, Length: 187, dtype: int64"
      ]
     },
     "execution_count": 28,
     "metadata": {},
     "output_type": "execute_result"
    }
   ],
   "source": [
    "art_nodes_sub.book.value_counts()"
   ]
  },
  {
   "cell_type": "code",
   "execution_count": null,
   "metadata": {},
   "outputs": [],
   "source": []
  }
 ],
 "metadata": {
  "kernelspec": {
   "display_name": "Python [conda env:caselaw]",
   "language": "python",
   "name": "conda-env-caselaw-py"
  },
  "language_info": {
   "codemirror_mode": {
    "name": "ipython",
    "version": 3
   },
   "file_extension": ".py",
   "mimetype": "text/x-python",
   "name": "python",
   "nbconvert_exporter": "python",
   "pygments_lexer": "ipython3",
   "version": "3.5.5"
  }
 },
 "nbformat": 4,
 "nbformat_minor": 2
}
