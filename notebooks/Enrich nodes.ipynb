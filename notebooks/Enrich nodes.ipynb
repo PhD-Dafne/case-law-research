{
 "cells": [
  {
   "cell_type": "code",
   "execution_count": 1,
   "metadata": {
    "collapsed": true
   },
   "outputs": [
    {
     "name": "stdout",
     "output_type": "stream",
     "text": [
      "[nltk_data] Downloading package punkt to /home/dafne/nltk_data...\n",
      "[nltk_data]   Package punkt is already up-to-date!\n"
     ]
    }
   ],
   "source": [
    "import pandas as pd\n",
    "import os\n",
    "import caselawnet\n",
    "import sqlalchemy\n",
    "%matplotlib inline\n",
    "import matplotlib.pyplot as plt"
   ]
  },
  {
   "cell_type": "code",
   "execution_count": 2,
   "metadata": {
    "collapsed": true
   },
   "outputs": [],
   "source": [
    "filepath =  '/media/sf_VBox_Shared/CaseLaw/2018-01-29-lido/derived'"
   ]
  },
  {
   "cell_type": "code",
   "execution_count": 3,
   "metadata": {
    "collapsed": false
   },
   "outputs": [],
   "source": [
    "cases_links = pd.read_csv(os.path.join(filepath, 'case_to_case_lx_links.csv'))"
   ]
  },
  {
   "cell_type": "code",
   "execution_count": 7,
   "metadata": {},
   "outputs": [],
   "source": [
    "art_links = pd.read_csv(os.path.join(filepath, 'case-to-article-links-unique.csv'))"
   ]
  },
  {
   "cell_type": "code",
   "execution_count": 8,
   "metadata": {},
   "outputs": [
    {
     "data": {
      "text/html": [
       "<div>\n",
       "<style>\n",
       "    .dataframe thead tr:only-child th {\n",
       "        text-align: right;\n",
       "    }\n",
       "\n",
       "    .dataframe thead th {\n",
       "        text-align: left;\n",
       "    }\n",
       "\n",
       "    .dataframe tbody tr th {\n",
       "        vertical-align: top;\n",
       "    }\n",
       "</style>\n",
       "<table border=\"1\" class=\"dataframe\">\n",
       "  <thead>\n",
       "    <tr style=\"text-align: right;\">\n",
       "      <th></th>\n",
       "      <th>source</th>\n",
       "      <th>target</th>\n",
       "    </tr>\n",
       "  </thead>\n",
       "  <tbody>\n",
       "    <tr>\n",
       "      <th>0</th>\n",
       "      <td>http://linkeddata.overheid.nl/terms/jurisprude...</td>\n",
       "      <td>http://linkeddata.overheid.nl/terms/bwb/id/BWB...</td>\n",
       "    </tr>\n",
       "    <tr>\n",
       "      <th>1</th>\n",
       "      <td>http://linkeddata.overheid.nl/terms/jurisprude...</td>\n",
       "      <td>http://linkeddata.overheid.nl/terms/bwb/id/BWB...</td>\n",
       "    </tr>\n",
       "    <tr>\n",
       "      <th>2</th>\n",
       "      <td>http://linkeddata.overheid.nl/terms/jurisprude...</td>\n",
       "      <td>http://linkeddata.overheid.nl/terms/bwb/id/BWB...</td>\n",
       "    </tr>\n",
       "    <tr>\n",
       "      <th>3</th>\n",
       "      <td>http://linkeddata.overheid.nl/terms/jurisprude...</td>\n",
       "      <td>http://linkeddata.overheid.nl/terms/bwb/id/BWB...</td>\n",
       "    </tr>\n",
       "    <tr>\n",
       "      <th>4</th>\n",
       "      <td>http://linkeddata.overheid.nl/terms/jurisprude...</td>\n",
       "      <td>http://linkeddata.overheid.nl/terms/bwb/id/BWB...</td>\n",
       "    </tr>\n",
       "  </tbody>\n",
       "</table>\n",
       "</div>"
      ],
      "text/plain": [
       "                                              source  \\\n",
       "0  http://linkeddata.overheid.nl/terms/jurisprude...   \n",
       "1  http://linkeddata.overheid.nl/terms/jurisprude...   \n",
       "2  http://linkeddata.overheid.nl/terms/jurisprude...   \n",
       "3  http://linkeddata.overheid.nl/terms/jurisprude...   \n",
       "4  http://linkeddata.overheid.nl/terms/jurisprude...   \n",
       "\n",
       "                                              target  \n",
       "0  http://linkeddata.overheid.nl/terms/bwb/id/BWB...  \n",
       "1  http://linkeddata.overheid.nl/terms/bwb/id/BWB...  \n",
       "2  http://linkeddata.overheid.nl/terms/bwb/id/BWB...  \n",
       "3  http://linkeddata.overheid.nl/terms/bwb/id/BWB...  \n",
       "4  http://linkeddata.overheid.nl/terms/bwb/id/BWB...  "
      ]
     },
     "execution_count": 8,
     "metadata": {},
     "output_type": "execute_result"
    }
   ],
   "source": [
    "art_links.head()"
   ]
  },
  {
   "cell_type": "code",
   "execution_count": 4,
   "metadata": {},
   "outputs": [
    {
     "data": {
      "text/html": [
       "<div>\n",
       "<style>\n",
       "    .dataframe thead tr:only-child th {\n",
       "        text-align: right;\n",
       "    }\n",
       "\n",
       "    .dataframe thead th {\n",
       "        text-align: left;\n",
       "    }\n",
       "\n",
       "    .dataframe tbody tr th {\n",
       "        vertical-align: top;\n",
       "    }\n",
       "</style>\n",
       "<table border=\"1\" class=\"dataframe\">\n",
       "  <thead>\n",
       "    <tr style=\"text-align: right;\">\n",
       "      <th></th>\n",
       "      <th>link_id</th>\n",
       "      <th>source</th>\n",
       "      <th>target</th>\n",
       "    </tr>\n",
       "  </thead>\n",
       "  <tbody>\n",
       "    <tr>\n",
       "      <th>0</th>\n",
       "      <td>http://localhost:8984/bigdata/namespace/Regell...</td>\n",
       "      <td>http://linkeddata.overheid.nl/terms/jurisprude...</td>\n",
       "      <td>http://linkeddata.overheid.nl/terms/jurisprude...</td>\n",
       "    </tr>\n",
       "    <tr>\n",
       "      <th>1</th>\n",
       "      <td>http://localhost:8984/bigdata/namespace/Regell...</td>\n",
       "      <td>http://linkeddata.overheid.nl/terms/jurisprude...</td>\n",
       "      <td>http://linkeddata.overheid.nl/terms/jurisprude...</td>\n",
       "    </tr>\n",
       "    <tr>\n",
       "      <th>2</th>\n",
       "      <td>http://localhost:8984/bigdata/namespace/Regell...</td>\n",
       "      <td>http://linkeddata.overheid.nl/terms/jurisprude...</td>\n",
       "      <td>http://linkeddata.overheid.nl/terms/jurisprude...</td>\n",
       "    </tr>\n",
       "    <tr>\n",
       "      <th>3</th>\n",
       "      <td>http://localhost:8984/bigdata/namespace/Regell...</td>\n",
       "      <td>http://linkeddata.overheid.nl/terms/jurisprude...</td>\n",
       "      <td>http://linkeddata.overheid.nl/terms/jurisprude...</td>\n",
       "    </tr>\n",
       "    <tr>\n",
       "      <th>4</th>\n",
       "      <td>http://localhost:8984/bigdata/namespace/Regell...</td>\n",
       "      <td>http://linkeddata.overheid.nl/terms/jurisprude...</td>\n",
       "      <td>http://linkeddata.overheid.nl/terms/jurisprude...</td>\n",
       "    </tr>\n",
       "  </tbody>\n",
       "</table>\n",
       "</div>"
      ],
      "text/plain": [
       "                                             link_id  \\\n",
       "0  http://localhost:8984/bigdata/namespace/Regell...   \n",
       "1  http://localhost:8984/bigdata/namespace/Regell...   \n",
       "2  http://localhost:8984/bigdata/namespace/Regell...   \n",
       "3  http://localhost:8984/bigdata/namespace/Regell...   \n",
       "4  http://localhost:8984/bigdata/namespace/Regell...   \n",
       "\n",
       "                                              source  \\\n",
       "0  http://linkeddata.overheid.nl/terms/jurisprude...   \n",
       "1  http://linkeddata.overheid.nl/terms/jurisprude...   \n",
       "2  http://linkeddata.overheid.nl/terms/jurisprude...   \n",
       "3  http://linkeddata.overheid.nl/terms/jurisprude...   \n",
       "4  http://linkeddata.overheid.nl/terms/jurisprude...   \n",
       "\n",
       "                                              target  \n",
       "0  http://linkeddata.overheid.nl/terms/jurisprude...  \n",
       "1  http://linkeddata.overheid.nl/terms/jurisprude...  \n",
       "2  http://linkeddata.overheid.nl/terms/jurisprude...  \n",
       "3  http://linkeddata.overheid.nl/terms/jurisprude...  \n",
       "4  http://linkeddata.overheid.nl/terms/jurisprude...  "
      ]
     },
     "execution_count": 4,
     "metadata": {},
     "output_type": "execute_result"
    }
   ],
   "source": [
    "cases_links.head()"
   ]
  },
  {
   "cell_type": "code",
   "execution_count": 9,
   "metadata": {
    "collapsed": true
   },
   "outputs": [],
   "source": [
    "case_lido_ids = list(set(cases_links['source']).union(set(cases_links['target'])).union(set(art_links['source'])))\n",
    "case_ecli = [s.split('/')[-1] for s in case_lido_ids]"
   ]
  },
  {
   "cell_type": "code",
   "execution_count": 10,
   "metadata": {},
   "outputs": [
    {
     "data": {
      "text/plain": [
       "502692"
      ]
     },
     "execution_count": 10,
     "metadata": {},
     "output_type": "execute_result"
    }
   ],
   "source": [
    "len(case_ecli)"
   ]
  },
  {
   "cell_type": "code",
   "execution_count": 11,
   "metadata": {},
   "outputs": [
    {
     "data": {
      "text/html": [
       "<div>\n",
       "<style>\n",
       "    .dataframe thead tr:only-child th {\n",
       "        text-align: right;\n",
       "    }\n",
       "\n",
       "    .dataframe thead th {\n",
       "        text-align: left;\n",
       "    }\n",
       "\n",
       "    .dataframe tbody tr th {\n",
       "        vertical-align: top;\n",
       "    }\n",
       "</style>\n",
       "<table border=\"1\" class=\"dataframe\">\n",
       "  <thead>\n",
       "    <tr style=\"text-align: right;\">\n",
       "      <th></th>\n",
       "      <th>ecli</th>\n",
       "      <th>lido_id</th>\n",
       "    </tr>\n",
       "  </thead>\n",
       "  <tbody>\n",
       "    <tr>\n",
       "      <th>0</th>\n",
       "      <td>ECLI:NL:GHSGR:2010:BM2753</td>\n",
       "      <td>http://linkeddata.overheid.nl/terms/jurisprude...</td>\n",
       "    </tr>\n",
       "    <tr>\n",
       "      <th>1</th>\n",
       "      <td>ECLI:NL:RBHAA:2007:BC0491</td>\n",
       "      <td>http://linkeddata.overheid.nl/terms/jurisprude...</td>\n",
       "    </tr>\n",
       "    <tr>\n",
       "      <th>2</th>\n",
       "      <td>ECLI:NL:RBMAA:2007:BC1654</td>\n",
       "      <td>http://linkeddata.overheid.nl/terms/jurisprude...</td>\n",
       "    </tr>\n",
       "    <tr>\n",
       "      <th>3</th>\n",
       "      <td>ECLI:NL:CRVB:2016:4389</td>\n",
       "      <td>http://linkeddata.overheid.nl/terms/jurisprude...</td>\n",
       "    </tr>\n",
       "    <tr>\n",
       "      <th>4</th>\n",
       "      <td>ECLI:NL:RBLIM:2014:11172</td>\n",
       "      <td>http://linkeddata.overheid.nl/terms/jurisprude...</td>\n",
       "    </tr>\n",
       "  </tbody>\n",
       "</table>\n",
       "</div>"
      ],
      "text/plain": [
       "                        ecli  \\\n",
       "0  ECLI:NL:GHSGR:2010:BM2753   \n",
       "1  ECLI:NL:RBHAA:2007:BC0491   \n",
       "2  ECLI:NL:RBMAA:2007:BC1654   \n",
       "3     ECLI:NL:CRVB:2016:4389   \n",
       "4   ECLI:NL:RBLIM:2014:11172   \n",
       "\n",
       "                                             lido_id  \n",
       "0  http://linkeddata.overheid.nl/terms/jurisprude...  \n",
       "1  http://linkeddata.overheid.nl/terms/jurisprude...  \n",
       "2  http://linkeddata.overheid.nl/terms/jurisprude...  \n",
       "3  http://linkeddata.overheid.nl/terms/jurisprude...  \n",
       "4  http://linkeddata.overheid.nl/terms/jurisprude...  "
      ]
     },
     "execution_count": 11,
     "metadata": {},
     "output_type": "execute_result"
    }
   ],
   "source": [
    "cases_df = pd.DataFrame({'lido_id': case_lido_ids, 'ecli': case_ecli})\n",
    "cases_df.head()"
   ]
  },
  {
   "cell_type": "code",
   "execution_count": 12,
   "metadata": {},
   "outputs": [
    {
     "data": {
      "text/html": [
       "<div>\n",
       "<style>\n",
       "    .dataframe thead tr:only-child th {\n",
       "        text-align: right;\n",
       "    }\n",
       "\n",
       "    .dataframe thead th {\n",
       "        text-align: left;\n",
       "    }\n",
       "\n",
       "    .dataframe tbody tr th {\n",
       "        vertical-align: top;\n",
       "    }\n",
       "</style>\n",
       "<table border=\"1\" class=\"dataframe\">\n",
       "  <thead>\n",
       "    <tr style=\"text-align: right;\">\n",
       "      <th></th>\n",
       "      <th>country</th>\n",
       "      <th>court</th>\n",
       "      <th>year</th>\n",
       "    </tr>\n",
       "  </thead>\n",
       "  <tbody>\n",
       "    <tr>\n",
       "      <th>0</th>\n",
       "      <td>NL</td>\n",
       "      <td>GHSGR</td>\n",
       "      <td>2010</td>\n",
       "    </tr>\n",
       "    <tr>\n",
       "      <th>1</th>\n",
       "      <td>NL</td>\n",
       "      <td>RBHAA</td>\n",
       "      <td>2007</td>\n",
       "    </tr>\n",
       "    <tr>\n",
       "      <th>2</th>\n",
       "      <td>NL</td>\n",
       "      <td>RBMAA</td>\n",
       "      <td>2007</td>\n",
       "    </tr>\n",
       "    <tr>\n",
       "      <th>3</th>\n",
       "      <td>NL</td>\n",
       "      <td>CRVB</td>\n",
       "      <td>2016</td>\n",
       "    </tr>\n",
       "    <tr>\n",
       "      <th>4</th>\n",
       "      <td>NL</td>\n",
       "      <td>RBLIM</td>\n",
       "      <td>2014</td>\n",
       "    </tr>\n",
       "  </tbody>\n",
       "</table>\n",
       "</div>"
      ],
      "text/plain": [
       "  country  court  year\n",
       "0      NL  GHSGR  2010\n",
       "1      NL  RBHAA  2007\n",
       "2      NL  RBMAA  2007\n",
       "3      NL   CRVB  2016\n",
       "4      NL  RBLIM  2014"
      ]
     },
     "execution_count": 12,
     "metadata": {},
     "output_type": "execute_result"
    }
   ],
   "source": [
    "meta_df = pd.DataFrame([e.split(':')[1:4] for e in case_ecli], columns=['country', 'court', 'year'])\n",
    "meta_df.head()"
   ]
  },
  {
   "cell_type": "code",
   "execution_count": 13,
   "metadata": {},
   "outputs": [],
   "source": [
    "cases_df = pd.concat([cases_df, meta_df], axis=1)"
   ]
  },
  {
   "cell_type": "code",
   "execution_count": 14,
   "metadata": {},
   "outputs": [
    {
     "data": {
      "text/html": [
       "<div>\n",
       "<style>\n",
       "    .dataframe thead tr:only-child th {\n",
       "        text-align: right;\n",
       "    }\n",
       "\n",
       "    .dataframe thead th {\n",
       "        text-align: left;\n",
       "    }\n",
       "\n",
       "    .dataframe tbody tr th {\n",
       "        vertical-align: top;\n",
       "    }\n",
       "</style>\n",
       "<table border=\"1\" class=\"dataframe\">\n",
       "  <thead>\n",
       "    <tr style=\"text-align: right;\">\n",
       "      <th></th>\n",
       "      <th>ecli</th>\n",
       "      <th>lido_id</th>\n",
       "      <th>country</th>\n",
       "      <th>court</th>\n",
       "      <th>year</th>\n",
       "    </tr>\n",
       "  </thead>\n",
       "  <tbody>\n",
       "    <tr>\n",
       "      <th>0</th>\n",
       "      <td>ECLI:NL:GHSGR:2010:BM2753</td>\n",
       "      <td>http://linkeddata.overheid.nl/terms/jurisprude...</td>\n",
       "      <td>NL</td>\n",
       "      <td>GHSGR</td>\n",
       "      <td>2010</td>\n",
       "    </tr>\n",
       "    <tr>\n",
       "      <th>1</th>\n",
       "      <td>ECLI:NL:RBHAA:2007:BC0491</td>\n",
       "      <td>http://linkeddata.overheid.nl/terms/jurisprude...</td>\n",
       "      <td>NL</td>\n",
       "      <td>RBHAA</td>\n",
       "      <td>2007</td>\n",
       "    </tr>\n",
       "    <tr>\n",
       "      <th>2</th>\n",
       "      <td>ECLI:NL:RBMAA:2007:BC1654</td>\n",
       "      <td>http://linkeddata.overheid.nl/terms/jurisprude...</td>\n",
       "      <td>NL</td>\n",
       "      <td>RBMAA</td>\n",
       "      <td>2007</td>\n",
       "    </tr>\n",
       "    <tr>\n",
       "      <th>3</th>\n",
       "      <td>ECLI:NL:CRVB:2016:4389</td>\n",
       "      <td>http://linkeddata.overheid.nl/terms/jurisprude...</td>\n",
       "      <td>NL</td>\n",
       "      <td>CRVB</td>\n",
       "      <td>2016</td>\n",
       "    </tr>\n",
       "    <tr>\n",
       "      <th>4</th>\n",
       "      <td>ECLI:NL:RBLIM:2014:11172</td>\n",
       "      <td>http://linkeddata.overheid.nl/terms/jurisprude...</td>\n",
       "      <td>NL</td>\n",
       "      <td>RBLIM</td>\n",
       "      <td>2014</td>\n",
       "    </tr>\n",
       "  </tbody>\n",
       "</table>\n",
       "</div>"
      ],
      "text/plain": [
       "                        ecli  \\\n",
       "0  ECLI:NL:GHSGR:2010:BM2753   \n",
       "1  ECLI:NL:RBHAA:2007:BC0491   \n",
       "2  ECLI:NL:RBMAA:2007:BC1654   \n",
       "3     ECLI:NL:CRVB:2016:4389   \n",
       "4   ECLI:NL:RBLIM:2014:11172   \n",
       "\n",
       "                                             lido_id country  court  year  \n",
       "0  http://linkeddata.overheid.nl/terms/jurisprude...      NL  GHSGR  2010  \n",
       "1  http://linkeddata.overheid.nl/terms/jurisprude...      NL  RBHAA  2007  \n",
       "2  http://linkeddata.overheid.nl/terms/jurisprude...      NL  RBMAA  2007  \n",
       "3  http://linkeddata.overheid.nl/terms/jurisprude...      NL   CRVB  2016  \n",
       "4  http://linkeddata.overheid.nl/terms/jurisprude...      NL  RBLIM  2014  "
      ]
     },
     "execution_count": 14,
     "metadata": {},
     "output_type": "execute_result"
    }
   ],
   "source": [
    "cases_df.head()"
   ]
  },
  {
   "cell_type": "code",
   "execution_count": 19,
   "metadata": {},
   "outputs": [
    {
     "data": {
      "text/plain": [
       "NL    452726\n",
       "CE     44883\n",
       "EU      5082\n",
       "Name: country, dtype: int64"
      ]
     },
     "execution_count": 19,
     "metadata": {},
     "output_type": "execute_result"
    }
   ],
   "source": [
    "cases_df.country.value_counts()"
   ]
  },
  {
   "cell_type": "code",
   "execution_count": 20,
   "metadata": {},
   "outputs": [
    {
     "data": {
      "text/plain": [
       "RVS      61888\n",
       "CRVB     57998\n",
       "ECHR     44883\n",
       "HR       44113\n",
       "PHR      22394\n",
       "GHAMS    22175\n",
       "RBAMS    18396\n",
       "RBSGR    16925\n",
       "GHSHE    16819\n",
       "RBROT    13398\n",
       "RBDHA    11419\n",
       "RBARN    10057\n",
       "GHARL     9956\n",
       "GHSGR     9245\n",
       "RBUTR     9016\n",
       "GHARN     8834\n",
       "CBB       8032\n",
       "RBHAA     7571\n",
       "GHLEE     6949\n",
       "RBGEL     6654\n",
       "Name: court, dtype: int64"
      ]
     },
     "execution_count": 20,
     "metadata": {},
     "output_type": "execute_result"
    }
   ],
   "source": [
    "cases_df.court.value_counts()[:20]"
   ]
  },
  {
   "cell_type": "code",
   "execution_count": 21,
   "metadata": {},
   "outputs": [
    {
     "data": {
      "text/plain": [
       "<matplotlib.axes._subplots.AxesSubplot at 0x7f3e17f81710>"
      ]
     },
     "execution_count": 21,
     "metadata": {},
     "output_type": "execute_result"
    },
    {
     "data": {
      "image/png": "[encoded data removed]",
      "text/plain": [
       "<matplotlib.figure.Figure at 0x7f3e373127b8>"
      ]
     },
     "metadata": {},
     "output_type": "display_data"
    }
   ],
   "source": [
    "plt.figure(figsize=(20, 10))\n",
    "cases_df.court.value_counts().plot(kind='bar')"
   ]
  },
  {
   "cell_type": "code",
   "execution_count": 22,
   "metadata": {},
   "outputs": [
    {
     "data": {
      "text/plain": [
       "<matplotlib.axes._subplots.AxesSubplot at 0x7f3e38071f98>"
      ]
     },
     "execution_count": 22,
     "metadata": {},
     "output_type": "execute_result"
    },
    {
     "data": {
      "image/png": "[encoded data removed]",
      "text/plain": [
       "<matplotlib.figure.Figure at 0x7f3e382d0780>"
      ]
     },
     "metadata": {},
     "output_type": "display_data"
    }
   ],
   "source": [
    "cases_df.year.value_counts(sort=False).sort_index().plot()"
   ]
  },
  {
   "cell_type": "code",
   "execution_count": 23,
   "metadata": {},
   "outputs": [
    {
     "data": {
      "text/plain": [
       "<matplotlib.axes._subplots.AxesSubplot at 0x7f3e1aef0d68>"
      ]
     },
     "execution_count": 23,
     "metadata": {},
     "output_type": "execute_result"
    },
    {
     "data": {
      "image/png": "[encoded data removed]",
      "text/plain": [
       "<matplotlib.figure.Figure at 0x7f3e1ae13c18>"
      ]
     },
     "metadata": {},
     "output_type": "display_data"
    }
   ],
   "source": [
    "cases_df.year.value_counts(sort=False).sort_index().cumsum().plot()"
   ]
  },
  {
   "cell_type": "code",
   "execution_count": 24,
   "metadata": {},
   "outputs": [],
   "source": [
    "cases_df.to_csv(os.path.join(filepath, 'case_nodes_simple.csv'), index=False)"
   ]
  },
  {
   "cell_type": "markdown",
   "metadata": {},
   "source": [
    "## From database"
   ]
  },
  {
   "cell_type": "code",
   "execution_count": 26,
   "metadata": {},
   "outputs": [],
   "source": [
    "import zipfile"
   ]
  },
  {
   "cell_type": "code",
   "execution_count": 30,
   "metadata": {},
   "outputs": [],
   "source": [
    "rootpath = '/media/sf_VBox_Shared/CaseLaw/OpenDataUitspraken-maart/'"
   ]
  },
  {
   "cell_type": "code",
   "execution_count": 3,
   "metadata": {},
   "outputs": [],
   "source": [
    "dbpath = 'sqlite:////media/sf_VBox_Shared/CaseLaw/caselaw2018.db'\n",
    "session = caselawnet.dbutils.get_session(adress=dbpath)"
   ]
  },
  {
   "cell_type": "code",
   "execution_count": null,
   "metadata": {},
   "outputs": [
    {
     "name": "stdout",
     "output_type": "stream",
     "text": [
      "Processing directory 1987\n",
      "Processing directory 1988\n",
      "Processing directory 1989\n",
      "Processing directory 1990\n",
      "Processing directory 1991\n",
      "Processing directory 1992\n",
      "Processing directory 1993\n",
      "Processing directory 1994\n",
      "Processing directory 1995\n",
      "Processing directory 1996\n",
      "Processing directory 1997\n",
      "Processing directory 1998\n",
      "Processing directory 1999\n",
      "Processing directory 2000\n",
      "ECLI_NL_RBMAA_2000_AA6975.xml [Errno 71] Protocol error\n",
      "ECLI_NL_RBMAA_2000_AA7188.xml [Errno 71] Protocol error\n",
      "ECLI_NL_RBMAA_2000_AA7323.xml [Errno 71] Protocol error\n",
      "ECLI_NL_RBMAA_2000_AH8219.xml [Errno 71] Protocol error\n",
      "ECLI_NL_RBMID_2000_AA7948.xml [Errno 71] Protocol error\n",
      "ECLI_NL_RBROE_2000_AA6789.xml [Errno 71] Protocol error\n",
      "ECLI_NL_RBROE_2000_AA7139.xml [Errno 71] Protocol error\n",
      "ECLI_NL_RBROE_2000_AA8230.xml [Errno 71] Protocol error\n",
      "ECLI_NL_RBROT_2000_AA6826.xml [Errno 71] Protocol error\n",
      "ECLI_NL_RBROT_2000_AA6858.xml [Errno 71] Protocol error\n",
      "ECLI_NL_RBROT_2000_AA6924.xml [Errno 71] Protocol error\n",
      "ECLI_NL_RBROT_2000_AA7319.xml [Errno 71] Protocol error\n",
      "ECLI_NL_RBROT_2000_AA7327.xml [Errno 71] Protocol error\n",
      "ECLI_NL_RBROT_2000_AA7886.xml [Errno 71] Protocol error\n",
      "ECLI_NL_RBROT_2000_AA8571.xml [Errno 71] Protocol error\n",
      "ECLI_NL_RBROT_2000_AA8713.xml [Errno 71] Protocol error\n",
      "ECLI_NL_RBSGR_2000_AA6959.xml [Errno 71] Protocol error\n",
      "ECLI_NL_RBSGR_2000_AA7347.xml [Errno 71] Protocol error\n",
      "ECLI_NL_RBSGR_2000_AA7585.xml [Errno 71] Protocol error\n",
      "ECLI_NL_RBSGR_2000_AA8056.xml [Errno 71] Protocol error\n",
      "ECLI_NL_RBSGR_2000_AA8058.xml [Errno 71] Protocol error\n",
      "ECLI_NL_RBSGR_2000_AA8066.xml [Errno 71] Protocol error\n",
      "ECLI_NL_RBSGR_2000_AA8260.xml [Errno 71] Protocol error\n",
      "ECLI_NL_RBSGR_2000_AA8270.xml [Errno 71] Protocol error\n",
      "ECLI_NL_RBSGR_2000_AA8372.xml [Errno 71] Protocol error\n",
      "ECLI_NL_RBSGR_2000_AA8578.xml [Errno 71] Protocol error\n",
      "ECLI_NL_RBSGR_2000_AA8842.xml [Errno 71] Protocol error\n",
      "ECLI_NL_RBSGR_2000_AA9336.xml [Errno 71] Protocol error\n",
      "ECLI_NL_RBSGR_2000_AA9493.xml [Errno 71] Protocol error\n",
      "ECLI_NL_RBSGR_2000_AF7324.xml [Errno 71] Protocol error\n",
      "ECLI_NL_RBSGR_2000_ZA6825.xml [Errno 71] Protocol error\n",
      "ECLI_NL_RBSHE_2000_AA8782.xml [Errno 71] Protocol error\n",
      "ECLI_NL_RBSHE_2000_AS7558.xml [Errno 71] Protocol error\n",
      "ECLI_NL_RBSHE_2000_BL8351.xml [Errno 71] Protocol error\n",
      "ECLI_NL_RBUTR_2000_AH8272.xml [Errno 71] Protocol error\n",
      "ECLI_NL_RBZUT_2000_AA7501.xml [Errno 71] Protocol error\n",
      "ECLI_NL_RBZWO_2000_AA6755.xml [Errno 71] Protocol error\n",
      "ECLI_NL_RVS_2000_AA6707.xml [Errno 71] Protocol error\n",
      "ECLI_NL_RVS_2000_AA6721.xml [Errno 71] Protocol error\n",
      "ECLI_NL_RVS_2000_AA6852.xml [Errno 71] Protocol error\n",
      "ECLI_NL_RVS_2000_AA6886.xml [Errno 71] Protocol error\n",
      "ECLI_NL_RVS_2000_AA6889.xml [Errno 71] Protocol error\n",
      "ECLI_NL_RVS_2000_AA6895.xml [Errno 71] Protocol error\n",
      "ECLI_NL_RVS_2000_AA6918.xml [Errno 71] Protocol error\n",
      "ECLI_NL_RVS_2000_AA6942.xml [Errno 71] Protocol error\n",
      "ECLI_NL_RVS_2000_AA7146.xml [Errno 71] Protocol error\n",
      "ECLI_NL_RVS_2000_AA7169.xml [Errno 71] Protocol error\n",
      "ECLI_NL_RVS_2000_AA7171.xml [Errno 71] Protocol error\n",
      "ECLI_NL_RVS_2000_AA7185.xml [Errno 71] Protocol error\n",
      "ECLI_NL_RVS_2000_AA7246.xml [Errno 71] Protocol error\n",
      "ECLI_NL_RVS_2000_AA7256.xml [Errno 71] Protocol error\n",
      "ECLI_NL_RVS_2000_AA7379.xml [Errno 71] Protocol error\n",
      "ECLI_NL_RVS_2000_AA7399.xml [Errno 71] Protocol error\n",
      "ECLI_NL_RVS_2000_AA9810.xml [Errno 71] Protocol error\n",
      "ECLI_NL_RVS_2000_AA9945.xml [Errno 71] Protocol error\n",
      "ECLI_NL_RVS_2000_AH6967.xml [Errno 71] Protocol error\n",
      "ECLI_NL_RVS_2000_AI5687.xml [Errno 71] Protocol error\n",
      "ECLI_NL_RVS_2000_AL2023.xml [Errno 71] Protocol error\n",
      "ECLI_NL_RVS_2000_AL2877.xml [Errno 71] Protocol error\n",
      "ECLI_NL_RVS_2000_AL2952.xml [Errno 71] Protocol error\n",
      "ECLI_NL_RVS_2000_AL3001.xml [Errno 71] Protocol error\n",
      "ECLI_NL_RVS_2000_AM2331.xml [Errno 71] Protocol error\n",
      "ECLI_NL_RVS_2000_AN6483.xml [Errno 71] Protocol error\n",
      "ECLI_NL_RVS_2000_AN6484.xml [Errno 71] Protocol error\n",
      "ECLI_NL_RVS_2000_AN6522.xml [Errno 71] Protocol error\n",
      "ECLI_NL_RVS_2000_AN6544.xml [Errno 71] Protocol error\n",
      "ECLI_NL_RVS_2000_AN6649.xml [Errno 71] Protocol error\n",
      "ECLI_NL_RVS_2000_AP5410.xml [Errno 71] Protocol error\n",
      "ECLI_NL_RVS_2000_AP5412.xml [Errno 71] Protocol error\n",
      "ECLI_NL_RVS_2000_AP5414.xml [Errno 71] Protocol error\n",
      "ECLI_NL_RVS_2000_AP5421.xml [Errno 71] Protocol error\n",
      "ECLI_NL_RVS_2000_AP5428.xml [Errno 71] Protocol error\n",
      "ECLI_NL_RVS_2000_AP5434.xml [Errno 71] Protocol error\n",
      "ECLI_NL_RVS_2000_AP5436.xml [Errno 71] Protocol error\n",
      "ECLI_NL_RVS_2000_AP5445.xml [Errno 71] Protocol error\n",
      "ECLI_NL_RVS_2000_AP5446.xml [Errno 71] Protocol error\n",
      "ECLI_NL_RVS_2000_AP5453.xml [Errno 71] Protocol error\n",
      "ECLI_NL_XX_2000_AN6489.xml [Errno 71] Protocol error\n",
      "ECLI_NL_XX_2000_AR9120.xml [Errno 71] Protocol error\n",
      "Processing directory 2001\n",
      "Processing directory 2002\n",
      "Processing directory 2003\n",
      "Processing directory 2004\n",
      "ECLI_NL_TRMTSGR_2004_AP1727.xml list index out of range\n",
      "Processing directory 2005\n"
     ]
    }
   ],
   "source": [
    "# Fill database with necessary nodes\n",
    "for dir0 in os.listdir(rootpath):\n",
    "    print(\"Processing directory\", dir0)\n",
    "    dir0 = os.path.join(rootpath, dir0)\n",
    "    if os.path.isdir(dir0):\n",
    "        for dir1 in os.listdir(dir0):\n",
    "            dir1 = os.path.join(dir0, dir1)\n",
    "            if zipfile.is_zipfile(dir1):\n",
    "                zf = zipfile.ZipFile(dir1, 'r')\n",
    "                for n in zf.namelist():\n",
    "                    ecli = n.split('.')[0].replace('_', ':')\n",
    "                    if ecli in case_ecli:\n",
    "                        caselawnet.dbutils.file_to_db(n, session, zf)"
   ]
  },
  {
   "cell_type": "code",
   "execution_count": 57,
   "metadata": {},
   "outputs": [
    {
     "name": "stdout",
     "output_type": "stream",
     "text": [
      "Retrieved ECLI:NL:PHR:1984:AC8323 from database\n"
     ]
    },
    {
     "data": {
      "text/plain": [
       "[{'abstract': '',\n",
       "  'articles': [],\n",
       "  'count_annotation': 0,\n",
       "  'count_version': 0,\n",
       "  'creator': 'http://standaarden.overheid.nl/owms/terms/Parket_bij_de_Hoge_Raad',\n",
       "  'date': '1984-02-28',\n",
       "  'ecli': 'ECLI:NL:PHR:1984:AC8323',\n",
       "  'id': 'http://deeplink.rechtspraak.nl/uitspraak?id=ECLI:NL:PHR:1984:AC8323',\n",
       "  'subject': '',\n",
       "  'title': ''}]"
      ]
     },
     "execution_count": 57,
     "metadata": {},
     "output_type": "execute_result"
    }
   ],
   "source": [
    "caselawnet.enrich_eclis(['ECLI:NL:PHR:1984:AC8323'], rootpath='/media/sf_VBox_Shared/CaseLaw/OpenDataUitspraken/', db_session=session)"
   ]
  },
  {
   "cell_type": "code",
   "execution_count": 6,
   "metadata": {},
   "outputs": [
    {
     "data": {
      "text/plain": [
       "[('1987-04-29',)]"
      ]
     },
     "execution_count": 6,
     "metadata": {},
     "output_type": "execute_result"
    }
   ],
   "source": [
    "session.execute('select max(date) from cases').fetchall()"
   ]
  },
  {
   "cell_type": "code",
   "execution_count": null,
   "metadata": {},
   "outputs": [],
   "source": []
  }
 ],
 "metadata": {
  "anaconda-cloud": {},
  "kernelspec": {
   "display_name": "Python [conda env:caselaw]",
   "language": "python",
   "name": "conda-env-caselaw-py"
  },
  "language_info": {
   "codemirror_mode": {
    "name": "ipython",
    "version": 3
   },
   "file_extension": ".py",
   "mimetype": "text/x-python",
   "name": "python",
   "nbconvert_exporter": "python",
   "pygments_lexer": "ipython3",
   "version": "3.5.2"
  }
 },
 "nbformat": 4,
 "nbformat_minor": 2
}
