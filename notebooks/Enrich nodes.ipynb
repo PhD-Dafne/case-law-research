{
 "cells": [
  {
   "cell_type": "code",
   "execution_count": 4,
   "metadata": {
    "collapsed": true
   },
   "outputs": [],
   "source": [
    "import pandas as pd\n",
    "import os"
   ]
  },
  {
   "cell_type": "code",
   "execution_count": 2,
   "metadata": {
    "collapsed": true
   },
   "outputs": [],
   "source": [
    "filepath =  '/media/sf_VBox_Shared/CaseLaw/graphs/lido/'"
   ]
  },
  {
   "cell_type": "code",
   "execution_count": 41,
   "metadata": {
    "collapsed": false
   },
   "outputs": [
    {
     "name": "stderr",
     "output_type": "stream",
     "text": [
      "/home/dafne/anaconda2/envs/caselaw/lib/python3.5/site-packages/IPython/core/interactiveshell.py:2717: DtypeWarning: Columns (0) have mixed types. Specify dtype option on import or set low_memory=False.\n",
      "  interactivity=interactivity, compiler=compiler, result=result)\n"
     ]
    }
   ],
   "source": [
    "cases = pd.read_csv(os.path.join(filepath, 'hogeraad_network_nodes.csv'))"
   ]
  },
  {
   "cell_type": "code",
   "execution_count": 42,
   "metadata": {
    "collapsed": false
   },
   "outputs": [
    {
     "data": {
      "text/html": [
       "<div>\n",
       "<style>\n",
       "    .dataframe thead tr:only-child th {\n",
       "        text-align: right;\n",
       "    }\n",
       "\n",
       "    .dataframe thead th {\n",
       "        text-align: left;\n",
       "    }\n",
       "\n",
       "    .dataframe tbody tr th {\n",
       "        vertical-align: top;\n",
       "    }\n",
       "</style>\n",
       "<table border=\"1\" class=\"dataframe\">\n",
       "  <thead>\n",
       "    <tr style=\"text-align: right;\">\n",
       "      <th></th>\n",
       "      <th>abstract</th>\n",
       "      <th>articles</th>\n",
       "      <th>authorities</th>\n",
       "      <th>betweenness_centrality</th>\n",
       "      <th>closeness_centrality</th>\n",
       "      <th>community</th>\n",
       "      <th>creator</th>\n",
       "      <th>date</th>\n",
       "      <th>degree</th>\n",
       "      <th>degree_centrality</th>\n",
       "      <th>...</th>\n",
       "      <th>in_degree_centrality</th>\n",
       "      <th>out_degree</th>\n",
       "      <th>out_degree_centrality</th>\n",
       "      <th>pagerank</th>\n",
       "      <th>rel_in_degree</th>\n",
       "      <th>subject</th>\n",
       "      <th>title</th>\n",
       "      <th>x</th>\n",
       "      <th>y</th>\n",
       "      <th>year</th>\n",
       "    </tr>\n",
       "  </thead>\n",
       "  <tbody>\n",
       "    <tr>\n",
       "      <th>0</th>\n",
       "      <td>Procesrecht. Hoger beroep tegen tussenvonnis m...</td>\n",
       "      <td>['Wetboek van Burgerlijke Rechtsvordering (gel...</td>\n",
       "      <td>0.0</td>\n",
       "      <td>0.0</td>\n",
       "      <td>0.000132</td>\n",
       "      <td>729</td>\n",
       "      <td>Hoge Raad der Nederlanden</td>\n",
       "      <td>2017-11-24</td>\n",
       "      <td>7</td>\n",
       "      <td>0.000102</td>\n",
       "      <td>...</td>\n",
       "      <td>0.0</td>\n",
       "      <td>7</td>\n",
       "      <td>0.000102</td>\n",
       "      <td>0.000013</td>\n",
       "      <td>0.0</td>\n",
       "      <td>http://psi.rechtspraak.nl/rechtsgebied#civielR...</td>\n",
       "      <td>ECLI:NL:HR:2017:3018 - Hoge Raad, 24-11-2017 /...</td>\n",
       "      <td>0.264610</td>\n",
       "      <td>0.630374</td>\n",
       "      <td>2017.0</td>\n",
       "    </tr>\n",
       "    <tr>\n",
       "      <th>1</th>\n",
       "      <td>Prejudiciële vraag (art. 392 Rv). Komt tijdens...</td>\n",
       "      <td>['Faillissementswet, Artikel 133', 'Faillissem...</td>\n",
       "      <td>0.0</td>\n",
       "      <td>0.0</td>\n",
       "      <td>0.000029</td>\n",
       "      <td>5163</td>\n",
       "      <td>Hoge Raad der Nederlanden</td>\n",
       "      <td>2017-11-24</td>\n",
       "      <td>2</td>\n",
       "      <td>0.000029</td>\n",
       "      <td>...</td>\n",
       "      <td>0.0</td>\n",
       "      <td>2</td>\n",
       "      <td>0.000029</td>\n",
       "      <td>0.000013</td>\n",
       "      <td>0.0</td>\n",
       "      <td>http://psi.rechtspraak.nl/rechtsgebied#civielR...</td>\n",
       "      <td>ECLI:NL:HR:2017:2991 - Hoge Raad, 24-11-2017 /...</td>\n",
       "      <td>0.294650</td>\n",
       "      <td>0.807496</td>\n",
       "      <td>2017.0</td>\n",
       "    </tr>\n",
       "    <tr>\n",
       "      <th>2</th>\n",
       "      <td>IPR en arbitrage. Erkenning en tenuitvoerleggi...</td>\n",
       "      <td>['Wet op de rechterlijke organisatie, Artikel ...</td>\n",
       "      <td>0.0</td>\n",
       "      <td>0.0</td>\n",
       "      <td>0.000074</td>\n",
       "      <td>304</td>\n",
       "      <td>Hoge Raad der Nederlanden</td>\n",
       "      <td>2017-11-24</td>\n",
       "      <td>3</td>\n",
       "      <td>0.000044</td>\n",
       "      <td>...</td>\n",
       "      <td>0.0</td>\n",
       "      <td>3</td>\n",
       "      <td>0.000044</td>\n",
       "      <td>0.000013</td>\n",
       "      <td>0.0</td>\n",
       "      <td>http://psi.rechtspraak.nl/rechtsgebied#civielR...</td>\n",
       "      <td>ECLI:NL:HR:2017:2992 - Hoge Raad, 24-11-2017 /...</td>\n",
       "      <td>0.532515</td>\n",
       "      <td>0.419731</td>\n",
       "      <td>2017.0</td>\n",
       "    </tr>\n",
       "    <tr>\n",
       "      <th>3</th>\n",
       "      <td>Procesrecht. Aansprakelijkheidsrecht. Getuigen...</td>\n",
       "      <td>['Wetboek van Burgerlijke Rechtsvordering, Art...</td>\n",
       "      <td>0.0</td>\n",
       "      <td>0.0</td>\n",
       "      <td>0.000033</td>\n",
       "      <td>234</td>\n",
       "      <td>Hoge Raad der Nederlanden</td>\n",
       "      <td>2017-11-24</td>\n",
       "      <td>2</td>\n",
       "      <td>0.000029</td>\n",
       "      <td>...</td>\n",
       "      <td>0.0</td>\n",
       "      <td>2</td>\n",
       "      <td>0.000029</td>\n",
       "      <td>0.000013</td>\n",
       "      <td>0.0</td>\n",
       "      <td>http://psi.rechtspraak.nl/rechtsgebied#civielR...</td>\n",
       "      <td>ECLI:NL:HR:2017:3016 - Hoge Raad, 24-11-2017 /...</td>\n",
       "      <td>0.674323</td>\n",
       "      <td>0.320451</td>\n",
       "      <td>2017.0</td>\n",
       "    </tr>\n",
       "    <tr>\n",
       "      <th>4</th>\n",
       "      <td>Art. 8:60 Awb; art. 8:33 Awb; art. 177 Rv. Ver...</td>\n",
       "      <td>['Wetboek van Burgerlijke Rechtsvordering, Art...</td>\n",
       "      <td>0.0</td>\n",
       "      <td>0.0</td>\n",
       "      <td>0.000028</td>\n",
       "      <td>140</td>\n",
       "      <td>Hoge Raad der Nederlanden</td>\n",
       "      <td>2017-11-24</td>\n",
       "      <td>1</td>\n",
       "      <td>0.000015</td>\n",
       "      <td>...</td>\n",
       "      <td>0.0</td>\n",
       "      <td>1</td>\n",
       "      <td>0.000015</td>\n",
       "      <td>0.000013</td>\n",
       "      <td>0.0</td>\n",
       "      <td>http://psi.rechtspraak.nl/rechtsgebied#bestuur...</td>\n",
       "      <td>ECLI:NL:HR:2017:2986 - Hoge Raad, 24-11-2017 /...</td>\n",
       "      <td>0.718006</td>\n",
       "      <td>0.447281</td>\n",
       "      <td>2017.0</td>\n",
       "    </tr>\n",
       "  </tbody>\n",
       "</table>\n",
       "<p>5 rows × 24 columns</p>\n",
       "</div>"
      ],
      "text/plain": [
       "                                            abstract  \\\n",
       "0  Procesrecht. Hoger beroep tegen tussenvonnis m...   \n",
       "1  Prejudiciële vraag (art. 392 Rv). Komt tijdens...   \n",
       "2  IPR en arbitrage. Erkenning en tenuitvoerleggi...   \n",
       "3  Procesrecht. Aansprakelijkheidsrecht. Getuigen...   \n",
       "4  Art. 8:60 Awb; art. 8:33 Awb; art. 177 Rv. Ver...   \n",
       "\n",
       "                                            articles  authorities  \\\n",
       "0  ['Wetboek van Burgerlijke Rechtsvordering (gel...          0.0   \n",
       "1  ['Faillissementswet, Artikel 133', 'Faillissem...          0.0   \n",
       "2  ['Wet op de rechterlijke organisatie, Artikel ...          0.0   \n",
       "3  ['Wetboek van Burgerlijke Rechtsvordering, Art...          0.0   \n",
       "4  ['Wetboek van Burgerlijke Rechtsvordering, Art...          0.0   \n",
       "\n",
       "   betweenness_centrality  closeness_centrality  community  \\\n",
       "0                     0.0              0.000132        729   \n",
       "1                     0.0              0.000029       5163   \n",
       "2                     0.0              0.000074        304   \n",
       "3                     0.0              0.000033        234   \n",
       "4                     0.0              0.000028        140   \n",
       "\n",
       "                     creator        date  degree  degree_centrality   ...    \\\n",
       "0  Hoge Raad der Nederlanden  2017-11-24       7           0.000102   ...     \n",
       "1  Hoge Raad der Nederlanden  2017-11-24       2           0.000029   ...     \n",
       "2  Hoge Raad der Nederlanden  2017-11-24       3           0.000044   ...     \n",
       "3  Hoge Raad der Nederlanden  2017-11-24       2           0.000029   ...     \n",
       "4  Hoge Raad der Nederlanden  2017-11-24       1           0.000015   ...     \n",
       "\n",
       "  in_degree_centrality  out_degree out_degree_centrality  pagerank  \\\n",
       "0                  0.0           7              0.000102  0.000013   \n",
       "1                  0.0           2              0.000029  0.000013   \n",
       "2                  0.0           3              0.000044  0.000013   \n",
       "3                  0.0           2              0.000029  0.000013   \n",
       "4                  0.0           1              0.000015  0.000013   \n",
       "\n",
       "   rel_in_degree                                            subject  \\\n",
       "0            0.0  http://psi.rechtspraak.nl/rechtsgebied#civielR...   \n",
       "1            0.0  http://psi.rechtspraak.nl/rechtsgebied#civielR...   \n",
       "2            0.0  http://psi.rechtspraak.nl/rechtsgebied#civielR...   \n",
       "3            0.0  http://psi.rechtspraak.nl/rechtsgebied#civielR...   \n",
       "4            0.0  http://psi.rechtspraak.nl/rechtsgebied#bestuur...   \n",
       "\n",
       "                                               title         x         y  \\\n",
       "0  ECLI:NL:HR:2017:3018 - Hoge Raad, 24-11-2017 /...  0.264610  0.630374   \n",
       "1  ECLI:NL:HR:2017:2991 - Hoge Raad, 24-11-2017 /...  0.294650  0.807496   \n",
       "2  ECLI:NL:HR:2017:2992 - Hoge Raad, 24-11-2017 /...  0.532515  0.419731   \n",
       "3  ECLI:NL:HR:2017:3016 - Hoge Raad, 24-11-2017 /...  0.674323  0.320451   \n",
       "4  ECLI:NL:HR:2017:2986 - Hoge Raad, 24-11-2017 /...  0.718006  0.447281   \n",
       "\n",
       "     year  \n",
       "0  2017.0  \n",
       "1  2017.0  \n",
       "2  2017.0  \n",
       "3  2017.0  \n",
       "4  2017.0  \n",
       "\n",
       "[5 rows x 24 columns]"
      ]
     },
     "execution_count": 42,
     "metadata": {},
     "output_type": "execute_result"
    }
   ],
   "source": [
    "cases.head()"
   ]
  },
  {
   "cell_type": "code",
   "execution_count": 18,
   "metadata": {
    "collapsed": true
   },
   "outputs": [],
   "source": [
    "cases['subject'] = cases['subject'].fillna('')"
   ]
  },
  {
   "cell_type": "code",
   "execution_count": 33,
   "metadata": {
    "collapsed": false
   },
   "outputs": [],
   "source": [
    "cases['subject_str'] = cases['subject'].astype('str').str.split('#').map(lambda l: l[-1])\n",
    "cases['subject_1'] = cases['subject_str'].str.split('_').map(lambda l: l[0])\n",
    "cases['subject_2'] = cases['subject_str'].str.split('_').map(lambda l: l[1] if len(l)>1 else '')"
   ]
  },
  {
   "cell_type": "code",
   "execution_count": 34,
   "metadata": {
    "collapsed": false
   },
   "outputs": [
    {
     "data": {
      "text/plain": [
       "strafrecht                              31394\n",
       "                                        12866\n",
       "bestuursrecht_belastingrecht            12683\n",
       "civielRecht                              9533\n",
       "civielRecht_personenEnFamilierecht       1024\n",
       "civielRecht_insolventierecht              544\n",
       "bestuursrecht_omgevingsrecht              153\n",
       "bestuursrecht_europeesBestuursrecht        41\n",
       "bestuursrecht_bestuursstrafrecht           38\n",
       "civielRecht_ondernemingsrecht              26\n",
       "bestuursrecht                              21\n",
       "bestuursrecht_socialezekerheidsrecht        6\n",
       "civielRecht_mededingingsrecht               2\n",
       "civielRecht_arbeidsrecht                    2\n",
       "civielRecht_verbintenissenrecht             1\n",
       "Name: subject_str, dtype: int64"
      ]
     },
     "execution_count": 34,
     "metadata": {},
     "output_type": "execute_result"
    }
   ],
   "source": [
    "cases['subject_str'].value_counts()"
   ]
  },
  {
   "cell_type": "code",
   "execution_count": 35,
   "metadata": {
    "collapsed": false
   },
   "outputs": [
    {
     "data": {
      "text/plain": [
       "strafrecht       31394\n",
       "bestuursrecht    12942\n",
       "                 12866\n",
       "civielRecht      11132\n",
       "Name: subject_1, dtype: int64"
      ]
     },
     "execution_count": 35,
     "metadata": {},
     "output_type": "execute_result"
    }
   ],
   "source": [
    "cases['subject_1'].value_counts()"
   ]
  },
  {
   "cell_type": "code",
   "execution_count": 36,
   "metadata": {
    "collapsed": false
   },
   "outputs": [
    {
     "data": {
      "text/plain": [
       "subject_1      subject_2             \n",
       "                                         12866\n",
       "bestuursrecht                               21\n",
       "               belastingrecht            12683\n",
       "               bestuursstrafrecht           38\n",
       "               europeesBestuursrecht        41\n",
       "               omgevingsrecht              153\n",
       "               socialezekerheidsrecht        6\n",
       "civielRecht                               9533\n",
       "               arbeidsrecht                  2\n",
       "               insolventierecht            544\n",
       "               mededingingsrecht             2\n",
       "               ondernemingsrecht            26\n",
       "               personenEnFamilierecht     1024\n",
       "               verbintenissenrecht           1\n",
       "strafrecht                               31394\n",
       "Name: id, dtype: int64"
      ]
     },
     "execution_count": 36,
     "metadata": {},
     "output_type": "execute_result"
    }
   ],
   "source": [
    "cases.groupby(['subject_1', 'subject_2']).count()['id']"
   ]
  },
  {
   "cell_type": "code",
   "execution_count": 40,
   "metadata": {
    "collapsed": false
   },
   "outputs": [
    {
     "data": {
      "text/plain": [
       "2017.0"
      ]
     },
     "execution_count": 40,
     "metadata": {},
     "output_type": "execute_result"
    }
   ],
   "source": [
    "cases[cases['subject']=='']['year'].max()"
   ]
  },
  {
   "cell_type": "code",
   "execution_count": null,
   "metadata": {
    "collapsed": true
   },
   "outputs": [],
   "source": []
  }
 ],
 "metadata": {
  "anaconda-cloud": {},
  "kernelspec": {
   "display_name": "Python [conda env:caselaw]",
   "language": "python",
   "name": "conda-env-caselaw-py"
  },
  "language_info": {
   "codemirror_mode": {
    "name": "ipython",
    "version": 3
   },
   "file_extension": ".py",
   "mimetype": "text/x-python",
   "name": "python",
   "nbconvert_exporter": "python",
   "pygments_lexer": "ipython3",
   "version": "3.5.2"
  }
 },
 "nbformat": 4,
 "nbformat_minor": 0
}
