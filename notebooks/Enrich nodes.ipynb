{
 "cells": [
  {
   "cell_type": "code",
   "execution_count": null,
   "metadata": {},
   "outputs": [],
   "source": [
    "import pandas as pd\n",
    "import os\n",
    "import caselawnet\n",
    "import sqlalchemy\n",
    "%matplotlib inline\n",
    "import matplotlib.pyplot as plt"
   ]
  },
  {
   "cell_type": "code",
   "execution_count": null,
   "metadata": {},
   "outputs": [],
   "source": [
    "filepath =  '/media/sf_VBox_Shared/CaseLaw/2018-01-29-lido/derived'"
   ]
  },
  {
   "cell_type": "code",
   "execution_count": null,
   "metadata": {},
   "outputs": [],
   "source": [
    "cases_links = pd.read_csv(os.path.join(filepath, 'case_to_case_lx_links.csv'))"
   ]
  },
  {
   "cell_type": "code",
   "execution_count": null,
   "metadata": {},
   "outputs": [],
   "source": [
    "cases_links.head()"
   ]
  },
  {
   "cell_type": "code",
   "execution_count": null,
   "metadata": {},
   "outputs": [],
   "source": [
    "case_lido_ids = list(set(cases_links['source']).union(set(cases_links['target'])))\n",
    "case_ecli = [s.split('/')[-1] for s in case_lido_ids]"
   ]
  },
  {
   "cell_type": "code",
   "execution_count": null,
   "metadata": {},
   "outputs": [],
   "source": [
    "cases_df = pd.DataFrame({'lido_id': case_lido_ids, 'ecli': case_ecli})\n",
    "cases_df.head()"
   ]
  },
  {
   "cell_type": "code",
   "execution_count": null,
   "metadata": {},
   "outputs": [],
   "source": [
    "meta_df = pd.DataFrame([e.split(':')[1:4] for e in case_ecli], columns=['country', 'court', 'year'])\n",
    "meta_df.head()"
   ]
  },
  {
   "cell_type": "code",
   "execution_count": null,
   "metadata": {},
   "outputs": [],
   "source": [
    "cases_df = pd.concat([cases_df, meta_df], axis=1)"
   ]
  },
  {
   "cell_type": "code",
   "execution_count": null,
   "metadata": {},
   "outputs": [],
   "source": [
    "cases_df.head()"
   ]
  },
  {
   "cell_type": "code",
   "execution_count": null,
   "metadata": {},
   "outputs": [],
   "source": [
    "cases_df.country.value_counts()"
   ]
  },
  {
   "cell_type": "code",
   "execution_count": null,
   "metadata": {},
   "outputs": [],
   "source": [
    "cases_df.court.value_counts()[:20]"
   ]
  },
  {
   "cell_type": "code",
   "execution_count": null,
   "metadata": {},
   "outputs": [],
   "source": [
    "plt.figure(figsize=(20, 10))\n",
    "cases_df.court.value_counts().plot(kind='bar')"
   ]
  },
  {
   "cell_type": "code",
   "execution_count": null,
   "metadata": {},
   "outputs": [],
   "source": [
    "cases_df.year.value_counts(sort=False).sort_index().plot()"
   ]
  },
  {
   "cell_type": "code",
   "execution_count": null,
   "metadata": {},
   "outputs": [],
   "source": [
    "cases_df.year.value_counts(sort=False).sort_index().cumsum().plot()"
   ]
  },
  {
   "cell_type": "code",
   "execution_count": null,
   "metadata": {},
   "outputs": [],
   "source": [
    "cases_df.to_csv(os.path.join(filepath, 'case_nodes_simple.csv'), index=False)"
   ]
  },
  {
   "cell_type": "markdown",
   "metadata": {},
   "source": [
    "## From database"
   ]
  },
  {
   "cell_type": "code",
   "execution_count": null,
   "metadata": {},
   "outputs": [],
   "source": [
    "import zipfile"
   ]
  },
  {
   "cell_type": "code",
   "execution_count": null,
   "metadata": {},
   "outputs": [],
   "source": [
    "rootpath = '/media/sf_VBox_Shared/CaseLaw/OpenDataUitspraken-maart/'"
   ]
  },
  {
   "cell_type": "code",
   "execution_count": null,
   "metadata": {},
   "outputs": [],
   "source": [
    "dbpath = 'sqlite:////media/sf_VBox_Shared/CaseLaw/caselaw2018.db'\n",
    "session = caselawnet.dbutils.get_session(adress=dbpath)"
   ]
  },
  {
   "cell_type": "code",
   "execution_count": null,
   "metadata": {},
   "outputs": [],
   "source": [
    "# Fill database with necessary nodes\n",
    "for dir0 in os.listdir(rootpath):\n",
    "    print(\"Processing directory\", dir0)\n",
    "    dir0 = os.path.join(rootpath, dir0)\n",
    "    if os.path.isdir(dir0):\n",
    "        for dir1 in os.listdir(dir0):\n",
    "            dir1 = os.path.join(dir0, dir1)\n",
    "            if zipfile.is_zipfile(dir1):\n",
    "                zf = zipfile.ZipFile(dir1, 'r')\n",
    "                for n in zf.namelist():\n",
    "                    ecli = n.split('.')[0].replace('_', ':')\n",
    "                    if ecli in case_ecli:\n",
    "                        caselawnet.dbutils.file_to_db(n, session, zf)"
   ]
  },
  {
   "cell_type": "code",
   "execution_count": null,
   "metadata": {},
   "outputs": [],
   "source": [
    "caselawnet.enrich_eclis(['ECLI:NL:PHR:1984:AC8323'], rootpath='/media/sf_VBox_Shared/CaseLaw/OpenDataUitspraken/', db_session=session)"
   ]
  },
  {
   "cell_type": "code",
   "execution_count": null,
   "metadata": {},
   "outputs": [],
   "source": [
    "session.execute('select max(date) from cases').fetchall()"
   ]
  },
  {
   "cell_type": "code",
   "execution_count": null,
   "metadata": {},
   "outputs": [],
   "source": []
  }
 ],
 "metadata": {
  "language_info": {
   "name": "python",
   "pygments_lexer": "ipython3"
  }
 },
 "nbformat": 4,
 "nbformat_minor": 2
}
