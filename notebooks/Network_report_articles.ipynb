{
 "cells": [
  {
   "cell_type": "code",
   "execution_count": null,
   "metadata": {},
   "outputs": [],
   "source": [
    "import os\n",
    "import caselawnet\n",
    "import pandas as pd\n",
    "import matplotlib.pyplot as plt\n",
    "%matplotlib inline\n",
    "import json\n",
    "import networkx as nx\n",
    "import community"
   ]
  },
  {
   "cell_type": "code",
   "execution_count": null,
   "metadata": {},
   "outputs": [],
   "source": [
    "filepath = '/media/sf_VBox_Shared/CaseLaw/2018-01-29-lido/derived/'\n",
    "nodes_df = pd.read_csv(os.path.join(filepath, 'article_nodes_nodup_min5.csv'), index_col='id')\n",
    "edges_df = pd.read_csv(os.path.join(filepath, 'article_to_article_min5.csv'))"
   ]
  },
  {
   "cell_type": "code",
   "execution_count": null,
   "metadata": {},
   "outputs": [],
   "source": [
    "nodes_df.head()"
   ]
  },
  {
   "cell_type": "code",
   "execution_count": null,
   "metadata": {},
   "outputs": [],
   "source": [
    "graph = nx.from_pandas_edgelist(edges_df, source='source', target='target', edge_attr='weight')\n",
    "attributes = ['title', 'authority', 'book', 'community']\n",
    "for att in attributes:\n",
    "    nx.set_node_attributes(graph, nodes_df[att].to_dict(), att)"
   ]
  },
  {
   "cell_type": "markdown",
   "metadata": {},
   "source": [
    "## Assortativity"
   ]
  },
  {
   "cell_type": "code",
   "execution_count": null,
   "metadata": {},
   "outputs": [],
   "source": [
    "for att in attributes[1:]:\n",
    "    ass = nx.attribute_assortativity_coefficient(graph, att)\n",
    "    mod = community.modularity(nodes_df[att].to_dict(), graph)\n",
    "    print(att, 'assortativity:', ass, 'modularity:', mod)"
   ]
  },
  {
   "cell_type": "markdown",
   "metadata": {},
   "source": [
    "## Degree distributions"
   ]
  },
  {
   "cell_type": "code",
   "execution_count": null,
   "metadata": {},
   "outputs": [],
   "source": [
    "degree_hist = nx.degree_histogram(graph)"
   ]
  },
  {
   "cell_type": "code",
   "execution_count": null,
   "metadata": {},
   "outputs": [],
   "source": [
    "ax = plt.subplot(311)\n",
    "ax.bar(range(len(degree_hist)), degree_hist);\n",
    "\n",
    "ax = plt.subplot(312)\n",
    "ax.bar(range(len(degree_hist)), degree_hist);\n",
    "ax.set_xscale(\"log\", nonposx='clip')\n",
    "\n",
    "\n",
    "ax = plt.subplot(313)\n",
    "ax.bar(range(len(degree_hist)), degree_hist);\n",
    "ax.set_xscale(\"log\")\n",
    "ax.set_yscale(\"log\")"
   ]
  },
  {
   "cell_type": "markdown",
   "metadata": {},
   "source": [
    "## Connected components"
   ]
  },
  {
   "cell_type": "code",
   "execution_count": null,
   "metadata": {},
   "outputs": [],
   "source": [
    "import numpy as np"
   ]
  },
  {
   "cell_type": "code",
   "execution_count": null,
   "metadata": {},
   "outputs": [],
   "source": [
    "ccs = list(nx.connected_components(graph))"
   ]
  },
  {
   "cell_type": "code",
   "execution_count": null,
   "metadata": {},
   "outputs": [],
   "source": [
    "ccs_multiple = [c for c in ccs if len(c) > 1]\n",
    "ccs_sizes = np.array([len(c) for c in ccs])\n",
    "ccs_multiple_sizes = np.array([len(c) for c in ccs_multiple])\n",
    "print(\"Number of connected components:\", len(ccs))\n",
    "print(\"Relative size of largest component:\", np.max(ccs_sizes)/np.sum(ccs_sizes))\n",
    "print(\"Number of non-singleton components:\", len(ccs_multiple_sizes))\n",
    "print(\"Relative size of largest component without singletons:\", np.max(ccs_multiple_sizes)/np.sum(ccs_multiple_sizes))"
   ]
  },
  {
   "cell_type": "code",
   "execution_count": null,
   "metadata": {},
   "outputs": [],
   "source": [
    "plt.bar(range(len(ccs)), sorted(ccs_sizes, reverse=True))\n",
    "plt.gca().set_xscale('log')\n",
    "plt.gca().set_yscale('log')"
   ]
  },
  {
   "cell_type": "code",
   "execution_count": null,
   "metadata": {},
   "outputs": [],
   "source": [
    "# Save largest cc\n",
    "gcc_ids = list(ccs[np.argmax(ccs_sizes)])\n",
    "nodes_gcc = nodes_df.loc[gcc_ids]\n",
    "edges_gcc = edges_df[edges_df['source'].isin(gcc_ids) & edges_df['target'].isin(gcc_ids)]\n",
    "print(len(nodes_gcc), len(edges_gcc))\n",
    "nodes_gcc.to_csv(os.path.join(filepath, 'article_nodes_nodup_min5_gcc.csv'))\n",
    "edges_gcc.to_csv(os.path.join(filepath, 'article_to_article_min5_gcc.csv'), index=False)"
   ]
  },
  {
   "cell_type": "markdown",
   "metadata": {},
   "source": [
    "## communities"
   ]
  },
  {
   "cell_type": "code",
   "execution_count": null,
   "metadata": {},
   "outputs": [],
   "source": [
    "community_sizes = nodes_df.groupby('community').size()\n",
    "print(\"Number of communities:\", len(community_sizes))\n",
    "print(\"Average size of community\", community_sizes.mean())"
   ]
  },
  {
   "cell_type": "code",
   "execution_count": null,
   "metadata": {},
   "outputs": [],
   "source": []
  }
 ],
 "metadata": {
  "language_info": {
   "name": "python",
   "pygments_lexer": "ipython3"
  }
 },
 "nbformat": 4,
 "nbformat_minor": 2
}
