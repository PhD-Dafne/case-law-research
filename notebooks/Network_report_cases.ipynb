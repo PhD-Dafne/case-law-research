{
 "cells": [
  {
   "cell_type": "code",
   "execution_count": null,
   "metadata": {},
   "outputs": [],
   "source": [
    "import os\n",
    "import caselawnet\n",
    "import pandas as pd\n",
    "import matplotlib.pyplot as plt\n",
    "%matplotlib inline\n",
    "import json\n",
    "import networkx as nx\n",
    "import community\n",
    "import nwtools.communities"
   ]
  },
  {
   "cell_type": "code",
   "execution_count": null,
   "metadata": {},
   "outputs": [],
   "source": [
    "filepath = '/media/sf_VBox_Shared/CaseLaw/2018-01-29-lido/derived/'\n",
    "nodes_df = pd.read_csv(os.path.join(filepath, 'case_nodes_simple_bimodal.csv'), index_col='lido_id')\n",
    "edges_df = pd.read_csv(os.path.join(filepath, 'case_to_case_lx_links.csv'))"
   ]
  },
  {
   "cell_type": "code",
   "execution_count": null,
   "metadata": {},
   "outputs": [],
   "source": [
    "partition = community.best_partition(graph.to_undirected())\n",
    "nodes_df['community'] = pd.Series(partition)"
   ]
  },
  {
   "cell_type": "code",
   "execution_count": null,
   "metadata": {},
   "outputs": [],
   "source": [
    "edges_df.head()"
   ]
  },
  {
   "cell_type": "code",
   "execution_count": null,
   "metadata": {},
   "outputs": [],
   "source": [
    "nodes_df.head()"
   ]
  },
  {
   "cell_type": "code",
   "execution_count": null,
   "metadata": {},
   "outputs": [],
   "source": [
    "graph = nx.from_pandas_edgelist(edges_df, source='source', target='target', create_using=nx.DiGraph())\n",
    "attributes = ['country', 'court', 'year', 'community', 'community_bimodal']\n",
    "for att in attributes:\n",
    "    nx.set_node_attributes(graph, nodes_df[att].to_dict(), att)"
   ]
  },
  {
   "cell_type": "markdown",
   "metadata": {},
   "source": [
    "## Assortativity"
   ]
  },
  {
   "cell_type": "code",
   "execution_count": null,
   "metadata": {},
   "outputs": [],
   "source": [
    "for att in attributes[1:]:\n",
    "    ass = 0 #nx.attribute_assortativity_coefficient(graph, att)\n",
    "    mod = community.modularity(nodes_df[att].to_dict(), graph.to_undirected())\n",
    "    print(att, 'assortativity:', ass, 'modularity:', mod)"
   ]
  },
  {
   "cell_type": "code",
   "execution_count": null,
   "metadata": {},
   "outputs": [],
   "source": [
    "nx.adjacency_matrix?"
   ]
  },
  {
   "cell_type": "markdown",
   "metadata": {},
   "source": [
    "## Degree distributions"
   ]
  },
  {
   "cell_type": "code",
   "execution_count": null,
   "metadata": {},
   "outputs": [],
   "source": [
    "degree_hist = nx.degree_histogram(graph)"
   ]
  },
  {
   "cell_type": "code",
   "execution_count": null,
   "metadata": {},
   "outputs": [],
   "source": [
    "indegrees = list(dict(graph.in_degree()).values())\n",
    "outdegrees = list(dict(graph.out_degree()).values())"
   ]
  },
  {
   "cell_type": "code",
   "execution_count": null,
   "metadata": {},
   "outputs": [],
   "source": [
    "len(degree_hist)"
   ]
  },
  {
   "cell_type": "code",
   "execution_count": null,
   "metadata": {},
   "outputs": [],
   "source": [
    "fig, axes = plt.subplots(3, 1, sharex=True, figsize=(5, 15))\n",
    "axes[0].hist(indegrees, bins=range(max(indegrees)))\n",
    "axes[0].set_xscale(\"log\")\n",
    "axes[0].set_yscale(\"log\")\n",
    "axes[0].set_title('In-degree')\n",
    "\n",
    "axes[1].hist(outdegrees,  bins=range(max(outdegrees)))\n",
    "axes[1].set_xscale(\"log\")\n",
    "axes[1].set_yscale(\"log\")\n",
    "axes[1].set_title('Out-degree')\n",
    "\n",
    "n = 500\n",
    "axes[2].bar(range(500), degree_hist[:n])\n",
    "axes[2].set_xscale(\"log\")\n",
    "axes[2].set_yscale(\"log\")\n",
    "axes[2].set_title('Degree')\n",
    "plt.show()"
   ]
  },
  {
   "cell_type": "markdown",
   "metadata": {},
   "source": [
    "## Connected components"
   ]
  },
  {
   "cell_type": "code",
   "execution_count": null,
   "metadata": {},
   "outputs": [],
   "source": [
    "import numpy as np"
   ]
  },
  {
   "cell_type": "code",
   "execution_count": null,
   "metadata": {},
   "outputs": [],
   "source": [
    "ccs = list(nx.connected_components(graph.to_undirected()))"
   ]
  },
  {
   "cell_type": "code",
   "execution_count": null,
   "metadata": {},
   "outputs": [],
   "source": [
    "ccs_multiple = [c for c in ccs if len(c) > 1]\n",
    "ccs_sizes = np.array([len(c) for c in ccs])\n",
    "ccs_multiple_sizes = np.array([len(c) for c in ccs_multiple])\n",
    "print(\"Number of connected components:\", len(ccs))\n",
    "print(\"Relative size of largest component:\", np.max(ccs_sizes)/np.sum(ccs_sizes))\n",
    "print(\"Number of non-singleton components:\", len(ccs_multiple_sizes))\n",
    "print(\"Relative size of largest component without singletons:\", np.max(ccs_multiple_sizes)/np.sum(ccs_multiple_sizes))"
   ]
  },
  {
   "cell_type": "code",
   "execution_count": null,
   "metadata": {},
   "outputs": [],
   "source": [
    "# Save largest cc\n",
    "gcc_ids = list(ccs[np.argmax(ccs_sizes)])\n",
    "#nodes_gcc = nodes_df.loc[gcc_ids]\n",
    "edges_gcc = edges_df[edges_df['source'].isin(gcc_ids) & edges_df['target'].isin(gcc_ids)]\n",
    "#print(len(nodes_gcc), len(edges_gcc))\n",
    "#nodes_gcc.to_csv(os.path.join(filepath, 'node__gcc.csv'))\n",
    "edges_gcc.to_csv(os.path.join(filepath, 'case_to_case_links_lx_gcc.csv'), index=False)"
   ]
  },
  {
   "cell_type": "code",
   "execution_count": null,
   "metadata": {},
   "outputs": [],
   "source": [
    "edges_gcc.shape"
   ]
  },
  {
   "cell_type": "markdown",
   "metadata": {},
   "source": [
    "## communities"
   ]
  },
  {
   "cell_type": "code",
   "execution_count": null,
   "metadata": {},
   "outputs": [],
   "source": [
    "community_sizes = nodes_df.groupby('community').size()\n",
    "print(\"Number of communities:\", len(community_sizes))\n",
    "print(\"Average size of community\", community_sizes.mean())"
   ]
  },
  {
   "cell_type": "code",
   "execution_count": null,
   "metadata": {},
   "outputs": [],
   "source": []
  }
 ],
 "metadata": {
  "language_info": {
   "name": "python",
   "pygments_lexer": "ipython3"
  }
 },
 "nbformat": 4,
 "nbformat_minor": 2
}
