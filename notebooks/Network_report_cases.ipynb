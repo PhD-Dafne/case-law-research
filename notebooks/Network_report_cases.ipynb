{
 "cells": [
  {
   "cell_type": "code",
   "execution_count": 21,
   "metadata": {
    "collapsed": false
   },
   "outputs": [],
   "source": [
    "import os\n",
    "import caselawnet\n",
    "import pandas as pd\n",
    "import matplotlib.pyplot as plt\n",
    "%matplotlib inline\n",
    "import json\n",
    "import networkx as nx\n",
    "import community"
   ]
  },
  {
   "cell_type": "code",
   "execution_count": 14,
   "metadata": {
    "collapsed": true
   },
   "outputs": [],
   "source": [
    "filepath = '/media/sf_VBox_Shared/CaseLaw/2018-01-29-lido/derived/'\n",
    "nodes_df = pd.read_csv(os.path.join(filepath, 'article_nodes_nodup_min5.csv'), index_col='id')\n",
    "edges_df = pd.read_csv(os.path.join(filepath, 'article_to_article_min5.csv'))"
   ]
  },
  {
   "cell_type": "code",
   "execution_count": 15,
   "metadata": {},
   "outputs": [
    {
     "data": {
      "text/html": [
       "<div>\n",
       "<style>\n",
       "    .dataframe thead tr:only-child th {\n",
       "        text-align: right;\n",
       "    }\n",
       "\n",
       "    .dataframe thead th {\n",
       "        text-align: left;\n",
       "    }\n",
       "\n",
       "    .dataframe tbody tr th {\n",
       "        vertical-align: top;\n",
       "    }\n",
       "</style>\n",
       "<table border=\"1\" class=\"dataframe\">\n",
       "  <thead>\n",
       "    <tr style=\"text-align: right;\">\n",
       "      <th></th>\n",
       "      <th>title</th>\n",
       "      <th>label</th>\n",
       "      <th>authority</th>\n",
       "      <th>community</th>\n",
       "      <th>book</th>\n",
       "    </tr>\n",
       "    <tr>\n",
       "      <th>id</th>\n",
       "      <th></th>\n",
       "      <th></th>\n",
       "      <th></th>\n",
       "      <th></th>\n",
       "      <th></th>\n",
       "    </tr>\n",
       "  </thead>\n",
       "  <tbody>\n",
       "    <tr>\n",
       "      <th>http://linkeddata.overheid.nl/terms/bwb/id/BWBR0001827/10566384/2010-07-01/2010-07-01</th>\n",
       "      <td>Wetboek van Burgerlijke Rechtsvordering (geldt...</td>\n",
       "      <td>Wetboek van Burgerlijke Rechtsvordering (geldt...</td>\n",
       "      <td>Veiligheid en Justitie</td>\n",
       "      <td>2</td>\n",
       "      <td>Wetboek van Burgerlijke Rechtsvordering (geldt...</td>\n",
       "    </tr>\n",
       "    <tr>\n",
       "      <th>http://linkeddata.overheid.nl/terms/bwb/id/BWBR0001827/10566384/2013-01-01/2013-01-01</th>\n",
       "      <td>Wetboek van Burgerlijke Rechtsvordering (geldt...</td>\n",
       "      <td>Wetboek van Burgerlijke Rechtsvordering (geldt...</td>\n",
       "      <td>Veiligheid en Justitie</td>\n",
       "      <td>2</td>\n",
       "      <td>Wetboek van Burgerlijke Rechtsvordering (geldt...</td>\n",
       "    </tr>\n",
       "    <tr>\n",
       "      <th>http://linkeddata.overheid.nl/terms/bwb/id/BWBR0001827/10566394/2010-07-01/2010-07-01</th>\n",
       "      <td>Wetboek van Burgerlijke Rechtsvordering (geldt...</td>\n",
       "      <td>Wetboek van Burgerlijke Rechtsvordering (geldt...</td>\n",
       "      <td>Veiligheid en Justitie</td>\n",
       "      <td>2</td>\n",
       "      <td>Wetboek van Burgerlijke Rechtsvordering (geldt...</td>\n",
       "    </tr>\n",
       "    <tr>\n",
       "      <th>http://linkeddata.overheid.nl/terms/bwb/id/BWBR0001827/10566404/2010-07-01/2010-07-01</th>\n",
       "      <td>Wetboek van Burgerlijke Rechtsvordering (geldt...</td>\n",
       "      <td>Wetboek van Burgerlijke Rechtsvordering (geldt...</td>\n",
       "      <td>Veiligheid en Justitie</td>\n",
       "      <td>2</td>\n",
       "      <td>Wetboek van Burgerlijke Rechtsvordering (geldt...</td>\n",
       "    </tr>\n",
       "    <tr>\n",
       "      <th>http://linkeddata.overheid.nl/terms/bwb/id/BWBR0001827/10566414/2010-07-01/2010-07-01</th>\n",
       "      <td>Wetboek van Burgerlijke Rechtsvordering (geldt...</td>\n",
       "      <td>Wetboek van Burgerlijke Rechtsvordering (geldt...</td>\n",
       "      <td>Veiligheid en Justitie</td>\n",
       "      <td>2</td>\n",
       "      <td>Wetboek van Burgerlijke Rechtsvordering (geldt...</td>\n",
       "    </tr>\n",
       "  </tbody>\n",
       "</table>\n",
       "</div>"
      ],
      "text/plain": [
       "                                                                                                title  \\\n",
       "id                                                                                                      \n",
       "http://linkeddata.overheid.nl/terms/bwb/id/BWBR...  Wetboek van Burgerlijke Rechtsvordering (geldt...   \n",
       "http://linkeddata.overheid.nl/terms/bwb/id/BWBR...  Wetboek van Burgerlijke Rechtsvordering (geldt...   \n",
       "http://linkeddata.overheid.nl/terms/bwb/id/BWBR...  Wetboek van Burgerlijke Rechtsvordering (geldt...   \n",
       "http://linkeddata.overheid.nl/terms/bwb/id/BWBR...  Wetboek van Burgerlijke Rechtsvordering (geldt...   \n",
       "http://linkeddata.overheid.nl/terms/bwb/id/BWBR...  Wetboek van Burgerlijke Rechtsvordering (geldt...   \n",
       "\n",
       "                                                                                                label  \\\n",
       "id                                                                                                      \n",
       "http://linkeddata.overheid.nl/terms/bwb/id/BWBR...  Wetboek van Burgerlijke Rechtsvordering (geldt...   \n",
       "http://linkeddata.overheid.nl/terms/bwb/id/BWBR...  Wetboek van Burgerlijke Rechtsvordering (geldt...   \n",
       "http://linkeddata.overheid.nl/terms/bwb/id/BWBR...  Wetboek van Burgerlijke Rechtsvordering (geldt...   \n",
       "http://linkeddata.overheid.nl/terms/bwb/id/BWBR...  Wetboek van Burgerlijke Rechtsvordering (geldt...   \n",
       "http://linkeddata.overheid.nl/terms/bwb/id/BWBR...  Wetboek van Burgerlijke Rechtsvordering (geldt...   \n",
       "\n",
       "                                                                 authority  \\\n",
       "id                                                                           \n",
       "http://linkeddata.overheid.nl/terms/bwb/id/BWBR...  Veiligheid en Justitie   \n",
       "http://linkeddata.overheid.nl/terms/bwb/id/BWBR...  Veiligheid en Justitie   \n",
       "http://linkeddata.overheid.nl/terms/bwb/id/BWBR...  Veiligheid en Justitie   \n",
       "http://linkeddata.overheid.nl/terms/bwb/id/BWBR...  Veiligheid en Justitie   \n",
       "http://linkeddata.overheid.nl/terms/bwb/id/BWBR...  Veiligheid en Justitie   \n",
       "\n",
       "                                                    community  \\\n",
       "id                                                              \n",
       "http://linkeddata.overheid.nl/terms/bwb/id/BWBR...          2   \n",
       "http://linkeddata.overheid.nl/terms/bwb/id/BWBR...          2   \n",
       "http://linkeddata.overheid.nl/terms/bwb/id/BWBR...          2   \n",
       "http://linkeddata.overheid.nl/terms/bwb/id/BWBR...          2   \n",
       "http://linkeddata.overheid.nl/terms/bwb/id/BWBR...          2   \n",
       "\n",
       "                                                                                                 book  \n",
       "id                                                                                                     \n",
       "http://linkeddata.overheid.nl/terms/bwb/id/BWBR...  Wetboek van Burgerlijke Rechtsvordering (geldt...  \n",
       "http://linkeddata.overheid.nl/terms/bwb/id/BWBR...  Wetboek van Burgerlijke Rechtsvordering (geldt...  \n",
       "http://linkeddata.overheid.nl/terms/bwb/id/BWBR...  Wetboek van Burgerlijke Rechtsvordering (geldt...  \n",
       "http://linkeddata.overheid.nl/terms/bwb/id/BWBR...  Wetboek van Burgerlijke Rechtsvordering (geldt...  \n",
       "http://linkeddata.overheid.nl/terms/bwb/id/BWBR...  Wetboek van Burgerlijke Rechtsvordering (geldt...  "
      ]
     },
     "execution_count": 15,
     "metadata": {},
     "output_type": "execute_result"
    }
   ],
   "source": [
    "nodes_df.head()"
   ]
  },
  {
   "cell_type": "code",
   "execution_count": 16,
   "metadata": {
    "collapsed": false
   },
   "outputs": [],
   "source": [
    "graph = nx.from_pandas_edgelist(edges_df, source='source', target='target', edge_attr='weight')\n",
    "attributes = ['title', 'authority', 'book', 'community']\n",
    "for att in attributes:\n",
    "    nx.set_node_attributes(graph, nodes_df[att].to_dict(), att)"
   ]
  },
  {
   "cell_type": "markdown",
   "metadata": {},
   "source": [
    "## Assortativity"
   ]
  },
  {
   "cell_type": "code",
   "execution_count": 24,
   "metadata": {
    "collapsed": false
   },
   "outputs": [
    {
     "name": "stdout",
     "output_type": "stream",
     "text": [
      "authority assortativity: 0.44028534616659437 modularity: 0.22271713532865095\n",
      "book assortativity: 0.35516644114956414 modularity: 0.409178002901182\n",
      "community assortativity: 0.7246170303282646 modularity: 0.5803499438513066\n"
     ]
    }
   ],
   "source": [
    "for att in attributes[1:]:\n",
    "    ass = nx.attribute_assortativity_coefficient(graph, att)\n",
    "    mod = community.modularity(nodes_df[att].to_dict(), graph)\n",
    "    print(att, 'assortativity:', ass, 'modularity:', mod)"
   ]
  },
  {
   "cell_type": "markdown",
   "metadata": {},
   "source": [
    "## Degree distributions"
   ]
  },
  {
   "cell_type": "code",
   "execution_count": 25,
   "metadata": {
    "collapsed": true
   },
   "outputs": [],
   "source": [
    "degree_hist = nx.degree_histogram(graph)"
   ]
  },
  {
   "cell_type": "code",
   "execution_count": 26,
   "metadata": {
    "collapsed": false
   },
   "outputs": [
    {
     "data": {
      "image/png": "[encoded data removed]",
      "text/plain": [
       "<matplotlib.figure.Figure at 0x7f8b7ad8b438>"
      ]
     },
     "metadata": {},
     "output_type": "display_data"
    }
   ],
   "source": [
    "ax = plt.subplot(311)\n",
    "ax.bar(range(len(degree_hist)), degree_hist);\n",
    "\n",
    "ax = plt.subplot(312)\n",
    "ax.bar(range(len(degree_hist)), degree_hist);\n",
    "ax.set_xscale(\"log\", nonposx='clip')\n",
    "\n",
    "\n",
    "ax = plt.subplot(313)\n",
    "ax.bar(range(len(degree_hist)), degree_hist);\n",
    "ax.set_xscale(\"log\")\n",
    "ax.set_yscale(\"log\")"
   ]
  },
  {
   "cell_type": "markdown",
   "metadata": {},
   "source": [
    "## Connected components"
   ]
  },
  {
   "cell_type": "code",
   "execution_count": 27,
   "metadata": {
    "collapsed": true
   },
   "outputs": [],
   "source": [
    "import numpy as np"
   ]
  },
  {
   "cell_type": "code",
   "execution_count": 30,
   "metadata": {
    "collapsed": true
   },
   "outputs": [],
   "source": [
    "ccs = list(nx.connected_components(graph))"
   ]
  },
  {
   "cell_type": "code",
   "execution_count": 31,
   "metadata": {
    "collapsed": false
   },
   "outputs": [
    {
     "name": "stdout",
     "output_type": "stream",
     "text": [
      "Number of connected components: 285\n",
      "Relative size of largest component: 0.954420579421\n",
      "Number of non-singleton components: 285\n",
      "Relative size of largest component without singletons: 0.954420579421\n"
     ]
    }
   ],
   "source": [
    "ccs_multiple = [c for c in ccs if len(c) > 1]\n",
    "ccs_sizes = np.array([len(c) for c in ccs])\n",
    "ccs_multiple_sizes = np.array([len(c) for c in ccs_multiple])\n",
    "print(\"Number of connected components:\", len(ccs))\n",
    "print(\"Relative size of largest component:\", np.max(ccs_sizes)/np.sum(ccs_sizes))\n",
    "print(\"Number of non-singleton components:\", len(ccs_multiple_sizes))\n",
    "print(\"Relative size of largest component without singletons:\", np.max(ccs_multiple_sizes)/np.sum(ccs_multiple_sizes))"
   ]
  },
  {
   "cell_type": "code",
   "execution_count": 32,
   "metadata": {
    "collapsed": false
   },
   "outputs": [
    {
     "data": {
      "image/png": "[encoded data removed]",
      "text/plain": [
       "<matplotlib.figure.Figure at 0x7f8b2e251cf8>"
      ]
     },
     "metadata": {},
     "output_type": "display_data"
    }
   ],
   "source": [
    "plt.bar(range(len(ccs)), sorted(ccs_sizes, reverse=True))\n",
    "plt.gca().set_xscale('log')\n",
    "plt.gca().set_yscale('log')"
   ]
  },
  {
   "cell_type": "code",
   "execution_count": 50,
   "metadata": {},
   "outputs": [
    {
     "name": "stdout",
     "output_type": "stream",
     "text": [
      "15286 154703\n"
     ]
    }
   ],
   "source": [
    "# Save largest cc\n",
    "gcc_ids = list(ccs[np.argmax(ccs_sizes)])\n",
    "nodes_gcc = nodes_df.loc[gcc_ids]\n",
    "edges_gcc = edges_df[edges_df['source'].isin(gcc_ids) & edges_df['target'].isin(gcc_ids)]\n",
    "print(len(nodes_gcc), len(edges_gcc))\n",
    "nodes_gcc.to_csv(os.path.join(filepath, 'article_nodes_nodup_min5_gcc.csv'))\n",
    "edges_gcc.to_csv(os.path.join(filepath, 'article_to_article_min5_gcc.csv'), index=False)"
   ]
  },
  {
   "cell_type": "markdown",
   "metadata": {},
   "source": [
    "## communities"
   ]
  },
  {
   "cell_type": "code",
   "execution_count": 37,
   "metadata": {
    "collapsed": false
   },
   "outputs": [
    {
     "name": "stdout",
     "output_type": "stream",
     "text": [
      "Number of communities: 398\n",
      "Average size of community 40.2412060302\n"
     ]
    }
   ],
   "source": [
    "community_sizes = nodes_df.groupby('community').size()\n",
    "print(\"Number of communities:\", len(community_sizes))\n",
    "print(\"Average size of community\", community_sizes.mean())"
   ]
  },
  {
   "cell_type": "code",
   "execution_count": null,
   "metadata": {
    "collapsed": true
   },
   "outputs": [],
   "source": []
  }
 ],
 "metadata": {
  "anaconda-cloud": {},
  "kernelspec": {
   "display_name": "Python [conda env:caselaw]",
   "language": "python",
   "name": "conda-env-caselaw-py"
  },
  "language_info": {
   "codemirror_mode": {
    "name": "ipython",
    "version": 3
   },
   "file_extension": ".py",
   "mimetype": "text/x-python",
   "name": "python",
   "nbconvert_exporter": "python",
   "pygments_lexer": "ipython3",
   "version": "3.5.2"
  }
 },
 "nbformat": 4,
 "nbformat_minor": 2
}
