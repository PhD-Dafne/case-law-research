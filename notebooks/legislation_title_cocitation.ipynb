{
 "cells": [
  {
   "cell_type": "code",
   "execution_count": null,
   "metadata": {},
   "outputs": [],
   "source": [
    "%matplotlib inline\n",
    "import pandas as pd\n",
    "import os\n",
    "import scipy.sparse\n",
    "import numpy as np\n",
    "import matplotlib.pyplot as plt"
   ]
  },
  {
   "cell_type": "code",
   "execution_count": null,
   "metadata": {},
   "outputs": [],
   "source": [
    "fp = '/media/sf_VBox_Shared/CaseLaw/2018-01-29-lido/derived/'"
   ]
  },
  {
   "cell_type": "code",
   "execution_count": null,
   "metadata": {},
   "outputs": [],
   "source": [
    "case_to_article_links = pd.read_csv(os.path.join(fp, 'case_to_article_title_links.csv'))"
   ]
  },
  {
   "cell_type": "code",
   "execution_count": null,
   "metadata": {},
   "outputs": [],
   "source": [
    "case_to_article_links.shape"
   ]
  },
  {
   "cell_type": "code",
   "execution_count": null,
   "metadata": {},
   "outputs": [],
   "source": [
    "case_to_article_links.head()"
   ]
  },
  {
   "cell_type": "code",
   "execution_count": null,
   "metadata": {},
   "outputs": [],
   "source": [
    "# Select only one entry for each source,target combination\n",
    "case_to_article_links_distinct = case_to_article_links.groupby(['source', 'target']).nunique()['source']"
   ]
  },
  {
   "cell_type": "code",
   "execution_count": null,
   "metadata": {},
   "outputs": [],
   "source": [
    "# Store the order of the identifiers\n",
    "case_ids = case_to_article_links_distinct.index.levels[0]\n",
    "article_ids = case_to_article_links_distinct.index.levels[1]"
   ]
  },
  {
   "cell_type": "code",
   "execution_count": null,
   "metadata": {},
   "outputs": [],
   "source": [
    "len(case_ids), len(article_ids)"
   ]
  },
  {
   "cell_type": "code",
   "execution_count": null,
   "metadata": {},
   "outputs": [],
   "source": [
    "# put edgelist in sparse matrix format\n",
    "mat_sparse = scipy.sparse.coo_matrix(\n",
    "                (case_to_article_links_distinct.values, \n",
    "                 (case_to_article_links_distinct.index.labels[0], case_to_article_links_distinct.index.labels[1])))"
   ]
  },
  {
   "cell_type": "code",
   "execution_count": null,
   "metadata": {},
   "outputs": [],
   "source": [
    "mat_sparse"
   ]
  },
  {
   "cell_type": "code",
   "execution_count": null,
   "metadata": {},
   "outputs": [],
   "source": [
    "# the cocitation matrix is simply the dot product\n",
    "mat_cocitation = mat_sparse.T.dot(mat_sparse)"
   ]
  },
  {
   "cell_type": "code",
   "execution_count": null,
   "metadata": {},
   "outputs": [],
   "source": [
    "mat_cocitation"
   ]
  },
  {
   "cell_type": "code",
   "execution_count": null,
   "metadata": {},
   "outputs": [],
   "source": [
    "# retrieve indices of non-zero entries\n",
    "x_index, y_index, data = scipy.sparse.find(mat_cocitation)"
   ]
  },
  {
   "cell_type": "code",
   "execution_count": null,
   "metadata": {},
   "outputs": [],
   "source": [
    "df_cocitation = pd.DataFrame({'source':article_ids[x_index],\n",
    "             'target': article_ids[y_index],\n",
    "             'weight': data})"
   ]
  },
  {
   "cell_type": "code",
   "execution_count": null,
   "metadata": {},
   "outputs": [],
   "source": [
    "# Drop self-loops and duplicates\n",
    "df_cocitation = df_cocitation[df_cocitation['source']<df_cocitation['target']]"
   ]
  },
  {
   "cell_type": "code",
   "execution_count": null,
   "metadata": {},
   "outputs": [],
   "source": [
    "df_cocitation.index.name = 'id'"
   ]
  },
  {
   "cell_type": "code",
   "execution_count": null,
   "metadata": {},
   "outputs": [],
   "source": [
    "df_cocitation.shape"
   ]
  },
  {
   "cell_type": "code",
   "execution_count": null,
   "metadata": {},
   "outputs": [],
   "source": [
    "# Write to database\n",
    "import sqlalchemy\n",
    "engine = sqlalchemy.create_engine('mysql+pymysql://dafne@localhost/caselaw?charset=utf8')\n",
    "df_cocitation.to_sql('links_article_to_article_title', engine)"
   ]
  },
  {
   "cell_type": "code",
   "execution_count": null,
   "metadata": {},
   "outputs": [],
   "source": [
    "df_cocitation.to_csv(os.path.join(fp, 'article_to_article_title.csv'))"
   ]
  },
  {
   "cell_type": "code",
   "execution_count": null,
   "metadata": {},
   "outputs": [],
   "source": [
    "df_cocitation.weight.max()"
   ]
  },
  {
   "cell_type": "code",
   "execution_count": null,
   "metadata": {},
   "outputs": [],
   "source": [
    "# Look at the weight distribution\n",
    "df_cocitation['weight'].hist(bins=range(50));"
   ]
  },
  {
   "cell_type": "code",
   "execution_count": null,
   "metadata": {},
   "outputs": [],
   "source": [
    "# What part of the netwerk remains if we cutoff beyond a certain weight value?\n",
    "df_cocitation['weight'].hist(bins=range(20), cumulative=True, histtype='step', normed=1);"
   ]
  },
  {
   "cell_type": "code",
   "execution_count": null,
   "metadata": {},
   "outputs": [],
   "source": [
    "# How many nodes do we have?\n",
    "len(set(df_cocitation['source'].unique()).union(set(df_cocitation['target'].unique())))"
   ]
  },
  {
   "cell_type": "code",
   "execution_count": null,
   "metadata": {},
   "outputs": [],
   "source": [
    "# How large is the network (weights and edges) for each cut-off value?\n",
    "w_max = 20\n",
    "\n",
    "n = np.zeros(w_max)\n",
    "m = np.zeros(w_max)\n",
    "\n",
    "for i in range(w_max):\n",
    "    df_sub =  df_cocitation[df_cocitation['weight']>=i+1]\n",
    "    n[i] = len(set(df_sub['source'].unique()).union(set(df_sub['target'].unique())))\n",
    "    m[i] = len(df_sub)"
   ]
  },
  {
   "cell_type": "code",
   "execution_count": null,
   "metadata": {},
   "outputs": [],
   "source": [
    "plt.plot(np.arange(1, w_max+1), n, label='# nodes')\n",
    "plt.plot(np.arange(1, w_max+1), m, label='# edges')\n",
    "plt.legend()\n",
    "plt.yscale('log')\n",
    "plt.show()"
   ]
  },
  {
   "cell_type": "code",
   "execution_count": null,
   "metadata": {},
   "outputs": [],
   "source": [
    "plt.plot(np.arange(1, w_max+1), n, label='# nodes')\n",
    "plt.plot(np.arange(1, w_max+1), m, label='# edges')\n",
    "plt.legend()\n",
    "plt.show()"
   ]
  },
  {
   "cell_type": "code",
   "execution_count": null,
   "metadata": {},
   "outputs": [],
   "source": [
    "# So if we cut off at 5:\n",
    "n[4], m[4]"
   ]
  },
  {
   "cell_type": "code",
   "execution_count": null,
   "metadata": {},
   "outputs": [],
   "source": [
    "df_min5 =  df_cocitation[df_cocitation['weight']>=5].copy()"
   ]
  },
  {
   "cell_type": "code",
   "execution_count": null,
   "metadata": {},
   "outputs": [],
   "source": [
    "df_min5.to_csv(os.path.join(fp, 'article_to_article_title_min5.csv'))"
   ]
  },
  {
   "cell_type": "code",
   "execution_count": null,
   "metadata": {},
   "outputs": [],
   "source": [
    "df_min5.sort_values('weight', ascending=False).head()"
   ]
  },
  {
   "cell_type": "markdown",
   "metadata": {},
   "source": [
    "## Create nodes"
   ]
  },
  {
   "cell_type": "code",
   "execution_count": null,
   "metadata": {},
   "outputs": [],
   "source": [
    "article_ids = set(df_min5.source.unique()).union(set(df_min5.target.unique()))\n",
    "len(article_ids)"
   ]
  },
  {
   "cell_type": "code",
   "execution_count": null,
   "metadata": {},
   "outputs": [],
   "source": [
    "nodes_min5 = pd.DataFrame({'id': list(article_ids), 'title': list(article_ids), 'label': list(article_ids)})\n",
    "nodes_min5['book'] = nodes_min5.title.str.split(',').map(lambda l: l[0])"
   ]
  },
  {
   "cell_type": "code",
   "execution_count": null,
   "metadata": {},
   "outputs": [],
   "source": [
    "nodes_min5.to_csv(os.path.join(fp, 'article_title_nodes_min5.csv'), index=False)"
   ]
  },
  {
   "cell_type": "code",
   "execution_count": null,
   "metadata": {},
   "outputs": [],
   "source": [
    "print('nodes: {}, edges:{}'.format(len(nodes_min5), len(df_min5)))"
   ]
  },
  {
   "cell_type": "markdown",
   "metadata": {},
   "source": [
    "## Network statistics"
   ]
  },
  {
   "cell_type": "code",
   "execution_count": null,
   "metadata": {},
   "outputs": [],
   "source": [
    "import networkx as nx\n",
    "import community"
   ]
  },
  {
   "cell_type": "code",
   "execution_count": null,
   "metadata": {},
   "outputs": [],
   "source": [
    "graph = nx.from_pandas_edgelist(df_min5, 'source', 'target', edge_attr=True)"
   ]
  },
  {
   "cell_type": "code",
   "execution_count": null,
   "metadata": {},
   "outputs": [],
   "source": [
    "ccs = nx.connected_components(graph)\n",
    "largest_cc = max(ccs, key=len)"
   ]
  },
  {
   "cell_type": "code",
   "execution_count": null,
   "metadata": {},
   "outputs": [],
   "source": [
    "len(largest_cc)"
   ]
  },
  {
   "cell_type": "code",
   "execution_count": null,
   "metadata": {},
   "outputs": [],
   "source": [
    "statistics = {\n",
    "    'degree': graph.degree(),\n",
    "    'degree_centrality': nx.degree_centrality(graph),\n",
    "    'betweenness_centrality': nx.betweenness_centrality(graph),\n",
    "    'closeness_centrality': nx.closeness_centrality(graph),\n",
    "}"
   ]
  },
  {
   "cell_type": "code",
   "execution_count": null,
   "metadata": {},
   "outputs": [],
   "source": [
    "partition = community.best_partition(graph)"
   ]
  },
  {
   "cell_type": "code",
   "execution_count": null,
   "metadata": {},
   "outputs": [],
   "source": [
    "len(set(partition.values()))"
   ]
  },
  {
   "cell_type": "code",
   "execution_count": null,
   "metadata": {},
   "outputs": [],
   "source": [
    "partition01 = community.best_partition(graph, resolution=0.1)\n",
    "len(set(partition01.values()))"
   ]
  },
  {
   "cell_type": "code",
   "execution_count": null,
   "metadata": {},
   "outputs": [],
   "source": [
    "modularity = community.modularity(partition, graph)\n",
    "modularity"
   ]
  },
  {
   "cell_type": "code",
   "execution_count": null,
   "metadata": {},
   "outputs": [],
   "source": [
    "nodes_min5['community'] = [str(partition[n_id]) for n_id in nodes_min5['id']]"
   ]
  },
  {
   "cell_type": "code",
   "execution_count": null,
   "metadata": {},
   "outputs": [],
   "source": [
    "nodes_min5.to_csv(os.path.join(fp, 'article_title_nodes_min5.csv'), index=False)"
   ]
  },
  {
   "cell_type": "code",
   "execution_count": null,
   "metadata": {},
   "outputs": [],
   "source": [
    "partition_dendograms = community.generate_dendrogram(graph)"
   ]
  },
  {
   "cell_type": "code",
   "execution_count": null,
   "metadata": {},
   "outputs": [],
   "source": [
    "partitions = [community.partition_at_level(partition_dendograms, i) for i in range(len(partition_dendograms))]\n",
    "partition_sizes = [len(set(p.values())) for p in partitions]\n",
    "modularities = [community.modularity(p, graph) for p in partitions]"
   ]
  },
  {
   "cell_type": "code",
   "execution_count": null,
   "metadata": {},
   "outputs": [],
   "source": [
    "x = np.arange(len(partitions))\n",
    "plt.bar(x, partition_sizes)\n",
    "plt.title('nr of communities')\n",
    "plt.show()\n",
    "plt.bar(x, modularities)\n",
    "plt.title('modularity')\n",
    "plt.show()"
   ]
  },
  {
   "cell_type": "code",
   "execution_count": null,
   "metadata": {},
   "outputs": [],
   "source": []
  }
 ],
 "metadata": {
  "language_info": {
   "name": "python",
   "pygments_lexer": "ipython3"
  }
 },
 "nbformat": 4,
 "nbformat_minor": 2
}
