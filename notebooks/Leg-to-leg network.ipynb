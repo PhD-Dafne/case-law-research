{
 "cells": [
  {
   "cell_type": "code",
   "execution_count": 4,
   "metadata": {
    "collapsed": true
   },
   "outputs": [],
   "source": [
    "import os\n",
    "import pandas as pd\n",
    "import networkx as nx\n",
    "import community"
   ]
  },
  {
   "cell_type": "code",
   "execution_count": 5,
   "metadata": {
    "collapsed": false
   },
   "outputs": [],
   "source": [
    "inputpath = '/media/sf_VBox_Shared/CaseLaw/graphs/lido/'\n",
    "leg_links = pd.read_csv(os.path.join(inputpath, '2018-01-03 leg_to_leg_titles_min10.tsv'), sep='\\t')"
   ]
  },
  {
   "cell_type": "code",
   "execution_count": 8,
   "metadata": {
    "collapsed": false
   },
   "outputs": [
    {
     "data": {
      "text/html": [
       "<div>\n",
       "<style>\n",
       "    .dataframe thead tr:only-child th {\n",
       "        text-align: right;\n",
       "    }\n",
       "\n",
       "    .dataframe thead th {\n",
       "        text-align: left;\n",
       "    }\n",
       "\n",
       "    .dataframe tbody tr th {\n",
       "        vertical-align: top;\n",
       "    }\n",
       "</style>\n",
       "<table border=\"1\" class=\"dataframe\">\n",
       "  <thead>\n",
       "    <tr style=\"text-align: right;\">\n",
       "      <th></th>\n",
       "      <th>cnt</th>\n",
       "      <th>source</th>\n",
       "      <th>target</th>\n",
       "    </tr>\n",
       "  </thead>\n",
       "  <tbody>\n",
       "    <tr>\n",
       "      <th>0</th>\n",
       "      <td>13</td>\n",
       "      <td>Algemene Ouderdomswet</td>\n",
       "      <td>Algemene wet bestuursrecht, Artikel 8:41</td>\n",
       "    </tr>\n",
       "    <tr>\n",
       "      <th>1</th>\n",
       "      <td>21</td>\n",
       "      <td>Algemene Ouderdomswet</td>\n",
       "      <td>Wet op de rechterlijke organisatie, Artikel 80a</td>\n",
       "    </tr>\n",
       "    <tr>\n",
       "      <th>2</th>\n",
       "      <td>15</td>\n",
       "      <td>Algemene Ouderdomswet</td>\n",
       "      <td>Algemene Ouderdomswet, Artikel 53</td>\n",
       "    </tr>\n",
       "    <tr>\n",
       "      <th>3</th>\n",
       "      <td>13</td>\n",
       "      <td>Algemene Ouderdomswet</td>\n",
       "      <td>Algemene nabestaandenwet</td>\n",
       "    </tr>\n",
       "    <tr>\n",
       "      <th>4</th>\n",
       "      <td>39</td>\n",
       "      <td>Algemene Ouderdomswet</td>\n",
       "      <td>Wet op de rechterlijke organisatie, Artikel 81</td>\n",
       "    </tr>\n",
       "  </tbody>\n",
       "</table>\n",
       "</div>"
      ],
      "text/plain": [
       "   cnt                 source                                           target\n",
       "0   13  Algemene Ouderdomswet         Algemene wet bestuursrecht, Artikel 8:41\n",
       "1   21  Algemene Ouderdomswet  Wet op de rechterlijke organisatie, Artikel 80a\n",
       "2   15  Algemene Ouderdomswet                Algemene Ouderdomswet, Artikel 53\n",
       "3   13  Algemene Ouderdomswet                         Algemene nabestaandenwet\n",
       "4   39  Algemene Ouderdomswet   Wet op de rechterlijke organisatie, Artikel 81"
      ]
     },
     "execution_count": 8,
     "metadata": {},
     "output_type": "execute_result"
    }
   ],
   "source": [
    "leg_links.head()"
   ]
  },
  {
   "cell_type": "code",
   "execution_count": null,
   "metadata": {
    "collapsed": true
   },
   "outputs": [],
   "source": []
  },
  {
   "cell_type": "markdown",
   "metadata": {},
   "source": [
    "## Community detection"
   ]
  },
  {
   "cell_type": "code",
   "execution_count": 18,
   "metadata": {
    "collapsed": true
   },
   "outputs": [],
   "source": [
    "graph = nx.Graph()\n",
    "graph.add_edges_from([(l[2], l[3], {'cnt': l[1]}) for l in leg_links.itertuples()])"
   ]
  },
  {
   "cell_type": "code",
   "execution_count": 57,
   "metadata": {
    "collapsed": true
   },
   "outputs": [],
   "source": [
    "# Also make a graph withouth the most common nodes\n",
    "nodes_to_remove = [\"Wet op de rechterlijke organisatie, Artikel 81\", \n",
    "                   \"Wetboek van Strafvordering\",\n",
    "                   \"Wetboek van Strafrecht\"]"
   ]
  },
  {
   "cell_type": "code",
   "execution_count": 58,
   "metadata": {
    "collapsed": false
   },
   "outputs": [],
   "source": [
    "graph2 = graph.copy()\n",
    "for n in nodes_to_remove:\n",
    "    graph2.remove_node(n)"
   ]
  },
  {
   "cell_type": "code",
   "execution_count": 44,
   "metadata": {
    "collapsed": false
   },
   "outputs": [],
   "source": [
    "commmunities_weighted = community.best_partition(graph, weight='cnt')\n",
    "commmunities_unweighted = community.best_partition(graph)\n",
    "commmunities_weighted_small = community.best_partition(graph, weight='cnt', resolution=0.5)\n",
    "commmunities_unweighted_small = community.best_partition(graph, resolution=0.5)"
   ]
  },
  {
   "cell_type": "code",
   "execution_count": 59,
   "metadata": {
    "collapsed": true
   },
   "outputs": [],
   "source": [
    "communities_weighted2 = community.best_partition(graph2, weight='cnt')"
   ]
  },
  {
   "cell_type": "code",
   "execution_count": 60,
   "metadata": {
    "collapsed": false
   },
   "outputs": [],
   "source": [
    "leg_nodes_df = pd.DataFrame()\n",
    "leg_nodes_df['louvain_weighted'] = pd.Series(commmunities_weighted)\n",
    "leg_nodes_df['louvain_unweighted'] = pd.Series(commmunities_unweighted)\n",
    "leg_nodes_df['louvain_weighted_small'] = pd.Series(commmunities_weighted_small)\n",
    "leg_nodes_df['louvain_unweighted_small'] = pd.Series(commmunities_unweighted_small)\n",
    "leg_nodes_df['louvain_weighted_2'] = pd.Series(communities_weighted2)\n",
    "leg_nodes_df = leg_nodes_df.reset_index().rename(columns={\"index\": \"name\"})"
   ]
  },
  {
   "cell_type": "code",
   "execution_count": 62,
   "metadata": {
    "collapsed": false
   },
   "outputs": [
    {
     "data": {
      "text/html": [
       "<div>\n",
       "<style>\n",
       "    .dataframe thead tr:only-child th {\n",
       "        text-align: right;\n",
       "    }\n",
       "\n",
       "    .dataframe thead th {\n",
       "        text-align: left;\n",
       "    }\n",
       "\n",
       "    .dataframe tbody tr th {\n",
       "        vertical-align: top;\n",
       "    }\n",
       "</style>\n",
       "<table border=\"1\" class=\"dataframe\">\n",
       "  <thead>\n",
       "    <tr style=\"text-align: right;\">\n",
       "      <th></th>\n",
       "      <th>name</th>\n",
       "      <th>louvain_weighted</th>\n",
       "      <th>louvain_unweighted</th>\n",
       "      <th>louvain_weighted_small</th>\n",
       "      <th>louvain_unweighted_small</th>\n",
       "      <th>louvain_weighted_2</th>\n",
       "    </tr>\n",
       "  </thead>\n",
       "  <tbody>\n",
       "    <tr>\n",
       "      <th>405</th>\n",
       "      <td>Wetboek van Strafrecht</td>\n",
       "      <td>2</td>\n",
       "      <td>6</td>\n",
       "      <td>8</td>\n",
       "      <td>9</td>\n",
       "      <td>NaN</td>\n",
       "    </tr>\n",
       "  </tbody>\n",
       "</table>\n",
       "</div>"
      ],
      "text/plain": [
       "                       name  louvain_weighted  louvain_unweighted  \\\n",
       "405  Wetboek van Strafrecht                 2                   6   \n",
       "\n",
       "     louvain_weighted_small  louvain_unweighted_small  louvain_weighted_2  \n",
       "405                       8                         9                 NaN  "
      ]
     },
     "execution_count": 62,
     "metadata": {},
     "output_type": "execute_result"
    }
   ],
   "source": [
    "leg_nodes_df[leg_nodes_df['name']==\"Wetboek van Strafrecht\"]"
   ]
  },
  {
   "cell_type": "code",
   "execution_count": 63,
   "metadata": {
    "collapsed": true
   },
   "outputs": [],
   "source": [
    "leg_nodes_df.to_csv(os.path.join(inputpath, 'leg_to_leg_louvain.tsv'), index=False, sep='\\t')\n",
    "leg_nodes_df.to_csv(os.path.join(inputpath, 'leg_to_leg_louvain.csv'), index=False)"
   ]
  },
  {
   "cell_type": "markdown",
   "metadata": {},
   "source": [
    "## meta info legislation"
   ]
  },
  {
   "cell_type": "code",
   "execution_count": 49,
   "metadata": {
    "collapsed": false
   },
   "outputs": [],
   "source": [
    "leg_nodes_df['book'] = leg_nodes_df['name'].str.split(',').map(lambda l: l[0])"
   ]
  },
  {
   "cell_type": "code",
   "execution_count": 53,
   "metadata": {
    "collapsed": false
   },
   "outputs": [
    {
     "data": {
      "text/plain": [
       "Wetboek van Strafvordering                                                                   137\n",
       "Wetboek van Strafrecht                                                                        85\n",
       "Wetboek van Burgerlijke Rechtsvordering                                                       41\n",
       "Algemene wet bestuursrecht                                                                    30\n",
       "Algemene wet inzake rijksbelastingen                                                          22\n",
       "Burgerlijk Wetboek Boek 6                                                                     21\n",
       "Faillissementswet                                                                             17\n",
       "Wet op de omzetbelasting 1968                                                                 17\n",
       "Wet bijzondere opnemingen in psychiatrische ziekenhuizen                                      15\n",
       "Burgerlijk Wetboek Boek 7                                                                     15\n",
       "Burgerlijk Wetboek Boek 1                                                                     14\n",
       "Wegenverkeerswet 1994                                                                         14\n",
       "Wet op de vennootschapsbelasting 1969                                                         13\n",
       "Burgerlijk Wetboek Boek 3                                                                     10\n",
       "Wet op de accijns                                                                              9\n",
       "Wetboek van Burgerlijke Rechtsvordering (geldt in geval van digitaal procederen)               9\n",
       "Burgerlijk Wetboek Boek 2                                                                      8\n",
       "Opiumwet                                                                                       8\n",
       "Wet inkomstenbelasting 2001                                                                    8\n",
       "Wet waardering onroerende zaken                                                                7\n",
       "Wet op de loonbelasting 1964                                                                   6\n",
       "Wet op de rechterlijke organisatie                                                             6\n",
       "Invorderingswet 1990                                                                           6\n",
       "Wet voorkeursrecht gemeenten                                                                   5\n",
       "Wet wapens en munitie                                                                          5\n",
       "Successiewet 1956                                                                              5\n",
       "Gemeentewet                                                                                    5\n",
       "Wet milieubeheer                                                                               5\n",
       "Grondwet                                                                                       5\n",
       "Wet op de belasting van personenauto's en motorrijwielen 1992                                  5\n",
       "                                                                                            ... \n",
       "Algemene wet op het binnentreden                                                               2\n",
       "Wet arbeid vreemdelingen                                                                       2\n",
       "Algemene nabestaandenwet                                                                       1\n",
       "Wet werk en bijstand                                                                           1\n",
       "Wet op de beroepen in de individuele gezondheidszorg                                           1\n",
       "Meststoffenwet                                                                                 1\n",
       "Wet op het notarisambt                                                                         1\n",
       "Zorgverzekeringswet                                                                            1\n",
       "Wet arbeidsongeschiktheidsverzekering zelfstandigen                                            1\n",
       "Mededingingswet                                                                                1\n",
       "Invoeringswet herinrichting Algemene Bijstandswet                                              1\n",
       "Wijzigingswet Wetboek van Strafvordering (bijzondere opsporingsbevoegdheden)                   1\n",
       "Wet op het financieel toezicht                                                                 1\n",
       "Invoeringswet Wet inkomstenbelasting 2001                                                      1\n",
       "Wet op de arbeidsongeschiktheidsverzekering                                                    1\n",
       "Algemene wet inkomensafhankelijke regelingen                                                   1\n",
       "Wet verevening pensioenrechten bij scheiding                                                   1\n",
       "Landinrichtingswet                                                                             1\n",
       "Auteurswet                                                                                     1\n",
       "Participatiewet                                                                                1\n",
       "Ziektewet                                                                                      1\n",
       "Wet gemeenschappelijke regelingen                                                              1\n",
       "Onteigeningswet                                                                                1\n",
       "Burgerlijk Wetboek Boek 7A                                                                     1\n",
       "Wijzigingswet Wetboek van Strafvordering (herziening van het gerechtelijk vooronderzoek)       1\n",
       "Algemene bijstandswet                                                                          1\n",
       "Wijzigingswet Boek 1 van het Burgerlijk Wetboek (limitering van alimentatie na scheiding)      1\n",
       "Werkloosheidswet                                                                               1\n",
       "Wet op de motorrijtuigenbelasting 1994                                                         1\n",
       "Wet bescherming persoonsgegevens                                                               1\n",
       "Name: book, Length: 78, dtype: int64"
      ]
     },
     "execution_count": 53,
     "metadata": {},
     "output_type": "execute_result"
    }
   ],
   "source": [
    "leg_nodes_df['book'].value_counts()"
   ]
  },
  {
   "cell_type": "code",
   "execution_count": null,
   "metadata": {
    "collapsed": true
   },
   "outputs": [],
   "source": []
  }
 ],
 "metadata": {
  "anaconda-cloud": {},
  "kernelspec": {
   "display_name": "Python [conda env:caselaw]",
   "language": "python",
   "name": "conda-env-caselaw-py"
  },
  "language_info": {
   "codemirror_mode": {
    "name": "ipython",
    "version": 3
   },
   "file_extension": ".py",
   "mimetype": "text/x-python",
   "name": "python",
   "nbconvert_exporter": "python",
   "pygments_lexer": "ipython3",
   "version": "3.5.2"
  }
 },
 "nbformat": 4,
 "nbformat_minor": 0
}
