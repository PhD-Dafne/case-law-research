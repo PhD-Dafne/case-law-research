{
 "cells": [
  {
   "cell_type": "code",
   "execution_count": 7,
   "metadata": {
    "collapsed": true
   },
   "outputs": [],
   "source": [
    "import sqlalchemy\n",
    "import pandas as pd\n",
    "import os"
   ]
  },
  {
   "cell_type": "code",
   "execution_count": 19,
   "metadata": {
    "collapsed": false
   },
   "outputs": [],
   "source": [
    "engine = sqlalchemy.create_engine('mysql+pymysql://dafne@localhost/caselaw?charset=utf8')"
   ]
  },
  {
   "cell_type": "code",
   "execution_count": 8,
   "metadata": {
    "collapsed": true
   },
   "outputs": [],
   "source": [
    "fp = '/media/sf_VBox_Shared/CaseLaw/2018-01-29-lido/derived/'"
   ]
  },
  {
   "cell_type": "code",
   "execution_count": 12,
   "metadata": {
    "collapsed": true
   },
   "outputs": [],
   "source": [
    "case_to_case_links = pd.read_csv(os.path.join(fp, 'case_to_case_links.csv'))\n",
    "\n",
    "case_to_case_links.to_sql('links_case_to_case', engine)"
   ]
  },
  {
   "cell_type": "code",
   "execution_count": 13,
   "metadata": {
    "collapsed": true
   },
   "outputs": [],
   "source": [
    "case_to_article_links = pd.read_csv(os.path.join(fp, 'case-to-article-links.csv'))\n",
    "\n",
    "case_to_article_links.to_sql('links_case_to_article', engine)"
   ]
  },
  {
   "cell_type": "code",
   "execution_count": 20,
   "metadata": {
    "collapsed": false
   },
   "outputs": [
    {
     "name": "stderr",
     "output_type": "stream",
     "text": [
      "/home/dafne/anaconda2/envs/caselaw/lib/python3.5/site-packages/pymysql/cursors.py:166: Warning: (1366, \"Incorrect string value: '\\\\xE2\\\\x88\\\\x92201...' for column 'title' at row 3752\")\n",
      "  result = self._query(query)\n",
      "/home/dafne/anaconda2/envs/caselaw/lib/python3.5/site-packages/pymysql/cursors.py:166: Warning: (1366, \"Incorrect string value: '\\\\xE2\\\\x88\\\\x92201...' for column 'label' at row 3752\")\n",
      "  result = self._query(query)\n",
      "/home/dafne/anaconda2/envs/caselaw/lib/python3.5/site-packages/pymysql/cursors.py:166: Warning: (1366, \"Incorrect string value: '\\\\xE2\\\\x88\\\\x92201...' for column 'title' at row 3753\")\n",
      "  result = self._query(query)\n",
      "/home/dafne/anaconda2/envs/caselaw/lib/python3.5/site-packages/pymysql/cursors.py:166: Warning: (1366, \"Incorrect string value: '\\\\xE2\\\\x88\\\\x92201...' for column 'label' at row 3753\")\n",
      "  result = self._query(query)\n",
      "/home/dafne/anaconda2/envs/caselaw/lib/python3.5/site-packages/pymysql/cursors.py:166: Warning: (1366, \"Incorrect string value: '\\\\xE2\\\\x88\\\\x92201...' for column 'title' at row 3754\")\n",
      "  result = self._query(query)\n",
      "/home/dafne/anaconda2/envs/caselaw/lib/python3.5/site-packages/pymysql/cursors.py:166: Warning: (1366, \"Incorrect string value: '\\\\xE2\\\\x88\\\\x92201...' for column 'label' at row 3754\")\n",
      "  result = self._query(query)\n",
      "/home/dafne/anaconda2/envs/caselaw/lib/python3.5/site-packages/pymysql/cursors.py:166: Warning: (1366, \"Incorrect string value: '\\\\xE2\\\\x88\\\\x92198...' for column 'title' at row 3808\")\n",
      "  result = self._query(query)\n",
      "/home/dafne/anaconda2/envs/caselaw/lib/python3.5/site-packages/pymysql/cursors.py:166: Warning: (1366, \"Incorrect string value: '\\\\xE2\\\\x88\\\\x92198...' for column 'label' at row 3808\")\n",
      "  result = self._query(query)\n",
      "/home/dafne/anaconda2/envs/caselaw/lib/python3.5/site-packages/pymysql/cursors.py:166: Warning: (1366, \"Incorrect string value: '\\\\xE2\\\\x88\\\\x92198...' for column 'title' at row 3809\")\n",
      "  result = self._query(query)\n",
      "/home/dafne/anaconda2/envs/caselaw/lib/python3.5/site-packages/pymysql/cursors.py:166: Warning: (1366, \"Incorrect string value: '\\\\xE2\\\\x88\\\\x92198...' for column 'label' at row 3809\")\n",
      "  result = self._query(query)\n",
      "/home/dafne/anaconda2/envs/caselaw/lib/python3.5/site-packages/pymysql/cursors.py:166: Warning: (1366, \"Incorrect string value: '\\\\xE2\\\\x88\\\\x92198...' for column 'title' at row 3810\")\n",
      "  result = self._query(query)\n",
      "/home/dafne/anaconda2/envs/caselaw/lib/python3.5/site-packages/pymysql/cursors.py:166: Warning: (1366, \"Incorrect string value: '\\\\xE2\\\\x88\\\\x92198...' for column 'label' at row 3810\")\n",
      "  result = self._query(query)\n",
      "/home/dafne/anaconda2/envs/caselaw/lib/python3.5/site-packages/pymysql/cursors.py:166: Warning: (1366, \"Incorrect string value: '\\\\xE2\\\\x88\\\\x92198...' for column 'title' at row 3811\")\n",
      "  result = self._query(query)\n",
      "/home/dafne/anaconda2/envs/caselaw/lib/python3.5/site-packages/pymysql/cursors.py:166: Warning: (1366, \"Incorrect string value: '\\\\xE2\\\\x88\\\\x92198...' for column 'label' at row 3811\")\n",
      "  result = self._query(query)\n",
      "/home/dafne/anaconda2/envs/caselaw/lib/python3.5/site-packages/pymysql/cursors.py:166: Warning: (1366, \"Incorrect string value: '\\\\xE2\\\\x88\\\\x92198...' for column 'title' at row 3812\")\n",
      "  result = self._query(query)\n",
      "/home/dafne/anaconda2/envs/caselaw/lib/python3.5/site-packages/pymysql/cursors.py:166: Warning: (1366, \"Incorrect string value: '\\\\xE2\\\\x88\\\\x92198...' for column 'label' at row 3812\")\n",
      "  result = self._query(query)\n",
      "/home/dafne/anaconda2/envs/caselaw/lib/python3.5/site-packages/pymysql/cursors.py:166: Warning: (1366, \"Incorrect string value: '\\\\xE2\\\\x88\\\\x92197...' for column 'title' at row 2458\")\n",
      "  result = self._query(query)\n",
      "/home/dafne/anaconda2/envs/caselaw/lib/python3.5/site-packages/pymysql/cursors.py:166: Warning: (1366, \"Incorrect string value: '\\\\xE2\\\\x88\\\\x92197...' for column 'label' at row 2458\")\n",
      "  result = self._query(query)\n",
      "/home/dafne/anaconda2/envs/caselaw/lib/python3.5/site-packages/pymysql/cursors.py:166: Warning: (1366, \"Incorrect string value: '\\\\xE2\\\\x88\\\\x92197...' for column 'title' at row 2459\")\n",
      "  result = self._query(query)\n",
      "/home/dafne/anaconda2/envs/caselaw/lib/python3.5/site-packages/pymysql/cursors.py:166: Warning: (1366, \"Incorrect string value: '\\\\xE2\\\\x88\\\\x92197...' for column 'label' at row 2459\")\n",
      "  result = self._query(query)\n",
      "/home/dafne/anaconda2/envs/caselaw/lib/python3.5/site-packages/pymysql/cursors.py:166: Warning: (1366, \"Incorrect string value: '\\\\xE2\\\\x88\\\\x92201...' for column 'title' at row 526\")\n",
      "  result = self._query(query)\n",
      "/home/dafne/anaconda2/envs/caselaw/lib/python3.5/site-packages/pymysql/cursors.py:166: Warning: (1366, \"Incorrect string value: '\\\\xE2\\\\x88\\\\x92201...' for column 'label' at row 526\")\n",
      "  result = self._query(query)\n",
      "/home/dafne/anaconda2/envs/caselaw/lib/python3.5/site-packages/pymysql/cursors.py:166: Warning: (1366, \"Incorrect string value: '\\\\xE2\\\\x88\\\\x92201...' for column 'title' at row 527\")\n",
      "  result = self._query(query)\n",
      "/home/dafne/anaconda2/envs/caselaw/lib/python3.5/site-packages/pymysql/cursors.py:166: Warning: (1366, \"Incorrect string value: '\\\\xE2\\\\x88\\\\x92201...' for column 'label' at row 527\")\n",
      "  result = self._query(query)\n",
      "/home/dafne/anaconda2/envs/caselaw/lib/python3.5/site-packages/pymysql/cursors.py:166: Warning: (1366, \"Incorrect string value: '\\\\xE2\\\\x88\\\\x92201...' for column 'title' at row 528\")\n",
      "  result = self._query(query)\n",
      "/home/dafne/anaconda2/envs/caselaw/lib/python3.5/site-packages/pymysql/cursors.py:166: Warning: (1366, \"Incorrect string value: '\\\\xE2\\\\x88\\\\x92201...' for column 'label' at row 528\")\n",
      "  result = self._query(query)\n",
      "/home/dafne/anaconda2/envs/caselaw/lib/python3.5/site-packages/pymysql/cursors.py:166: Warning: (1366, \"Incorrect string value: '\\\\xE2\\\\x88\\\\x92201...' for column 'title' at row 529\")\n",
      "  result = self._query(query)\n",
      "/home/dafne/anaconda2/envs/caselaw/lib/python3.5/site-packages/pymysql/cursors.py:166: Warning: (1366, \"Incorrect string value: '\\\\xE2\\\\x88\\\\x92201...' for column 'label' at row 529\")\n",
      "  result = self._query(query)\n",
      "/home/dafne/anaconda2/envs/caselaw/lib/python3.5/site-packages/pymysql/cursors.py:166: Warning: (1366, \"Incorrect string value: '\\\\xE2\\\\x88\\\\x92201...' for column 'title' at row 961\")\n",
      "  result = self._query(query)\n",
      "/home/dafne/anaconda2/envs/caselaw/lib/python3.5/site-packages/pymysql/cursors.py:166: Warning: (1366, \"Incorrect string value: '\\\\xE2\\\\x88\\\\x92201...' for column 'label' at row 961\")\n",
      "  result = self._query(query)\n",
      "/home/dafne/anaconda2/envs/caselaw/lib/python3.5/site-packages/pymysql/cursors.py:166: Warning: (1366, \"Incorrect string value: '\\\\xE2\\\\x88\\\\x92201...' for column 'title' at row 962\")\n",
      "  result = self._query(query)\n",
      "/home/dafne/anaconda2/envs/caselaw/lib/python3.5/site-packages/pymysql/cursors.py:166: Warning: (1366, \"Incorrect string value: '\\\\xE2\\\\x88\\\\x92201...' for column 'label' at row 962\")\n",
      "  result = self._query(query)\n",
      "/home/dafne/anaconda2/envs/caselaw/lib/python3.5/site-packages/pymysql/cursors.py:166: Warning: (1366, \"Incorrect string value: '\\\\xE2\\\\x88\\\\x92201...' for column 'title' at row 963\")\n",
      "  result = self._query(query)\n",
      "/home/dafne/anaconda2/envs/caselaw/lib/python3.5/site-packages/pymysql/cursors.py:166: Warning: (1366, \"Incorrect string value: '\\\\xE2\\\\x88\\\\x92201...' for column 'label' at row 963\")\n",
      "  result = self._query(query)\n",
      "/home/dafne/anaconda2/envs/caselaw/lib/python3.5/site-packages/pymysql/cursors.py:166: Warning: (1366, \"Incorrect string value: '\\\\xE2\\\\x88\\\\x92201...' for column 'title' at row 964\")\n",
      "  result = self._query(query)\n",
      "/home/dafne/anaconda2/envs/caselaw/lib/python3.5/site-packages/pymysql/cursors.py:166: Warning: (1366, \"Incorrect string value: '\\\\xE2\\\\x88\\\\x92201...' for column 'label' at row 964\")\n",
      "  result = self._query(query)\n",
      "/home/dafne/anaconda2/envs/caselaw/lib/python3.5/site-packages/pymysql/cursors.py:166: Warning: (1366, \"Incorrect string value: '\\\\xE2\\\\x88\\\\x92201...' for column 'title' at row 965\")\n",
      "  result = self._query(query)\n",
      "/home/dafne/anaconda2/envs/caselaw/lib/python3.5/site-packages/pymysql/cursors.py:166: Warning: (1366, \"Incorrect string value: '\\\\xE2\\\\x88\\\\x92201...' for column 'label' at row 965\")\n",
      "  result = self._query(query)\n",
      "/home/dafne/anaconda2/envs/caselaw/lib/python3.5/site-packages/pymysql/cursors.py:166: Warning: (1366, \"Incorrect string value: '\\\\xE2\\\\x88\\\\x92201...' for column 'title' at row 966\")\n",
      "  result = self._query(query)\n",
      "/home/dafne/anaconda2/envs/caselaw/lib/python3.5/site-packages/pymysql/cursors.py:166: Warning: (1366, \"Incorrect string value: '\\\\xE2\\\\x88\\\\x92201...' for column 'label' at row 966\")\n",
      "  result = self._query(query)\n",
      "/home/dafne/anaconda2/envs/caselaw/lib/python3.5/site-packages/pymysql/cursors.py:166: Warning: (1366, \"Incorrect string value: '\\\\xE2\\\\x88\\\\x92201...' for column 'title' at row 967\")\n",
      "  result = self._query(query)\n",
      "/home/dafne/anaconda2/envs/caselaw/lib/python3.5/site-packages/pymysql/cursors.py:166: Warning: (1366, \"Incorrect string value: '\\\\xE2\\\\x88\\\\x92201...' for column 'label' at row 967\")\n",
      "  result = self._query(query)\n",
      "/home/dafne/anaconda2/envs/caselaw/lib/python3.5/site-packages/pymysql/cursors.py:166: Warning: (1366, \"Incorrect string value: '\\\\xE2\\\\x88\\\\x92201...' for column 'title' at row 968\")\n",
      "  result = self._query(query)\n",
      "/home/dafne/anaconda2/envs/caselaw/lib/python3.5/site-packages/pymysql/cursors.py:166: Warning: (1366, \"Incorrect string value: '\\\\xE2\\\\x88\\\\x92201...' for column 'label' at row 968\")\n",
      "  result = self._query(query)\n",
      "/home/dafne/anaconda2/envs/caselaw/lib/python3.5/site-packages/pymysql/cursors.py:166: Warning: (1366, \"Incorrect string value: '\\\\xE2\\\\x88\\\\x92201...' for column 'title' at row 969\")\n",
      "  result = self._query(query)\n",
      "/home/dafne/anaconda2/envs/caselaw/lib/python3.5/site-packages/pymysql/cursors.py:166: Warning: (1366, \"Incorrect string value: '\\\\xE2\\\\x88\\\\x92201...' for column 'label' at row 969\")\n",
      "  result = self._query(query)\n",
      "/home/dafne/anaconda2/envs/caselaw/lib/python3.5/site-packages/pymysql/cursors.py:166: Warning: (1366, \"Incorrect string value: '\\\\xE2\\\\x88\\\\x92201...' for column 'title' at row 970\")\n",
      "  result = self._query(query)\n",
      "/home/dafne/anaconda2/envs/caselaw/lib/python3.5/site-packages/pymysql/cursors.py:166: Warning: (1366, \"Incorrect string value: '\\\\xE2\\\\x88\\\\x92201...' for column 'label' at row 970\")\n",
      "  result = self._query(query)\n",
      "/home/dafne/anaconda2/envs/caselaw/lib/python3.5/site-packages/pymysql/cursors.py:166: Warning: (1366, \"Incorrect string value: '\\\\xE2\\\\x88\\\\x92201...' for column 'title' at row 971\")\n",
      "  result = self._query(query)\n",
      "/home/dafne/anaconda2/envs/caselaw/lib/python3.5/site-packages/pymysql/cursors.py:166: Warning: (1366, \"Incorrect string value: '\\\\xE2\\\\x88\\\\x92201...' for column 'label' at row 971\")\n",
      "  result = self._query(query)\n",
      "/home/dafne/anaconda2/envs/caselaw/lib/python3.5/site-packages/pymysql/cursors.py:166: Warning: (1366, \"Incorrect string value: '\\\\xE2\\\\x88\\\\x92201...' for column 'title' at row 972\")\n",
      "  result = self._query(query)\n",
      "/home/dafne/anaconda2/envs/caselaw/lib/python3.5/site-packages/pymysql/cursors.py:166: Warning: (1366, \"Incorrect string value: '\\\\xE2\\\\x88\\\\x92201...' for column 'label' at row 972\")\n",
      "  result = self._query(query)\n",
      "/home/dafne/anaconda2/envs/caselaw/lib/python3.5/site-packages/pymysql/cursors.py:166: Warning: (1366, \"Incorrect string value: '\\\\xE2\\\\x88\\\\x92201...' for column 'title' at row 973\")\n",
      "  result = self._query(query)\n",
      "/home/dafne/anaconda2/envs/caselaw/lib/python3.5/site-packages/pymysql/cursors.py:166: Warning: (1366, \"Incorrect string value: '\\\\xE2\\\\x88\\\\x92201...' for column 'label' at row 973\")\n",
      "  result = self._query(query)\n",
      "/home/dafne/anaconda2/envs/caselaw/lib/python3.5/site-packages/pymysql/cursors.py:166: Warning: (1366, \"Incorrect string value: '\\\\xE2\\\\x88\\\\x92201...' for column 'title' at row 974\")\n",
      "  result = self._query(query)\n",
      "/home/dafne/anaconda2/envs/caselaw/lib/python3.5/site-packages/pymysql/cursors.py:166: Warning: (1366, \"Incorrect string value: '\\\\xE2\\\\x88\\\\x92201...' for column 'label' at row 974\")\n",
      "  result = self._query(query)\n",
      "/home/dafne/anaconda2/envs/caselaw/lib/python3.5/site-packages/pymysql/cursors.py:166: Warning: (1366, \"Incorrect string value: '\\\\xE2\\\\x88\\\\x92201...' for column 'title' at row 975\")\n",
      "  result = self._query(query)\n",
      "/home/dafne/anaconda2/envs/caselaw/lib/python3.5/site-packages/pymysql/cursors.py:166: Warning: (1366, \"Incorrect string value: '\\\\xE2\\\\x88\\\\x92201...' for column 'label' at row 975\")\n",
      "  result = self._query(query)\n",
      "/home/dafne/anaconda2/envs/caselaw/lib/python3.5/site-packages/pymysql/cursors.py:166: Warning: (1366, \"Incorrect string value: '\\\\xE2\\\\x88\\\\x92201...' for column 'title' at row 976\")\n",
      "  result = self._query(query)\n",
      "/home/dafne/anaconda2/envs/caselaw/lib/python3.5/site-packages/pymysql/cursors.py:166: Warning: (1366, \"Incorrect string value: '\\\\xE2\\\\x88\\\\x92201...' for column 'label' at row 976\")\n",
      "  result = self._query(query)\n",
      "/home/dafne/anaconda2/envs/caselaw/lib/python3.5/site-packages/pymysql/cursors.py:166: Warning: (1366, \"Incorrect string value: '\\\\xE2\\\\x88\\\\x92198...' for column 'title' at row 1885\")\n",
      "  result = self._query(query)\n",
      "/home/dafne/anaconda2/envs/caselaw/lib/python3.5/site-packages/pymysql/cursors.py:166: Warning: (1366, \"Incorrect string value: '\\\\xE2\\\\x88\\\\x92198...' for column 'label' at row 1885\")\n",
      "  result = self._query(query)\n",
      "/home/dafne/anaconda2/envs/caselaw/lib/python3.5/site-packages/pymysql/cursors.py:166: Warning: (1366, \"Incorrect string value: '\\\\xE2\\\\x88\\\\x92198...' for column 'title' at row 1886\")\n",
      "  result = self._query(query)\n",
      "/home/dafne/anaconda2/envs/caselaw/lib/python3.5/site-packages/pymysql/cursors.py:166: Warning: (1366, \"Incorrect string value: '\\\\xE2\\\\x88\\\\x92198...' for column 'label' at row 1886\")\n",
      "  result = self._query(query)\n",
      "/home/dafne/anaconda2/envs/caselaw/lib/python3.5/site-packages/pymysql/cursors.py:166: Warning: (1366, \"Incorrect string value: '\\\\xE2\\\\x88\\\\x92198...' for column 'title' at row 1887\")\n",
      "  result = self._query(query)\n",
      "/home/dafne/anaconda2/envs/caselaw/lib/python3.5/site-packages/pymysql/cursors.py:166: Warning: (1366, \"Incorrect string value: '\\\\xE2\\\\x88\\\\x92198...' for column 'label' at row 1887\")\n",
      "  result = self._query(query)\n",
      "/home/dafne/anaconda2/envs/caselaw/lib/python3.5/site-packages/pymysql/cursors.py:166: Warning: (1366, \"Incorrect string value: '\\\\xE2\\\\x88\\\\x92198...' for column 'title' at row 1888\")\n",
      "  result = self._query(query)\n",
      "/home/dafne/anaconda2/envs/caselaw/lib/python3.5/site-packages/pymysql/cursors.py:166: Warning: (1366, \"Incorrect string value: '\\\\xE2\\\\x88\\\\x92198...' for column 'label' at row 1888\")\n",
      "  result = self._query(query)\n",
      "/home/dafne/anaconda2/envs/caselaw/lib/python3.5/site-packages/pymysql/cursors.py:166: Warning: (1366, \"Incorrect string value: '\\\\xC5\\\\x82 2' for column 'title' at row 2221\")\n",
      "  result = self._query(query)\n",
      "/home/dafne/anaconda2/envs/caselaw/lib/python3.5/site-packages/pymysql/cursors.py:166: Warning: (1366, \"Incorrect string value: '\\\\xC5\\\\x82 2' for column 'label' at row 2221\")\n",
      "  result = self._query(query)\n",
      "/home/dafne/anaconda2/envs/caselaw/lib/python3.5/site-packages/pymysql/cursors.py:166: Warning: (1366, \"Incorrect string value: '\\\\xE2\\\\x80\\\\x82Sco...' for column 'title' at row 866\")\n",
      "  result = self._query(query)\n",
      "/home/dafne/anaconda2/envs/caselaw/lib/python3.5/site-packages/pymysql/cursors.py:166: Warning: (1366, \"Incorrect string value: '\\\\xE2\\\\x80\\\\x82Sco...' for column 'label' at row 866\")\n",
      "  result = self._query(query)\n"
     ]
    }
   ],
   "source": [
    "article_nodes = pd.read_csv(os.path.join(fp, 'article_nodes_nodup.csv'), encoding='utf-8')\n",
    "\n",
    "article_nodes.to_sql('nodes_articles_lido', engine, if_exists='replace')"
   ]
  },
  {
   "cell_type": "code",
   "execution_count": 18,
   "metadata": {
    "collapsed": true
   },
   "outputs": [],
   "source": []
  },
  {
   "cell_type": "code",
   "execution_count": 23,
   "metadata": {
    "collapsed": false
   },
   "outputs": [
    {
     "data": {
      "text/plain": [
       "88"
      ]
     },
     "execution_count": 23,
     "metadata": {},
     "output_type": "execute_result"
    }
   ],
   "source": [
    "max(article_nodes['article_id'].str.len())"
   ]
  },
  {
   "cell_type": "code",
   "execution_count": null,
   "metadata": {
    "collapsed": true
   },
   "outputs": [],
   "source": []
  }
 ],
 "metadata": {
  "kernelspec": {
   "display_name": "Python [conda env:caselaw]",
   "language": "python",
   "name": "conda-env-caselaw-py"
  },
  "language_info": {
   "codemirror_mode": {
    "name": "ipython",
    "version": 3
   },
   "file_extension": ".py",
   "mimetype": "text/x-python",
   "name": "python",
   "nbconvert_exporter": "python",
   "pygments_lexer": "ipython3",
   "version": "3.5.2"
  }
 },
 "nbformat": 4,
 "nbformat_minor": 0
}
