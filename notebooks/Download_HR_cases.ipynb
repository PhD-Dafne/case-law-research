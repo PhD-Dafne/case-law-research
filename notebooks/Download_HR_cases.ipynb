{
 "cells": [
  {
   "cell_type": "code",
   "execution_count": 1,
   "metadata": {
    "collapsed": true
   },
   "outputs": [],
   "source": [
    "%load_ext autoreload\n",
    "%autoreload 2\n",
    "\n",
    "import os\n",
    "import sys\n",
    "\n",
    "sys.path.insert(0, os.path.abspath('../CaseLawAnalytics/'))\n",
    "sys.path.insert(0, os.path.abspath('..'))"
   ]
  },
  {
   "cell_type": "code",
   "execution_count": 2,
   "metadata": {
    "collapsed": false
   },
   "outputs": [],
   "source": [
    "import zipfile\n",
    "from lxml import etree\n",
    "from caselawres import dbutils"
   ]
  },
  {
   "cell_type": "code",
   "execution_count": 3,
   "metadata": {
    "collapsed": false
   },
   "outputs": [],
   "source": [
    "conn = dbutils.get_connection()  "
   ]
  },
  {
   "cell_type": "code",
   "execution_count": 71,
   "metadata": {
    "collapsed": false
   },
   "outputs": [
    {
     "data": {
      "text/plain": [
       "<sqlite3.Cursor at 0x7fa222d4f0a0>"
      ]
     },
     "execution_count": 71,
     "metadata": {},
     "output_type": "execute_result"
    }
   ],
   "source": [
    "conn.execute(''' DROP TABLE IF EXISTS uitspraken_meta''')\n",
    "conn.execute(''' CREATE TABLE uitspraken_meta\n",
    "            (id text PRIMARY KEY, \n",
    "            title text,\n",
    "            summary text,\n",
    "            updated text\n",
    "            )\n",
    "        ''')"
   ]
  },
  {
   "cell_type": "markdown",
   "metadata": {},
   "source": [
    "## Retrieve all HR meta data"
   ]
  },
  {
   "cell_type": "code",
   "execution_count": 61,
   "metadata": {
    "collapsed": true
   },
   "outputs": [],
   "source": [
    "def get_entries_from_link(baselink, fr=0, \\\n",
    "                          maximum=1000):\n",
    "    link = baselink+'&max='+str(maximum)+'&from='+str(fr)\n",
    "    xml_element = etree.ElementTree().parse(link)\n",
    "    entries = list(xml_element.iter('{*}entry'))\n",
    "    return entries"
   ]
  },
  {
   "cell_type": "code",
   "execution_count": 62,
   "metadata": {
    "collapsed": false
   },
   "outputs": [],
   "source": [
    "\n",
    "def get_first_content(el, tag):\n",
    "    return list(el.iter('{*}'+tag))[0].text\n",
    "\n",
    "def insert_into_uitspraken_meta(entry, curs, table='uitspraken_meta'):\n",
    "    id0 = get_first_content(entry, 'id')\n",
    "    title = get_first_content(entry, 'title')\n",
    "    summary = get_first_content(entry, 'summary')\n",
    "    updated = get_first_content(entry, 'updated')\n",
    "    \n",
    "    query = ''' INSERT OR REPLACE INTO uitspraken_meta\n",
    "        VALUES (?, ?, ?, ?)\n",
    "    '''\n",
    "    curs.execute(query, (id0, title, summary, updated))"
   ]
  },
  {
   "cell_type": "code",
   "execution_count": 72,
   "metadata": {
    "collapsed": false
   },
   "outputs": [
    {
     "data": {
      "text/plain": [
       "'http://data.rechtspraak.nl/uitspraken/zoeken?creator=http://standaarden.overheid.nl/owms/terms/Hoge_Raad_der_Nederlanden&type=Uitspraak'"
      ]
     },
     "execution_count": 72,
     "metadata": {},
     "output_type": "execute_result"
    }
   ],
   "source": [
    "baselink = 'http://data.rechtspraak.nl/uitspraken/zoeken?' + \\\n",
    "            'creator=http://standaarden.overheid.nl/owms/terms/Hoge_Raad_der_Nederlanden' + \\\n",
    "            '&type=Uitspraak' \n",
    "baselink"
   ]
  },
  {
   "cell_type": "code",
   "execution_count": 73,
   "metadata": {
    "collapsed": false
   },
   "outputs": [
    {
     "name": "stdout",
     "output_type": "stream",
     "text": [
      "0 1000\n",
      "1000 1000\n",
      "2000 1000\n",
      "3000 1000\n",
      "4000 1000\n",
      "5000 1000\n",
      "6000 1000\n",
      "7000 1000\n",
      "8000 1000\n",
      "9000 1000\n",
      "10000 1000\n",
      "11000 1000\n",
      "12000 1000\n",
      "13000 1000\n",
      "14000 1000\n",
      "15000 1000\n",
      "16000 1000\n",
      "17000 1000\n",
      "18000 1000\n",
      "19000 1000\n",
      "20000 1000\n",
      "21000 1000\n",
      "22000 1000\n",
      "23000 1000\n",
      "24000 1000\n",
      "25000 1000\n",
      "26000 1000\n",
      "27000 1000\n",
      "28000 1000\n",
      "29000 1000\n",
      "30000 1000\n",
      "31000 1000\n",
      "32000 1000\n",
      "33000 1000\n",
      "34000 1000\n",
      "35000 1000\n",
      "36000 1000\n",
      "37000 1000\n",
      "38000 1000\n",
      "39000 1000\n",
      "40000 1000\n",
      "41000 1000\n",
      "42000 1000\n",
      "43000 1000\n",
      "44000 1000\n",
      "45000 1000\n",
      "46000 1000\n",
      "47000 1000\n",
      "48000 1000\n",
      "49000 1000\n",
      "50000 1000\n",
      "51000 1000\n",
      "52000 1000\n",
      "53000 1000\n",
      "54000 1000\n",
      "55000 1000\n",
      "56000 1000\n",
      "57000 1000\n",
      "58000 1000\n",
      "59000 1000\n",
      "60000 1000\n",
      "61000 1000\n",
      "62000 1000\n",
      "63000 1000\n",
      "64000 1000\n",
      "65000 1000\n",
      "66000 1000\n",
      "67000 1000\n",
      "68000 1000\n",
      "69000 1000\n",
      "70000 1000\n",
      "71000 1000\n",
      "72000 1000\n",
      "73000 1000\n",
      "74000 1000\n",
      "75000 1000\n",
      "76000 1000\n",
      "77000 1000\n",
      "78000 1000\n",
      "79000 1000\n",
      "80000 1000\n",
      "81000 1000\n",
      "82000 1000\n",
      "83000 1000\n",
      "84000 1000\n",
      "85000 1000\n",
      "86000 1000\n",
      "87000 1000\n",
      "88000 1000\n",
      "89000 1000\n",
      "90000 1000\n",
      "91000 1000\n",
      "92000 1000\n",
      "93000 1000\n",
      "94000 1000\n",
      "95000 1000\n",
      "96000 1000\n",
      "97000 285\n"
     ]
    }
   ],
   "source": [
    "size = 1000\n",
    "end = 98000\n",
    "for start in range(0, end, size):\n",
    "    entries = get_entries_from_link(baselink, start, size)\n",
    "    print(start, len(entries))\n",
    "    for entry in entries:\n",
    "        insert_into_uitspraken_meta(entry, conn)"
   ]
  },
  {
   "cell_type": "code",
   "execution_count": 75,
   "metadata": {
    "collapsed": true
   },
   "outputs": [],
   "source": [
    "conn.commit()"
   ]
  },
  {
   "cell_type": "markdown",
   "metadata": {},
   "source": [
    "## Download RDFs from LiDO"
   ]
  },
  {
   "cell_type": "code",
   "execution_count": 86,
   "metadata": {
    "collapsed": false
   },
   "outputs": [],
   "source": [
    "from caselawnet.lido_parser import LinkExtractorXMLParser, LinkExtractorRDFParser"
   ]
  },
  {
   "cell_type": "code",
   "execution_count": 99,
   "metadata": {
    "collapsed": false
   },
   "outputs": [],
   "source": [
    "filename = 'settings.cfg'\n",
    "with open(filename) as f:\n",
    "    exec(compile(f.read(), filename, 'exec'))\n",
    "\n",
    "rdf = False\n",
    "if rdf:\n",
    "    LinkExtractorRDFParser(auth = {'username': LIDO_USERNAME, 'password':LIDO_PASSWD})\n",
    "else:\n",
    "    parser = LinkExtractorXMLParser(auth = {'username': LIDO_USERNAME, 'password':LIDO_PASSWD})"
   ]
  },
  {
   "cell_type": "code",
   "execution_count": 106,
   "metadata": {
    "collapsed": false
   },
   "outputs": [
    {
     "name": "stdout",
     "output_type": "stream",
     "text": [
      "0\n",
      "1000\n",
      "2000\n",
      "3000\n",
      "4000\n",
      "5000\n",
      "6000\n",
      "7000\n",
      "8000\n",
      "9000\n",
      "10000\n",
      "11000\n",
      "12000\n",
      "13000\n",
      "14000\n",
      "15000\n",
      "16000\n",
      "17000\n",
      "18000\n",
      "19000\n",
      "20000\n",
      "21000\n",
      "22000\n",
      "23000\n",
      "24000\n",
      "25000\n",
      "26000\n",
      "27000\n",
      "28000\n",
      "29000\n",
      "30000\n",
      "31000\n",
      "32000\n",
      "33000\n",
      "34000\n",
      "35000\n",
      "36000\n",
      "37000\n",
      "38000\n",
      "39000\n",
      "40000\n",
      "41000\n",
      "42000\n",
      "43000\n",
      "44000\n",
      "45000\n",
      "46000\n",
      "47000\n",
      "48000\n",
      "49000\n",
      "50000\n",
      "51000\n",
      "52000\n",
      "53000\n",
      "54000\n",
      "55000\n",
      "56000\n",
      "57000\n",
      "58000\n",
      "59000\n",
      "60000\n",
      "61000\n",
      "62000\n",
      "63000\n",
      "64000\n",
      "65000\n",
      "66000\n",
      "67000\n",
      "68000\n",
      "69000\n",
      "70000\n",
      "71000\n",
      "72000\n",
      "73000\n",
      "74000\n",
      "75000\n",
      "76000\n",
      "77000\n",
      "78000\n",
      "79000\n",
      "80000\n",
      "81000\n",
      "82000\n",
      "83000\n",
      "84000\n",
      "85000\n",
      "86000\n",
      "87000\n",
      "88000\n",
      "89000\n",
      "90000\n",
      "91000\n",
      "92000\n",
      "93000\n",
      "94000\n",
      "95000\n",
      "96000\n",
      "97000\n"
     ]
    }
   ],
   "source": [
    "fp = '/media/sf_VBox_Shared/CaseLaw/lido_rdf/2017-11-28-xml/'\n",
    "\n",
    "failed_eclis = []\n",
    "\n",
    "i = 0\n",
    "for (ecli,) in conn.execute('select id from uitspraken_meta'):\n",
    "    if i%1000 == 0:\n",
    "        print(i)\n",
    "    ext = '.rdf' if rdf else '.xml'\n",
    "    fn = ecli.replace(':', '_') + ext\n",
    "    if not os.path.exists(os.path.join(fp, fn)):\n",
    "        lido_id = parser.get_lido_id(ecli)\n",
    "        if rdf:\n",
    "            url = \"{}?id={}\".format(parser.LIDO_API_URL, lido_id)\n",
    "        else:\n",
    "            url = \"{}?id={}&output=xml\".format(parser.LIDO_API_URL, lido_id)\n",
    "\n",
    "        try:\n",
    "            response = parser.get_lido_response(url)\n",
    "            \n",
    "            with open(os.path.join(fp, fn), 'w') as out:\n",
    "                out.write(response)\n",
    "        except Exception as e:\n",
    "            print (ecli, e)\n",
    "            failed_eclis.append(ecli)\n",
    "        \n",
    "    i += 1"
   ]
  }
 ],
 "metadata": {
  "anaconda-cloud": {},
  "kernelspec": {
   "display_name": "Python [conda env:caselaw]",
   "language": "python",
   "name": "conda-env-caselaw-py"
  },
  "language_info": {
   "codemirror_mode": {
    "name": "ipython",
    "version": 3
   },
   "file_extension": ".py",
   "mimetype": "text/x-python",
   "name": "python",
   "nbconvert_exporter": "python",
   "pygments_lexer": "ipython3",
   "version": "3.5.2"
  }
 },
 "nbformat": 4,
 "nbformat_minor": 0
}
