{
 "cells": [
  {
   "cell_type": "code",
   "execution_count": null,
   "metadata": {},
   "outputs": [],
   "source": [
    "%matplotlib inline\n",
    "import pandas as pd\n",
    "import os\n",
    "import networkx as nx\n",
    "import igraph as ig\n",
    "import numpy as np\n",
    "import louvain\n",
    "import matplotlib.pyplot as plt"
   ]
  },
  {
   "cell_type": "code",
   "execution_count": null,
   "metadata": {},
   "outputs": [],
   "source": [
    "filepath = '/media/sf_VBox_Shared/CaseLaw/2018-01-29-lido/derived/'\n",
    "links_df = pd.read_csv(os.path.join(filepath, 'case-to-article-links-unique.csv'))"
   ]
  },
  {
   "cell_type": "code",
   "execution_count": null,
   "metadata": {},
   "outputs": [],
   "source": [
    "art_nodes = pd.read_csv(os.path.join(filepath, 'article_nodes_nodup.csv'))\n",
    "case_nodes = pd.read_csv(os.path.join(filepath, 'case_nodes_simple.csv'))"
   ]
  },
  {
   "cell_type": "code",
   "execution_count": null,
   "metadata": {},
   "outputs": [],
   "source": [
    "print(art_nodes.shape)\n",
    "print(art_nodes.title.drop_duplicates().shape)\n",
    "print(art_nodes.drop('id', axis=1).drop_duplicates().shape)"
   ]
  },
  {
   "cell_type": "code",
   "execution_count": null,
   "metadata": {},
   "outputs": [],
   "source": [
    "print(links_df.shape, links_df.drop_duplicates().shape)"
   ]
  },
  {
   "cell_type": "code",
   "execution_count": null,
   "metadata": {},
   "outputs": [],
   "source": [
    "# Check that title and label are always equal\n",
    "art_nodes[art_nodes['title']!=art_nodes['label']]"
   ]
  },
  {
   "cell_type": "code",
   "execution_count": null,
   "metadata": {},
   "outputs": [],
   "source": [
    "# Wich have different authorities?\n",
    "nr_authorities = art_nodes.groupby(['title', 'label']).nunique()['authority']\n",
    "nr_authorities[nr_authorities>1].head()"
   ]
  },
  {
   "cell_type": "code",
   "execution_count": null,
   "metadata": {},
   "outputs": [],
   "source": [
    "art_nodes[art_nodes['title']=='Verordening op het bestuur, Artikel 1']"
   ]
  },
  {
   "cell_type": "code",
   "execution_count": null,
   "metadata": {},
   "outputs": [],
   "source": [
    "links_merged = links_df.merge(art_nodes, how='left', left_on='target', right_on='id')\n",
    "links_merged.head()"
   ]
  },
  {
   "cell_type": "code",
   "execution_count": null,
   "metadata": {},
   "outputs": [],
   "source": [
    "# Group on article name\n",
    "links_titles = links_merged.groupby(['source', 'title']).count()['id']"
   ]
  },
  {
   "cell_type": "code",
   "execution_count": null,
   "metadata": {},
   "outputs": [],
   "source": [
    "# Are there ever citations to multiple versions from one source?\n",
    "links_titles[links_titles>1].head()"
   ]
  },
  {
   "cell_type": "code",
   "execution_count": null,
   "metadata": {},
   "outputs": [],
   "source": [
    "# Apparently this happens, look into one\n",
    "list(links_df[links_df['source']=='http://linkeddata.overheid.nl/terms/jurisprudentie/id/ECLI:NL:CBB:2001:AB1986']['target'])"
   ]
  },
  {
   "cell_type": "code",
   "execution_count": null,
   "metadata": {},
   "outputs": [],
   "source": [
    "links_titles.reset_index().columns"
   ]
  },
  {
   "cell_type": "code",
   "execution_count": null,
   "metadata": {},
   "outputs": [],
   "source": [
    "links_case_title = links_titles.reset_index()[['source', 'title']]\n",
    "links_case_title.columns = ['source', 'target']\n",
    "links_case_title.head()"
   ]
  },
  {
   "cell_type": "code",
   "execution_count": null,
   "metadata": {},
   "outputs": [],
   "source": [
    "nodes_articles_titles = art_nodes[['title', 'label']].drop_duplicates()\n",
    "nodes_articles_titles.columns = ['id', 'label']"
   ]
  },
  {
   "cell_type": "code",
   "execution_count": null,
   "metadata": {},
   "outputs": [],
   "source": [
    "nodes_articles_titles['book'] = nodes_articles_titles.label.str.split(',').map(lambda l: l[0])"
   ]
  },
  {
   "cell_type": "code",
   "execution_count": null,
   "metadata": {},
   "outputs": [],
   "source": [
    "links_case_title.to_csv(os.path.join(filepath, 'case_to_article_title_links.csv'), index=False)\n",
    "nodes_articles_titles.to_csv(os.path.join(filepath, 'article_title_nodes.csv'), index=False)"
   ]
  },
  {
   "cell_type": "code",
   "execution_count": null,
   "metadata": {},
   "outputs": [],
   "source": [
    "g = nx.from_pandas_edgelist(links_case_title, source='source', target='target')"
   ]
  },
  {
   "cell_type": "code",
   "execution_count": null,
   "metadata": {},
   "outputs": [],
   "source": [
    "nx.set_node_attributes(g, {n: 'case' for n in case_nodes}, name='type')\n",
    "nx.set_node_attributes(g, {n: 'article' for n in art_nodes}, name='type')"
   ]
  },
  {
   "cell_type": "code",
   "execution_count": null,
   "metadata": {},
   "outputs": [],
   "source": [
    "print(nx.info(g))"
   ]
  },
  {
   "cell_type": "code",
   "execution_count": null,
   "metadata": {},
   "outputs": [],
   "source": [
    "# Convert to iGraph\n",
    "g_ig = ig.Graph.TupleList(g.edges())\n",
    "\n",
    "att_list = set(np.array([list(d.keys()) for n, d in g.nodes(data=True)]).flatten())\n",
    "\n",
    "for att in att_list:\n",
    "    att_dict = nx.get_node_attributes(g, att)\n",
    "    g_ig.vs[att] = [att_dict[n] for n in g_ig.vs['name']]"
   ]
  },
  {
   "cell_type": "code",
   "execution_count": null,
   "metadata": {},
   "outputs": [],
   "source": [
    "ccs = list(nx.connected_components(g))"
   ]
  },
  {
   "cell_type": "code",
   "execution_count": null,
   "metadata": {},
   "outputs": [],
   "source": [
    "ccs_sizes = np.array([len(c) for c in ccs])\n",
    "print(\"Number of connected components:\", len(ccs))\n",
    "print(\"Relative size of largest component:\", np.max(ccs_sizes)/np.sum(ccs_sizes))"
   ]
  },
  {
   "cell_type": "markdown",
   "metadata": {},
   "source": [
    "## Community detction"
   ]
  },
  {
   "cell_type": "code",
   "execution_count": null,
   "metadata": {},
   "outputs": [],
   "source": [
    "p_01, p_0, p_1 = louvain.CPMVertexPartition.Bipartite(g_ig, resolution_parameter_01=0.01)\n",
    "p_01.summary()"
   ]
  },
  {
   "cell_type": "code",
   "execution_count": null,
   "metadata": {},
   "outputs": [],
   "source": [
    "optimiser = louvain.Optimiser()\n",
    "diff = optimiser.optimise_partition_multiplex([p_01, p_0, p_1], layer_weights=[1, -1, -1])"
   ]
  },
  {
   "cell_type": "code",
   "execution_count": null,
   "metadata": {},
   "outputs": [],
   "source": [
    "g_ig.vs['community'] = p_01.membership"
   ]
  },
  {
   "cell_type": "code",
   "execution_count": null,
   "metadata": {},
   "outputs": [],
   "source": [
    "p_01.summary()"
   ]
  },
  {
   "cell_type": "code",
   "execution_count": null,
   "metadata": {},
   "outputs": [],
   "source": [
    "p_0.summary()"
   ]
  },
  {
   "cell_type": "code",
   "execution_count": null,
   "metadata": {},
   "outputs": [],
   "source": [
    "len(p_0.membership)"
   ]
  },
  {
   "cell_type": "code",
   "execution_count": null,
   "metadata": {},
   "outputs": [],
   "source": [
    "cluster_df = pd.DataFrame({'name': g_ig.vs['name'], 'community': g_ig.vs['community'],  'type': g_ig.vs['type']})"
   ]
  },
  {
   "cell_type": "code",
   "execution_count": null,
   "metadata": {},
   "outputs": [],
   "source": [
    "cluster_df.to_csv(os.path.join(filepath, 'bimodal_clusters.csv'), index=False)"
   ]
  },
  {
   "cell_type": "code",
   "execution_count": null,
   "metadata": {},
   "outputs": [],
   "source": [
    "comm_counts = cluster_df.groupby(['community', 'type']).count()['name'].unstack()\n",
    "comm_counts[:20]"
   ]
  },
  {
   "cell_type": "code",
   "execution_count": null,
   "metadata": {},
   "outputs": [],
   "source": [
    "fig, axes = plt.subplots(3, 1, figsize=(15, 20))\n",
    "\n",
    "n = 50\n",
    "\n",
    "comm_counts[:n].plot(kind='bar', ax=axes[0], title='Cases and articles')\n",
    "comm_counts['article'][:n].plot(kind='bar', ax=axes[1], title='Articles')\n",
    "comm_counts['case'][:n].plot(kind='bar', ax=axes[2], title='Cases')"
   ]
  },
  {
   "cell_type": "code",
   "execution_count": null,
   "metadata": {},
   "outputs": [],
   "source": [
    "# Merge with nodes\n",
    "art_nodes = pd.read_csv(os.path.join(filepath, 'article_nodes_nodup_min5.csv'))\n",
    "case_nodes = pd.read_csv(os.path.join(filepath, 'case_nodes_simple.csv'))"
   ]
  },
  {
   "cell_type": "code",
   "execution_count": null,
   "metadata": {},
   "outputs": [],
   "source": [
    "case_nodes = case_nodes.merge(cluster_df[cluster_df['type']=='case'].drop('type', axis=1), how='left', left_on='lido_id', right_on='name', suffixes=('', '_bimodal'))\n",
    "case_nodes = case_nodes.drop('name', axis=1).rename(columns={'community': 'community_bimodal'})"
   ]
  },
  {
   "cell_type": "code",
   "execution_count": null,
   "metadata": {},
   "outputs": [],
   "source": [
    "case_nodes.head()"
   ]
  },
  {
   "cell_type": "code",
   "execution_count": null,
   "metadata": {},
   "outputs": [],
   "source": [
    "art_nodes = art_nodes.merge(cluster_df[cluster_df['type']=='article'].drop('type', axis=1), how='left', left_on='id', right_on='name', suffixes=('', '_bimodal')).drop('name', axis=1)"
   ]
  },
  {
   "cell_type": "code",
   "execution_count": null,
   "metadata": {},
   "outputs": [],
   "source": [
    "art_nodes.to_csv(os.path.join(filepath, 'article_nodes_nodup_min5_bimodal.csv'), index=False)\n",
    "case_nodes.to_csv(os.path.join(filepath, 'case_nodes_simple_bimodal.csv'), index=False)"
   ]
  },
  {
   "cell_type": "code",
   "execution_count": null,
   "metadata": {},
   "outputs": [],
   "source": [
    "ctab = pd.crosstab(art_nodes['community'], art_nodes['community_bimodal'])\n",
    "ctab.shape"
   ]
  },
  {
   "cell_type": "code",
   "execution_count": null,
   "metadata": {},
   "outputs": [],
   "source": [
    "im = plt.imshow(ctab.as_matrix(), aspect='equal')"
   ]
  },
  {
   "cell_type": "code",
   "execution_count": null,
   "metadata": {},
   "outputs": [],
   "source": [
    "# Which articles are cited in the largest community?\n",
    "art_nodes[art_nodes.community_bimodal==0][['label', 'community']]"
   ]
  },
  {
   "cell_type": "code",
   "execution_count": null,
   "metadata": {},
   "outputs": [],
   "source": []
  }
 ],
 "metadata": {
  "language_info": {
   "name": "python",
   "pygments_lexer": "ipython3"
  }
 },
 "nbformat": 4,
 "nbformat_minor": 2
}
