{
 "cells": [
  {
   "cell_type": "code",
   "execution_count": 1,
   "metadata": {},
   "outputs": [],
   "source": [
    "%matplotlib inline\n",
    "import pandas as pd\n",
    "import os\n",
    "import networkx as nx\n",
    "import igraph as ig\n",
    "import numpy as np\n",
    "import louvain\n",
    "import matplotlib.pyplot as plt"
   ]
  },
  {
   "cell_type": "code",
   "execution_count": 2,
   "metadata": {},
   "outputs": [],
   "source": [
    "filepath = '/media/sf_VBox_Shared/CaseLaw/2018-01-29-lido/derived/'\n",
    "links_df = pd.read_csv(os.path.join(filepath, 'case-to-article-links-unique.csv'))"
   ]
  },
  {
   "cell_type": "code",
   "execution_count": 3,
   "metadata": {},
   "outputs": [],
   "source": [
    "art_nodes = pd.read_csv(os.path.join(filepath, 'article_nodes_nodup.csv'))\n",
    "case_nodes = pd.read_csv(os.path.join(filepath, 'case_nodes_simple.csv'))"
   ]
  },
  {
   "cell_type": "code",
   "execution_count": 4,
   "metadata": {},
   "outputs": [
    {
     "data": {
      "text/plain": [
       "(502692, 5)"
      ]
     },
     "execution_count": 4,
     "metadata": {},
     "output_type": "execute_result"
    }
   ],
   "source": [
    "case_nodes.shape"
   ]
  },
  {
   "cell_type": "code",
   "execution_count": 5,
   "metadata": {},
   "outputs": [
    {
     "name": "stdout",
     "output_type": "stream",
     "text": [
      "(597946, 4)\n",
      "(437867,)\n",
      "(438609, 3)\n"
     ]
    }
   ],
   "source": [
    "print(art_nodes.shape)\n",
    "print(art_nodes.title.drop_duplicates().shape)\n",
    "print(art_nodes.drop('id', axis=1).drop_duplicates().shape)"
   ]
  },
  {
   "cell_type": "code",
   "execution_count": 6,
   "metadata": {},
   "outputs": [
    {
     "name": "stdout",
     "output_type": "stream",
     "text": [
      "(1750407, 2) (1750407, 2)\n"
     ]
    }
   ],
   "source": [
    "print(links_df.shape, links_df.drop_duplicates().shape)"
   ]
  },
  {
   "cell_type": "code",
   "execution_count": 7,
   "metadata": {},
   "outputs": [
    {
     "data": {
      "text/html": [
       "<div>\n",
       "<style>\n",
       "    .dataframe thead tr:only-child th {\n",
       "        text-align: right;\n",
       "    }\n",
       "\n",
       "    .dataframe thead th {\n",
       "        text-align: left;\n",
       "    }\n",
       "\n",
       "    .dataframe tbody tr th {\n",
       "        vertical-align: top;\n",
       "    }\n",
       "</style>\n",
       "<table border=\"1\" class=\"dataframe\">\n",
       "  <thead>\n",
       "    <tr style=\"text-align: right;\">\n",
       "      <th></th>\n",
       "      <th>id</th>\n",
       "      <th>title</th>\n",
       "      <th>label</th>\n",
       "      <th>authority</th>\n",
       "    </tr>\n",
       "  </thead>\n",
       "  <tbody>\n",
       "  </tbody>\n",
       "</table>\n",
       "</div>"
      ],
      "text/plain": [
       "Empty DataFrame\n",
       "Columns: [id, title, label, authority]\n",
       "Index: []"
      ]
     },
     "execution_count": 7,
     "metadata": {},
     "output_type": "execute_result"
    }
   ],
   "source": [
    "# Check that title and label are always equal\n",
    "art_nodes[art_nodes['title']!=art_nodes['label']]"
   ]
  },
  {
   "cell_type": "code",
   "execution_count": 8,
   "metadata": {},
   "outputs": [
    {
     "data": {
      "text/plain": [
       "title                                             label                                           \n",
       "Algemene contributieverordening 2013, Artikel 1   Algemene contributieverordening 2013, Artikel 1     2\n",
       "Algemene contributieverordening 2013, Artikel 10  Algemene contributieverordening 2013, Artikel 10    2\n",
       "Algemene contributieverordening 2013, Artikel 11  Algemene contributieverordening 2013, Artikel 11    2\n",
       "Algemene contributieverordening 2013, Artikel 12  Algemene contributieverordening 2013, Artikel 12    2\n",
       "Algemene contributieverordening 2013, Artikel 13  Algemene contributieverordening 2013, Artikel 13    2\n",
       "Name: authority, dtype: int64"
      ]
     },
     "execution_count": 8,
     "metadata": {},
     "output_type": "execute_result"
    }
   ],
   "source": [
    "# Wich have different authorities?\n",
    "nr_authorities = art_nodes.groupby(['title', 'label']).nunique()['authority']\n",
    "nr_authorities[nr_authorities>1].head()"
   ]
  },
  {
   "cell_type": "code",
   "execution_count": 9,
   "metadata": {},
   "outputs": [
    {
     "data": {
      "text/html": [
       "<div>\n",
       "<style>\n",
       "    .dataframe thead tr:only-child th {\n",
       "        text-align: right;\n",
       "    }\n",
       "\n",
       "    .dataframe thead th {\n",
       "        text-align: left;\n",
       "    }\n",
       "\n",
       "    .dataframe tbody tr th {\n",
       "        vertical-align: top;\n",
       "    }\n",
       "</style>\n",
       "<table border=\"1\" class=\"dataframe\">\n",
       "  <thead>\n",
       "    <tr style=\"text-align: right;\">\n",
       "      <th></th>\n",
       "      <th>id</th>\n",
       "      <th>title</th>\n",
       "      <th>label</th>\n",
       "      <th>authority</th>\n",
       "    </tr>\n",
       "  </thead>\n",
       "  <tbody>\n",
       "    <tr>\n",
       "      <th>113024</th>\n",
       "      <td>http://linkeddata.overheid.nl/terms/bwb/id/BWB...</td>\n",
       "      <td>Verordening op het bestuur, Artikel 1</td>\n",
       "      <td>Verordening op het bestuur, Artikel 1</td>\n",
       "      <td>Nederlandse Orde van Accountants-Administratie...</td>\n",
       "    </tr>\n",
       "    <tr>\n",
       "      <th>340551</th>\n",
       "      <td>http://linkeddata.overheid.nl/terms/bwb/id/BWB...</td>\n",
       "      <td>Verordening op het bestuur, Artikel 1</td>\n",
       "      <td>Verordening op het bestuur, Artikel 1</td>\n",
       "      <td>Nederlandse Orde van Accountants-Administratie...</td>\n",
       "    </tr>\n",
       "    <tr>\n",
       "      <th>466175</th>\n",
       "      <td>http://linkeddata.overheid.nl/terms/bwb/id/BWB...</td>\n",
       "      <td>Verordening op het bestuur, Artikel 1</td>\n",
       "      <td>Verordening op het bestuur, Artikel 1</td>\n",
       "      <td>Nederlandse beroepsorganisatie van accountants</td>\n",
       "    </tr>\n",
       "  </tbody>\n",
       "</table>\n",
       "</div>"
      ],
      "text/plain": [
       "                                                       id  \\\n",
       "113024  http://linkeddata.overheid.nl/terms/bwb/id/BWB...   \n",
       "340551  http://linkeddata.overheid.nl/terms/bwb/id/BWB...   \n",
       "466175  http://linkeddata.overheid.nl/terms/bwb/id/BWB...   \n",
       "\n",
       "                                        title  \\\n",
       "113024  Verordening op het bestuur, Artikel 1   \n",
       "340551  Verordening op het bestuur, Artikel 1   \n",
       "466175  Verordening op het bestuur, Artikel 1   \n",
       "\n",
       "                                        label  \\\n",
       "113024  Verordening op het bestuur, Artikel 1   \n",
       "340551  Verordening op het bestuur, Artikel 1   \n",
       "466175  Verordening op het bestuur, Artikel 1   \n",
       "\n",
       "                                                authority  \n",
       "113024  Nederlandse Orde van Accountants-Administratie...  \n",
       "340551  Nederlandse Orde van Accountants-Administratie...  \n",
       "466175     Nederlandse beroepsorganisatie van accountants  "
      ]
     },
     "execution_count": 9,
     "metadata": {},
     "output_type": "execute_result"
    }
   ],
   "source": [
    "art_nodes[art_nodes['title']=='Verordening op het bestuur, Artikel 1']"
   ]
  },
  {
   "cell_type": "code",
   "execution_count": 10,
   "metadata": {},
   "outputs": [
    {
     "data": {
      "text/html": [
       "<div>\n",
       "<style>\n",
       "    .dataframe thead tr:only-child th {\n",
       "        text-align: right;\n",
       "    }\n",
       "\n",
       "    .dataframe thead th {\n",
       "        text-align: left;\n",
       "    }\n",
       "\n",
       "    .dataframe tbody tr th {\n",
       "        vertical-align: top;\n",
       "    }\n",
       "</style>\n",
       "<table border=\"1\" class=\"dataframe\">\n",
       "  <thead>\n",
       "    <tr style=\"text-align: right;\">\n",
       "      <th></th>\n",
       "      <th>source</th>\n",
       "      <th>target</th>\n",
       "      <th>id</th>\n",
       "      <th>title</th>\n",
       "      <th>label</th>\n",
       "      <th>authority</th>\n",
       "    </tr>\n",
       "  </thead>\n",
       "  <tbody>\n",
       "    <tr>\n",
       "      <th>0</th>\n",
       "      <td>http://linkeddata.overheid.nl/terms/jurisprude...</td>\n",
       "      <td>http://linkeddata.overheid.nl/terms/bwb/id/BWB...</td>\n",
       "      <td>http://linkeddata.overheid.nl/terms/bwb/id/BWB...</td>\n",
       "      <td>Besluit afschaffing binnenlandse paspoorten en...</td>\n",
       "      <td>Besluit afschaffing binnenlandse paspoorten en...</td>\n",
       "      <td>Veiligheid en Justitie</td>\n",
       "    </tr>\n",
       "    <tr>\n",
       "      <th>1</th>\n",
       "      <td>http://linkeddata.overheid.nl/terms/jurisprude...</td>\n",
       "      <td>http://linkeddata.overheid.nl/terms/bwb/id/BWB...</td>\n",
       "      <td>http://linkeddata.overheid.nl/terms/bwb/id/BWB...</td>\n",
       "      <td>Overgangswet, Artikel 1</td>\n",
       "      <td>Overgangswet, Artikel 1</td>\n",
       "      <td>Veiligheid en Justitie</td>\n",
       "    </tr>\n",
       "    <tr>\n",
       "      <th>2</th>\n",
       "      <td>http://linkeddata.overheid.nl/terms/jurisprude...</td>\n",
       "      <td>http://linkeddata.overheid.nl/terms/bwb/id/BWB...</td>\n",
       "      <td>http://linkeddata.overheid.nl/terms/bwb/id/BWB...</td>\n",
       "      <td>Overgangswet, Artikel 1</td>\n",
       "      <td>Overgangswet, Artikel 1</td>\n",
       "      <td>Veiligheid en Justitie</td>\n",
       "    </tr>\n",
       "    <tr>\n",
       "      <th>3</th>\n",
       "      <td>http://linkeddata.overheid.nl/terms/jurisprude...</td>\n",
       "      <td>http://linkeddata.overheid.nl/terms/bwb/id/BWB...</td>\n",
       "      <td>http://linkeddata.overheid.nl/terms/bwb/id/BWB...</td>\n",
       "      <td>Wetboek van Burgerlijke Rechtsvordering (geldt...</td>\n",
       "      <td>Wetboek van Burgerlijke Rechtsvordering (geldt...</td>\n",
       "      <td>Veiligheid en Justitie</td>\n",
       "    </tr>\n",
       "    <tr>\n",
       "      <th>4</th>\n",
       "      <td>http://linkeddata.overheid.nl/terms/jurisprude...</td>\n",
       "      <td>http://linkeddata.overheid.nl/terms/bwb/id/BWB...</td>\n",
       "      <td>http://linkeddata.overheid.nl/terms/bwb/id/BWB...</td>\n",
       "      <td>Wetboek van Burgerlijke Rechtsvordering (geldt...</td>\n",
       "      <td>Wetboek van Burgerlijke Rechtsvordering (geldt...</td>\n",
       "      <td>Veiligheid en Justitie</td>\n",
       "    </tr>\n",
       "  </tbody>\n",
       "</table>\n",
       "</div>"
      ],
      "text/plain": [
       "                                              source  \\\n",
       "0  http://linkeddata.overheid.nl/terms/jurisprude...   \n",
       "1  http://linkeddata.overheid.nl/terms/jurisprude...   \n",
       "2  http://linkeddata.overheid.nl/terms/jurisprude...   \n",
       "3  http://linkeddata.overheid.nl/terms/jurisprude...   \n",
       "4  http://linkeddata.overheid.nl/terms/jurisprude...   \n",
       "\n",
       "                                              target  \\\n",
       "0  http://linkeddata.overheid.nl/terms/bwb/id/BWB...   \n",
       "1  http://linkeddata.overheid.nl/terms/bwb/id/BWB...   \n",
       "2  http://linkeddata.overheid.nl/terms/bwb/id/BWB...   \n",
       "3  http://linkeddata.overheid.nl/terms/bwb/id/BWB...   \n",
       "4  http://linkeddata.overheid.nl/terms/bwb/id/BWB...   \n",
       "\n",
       "                                                  id  \\\n",
       "0  http://linkeddata.overheid.nl/terms/bwb/id/BWB...   \n",
       "1  http://linkeddata.overheid.nl/terms/bwb/id/BWB...   \n",
       "2  http://linkeddata.overheid.nl/terms/bwb/id/BWB...   \n",
       "3  http://linkeddata.overheid.nl/terms/bwb/id/BWB...   \n",
       "4  http://linkeddata.overheid.nl/terms/bwb/id/BWB...   \n",
       "\n",
       "                                               title  \\\n",
       "0  Besluit afschaffing binnenlandse paspoorten en...   \n",
       "1                            Overgangswet, Artikel 1   \n",
       "2                            Overgangswet, Artikel 1   \n",
       "3  Wetboek van Burgerlijke Rechtsvordering (geldt...   \n",
       "4  Wetboek van Burgerlijke Rechtsvordering (geldt...   \n",
       "\n",
       "                                               label               authority  \n",
       "0  Besluit afschaffing binnenlandse paspoorten en...  Veiligheid en Justitie  \n",
       "1                            Overgangswet, Artikel 1  Veiligheid en Justitie  \n",
       "2                            Overgangswet, Artikel 1  Veiligheid en Justitie  \n",
       "3  Wetboek van Burgerlijke Rechtsvordering (geldt...  Veiligheid en Justitie  \n",
       "4  Wetboek van Burgerlijke Rechtsvordering (geldt...  Veiligheid en Justitie  "
      ]
     },
     "execution_count": 10,
     "metadata": {},
     "output_type": "execute_result"
    }
   ],
   "source": [
    "links_merged = links_df.merge(art_nodes, how='left', left_on='target', right_on='id')\n",
    "links_merged.head()"
   ]
  },
  {
   "cell_type": "code",
   "execution_count": 11,
   "metadata": {},
   "outputs": [],
   "source": [
    "# Group on article name\n",
    "links_titles = links_merged.groupby(['source', 'title']).count()['id']"
   ]
  },
  {
   "cell_type": "code",
   "execution_count": 12,
   "metadata": {},
   "outputs": [
    {
     "data": {
      "text/plain": [
       "source                                                                         title                                        \n",
       "http://linkeddata.overheid.nl/terms/jurisprudentie/id/ECLI:NL:CBB:2001:AB1986  Besluit verdachte dieren, Artikel 2              2\n",
       "http://linkeddata.overheid.nl/terms/jurisprudentie/id/ECLI:NL:CBB:2001:AD7632  Besluit biotechnologie bij dieren, Artikel 12    2\n",
       "                                                                               Besluit biotechnologie bij dieren, Artikel 6     2\n",
       "http://linkeddata.overheid.nl/terms/jurisprudentie/id/ECLI:NL:CBB:2002:AD9458  Meststoffenwet, Artikel 1                        2\n",
       "                                                                               Meststoffenwet, Artikel 41                       2\n",
       "Name: id, dtype: int64"
      ]
     },
     "execution_count": 12,
     "metadata": {},
     "output_type": "execute_result"
    }
   ],
   "source": [
    "# Are there ever citations to multiple versions from one source?\n",
    "links_titles[links_titles>1].head()"
   ]
  },
  {
   "cell_type": "code",
   "execution_count": 13,
   "metadata": {},
   "outputs": [
    {
     "data": {
      "text/plain": [
       "['http://linkeddata.overheid.nl/terms/bwb/id/BWBR0005537/2814224/1994-01-01/1994-01-01',\n",
       " 'http://linkeddata.overheid.nl/terms/bwb/id/BWBR0005662/2043254/2002-07-05/2002-07-05',\n",
       " 'http://linkeddata.overheid.nl/terms/bwb/id/BWBR0005662/2043244/2002-12-31/2002-12-31',\n",
       " 'http://linkeddata.overheid.nl/terms/bwb/id/BWBR0006829/1140304/1999-10-01/1999-10-01',\n",
       " 'http://linkeddata.overheid.nl/terms/bwb/id/BWBR0006829/1140304/2003-01-01/2003-01-01']"
      ]
     },
     "execution_count": 13,
     "metadata": {},
     "output_type": "execute_result"
    }
   ],
   "source": [
    "# Apparently this happens, look into one\n",
    "list(links_df[links_df['source']=='http://linkeddata.overheid.nl/terms/jurisprudentie/id/ECLI:NL:CBB:2001:AB1986']['target'])"
   ]
  },
  {
   "cell_type": "code",
   "execution_count": 14,
   "metadata": {},
   "outputs": [
    {
     "data": {
      "text/plain": [
       "Index(['source', 'title', 'id'], dtype='object')"
      ]
     },
     "execution_count": 14,
     "metadata": {},
     "output_type": "execute_result"
    }
   ],
   "source": [
    "links_titles.reset_index().columns"
   ]
  },
  {
   "cell_type": "code",
   "execution_count": 15,
   "metadata": {},
   "outputs": [
    {
     "data": {
      "text/html": [
       "<div>\n",
       "<style>\n",
       "    .dataframe thead tr:only-child th {\n",
       "        text-align: right;\n",
       "    }\n",
       "\n",
       "    .dataframe thead th {\n",
       "        text-align: left;\n",
       "    }\n",
       "\n",
       "    .dataframe tbody tr th {\n",
       "        vertical-align: top;\n",
       "    }\n",
       "</style>\n",
       "<table border=\"1\" class=\"dataframe\">\n",
       "  <thead>\n",
       "    <tr style=\"text-align: right;\">\n",
       "      <th></th>\n",
       "      <th>source</th>\n",
       "      <th>target</th>\n",
       "    </tr>\n",
       "  </thead>\n",
       "  <tbody>\n",
       "    <tr>\n",
       "      <th>0</th>\n",
       "      <td>http://linkeddata.overheid.nl/terms/jurisprude...</td>\n",
       "      <td>Protocol bij het Verdrag tot bescherming van d...</td>\n",
       "    </tr>\n",
       "    <tr>\n",
       "      <th>1</th>\n",
       "      <td>http://linkeddata.overheid.nl/terms/jurisprude...</td>\n",
       "      <td>Verdrag tot bescherming van de rechten van de ...</td>\n",
       "    </tr>\n",
       "    <tr>\n",
       "      <th>2</th>\n",
       "      <td>http://linkeddata.overheid.nl/terms/jurisprude...</td>\n",
       "      <td>Verdrag tot bescherming van de rechten van de ...</td>\n",
       "    </tr>\n",
       "    <tr>\n",
       "      <th>3</th>\n",
       "      <td>http://linkeddata.overheid.nl/terms/jurisprude...</td>\n",
       "      <td>Verdrag tot bescherming van de rechten van de ...</td>\n",
       "    </tr>\n",
       "    <tr>\n",
       "      <th>4</th>\n",
       "      <td>http://linkeddata.overheid.nl/terms/jurisprude...</td>\n",
       "      <td>Verdrag tot bescherming van de rechten van de ...</td>\n",
       "    </tr>\n",
       "  </tbody>\n",
       "</table>\n",
       "</div>"
      ],
      "text/plain": [
       "                                              source  \\\n",
       "0  http://linkeddata.overheid.nl/terms/jurisprude...   \n",
       "1  http://linkeddata.overheid.nl/terms/jurisprude...   \n",
       "2  http://linkeddata.overheid.nl/terms/jurisprude...   \n",
       "3  http://linkeddata.overheid.nl/terms/jurisprude...   \n",
       "4  http://linkeddata.overheid.nl/terms/jurisprude...   \n",
       "\n",
       "                                              target  \n",
       "0  Protocol bij het Verdrag tot bescherming van d...  \n",
       "1  Verdrag tot bescherming van de rechten van de ...  \n",
       "2  Verdrag tot bescherming van de rechten van de ...  \n",
       "3  Verdrag tot bescherming van de rechten van de ...  \n",
       "4  Verdrag tot bescherming van de rechten van de ...  "
      ]
     },
     "execution_count": 15,
     "metadata": {},
     "output_type": "execute_result"
    }
   ],
   "source": [
    "links_case_title = links_titles.reset_index()[['source', 'title']]\n",
    "links_case_title.columns = ['source', 'target']\n",
    "links_case_title.head()"
   ]
  },
  {
   "cell_type": "code",
   "execution_count": 16,
   "metadata": {},
   "outputs": [],
   "source": [
    "nodes_articles_titles = art_nodes[['title', 'label']].drop_duplicates()\n",
    "nodes_articles_titles.columns = ['id', 'label']"
   ]
  },
  {
   "cell_type": "code",
   "execution_count": 17,
   "metadata": {},
   "outputs": [],
   "source": [
    "nodes_articles_titles['book'] = nodes_articles_titles.label.str.split(',').map(lambda l: l[0])"
   ]
  },
  {
   "cell_type": "code",
   "execution_count": 18,
   "metadata": {},
   "outputs": [],
   "source": [
    "links_case_title.to_csv(os.path.join(filepath, 'case_to_article_title_links.csv'), index=False)\n",
    "nodes_articles_titles.to_csv(os.path.join(filepath, 'article_title_nodes.csv'), index=False)"
   ]
  },
  {
   "cell_type": "code",
   "execution_count": 19,
   "metadata": {},
   "outputs": [],
   "source": [
    "g = nx.from_pandas_edgelist(links_case_title, source='source', target='target')"
   ]
  },
  {
   "cell_type": "code",
   "execution_count": 20,
   "metadata": {},
   "outputs": [],
   "source": [
    "case_ids = links_case_title['source'].unique()\n",
    "article_ids = links_case_title['target'].unique()\n",
    "nx.set_node_attributes(g, {n: 'case' for n in case_ids}, name='type')\n",
    "nx.set_node_attributes(g, {n: 'article' for n in article_ids}, name='type')"
   ]
  },
  {
   "cell_type": "code",
   "execution_count": 21,
   "metadata": {},
   "outputs": [
    {
     "name": "stdout",
     "output_type": "stream",
     "text": [
      "Name: \n",
      "Type: Graph\n",
      "Number of nodes: 457657\n",
      "Number of edges: 1728187\n",
      "Average degree:   7.5523\n"
     ]
    }
   ],
   "source": [
    "print(nx.info(g))"
   ]
  },
  {
   "cell_type": "code",
   "execution_count": 22,
   "metadata": {},
   "outputs": [],
   "source": [
    "# Convert to iGraph\n",
    "g_ig = ig.Graph.TupleList(g.edges())\n",
    "\n",
    "att_list = set(np.array([list(d.keys()) for n, d in g.nodes(data=True)]).flatten())\n",
    "\n",
    "for att in att_list:\n",
    "    att_dict = nx.get_node_attributes(g, att)\n",
    "    g_ig.vs[att] = [att_dict[n] for n in g_ig.vs['name']]"
   ]
  },
  {
   "cell_type": "code",
   "execution_count": 23,
   "metadata": {},
   "outputs": [],
   "source": [
    "ccs = list(nx.connected_components(g))"
   ]
  },
  {
   "cell_type": "code",
   "execution_count": 24,
   "metadata": {},
   "outputs": [
    {
     "name": "stdout",
     "output_type": "stream",
     "text": [
      "Number of connected components: 530\n",
      "Relative size of largest component: 0.996812022978\n"
     ]
    }
   ],
   "source": [
    "ccs_sizes = np.array([len(c) for c in ccs])\n",
    "print(\"Number of connected components:\", len(ccs))\n",
    "print(\"Relative size of largest component:\", np.max(ccs_sizes)/np.sum(ccs_sizes))"
   ]
  },
  {
   "cell_type": "code",
   "execution_count": 26,
   "metadata": {},
   "outputs": [],
   "source": [
    "ccs_dict = {}\n",
    "for i in range(len(ccs)):\n",
    "    for n in ccs[i]:\n",
    "        ccs_dict[n] = i"
   ]
  },
  {
   "cell_type": "code",
   "execution_count": 27,
   "metadata": {},
   "outputs": [
    {
     "data": {
      "text/plain": [
       "457657"
      ]
     },
     "execution_count": 27,
     "metadata": {},
     "output_type": "execute_result"
    }
   ],
   "source": [
    "len(ccs_dict)"
   ]
  },
  {
   "cell_type": "markdown",
   "metadata": {},
   "source": [
    "## Community detction"
   ]
  },
  {
   "cell_type": "code",
   "execution_count": 28,
   "metadata": {},
   "outputs": [
    {
     "data": {
      "text/plain": [
       "'Clustering with 457657 elements and 457657 clusters'"
      ]
     },
     "execution_count": 28,
     "metadata": {},
     "output_type": "execute_result"
    }
   ],
   "source": [
    "p_01, p_0, p_1 = louvain.CPMVertexPartition.Bipartite(g_ig, resolution_parameter_01=0.01)\n",
    "p_01.summary()"
   ]
  },
  {
   "cell_type": "code",
   "execution_count": 29,
   "metadata": {},
   "outputs": [],
   "source": [
    "optimiser = louvain.Optimiser()\n",
    "diff = optimiser.optimise_partition_multiplex([p_01, p_0, p_1], layer_weights=[1, -1, -1])"
   ]
  },
  {
   "cell_type": "code",
   "execution_count": 30,
   "metadata": {},
   "outputs": [],
   "source": [
    "g_ig.vs['community'] = p_01.membership"
   ]
  },
  {
   "cell_type": "code",
   "execution_count": 31,
   "metadata": {},
   "outputs": [
    {
     "data": {
      "text/plain": [
       "'Clustering with 457657 elements and 6849 clusters'"
      ]
     },
     "execution_count": 31,
     "metadata": {},
     "output_type": "execute_result"
    }
   ],
   "source": [
    "p_01.summary()"
   ]
  },
  {
   "cell_type": "code",
   "execution_count": 32,
   "metadata": {},
   "outputs": [
    {
     "data": {
      "text/plain": [
       "'Clustering with 457657 elements and 6849 clusters'"
      ]
     },
     "execution_count": 32,
     "metadata": {},
     "output_type": "execute_result"
    }
   ],
   "source": [
    "p_0.summary()"
   ]
  },
  {
   "cell_type": "code",
   "execution_count": 33,
   "metadata": {},
   "outputs": [
    {
     "data": {
      "text/plain": [
       "457657"
      ]
     },
     "execution_count": 33,
     "metadata": {},
     "output_type": "execute_result"
    }
   ],
   "source": [
    "len(p_0.membership)"
   ]
  },
  {
   "cell_type": "code",
   "execution_count": 34,
   "metadata": {},
   "outputs": [],
   "source": [
    "cluster_df = pd.DataFrame({'name': g_ig.vs['name'], 'community': g_ig.vs['community'],  'type': g_ig.vs['type']})"
   ]
  },
  {
   "cell_type": "code",
   "execution_count": 36,
   "metadata": {},
   "outputs": [],
   "source": [
    "cluster_df['cc'] = [ccs_dict[name] for name in cluster_df['name']]"
   ]
  },
  {
   "cell_type": "code",
   "execution_count": 37,
   "metadata": {},
   "outputs": [],
   "source": [
    "cluster_df.to_csv(os.path.join(filepath, 'bimodal_clusters_titles.csv'), index=False)"
   ]
  },
  {
   "cell_type": "code",
   "execution_count": 38,
   "metadata": {},
   "outputs": [
    {
     "data": {
      "text/html": [
       "<div>\n",
       "<style>\n",
       "    .dataframe thead tr:only-child th {\n",
       "        text-align: right;\n",
       "    }\n",
       "\n",
       "    .dataframe thead th {\n",
       "        text-align: left;\n",
       "    }\n",
       "\n",
       "    .dataframe tbody tr th {\n",
       "        vertical-align: top;\n",
       "    }\n",
       "</style>\n",
       "<table border=\"1\" class=\"dataframe\">\n",
       "  <thead>\n",
       "    <tr style=\"text-align: right;\">\n",
       "      <th></th>\n",
       "      <th>community</th>\n",
       "      <th>name</th>\n",
       "      <th>type</th>\n",
       "      <th>cc</th>\n",
       "    </tr>\n",
       "  </thead>\n",
       "  <tbody>\n",
       "    <tr>\n",
       "      <th>0</th>\n",
       "      <td>2</td>\n",
       "      <td>http://linkeddata.overheid.nl/terms/jurisprude...</td>\n",
       "      <td>case</td>\n",
       "      <td>0</td>\n",
       "    </tr>\n",
       "    <tr>\n",
       "      <th>1</th>\n",
       "      <td>2</td>\n",
       "      <td>Algemene wet bestuursrecht, Artikel 8:75</td>\n",
       "      <td>article</td>\n",
       "      <td>0</td>\n",
       "    </tr>\n",
       "    <tr>\n",
       "      <th>2</th>\n",
       "      <td>124</td>\n",
       "      <td>http://linkeddata.overheid.nl/terms/jurisprude...</td>\n",
       "      <td>case</td>\n",
       "      <td>0</td>\n",
       "    </tr>\n",
       "    <tr>\n",
       "      <th>3</th>\n",
       "      <td>124</td>\n",
       "      <td>Burgerlijk Wetboek Boek 7, Artikel 653</td>\n",
       "      <td>article</td>\n",
       "      <td>0</td>\n",
       "    </tr>\n",
       "    <tr>\n",
       "      <th>4</th>\n",
       "      <td>91</td>\n",
       "      <td>http://linkeddata.overheid.nl/terms/jurisprude...</td>\n",
       "      <td>case</td>\n",
       "      <td>0</td>\n",
       "    </tr>\n",
       "  </tbody>\n",
       "</table>\n",
       "</div>"
      ],
      "text/plain": [
       "   community                                               name     type  cc\n",
       "0          2  http://linkeddata.overheid.nl/terms/jurisprude...     case   0\n",
       "1          2           Algemene wet bestuursrecht, Artikel 8:75  article   0\n",
       "2        124  http://linkeddata.overheid.nl/terms/jurisprude...     case   0\n",
       "3        124             Burgerlijk Wetboek Boek 7, Artikel 653  article   0\n",
       "4         91  http://linkeddata.overheid.nl/terms/jurisprude...     case   0"
      ]
     },
     "execution_count": 38,
     "metadata": {},
     "output_type": "execute_result"
    }
   ],
   "source": [
    "cluster_df.head()"
   ]
  },
  {
   "cell_type": "code",
   "execution_count": 39,
   "metadata": {},
   "outputs": [],
   "source": [
    "case_nodes_merged = case_nodes.merge(cluster_df[cluster_df['type']=='case'].drop('type', axis=1), how='left', left_on='lido_id', right_on='name', suffixes=('', '_bimodal'))\n",
    "case_nodes_merged = case_nodes_merged.drop('name', axis=1).rename(columns={'community': 'community_bimodal'})\n",
    "case_nodes_merged = case_nodes_merged.dropna(subset=['community_bimodal'])"
   ]
  },
  {
   "cell_type": "code",
   "execution_count": 40,
   "metadata": {},
   "outputs": [
    {
     "data": {
      "text/html": [
       "<div>\n",
       "<style>\n",
       "    .dataframe thead tr:only-child th {\n",
       "        text-align: right;\n",
       "    }\n",
       "\n",
       "    .dataframe thead th {\n",
       "        text-align: left;\n",
       "    }\n",
       "\n",
       "    .dataframe tbody tr th {\n",
       "        vertical-align: top;\n",
       "    }\n",
       "</style>\n",
       "<table border=\"1\" class=\"dataframe\">\n",
       "  <thead>\n",
       "    <tr style=\"text-align: right;\">\n",
       "      <th></th>\n",
       "      <th>ecli</th>\n",
       "      <th>lido_id</th>\n",
       "      <th>country</th>\n",
       "      <th>court</th>\n",
       "      <th>year</th>\n",
       "      <th>community_bimodal</th>\n",
       "      <th>cc</th>\n",
       "    </tr>\n",
       "  </thead>\n",
       "  <tbody>\n",
       "    <tr>\n",
       "      <th>0</th>\n",
       "      <td>ECLI:NL:GHSGR:2010:BM2753</td>\n",
       "      <td>http://linkeddata.overheid.nl/terms/jurisprude...</td>\n",
       "      <td>NL</td>\n",
       "      <td>GHSGR</td>\n",
       "      <td>2010.0</td>\n",
       "      <td>14.0</td>\n",
       "      <td>0.0</td>\n",
       "    </tr>\n",
       "    <tr>\n",
       "      <th>1</th>\n",
       "      <td>ECLI:NL:RBHAA:2007:BC0491</td>\n",
       "      <td>http://linkeddata.overheid.nl/terms/jurisprude...</td>\n",
       "      <td>NL</td>\n",
       "      <td>RBHAA</td>\n",
       "      <td>2007.0</td>\n",
       "      <td>66.0</td>\n",
       "      <td>0.0</td>\n",
       "    </tr>\n",
       "    <tr>\n",
       "      <th>2</th>\n",
       "      <td>ECLI:NL:RBMAA:2007:BC1654</td>\n",
       "      <td>http://linkeddata.overheid.nl/terms/jurisprude...</td>\n",
       "      <td>NL</td>\n",
       "      <td>RBMAA</td>\n",
       "      <td>2007.0</td>\n",
       "      <td>490.0</td>\n",
       "      <td>0.0</td>\n",
       "    </tr>\n",
       "    <tr>\n",
       "      <th>3</th>\n",
       "      <td>ECLI:NL:CRVB:2016:4389</td>\n",
       "      <td>http://linkeddata.overheid.nl/terms/jurisprude...</td>\n",
       "      <td>NL</td>\n",
       "      <td>CRVB</td>\n",
       "      <td>2016.0</td>\n",
       "      <td>2.0</td>\n",
       "      <td>0.0</td>\n",
       "    </tr>\n",
       "    <tr>\n",
       "      <th>4</th>\n",
       "      <td>ECLI:NL:RBLIM:2014:11172</td>\n",
       "      <td>http://linkeddata.overheid.nl/terms/jurisprude...</td>\n",
       "      <td>NL</td>\n",
       "      <td>RBLIM</td>\n",
       "      <td>2014.0</td>\n",
       "      <td>1.0</td>\n",
       "      <td>0.0</td>\n",
       "    </tr>\n",
       "  </tbody>\n",
       "</table>\n",
       "</div>"
      ],
      "text/plain": [
       "                        ecli  \\\n",
       "0  ECLI:NL:GHSGR:2010:BM2753   \n",
       "1  ECLI:NL:RBHAA:2007:BC0491   \n",
       "2  ECLI:NL:RBMAA:2007:BC1654   \n",
       "3     ECLI:NL:CRVB:2016:4389   \n",
       "4   ECLI:NL:RBLIM:2014:11172   \n",
       "\n",
       "                                             lido_id country  court    year  \\\n",
       "0  http://linkeddata.overheid.nl/terms/jurisprude...      NL  GHSGR  2010.0   \n",
       "1  http://linkeddata.overheid.nl/terms/jurisprude...      NL  RBHAA  2007.0   \n",
       "2  http://linkeddata.overheid.nl/terms/jurisprude...      NL  RBMAA  2007.0   \n",
       "3  http://linkeddata.overheid.nl/terms/jurisprude...      NL   CRVB  2016.0   \n",
       "4  http://linkeddata.overheid.nl/terms/jurisprude...      NL  RBLIM  2014.0   \n",
       "\n",
       "   community_bimodal   cc  \n",
       "0               14.0  0.0  \n",
       "1               66.0  0.0  \n",
       "2              490.0  0.0  \n",
       "3                2.0  0.0  \n",
       "4                1.0  0.0  "
      ]
     },
     "execution_count": 40,
     "metadata": {},
     "output_type": "execute_result"
    }
   ],
   "source": [
    "case_nodes_merged.head()"
   ]
  },
  {
   "cell_type": "code",
   "execution_count": 41,
   "metadata": {},
   "outputs": [],
   "source": [
    "art_nodes_merged = nodes_articles_titles.merge(cluster_df[cluster_df['type']=='article'].drop('type', axis=1), how='left', left_on='id', right_on='name', suffixes=('', '_bimodal'))\n",
    "art_nodes_merged = art_nodes_merged.drop('name', axis=1).dropna(subset=['community'])"
   ]
  },
  {
   "cell_type": "code",
   "execution_count": 42,
   "metadata": {},
   "outputs": [],
   "source": [
    "art_nodes_merged.to_csv(os.path.join(filepath, 'article_nodes_nodup_min5_bimodal_titles.csv'), index=False)\n",
    "case_nodes_merged.to_csv(os.path.join(filepath, 'case_nodes_simple_bimodal_titles.csv'), index=False)"
   ]
  },
  {
   "cell_type": "code",
   "execution_count": 43,
   "metadata": {},
   "outputs": [
    {
     "data": {
      "text/html": [
       "<div>\n",
       "<style>\n",
       "    .dataframe thead tr:only-child th {\n",
       "        text-align: right;\n",
       "    }\n",
       "\n",
       "    .dataframe thead th {\n",
       "        text-align: left;\n",
       "    }\n",
       "\n",
       "    .dataframe tbody tr th {\n",
       "        vertical-align: top;\n",
       "    }\n",
       "</style>\n",
       "<table border=\"1\" class=\"dataframe\">\n",
       "  <thead>\n",
       "    <tr style=\"text-align: right;\">\n",
       "      <th></th>\n",
       "      <th>id</th>\n",
       "      <th>label</th>\n",
       "      <th>book</th>\n",
       "      <th>community</th>\n",
       "      <th>cc</th>\n",
       "    </tr>\n",
       "  </thead>\n",
       "  <tbody>\n",
       "    <tr>\n",
       "      <th>86</th>\n",
       "      <td>Besluit afschaffing binnenlandse paspoorten en...</td>\n",
       "      <td>Besluit afschaffing binnenlandse paspoorten en...</td>\n",
       "      <td>Besluit afschaffing binnenlandse paspoorten en...</td>\n",
       "      <td>435.0</td>\n",
       "      <td>0.0</td>\n",
       "    </tr>\n",
       "    <tr>\n",
       "      <th>143</th>\n",
       "      <td>Wetboek van Burgerlijke Rechtsvordering (geldt...</td>\n",
       "      <td>Wetboek van Burgerlijke Rechtsvordering (geldt...</td>\n",
       "      <td>Wetboek van Burgerlijke Rechtsvordering (geldt...</td>\n",
       "      <td>2090.0</td>\n",
       "      <td>0.0</td>\n",
       "    </tr>\n",
       "    <tr>\n",
       "      <th>145</th>\n",
       "      <td>Wetboek van Burgerlijke Rechtsvordering (geldt...</td>\n",
       "      <td>Wetboek van Burgerlijke Rechtsvordering (geldt...</td>\n",
       "      <td>Wetboek van Burgerlijke Rechtsvordering (geldt...</td>\n",
       "      <td>2090.0</td>\n",
       "      <td>0.0</td>\n",
       "    </tr>\n",
       "    <tr>\n",
       "      <th>146</th>\n",
       "      <td>Wetboek van Burgerlijke Rechtsvordering (geldt...</td>\n",
       "      <td>Wetboek van Burgerlijke Rechtsvordering (geldt...</td>\n",
       "      <td>Wetboek van Burgerlijke Rechtsvordering (geldt...</td>\n",
       "      <td>2090.0</td>\n",
       "      <td>0.0</td>\n",
       "    </tr>\n",
       "    <tr>\n",
       "      <th>148</th>\n",
       "      <td>Wetboek van Burgerlijke Rechtsvordering (geldt...</td>\n",
       "      <td>Wetboek van Burgerlijke Rechtsvordering (geldt...</td>\n",
       "      <td>Wetboek van Burgerlijke Rechtsvordering (geldt...</td>\n",
       "      <td>350.0</td>\n",
       "      <td>0.0</td>\n",
       "    </tr>\n",
       "  </tbody>\n",
       "</table>\n",
       "</div>"
      ],
      "text/plain": [
       "                                                    id  \\\n",
       "86   Besluit afschaffing binnenlandse paspoorten en...   \n",
       "143  Wetboek van Burgerlijke Rechtsvordering (geldt...   \n",
       "145  Wetboek van Burgerlijke Rechtsvordering (geldt...   \n",
       "146  Wetboek van Burgerlijke Rechtsvordering (geldt...   \n",
       "148  Wetboek van Burgerlijke Rechtsvordering (geldt...   \n",
       "\n",
       "                                                 label  \\\n",
       "86   Besluit afschaffing binnenlandse paspoorten en...   \n",
       "143  Wetboek van Burgerlijke Rechtsvordering (geldt...   \n",
       "145  Wetboek van Burgerlijke Rechtsvordering (geldt...   \n",
       "146  Wetboek van Burgerlijke Rechtsvordering (geldt...   \n",
       "148  Wetboek van Burgerlijke Rechtsvordering (geldt...   \n",
       "\n",
       "                                                  book  community   cc  \n",
       "86   Besluit afschaffing binnenlandse paspoorten en...      435.0  0.0  \n",
       "143  Wetboek van Burgerlijke Rechtsvordering (geldt...     2090.0  0.0  \n",
       "145  Wetboek van Burgerlijke Rechtsvordering (geldt...     2090.0  0.0  \n",
       "146  Wetboek van Burgerlijke Rechtsvordering (geldt...     2090.0  0.0  \n",
       "148  Wetboek van Burgerlijke Rechtsvordering (geldt...      350.0  0.0  "
      ]
     },
     "execution_count": 43,
     "metadata": {},
     "output_type": "execute_result"
    }
   ],
   "source": [
    "art_nodes_merged.head()"
   ]
  },
  {
   "cell_type": "code",
   "execution_count": null,
   "metadata": {},
   "outputs": [],
   "source": []
  }
 ],
 "metadata": {
  "kernelspec": {
   "display_name": "Python [conda env:caselaw]",
   "language": "python",
   "name": "conda-env-caselaw-py"
  },
  "language_info": {
   "codemirror_mode": {
    "name": "ipython",
    "version": 3
   },
   "file_extension": ".py",
   "mimetype": "text/x-python",
   "name": "python",
   "nbconvert_exporter": "python",
   "pygments_lexer": "ipython3",
   "version": "3.5.2"
  }
 },
 "nbformat": 4,
 "nbformat_minor": 2
}
