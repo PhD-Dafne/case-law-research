{
 "cells": [
  {
   "cell_type": "code",
   "execution_count": null,
   "metadata": {},
   "outputs": [],
   "source": [
    "%matplotlib inline\n",
    "import networkx as nx\n",
    "import nwtools.communities\n",
    "import pandas as pd\n",
    "import os\n",
    "import matplotlib.pyplot as plt"
   ]
  },
  {
   "cell_type": "code",
   "execution_count": null,
   "metadata": {},
   "outputs": [],
   "source": [
    "filepath = '/media/sf_VBox_Shared/CaseLaw/2018-01-29-lido/derived/'\n",
    "leg_nodes = pd.read_csv(os.path.join(filepath, 'article_title_nodes_min5.csv'))\n",
    "leg_edges = pd.read_csv(os.path.join(filepath, 'article_to_article_title_min5.csv'))"
   ]
  },
  {
   "cell_type": "code",
   "execution_count": null,
   "metadata": {},
   "outputs": [],
   "source": [
    "leg_edges.head()"
   ]
  },
  {
   "cell_type": "code",
   "execution_count": null,
   "metadata": {},
   "outputs": [],
   "source": [
    "leg_nodes.head()"
   ]
  },
  {
   "cell_type": "code",
   "execution_count": null,
   "metadata": {},
   "outputs": [],
   "source": [
    "graph = nx.from_pandas_edgelist(leg_edges, source='source', target='target', edge_attr='weight')\n",
    "partition = leg_nodes.set_index('id')['community'].to_dict()"
   ]
  },
  {
   "cell_type": "code",
   "execution_count": null,
   "metadata": {},
   "outputs": [],
   "source": [
    "com_statistics = nwtools.communities.partition_statistics(partition, graph, weight='weight')"
   ]
  },
  {
   "cell_type": "code",
   "execution_count": null,
   "metadata": {},
   "outputs": [],
   "source": [
    "com_statistics_df = pd.DataFrame.from_dict(com_statistics, orient='index')"
   ]
  },
  {
   "cell_type": "code",
   "execution_count": null,
   "metadata": {},
   "outputs": [],
   "source": [
    "com_statistics_df.index.name = 'community'"
   ]
  },
  {
   "cell_type": "code",
   "execution_count": null,
   "metadata": {},
   "outputs": [],
   "source": [
    "com_statistics_df.sort_values('size', ascending=False).head(10)"
   ]
  },
  {
   "cell_type": "code",
   "execution_count": null,
   "metadata": {},
   "outputs": [],
   "source": [
    "com_statistics_df.sort_values('weighted_conductance', ascending=False).head(10)"
   ]
  },
  {
   "cell_type": "code",
   "execution_count": null,
   "metadata": {},
   "outputs": [],
   "source": [
    "com_statistics_df.to_csv(os.path.join(filepath, 'legislation_titles_community_report.csv'))"
   ]
  },
  {
   "cell_type": "code",
   "execution_count": null,
   "metadata": {},
   "outputs": [],
   "source": [
    "largest_coms = leg_nodes.community.value_counts().index[:20]\n",
    "largest_books = leg_nodes.book.value_counts().index[:20]"
   ]
  },
  {
   "cell_type": "code",
   "execution_count": null,
   "metadata": {},
   "outputs": [],
   "source": [
    "df_plot = leg_nodes.copy()\n",
    "\n",
    "other_com = -1\n",
    "other_book = 'Other'\n",
    "\n",
    "df_plot.loc[~df_plot.community.isin(largest_coms), 'community'] = other_com\n",
    "df_plot.loc[~df_plot.book.isin(largest_books), 'book'] = other_book\n",
    "\n",
    "df_plot = df_plot.groupby(['community', 'book']).count()['id'].unstack()\n",
    "\n",
    "#leg_nodes[leg_nodes.community.isin(largest_coms) & leg_nodes.book.isin(largest_books)]\n",
    "\n",
    "df_plot = df_plot.loc[list(largest_coms)+[other_com], list(largest_books)+[other_book]]\n",
    "df_plot.plot.bar(stacked=True, colormap='gist_ncar', figsize=(5, 8))\n",
    "plt.legend(bbox_to_anchor=(1.05, 1), loc=2, borderaxespad=0.)\n",
    "plt.show()"
   ]
  },
  {
   "cell_type": "code",
   "execution_count": null,
   "metadata": {},
   "outputs": [],
   "source": [
    "leg_nodes.community.value_counts().head(30)"
   ]
  },
  {
   "cell_type": "code",
   "execution_count": null,
   "metadata": {},
   "outputs": [],
   "source": []
  }
 ],
 "metadata": {
  "language_info": {
   "name": "python",
   "pygments_lexer": "ipython3"
  }
 },
 "nbformat": 4,
 "nbformat_minor": 2
}
