{
 "cells": [
  {
   "cell_type": "code",
   "execution_count": 67,
   "metadata": {
    "collapsed": false
   },
   "outputs": [],
   "source": [
    "import os\n",
    "import pandas as pd\n",
    "import caselawnet"
   ]
  },
  {
   "cell_type": "code",
   "execution_count": 96,
   "metadata": {
    "collapsed": false
   },
   "outputs": [],
   "source": [
    "# imports\n",
    "inputpath = '/media/sf_VBox_Shared/CaseLaw/graphs/lido/'\n",
    "cases = pd.read_csv(os.path.join(inputpath, 'hr_enriched_nodes_2.csv'))\n",
    "case_to_leg = pd.read_csv(os.path.join(inputpath, 'hr_simple_legislation_links.csv'))\n",
    "cases_links = pd.read_csv(os.path.join(inputpath, 'hr_simple_links.csv'))\n",
    "leg_to_leg_nodes = pd.read_csv(os.path.join(inputpath, 'leg_to_leg_nodes_min10.csv'))\n",
    "communities = pd.read_csv(os.path.join(inputpath, 'leg_to_leg_communities.csv'))"
   ]
  },
  {
   "cell_type": "code",
   "execution_count": 97,
   "metadata": {
    "collapsed": false
   },
   "outputs": [],
   "source": [
    "cases = cases.set_index('id')\n",
    "cases['articles'] = case_to_leg.groupby('source')['title'].apply(lambda l: list(l)) #\".\".join(list(sorted(l))))\n",
    "cases = cases.reset_index()"
   ]
  },
  {
   "cell_type": "code",
   "execution_count": 71,
   "metadata": {
    "collapsed": true
   },
   "outputs": [],
   "source": [
    "def create_subnetwork(articles, legislation, nodes_in, links_in, \n",
    "                      include_referenced=False,\n",
    "                     exclude_singletons=False):\n",
    "    case_ids = legislation[legislation['title'].isin(articles)]['source'].unique()\n",
    "    \n",
    "    if include_referenced:\n",
    "        links_sub = links_in[links_in['source'].isin(case_ids) | links_in['target'].isin(case_ids)]\n",
    "        case_ids_extended = set(links_sub['source']).union(set(links_sub['target'])).union(case_ids)\n",
    "        nodes_sub = nodes_in[nodes_in['id'].isin(case_ids_extended)].copy()\n",
    "        nodes_sub['in_set'] = nodes_sub['id'].isin(case_ids)\n",
    "    else:\n",
    "        nodes_sub = nodes_in[nodes_in['id'].isin(case_ids)]\n",
    "        links_sub = links_in[links_in['source'].isin(case_ids)]\n",
    "        links_sub = links_sub[links_sub['target'].isin(case_ids)]\n",
    "    \n",
    "    if exclude_singletons:\n",
    "        case_ids = set(links_sub['source']).union(set(links_sub['target']))\n",
    "        nodes_sub = nodes_in[nodes_in['id'].isin(case_ids)]\n",
    "\n",
    "    return nodes_sub, links_sub"
   ]
  },
  {
   "cell_type": "code",
   "execution_count": 78,
   "metadata": {
    "collapsed": true
   },
   "outputs": [],
   "source": [
    "def save_network(nodes_sub, links_sub, title, filename):\n",
    "    nodes = nodes_sub.copy()\n",
    "    links = links_sub.copy()\n",
    "    \n",
    "    lido_url = 'http://linkeddata.overheid.nl/terms/jurisprudentie/id/'\n",
    "    rechtspraak_url = 'https://uitspraken.rechtspraak.nl/inziendocument?id='\n",
    "    nodes['id'] = nodes['id'].str.replace(lido_url, rechtspraak_url)\n",
    "    for a in ['link_id', 'source', 'target']:\n",
    "        links[a] = links[a].str.replace(lido_url, rechtspraak_url)\n",
    "    links = links.rename(columns={'link_id': 'id'})\n",
    "    nodes = nodes.fillna('')\n",
    "    nodes, links = caselawnet.get_network(nodes.to_dict(orient='rows'), links.to_dict(orient='rows'))\n",
    "    caselawnet.utils.to_sigma_json(nodes, links, title, filename)"
   ]
  },
  {
   "cell_type": "markdown",
   "metadata": {},
   "source": [
    "# Example: employer liability"
   ]
  },
  {
   "cell_type": "code",
   "execution_count": 91,
   "metadata": {
    "collapsed": false
   },
   "outputs": [
    {
     "name": "stdout",
     "output_type": "stream",
     "text": [
      "(127, 9) (53, 5)\n"
     ]
    }
   ],
   "source": [
    "nodes_wga, links_wga = create_subnetwork(\n",
    "    [\"Burgerlijk Wetboek Boek 7, Artikel 658\", \"Burgerlijk Wetboek Boek 7, Artikel 611\"], \n",
    "    case_to_leg, cases, cases_links)\n",
    "save_network(nodes_wga, links_wga, 'wga', os.path.join(inputpath, 'subnetworks/wga.json'))\n",
    "print(nodes_wga.shape, links_wga.shape)"
   ]
  },
  {
   "cell_type": "code",
   "execution_count": 92,
   "metadata": {
    "collapsed": false
   },
   "outputs": [
    {
     "name": "stdout",
     "output_type": "stream",
     "text": [
      "(197, 10) (154, 5)\n"
     ]
    }
   ],
   "source": [
    "nodes_wga_extended, links_wga_extended = create_subnetwork(\n",
    "    [\"Burgerlijk Wetboek Boek 7, Artikel 658\", \"Burgerlijk Wetboek Boek 7, Artikel 611\"], \n",
    "    case_to_leg, cases, cases_links, include_referenced=True)\n",
    "save_network(nodes_wga_extended, links_wga_extended, 'wga extended', os.path.join(inputpath, 'subnetworks/wga_extended.json'))\n",
    "print(nodes_wga_extended.shape, links_wga_extended.shape)"
   ]
  },
  {
   "cell_type": "code",
   "execution_count": 93,
   "metadata": {
    "collapsed": false
   },
   "outputs": [
    {
     "name": "stdout",
     "output_type": "stream",
     "text": [
      "(146, 9) (154, 5)\n"
     ]
    }
   ],
   "source": [
    "nodes_wga_extended2, links_wga_extended2 = create_subnetwork(\n",
    "    [\"Burgerlijk Wetboek Boek 7, Artikel 658\", \"Burgerlijk Wetboek Boek 7, Artikel 611\"], \n",
    "    case_to_leg, cases, cases_links, include_referenced=True, exclude_singletons=True)\n",
    "save_network(nodes_wga_extended2, links_wga_extended2, 'wga extended', os.path.join(inputpath, 'subnetworks/wga_extended_connected.json'))\n",
    "print(nodes_wga_extended2.shape, links_wga_extended2.shape)"
   ]
  },
  {
   "cell_type": "markdown",
   "metadata": {},
   "source": [
    "# Now for all communities"
   ]
  },
  {
   "cell_type": "code",
   "execution_count": 109,
   "metadata": {
    "collapsed": false
   },
   "outputs": [
    {
     "data": {
      "text/html": [
       "<div>\n",
       "<style>\n",
       "    .dataframe thead tr:only-child th {\n",
       "        text-align: right;\n",
       "    }\n",
       "\n",
       "    .dataframe thead th {\n",
       "        text-align: left;\n",
       "    }\n",
       "\n",
       "    .dataframe tbody tr th {\n",
       "        vertical-align: top;\n",
       "    }\n",
       "</style>\n",
       "<table border=\"1\" class=\"dataframe\">\n",
       "  <thead>\n",
       "    <tr style=\"text-align: right;\">\n",
       "      <th></th>\n",
       "      <th>link_id</th>\n",
       "      <th>source</th>\n",
       "      <th>target</th>\n",
       "      <th>link_type</th>\n",
       "      <th>link_type_label</th>\n",
       "    </tr>\n",
       "  </thead>\n",
       "  <tbody>\n",
       "    <tr>\n",
       "      <th>6582</th>\n",
       "      <td>http://linkeddata.overheid.nl/terms/linktype/i...</td>\n",
       "      <td>http://linkeddata.overheid.nl/terms/jurisprude...</td>\n",
       "      <td>http://linkeddata.overheid.nl/terms/jurisprude...</td>\n",
       "      <td>http://linkeddata.overheid.nl/terms/linktype/i...</td>\n",
       "      <td>Door computer herkende referentie</td>\n",
       "    </tr>\n",
       "    <tr>\n",
       "      <th>6835</th>\n",
       "      <td>http://linkeddata.overheid.nl/terms/linktype/i...</td>\n",
       "      <td>http://linkeddata.overheid.nl/terms/jurisprude...</td>\n",
       "      <td>http://linkeddata.overheid.nl/terms/jurisprude...</td>\n",
       "      <td>http://linkeddata.overheid.nl/terms/linktype/i...</td>\n",
       "      <td>Door computer herkende referentie</td>\n",
       "    </tr>\n",
       "    <tr>\n",
       "      <th>6866</th>\n",
       "      <td>http://linkeddata.overheid.nl/terms/linktype/i...</td>\n",
       "      <td>http://linkeddata.overheid.nl/terms/jurisprude...</td>\n",
       "      <td>http://linkeddata.overheid.nl/terms/jurisprude...</td>\n",
       "      <td>http://linkeddata.overheid.nl/terms/linktype/i...</td>\n",
       "      <td>Door computer herkende referentie</td>\n",
       "    </tr>\n",
       "    <tr>\n",
       "      <th>6878</th>\n",
       "      <td>http://linkeddata.overheid.nl/terms/linktype/i...</td>\n",
       "      <td>http://linkeddata.overheid.nl/terms/jurisprude...</td>\n",
       "      <td>http://linkeddata.overheid.nl/terms/jurisprude...</td>\n",
       "      <td>http://linkeddata.overheid.nl/terms/linktype/i...</td>\n",
       "      <td>Door computer herkende referentie</td>\n",
       "    </tr>\n",
       "    <tr>\n",
       "      <th>6879</th>\n",
       "      <td>http://linkeddata.overheid.nl/terms/linktype/i...</td>\n",
       "      <td>http://linkeddata.overheid.nl/terms/jurisprude...</td>\n",
       "      <td>http://linkeddata.overheid.nl/terms/jurisprude...</td>\n",
       "      <td>http://linkeddata.overheid.nl/terms/linktype/i...</td>\n",
       "      <td>Door computer herkende referentie</td>\n",
       "    </tr>\n",
       "  </tbody>\n",
       "</table>\n",
       "</div>"
      ],
      "text/plain": [
       "                                                link_id  \\\n",
       "6582  http://linkeddata.overheid.nl/terms/linktype/i...   \n",
       "6835  http://linkeddata.overheid.nl/terms/linktype/i...   \n",
       "6866  http://linkeddata.overheid.nl/terms/linktype/i...   \n",
       "6878  http://linkeddata.overheid.nl/terms/linktype/i...   \n",
       "6879  http://linkeddata.overheid.nl/terms/linktype/i...   \n",
       "\n",
       "                                                 source  \\\n",
       "6582  http://linkeddata.overheid.nl/terms/jurisprude...   \n",
       "6835  http://linkeddata.overheid.nl/terms/jurisprude...   \n",
       "6866  http://linkeddata.overheid.nl/terms/jurisprude...   \n",
       "6878  http://linkeddata.overheid.nl/terms/jurisprude...   \n",
       "6879  http://linkeddata.overheid.nl/terms/jurisprude...   \n",
       "\n",
       "                                                 target  \\\n",
       "6582  http://linkeddata.overheid.nl/terms/jurisprude...   \n",
       "6835  http://linkeddata.overheid.nl/terms/jurisprude...   \n",
       "6866  http://linkeddata.overheid.nl/terms/jurisprude...   \n",
       "6878  http://linkeddata.overheid.nl/terms/jurisprude...   \n",
       "6879  http://linkeddata.overheid.nl/terms/jurisprude...   \n",
       "\n",
       "                                              link_type  \\\n",
       "6582  http://linkeddata.overheid.nl/terms/linktype/i...   \n",
       "6835  http://linkeddata.overheid.nl/terms/linktype/i...   \n",
       "6866  http://linkeddata.overheid.nl/terms/linktype/i...   \n",
       "6878  http://linkeddata.overheid.nl/terms/linktype/i...   \n",
       "6879  http://linkeddata.overheid.nl/terms/linktype/i...   \n",
       "\n",
       "                        link_type_label  \n",
       "6582  Door computer herkende referentie  \n",
       "6835  Door computer herkende referentie  \n",
       "6866  Door computer herkende referentie  \n",
       "6878  Door computer herkende referentie  \n",
       "6879  Door computer herkende referentie  "
      ]
     },
     "execution_count": 109,
     "metadata": {},
     "output_type": "execute_result"
    }
   ],
   "source": [
    "links.head()"
   ]
  },
  {
   "cell_type": "code",
   "execution_count": 115,
   "metadata": {
    "collapsed": false
   },
   "outputs": [
    {
     "name": "stderr",
     "output_type": "stream",
     "text": [
      "/home/dafne/anaconda2/envs/caselaw/lib/python3.5/site-packages/caselawnet/network_analysis.py:32: Warning: HITS algorithm did not converge!\n",
      "  Warning)\n"
     ]
    }
   ],
   "source": [
    "for i, comm in communities.iterrows():\n",
    "        comm_nr = comm['community']\n",
    "        leg_names = list(leg_to_leg_nodes[leg_to_leg_nodes['louvain_weighted_sub']==comm_nr]['name'])\n",
    "        # Regular\n",
    "        nodes, links = create_subnetwork(leg_names, case_to_leg, cases, cases_links)\n",
    "        save_network(nodes, links, comm['nodes'], os.path.join(inputpath, 'subnetworks', str(comm_nr)+'.json'))\n",
    "        # No singletons\n",
    "        nodes, links = create_subnetwork(leg_names, case_to_leg, cases, cases_links, exclude_singletons=True)\n",
    "        communities.loc[i, 'nr_connected'] = len(nodes)\n",
    "        save_network(nodes, links, comm['nodes'], \n",
    "                     os.path.join(inputpath, 'subnetworks', str(comm_nr)+'_connected.json'))\n",
    "         # Extended\n",
    "        nodes, links = create_subnetwork(leg_names, case_to_leg, cases, cases_links, include_referenced=True)\n",
    "        communities.loc[i, 'nr_extended'] = len(nodes)\n",
    "        save_network(nodes, links, comm['nodes'], \n",
    "                     os.path.join(inputpath, 'subnetworks', str(comm_nr)+'_extended.json'))\n",
    "        # Extended, no singletons\n",
    "        nodes, links = create_subnetwork(leg_names, case_to_leg, cases, cases_links, include_referenced=True, \n",
    "                                         exclude_singletons=True)\n",
    "        communities.loc[i, 'nr_extended_connected'] = len(nodes)\n",
    "        save_network(nodes, links, comm['nodes'], \n",
    "                     os.path.join(inputpath, 'subnetworks', str(comm_nr)+'_extended_connected.json'))"
   ]
  },
  {
   "cell_type": "code",
   "execution_count": 123,
   "metadata": {
    "collapsed": false
   },
   "outputs": [],
   "source": [
    "communities.to_csv(os.path.join(inputpath, 'leg_to_leg_communities_counts.csv'), index=False)"
   ]
  },
  {
   "cell_type": "code",
   "execution_count": null,
   "metadata": {
    "collapsed": true
   },
   "outputs": [],
   "source": []
  }
 ],
 "metadata": {
  "kernelspec": {
   "display_name": "Python [conda env:caselaw]",
   "language": "python",
   "name": "conda-env-caselaw-py"
  },
  "language_info": {
   "codemirror_mode": {
    "name": "ipython",
    "version": 3
   },
   "file_extension": ".py",
   "mimetype": "text/x-python",
   "name": "python",
   "nbconvert_exporter": "python",
   "pygments_lexer": "ipython3",
   "version": "3.5.2"
  }
 },
 "nbformat": 4,
 "nbformat_minor": 0
}
