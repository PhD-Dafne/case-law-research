{
 "cells": [
  {
   "cell_type": "markdown",
   "metadata": {},
   "source": [
    "Implementation of the proposed method inL Bommarito II, Michael J., et al. \"Distance measures for dynamic citation networks.\" *Physica A: Statistical Mechanics and its Applications* 389.19 (2010): 4201-4208."
   ]
  },
  {
   "cell_type": "code",
   "execution_count": 28,
   "metadata": {
    "collapsed": true
   },
   "outputs": [],
   "source": [
    "%matplotlib inline\n",
    "import pandas as pd\n",
    "import os\n",
    "import networkx as nx\n",
    "import matplotlib.pyplot as plt\n",
    "import numpy as np\n",
    "import sklearn.cluster\n",
    "import json"
   ]
  },
  {
   "cell_type": "markdown",
   "metadata": {},
   "source": [
    "## Open network file"
   ]
  },
  {
   "cell_type": "code",
   "execution_count": 29,
   "metadata": {},
   "outputs": [],
   "source": [
    "filepath = '/media/sf_VBox_Shared/CaseLaw/2018-01-29-lido/derived/subnetwork/article/no_phr/'\n",
    "with open(os.path.join(filepath, 'network_gcc.json')) as f:\n",
    "    nw = json.load(f)\n",
    "graph = nx.readwrite.json_graph.node_link_graph({'nodes': nw['nodes'], 'links': nw['edges']}, \n",
    "                                                directed=True, multigraph=False)"
   ]
  },
  {
   "cell_type": "markdown",
   "metadata": {},
   "source": [
    "## Checks and cleaning"
   ]
  },
  {
   "cell_type": "code",
   "execution_count": 30,
   "metadata": {},
   "outputs": [
    {
     "data": {
      "text/plain": [
       "True"
      ]
     },
     "execution_count": 30,
     "metadata": {},
     "output_type": "execute_result"
    }
   ],
   "source": [
    "# check that we have one weakly connected component\n",
    "nx.is_weakly_connected(graph)"
   ]
  },
  {
   "cell_type": "code",
   "execution_count": 31,
   "metadata": {
    "collapsed": true
   },
   "outputs": [],
   "source": [
    "# Clean up: remove cycles\n",
    "self_loops = [(a,b) for a, b in graph.edges if a==b]\n",
    "graph.remove_edges_from(self_loops)\n",
    "\n",
    "cycles = nx.algorithms.cycles.simple_cycles(graph)\n",
    "for c in cycles:\n",
    "    if len(c)==2:\n",
    "        a, b = c\n",
    "        if a<b:\n",
    "            graph.remove_edge(b,a)\n",
    "        else:\n",
    "            graph.remove_edge(a,b)"
   ]
  },
  {
   "cell_type": "code",
   "execution_count": 32,
   "metadata": {},
   "outputs": [
    {
     "data": {
      "text/plain": [
       "True"
      ]
     },
     "execution_count": 32,
     "metadata": {},
     "output_type": "execute_result"
    }
   ],
   "source": [
    "# Check if is DAG\n",
    "nx.algorithms.dag.is_directed_acyclic_graph(graph)"
   ]
  },
  {
   "cell_type": "code",
   "execution_count": 33,
   "metadata": {},
   "outputs": [
    {
     "data": {
      "text/plain": [
       "(338, 581)"
      ]
     },
     "execution_count": 33,
     "metadata": {},
     "output_type": "execute_result"
    }
   ],
   "source": [
    "graph.number_of_nodes(), graph.number_of_edges()"
   ]
  },
  {
   "cell_type": "markdown",
   "metadata": {},
   "source": [
    "## Citation distance "
   ]
  },
  {
   "cell_type": "code",
   "execution_count": 34,
   "metadata": {
    "collapsed": true
   },
   "outputs": [],
   "source": [
    "# Retrieve the sinks (nodes with out-degree zero)\n",
    "sinks = [key for key, outdegree in graph.out_degree() if outdegree==0]"
   ]
  },
  {
   "cell_type": "code",
   "execution_count": 35,
   "metadata": {},
   "outputs": [
    {
     "data": {
      "text/plain": [
       "122"
      ]
     },
     "execution_count": 35,
     "metadata": {},
     "output_type": "execute_result"
    }
   ],
   "source": [
    "len(sinks)"
   ]
  },
  {
   "cell_type": "code",
   "execution_count": 36,
   "metadata": {
    "collapsed": true
   },
   "outputs": [],
   "source": [
    "# Calculate the shortest paths from all nodes to all sinks\n",
    "paths = {s: nx.shortest_path_length(graph, target=s) for s in sinks}\n",
    "paths_df = pd.DataFrame(paths)#, index=graph.nodes)\n",
    "paths_nonzero_df = 1*~paths_df.isnull()\n",
    "a_paths_nonzero = paths_nonzero_df.values"
   ]
  },
  {
   "cell_type": "code",
   "execution_count": 37,
   "metadata": {},
   "outputs": [
    {
     "data": {
      "text/plain": [
       "(338, 122)"
      ]
     },
     "execution_count": 37,
     "metadata": {},
     "output_type": "execute_result"
    }
   ],
   "source": [
    "a_paths_nonzero.shape"
   ]
  },
  {
   "cell_type": "code",
   "execution_count": 38,
   "metadata": {
    "collapsed": true
   },
   "outputs": [],
   "source": [
    "# Calculate jaccard distance between pairs of node\n",
    "m = a_paths_nonzero\n",
    "intersect = m.dot(m.T)\n",
    "union = m.dot(np.ones(m.shape).T) + np.ones(m.shape).dot(m.T) -intersect\n",
    "union[union==0] = 1\n",
    "dist1 = 1 - intersect/union"
   ]
  },
  {
   "cell_type": "code",
   "execution_count": 27,
   "metadata": {},
   "outputs": [],
   "source": [
    "# To do:weight corrected paths"
   ]
  },
  {
   "cell_type": "code",
   "execution_count": 12,
   "metadata": {},
   "outputs": [
    {
     "name": "stdout",
     "output_type": "stream",
     "text": [
      "True\n",
      "True\n",
      "True\n"
     ]
    },
    {
     "data": {
      "text/plain": [
       "0.0"
      ]
     },
     "execution_count": 12,
     "metadata": {},
     "output_type": "execute_result"
    }
   ],
   "source": [
    "# Check if symmetric\n",
    "print(np.all(intersect==intersect.T))\n",
    "print(np.all(union==union.T))\n",
    "print(np.all(dist1==dist1.T))\n",
    "\n",
    "# check diagonal is 0\n",
    "sum(dist1.diagonal())"
   ]
  },
  {
   "cell_type": "code",
   "execution_count": 47,
   "metadata": {},
   "outputs": [
    {
     "data": {
      "image/png": "[encoded data removed]",
      "text/plain": [
       "<Figure size 432x288 with 1 Axes>"
      ]
     },
     "metadata": {},
     "output_type": "display_data"
    }
   ],
   "source": [
    "# What are the values of these distances?\n",
    "plt.hist(dist1.flat, bins=np.arange(0, 1, .05));"
   ]
  },
  {
   "cell_type": "code",
   "execution_count": 14,
   "metadata": {},
   "outputs": [
    {
     "data": {
      "text/plain": [
       "<matplotlib.image.AxesImage at 0x7f78ce34d860>"
      ]
     },
     "execution_count": 14,
     "metadata": {},
     "output_type": "execute_result"
    },
    {
     "data": {
      "image/png": "[encoded data removed]",
      "text/plain": [
       "<Figure size 432x288 with 1 Axes>"
      ]
     },
     "metadata": {},
     "output_type": "display_data"
    }
   ],
   "source": [
    "plt.imshow(dist1)"
   ]
  },
  {
   "cell_type": "code",
   "execution_count": 15,
   "metadata": {
    "collapsed": true
   },
   "outputs": [],
   "source": [
    "import scipy.cluster"
   ]
  },
  {
   "cell_type": "code",
   "execution_count": 16,
   "metadata": {},
   "outputs": [],
   "source": [
    "cl2 = scipy.cluster.hierarchy.linkage(scipy.spatial.distance.squareform(dist1), method='single')"
   ]
  },
  {
   "cell_type": "code",
   "execution_count": 17,
   "metadata": {},
   "outputs": [
    {
     "data": {
      "text/plain": [
       "(337, 4)"
      ]
     },
     "execution_count": 17,
     "metadata": {},
     "output_type": "execute_result"
    }
   ],
   "source": [
    "cl2.shape"
   ]
  },
  {
   "cell_type": "code",
   "execution_count": 18,
   "metadata": {},
   "outputs": [
    {
     "data": {
      "image/png": "[encoded data removed]",
      "text/plain": [
       "<Figure size 1800x720 with 1 Axes>"
      ]
     },
     "metadata": {},
     "output_type": "display_data"
    }
   ],
   "source": [
    "# Plot the hierarchy dendogram\n",
    "fig = plt.figure(figsize=(25, 10))\n",
    "scipy.cluster.hierarchy.dendrogram(cl2);"
   ]
  },
  {
   "cell_type": "code",
   "execution_count": 19,
   "metadata": {},
   "outputs": [
    {
     "data": {
      "image/png": "[encoded data removed]",
      "text/plain": [
       "<Figure size 432x288 with 1 Axes>"
      ]
     },
     "metadata": {},
     "output_type": "display_data"
    }
   ],
   "source": [
    "# How many clusters do we have for different distance cut-off values\n",
    "t_range = np.arange(0, 1, 0.05)\n",
    "nr_clusters = [len(set(scipy.cluster.hierarchy.fcluster(cl2, t, criterion='distance'))) for t in t_range]\n",
    "plt.plot(t_range, nr_clusters);"
   ]
  },
  {
   "cell_type": "code",
   "execution_count": 21,
   "metadata": {},
   "outputs": [],
   "source": [
    "# Create the clustering for different cutoff values\n",
    "clusters_df = pd.DataFrame()\n",
    "for t in np.arange(0.1, 1, 0.1):\n",
    "    clusters = scipy.cluster.hierarchy.fcluster(cl2, t, criterion='distance')\n",
    "    clusters_s = pd.Series({paths_nonzero_df.index[i]: int(clusters[i]) for i in range(len(clusters))})\n",
    "    clusters_df['cluster_{:.1f}'.format(t)] = clusters_s"
   ]
  },
  {
   "cell_type": "code",
   "execution_count": 22,
   "metadata": {},
   "outputs": [
    {
     "name": "stdout",
     "output_type": "stream",
     "text": [
      "65    29\n",
      "86    13\n",
      "84    11\n",
      "87    10\n",
      "40    10\n",
      "Name: cluster_0.1, dtype: int64\n",
      "61    40\n",
      "63    20\n",
      "65    13\n",
      "64    12\n",
      "40    10\n",
      "Name: cluster_0.2, dtype: int64\n",
      "58    40\n",
      "60    32\n",
      "61    13\n",
      "71    10\n",
      "62    10\n",
      "Name: cluster_0.3, dtype: int64\n",
      "55    85\n",
      "56    13\n",
      "66    10\n",
      "40    10\n",
      "57    10\n",
      "Name: cluster_0.4, dtype: int64\n",
      "41    101\n",
      "42     23\n",
      "51     18\n",
      "40     14\n",
      "34     13\n",
      "Name: cluster_0.5, dtype: int64\n",
      "40    138\n",
      "48     21\n",
      "34     13\n",
      "9       7\n",
      "32      5\n",
      "Name: cluster_0.6, dtype: int64\n",
      "28    139\n",
      "33     26\n",
      "24     19\n",
      "9       7\n",
      "23      5\n",
      "Name: cluster_0.7, dtype: int64\n",
      "24    200\n",
      "9       7\n",
      "23      5\n",
      "12      5\n",
      "21      4\n",
      "Name: cluster_0.8, dtype: int64\n",
      "11    259\n",
      "9       7\n",
      "1       3\n",
      "6       2\n",
      "8       2\n",
      "Name: cluster_0.9, dtype: int64\n"
     ]
    }
   ],
   "source": [
    "# How large are the largest clusters?\n",
    "for t in np.arange(0.1, 1, 0.1):\n",
    "    print(clusters_df['cluster_{:.1f}'.format(t)].value_counts().head(5))"
   ]
  },
  {
   "cell_type": "markdown",
   "metadata": {},
   "source": [
    "## Save clustering"
   ]
  },
  {
   "cell_type": "code",
   "execution_count": 23,
   "metadata": {},
   "outputs": [],
   "source": [
    "for t in np.arange(0.1, 1, 0.1):\n",
    "    att = 'cluster_{:.1f}'.format(t)\n",
    "    c = clusters_df[att.format(t)].to_dict()\n",
    "    nx.set_node_attributes(graph, {n: int(c[n]) for n in c}, name=att)"
   ]
  },
  {
   "cell_type": "code",
   "execution_count": 24,
   "metadata": {},
   "outputs": [],
   "source": [
    "fp_out = '/media/sf_VBox_Shared/CaseLaw/2018-01-29-lido/derived/subnetwork/article/no_phr/communities/'\n",
    "\n",
    "for t in np.arange(0.2, 1, 0.2):\n",
    "    nw_t = {'title': nw['title']+' threshold {:.1f}'.format(t),\n",
    "           'edges': nw['edges'],\n",
    "           'nodes': [n.copy() for n in nw['nodes']] }\n",
    "    for n in nw_t['nodes']:\n",
    "        n['community'] = str(clusters_df.loc[n['id'],'cluster_{:.1f}'.format(t)])\n",
    "    with open(os.path.join(fp_out, 'network_citdis_{:.1f}.json'.format(t)), 'w') as f:\n",
    "        json.dump(nw_t, f, indent=True)"
   ]
  },
  {
   "cell_type": "code",
   "execution_count": 25,
   "metadata": {},
   "outputs": [],
   "source": [
    "arts = nx.get_node_attributes(graph, 'articles')\n",
    "nx.set_node_attributes(graph, {k: ' '.join(arts[k]) for k in arts}, 'articles')"
   ]
  },
  {
   "cell_type": "code",
   "execution_count": 26,
   "metadata": {},
   "outputs": [],
   "source": [
    "#nx.readwrite.gexf.write_gexf(graph, '/media/sf_VBox_Shared/CaseLaw/2018-01-29-lido/derived/subnetwork/network-clusters.gexf')\n",
    "nx.readwrite.gexf.write_gexf(graph, os.path.join(fp_out, 'network_citdis.gexf'))"
   ]
  },
  {
   "cell_type": "code",
   "execution_count": null,
   "metadata": {
    "collapsed": true
   },
   "outputs": [],
   "source": []
  }
 ],
 "metadata": {
  "anaconda-cloud": {},
  "kernelspec": {
   "display_name": "Python [conda env:caselaw]",
   "language": "python",
   "name": "conda-env-caselaw-py"
  },
  "language_info": {
   "codemirror_mode": {
    "name": "ipython",
    "version": 3
   },
   "file_extension": ".py",
   "mimetype": "text/x-python",
   "name": "python",
   "nbconvert_exporter": "python",
   "pygments_lexer": "ipython3",
   "version": "3.5.5"
  }
 },
 "nbformat": 4,
 "nbformat_minor": 2
}
