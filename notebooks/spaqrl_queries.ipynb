{
 "cells": [
  {
   "cell_type": "code",
   "execution_count": null,
   "metadata": {},
   "outputs": [],
   "source": [
    "from SPARQLWrapper import SPARQLWrapper, JSON\n",
    "import os\n",
    "import pandas as pd\n",
    "\n",
    "%matplotlib inline"
   ]
  },
  {
   "cell_type": "code",
   "execution_count": null,
   "metadata": {},
   "outputs": [],
   "source": [
    "sparql = SPARQLWrapper(\"http://localhost:8080/blazegraph-2.1.4/namespace/Regellinks/sparql\")"
   ]
  },
  {
   "cell_type": "code",
   "execution_count": null,
   "metadata": {},
   "outputs": [],
   "source": [
    "def sparql_result_to_df(result):\n",
    "    cols = result['head']['vars']\n",
    "    rows_dicts = result['results']['bindings']\n",
    "    rows = [{c: r.get(c, {'value': None})['value'] for c in cols} for r in rows_dicts]\n",
    "    return pd.DataFrame(rows)[cols]"
   ]
  },
  {
   "cell_type": "code",
   "execution_count": null,
   "metadata": {},
   "outputs": [],
   "source": [
    "# How many triples do we have?\n",
    "queryString = \"\"\"\n",
    "    select (count(?s) as ?count)\n",
    "    {\n",
    "        ?s ?p ?o.\n",
    "    }\n",
    "\"\"\"\n",
    "\n",
    "sparql.setQuery(queryString)\n",
    "sparql.setReturnFormat(JSON)\n",
    "ret = sparql.query()\n",
    "result = ret.convert()\n",
    "sparql_result_to_df(result)"
   ]
  },
  {
   "cell_type": "code",
   "execution_count": null,
   "metadata": {},
   "outputs": [],
   "source": [
    "queryString = \"\"\"\n",
    "    prefix rdf: <http://www.w3.org/1999/02/22-rdf-syntax-ns#> \n",
    "    select ?type (count(?s) as ?count)\n",
    "    {\n",
    "        ?s rdf:type ?type.\n",
    "    }\n",
    "    group by ?type\n",
    "    order by desc(?count)\n",
    "\"\"\"\n",
    "\n",
    "sparql.setQuery(queryString)\n",
    "sparql.setReturnFormat(JSON)\n",
    "ret = sparql.query()\n",
    "result = ret.convert()\n",
    "sparql_result_to_df(result)"
   ]
  },
  {
   "cell_type": "code",
   "execution_count": null,
   "metadata": {},
   "outputs": [],
   "source": [
    "queryString = \"\"\"\n",
    "    prefix dcterm: <http://purl.org/dc/terms/> \n",
    "    select ?type (count(?s) as ?count)\n",
    "    {\n",
    "        ?s dcterm:type ?type.\n",
    "    }\n",
    "    group by ?type\n",
    "    order by desc(?count)\n",
    "\"\"\"\n",
    "\n",
    "sparql.setQuery(queryString)\n",
    "sparql.setReturnFormat(JSON)\n",
    "ret = sparql.query()\n",
    "result = ret.convert()\n",
    "sparql_result_to_df(result)"
   ]
  },
  {
   "cell_type": "code",
   "execution_count": null,
   "metadata": {},
   "outputs": [],
   "source": [
    "# what attributes does jurispidentie have\n",
    "queryString = \"\"\"\n",
    "    prefix rdf: <http://www.w3.org/1999/02/22-rdf-syntax-ns#> \n",
    "    select ?p (count(?o) as ?count) \n",
    "    {\n",
    "        ?s rdf:type <http://linkeddata.overheid.nl/terms/Jurisprudentie>.\n",
    "        ?s ?p ?o.\n",
    "    }\n",
    "    group by ?p\n",
    "    having(count(?o)>1)\n",
    "    order by ?p\n",
    "\"\"\"\n",
    "\n",
    "sparql.setQuery(queryString)\n",
    "sparql.setReturnFormat(JSON)\n",
    "ret = sparql.query()\n",
    "result = ret.convert()\n",
    "sparql_result_to_df(result)"
   ]
  },
  {
   "cell_type": "markdown",
   "metadata": {},
   "source": [
    "## Legislation"
   ]
  },
  {
   "cell_type": "code",
   "execution_count": null,
   "metadata": {},
   "outputs": [],
   "source": [
    "# Legislation titles\n",
    "queryString = \"\"\"\n",
    "    prefix dcterm: <http://purl.org/dc/terms/> \n",
    "    prefix overheidrl: <http://linkeddata.overheid.nl/terms/>\n",
    "    prefix rdf: <http://www.w3.org/1999/02/22-rdf-syntax-ns#> \n",
    "    select ?article ?title \n",
    "    {\n",
    "        ?article rdf:type <http://linkeddata.overheid.nl/terms/Wet>.\n",
    "        ?article dcterm:title ?title\n",
    "    }\n",
    "    limit 100\n",
    "\"\"\"\n",
    "\n",
    "sparql.setQuery(queryString)\n",
    "sparql.setReturnFormat(JSON)\n",
    "ret = sparql.query()\n",
    "result = ret.convert()\n",
    "law_titles = sparql_result_to_df(result)\n",
    "law_titles #.sort_values('cnt', ascending=False)"
   ]
  },
  {
   "cell_type": "markdown",
   "metadata": {},
   "source": [
    "## Links"
   ]
  },
  {
   "cell_type": "code",
   "execution_count": null,
   "metadata": {},
   "outputs": [],
   "source": [
    "# Link types\n",
    "queryString = \"\"\"\n",
    "    prefix dcterm: <http://purl.org/dc/terms/> \n",
    "    prefix overheidrl: <http://linkeddata.overheid.nl/terms/>\n",
    "    prefix rdf: <http://www.w3.org/1999/02/22-rdf-syntax-ns#> \n",
    "    select ?link_type (count(*) as ?cnt)\n",
    "    {\n",
    "        ?link_id overheidrl:heeftLinktype ?link_type.\n",
    "    }\n",
    "    group by ?link_type\n",
    "    order by desc(?cnt)\n",
    "\"\"\"\n",
    "\n",
    "sparql.setQuery(queryString)\n",
    "sparql.setReturnFormat(JSON)\n",
    "ret = sparql.query()\n",
    "result = ret.convert()\n",
    "link_titles = sparql_result_to_df(result)\n",
    "link_titles.head(30)"
   ]
  },
  {
   "cell_type": "code",
   "execution_count": null,
   "metadata": {},
   "outputs": [],
   "source": [
    "for l in link_titles.head(20)['link_type']:\n",
    "    print(l)"
   ]
  },
  {
   "cell_type": "code",
   "execution_count": null,
   "metadata": {},
   "outputs": [],
   "source": [
    "# Link types\n",
    "queryString = \"\"\"\n",
    "    prefix dcterm: <http://purl.org/dc/terms/> \n",
    "    prefix overheidrl: <http://linkeddata.overheid.nl/terms/>\n",
    "    prefix rdf: <http://www.w3.org/1999/02/22-rdf-syntax-ns#> \n",
    "    select ?sourceType ?targetType (count(*) as ?cnt)\n",
    "    {\n",
    "        ?target rdf:type ?targetType.\n",
    "        ?source rdf:type ?sourceType.\n",
    "        ?link_id overheidrl:heeftLinktype <http://linkeddata.overheid.nl/terms/linktype/id/lx-referentie>.\n",
    "        ?link_id overheidrl:linktNaar  ?target.\n",
    "        ?link_id overheidrl:linktVan ?source\n",
    "    }\n",
    "    group by ?sourceType ?targetType\n",
    "    order by desc(?cnt)\n",
    "\"\"\"\n",
    "\n",
    "sparql.setQuery(queryString)\n",
    "sparql.setReturnFormat(JSON)\n",
    "ret = sparql.query()\n",
    "result = ret.convert()\n",
    "link_types = sparql_result_to_df(result)\n",
    "link_types"
   ]
  },
  {
   "cell_type": "code",
   "execution_count": null,
   "metadata": {},
   "outputs": [],
   "source": [
    "link_types.to_csv('link_types.csv')"
   ]
  },
  {
   "cell_type": "code",
   "execution_count": null,
   "metadata": {},
   "outputs": [],
   "source": [
    "# Links from cases to cases\n",
    "queryString = \"\"\"\n",
    "    prefix dcterm: <http://purl.org/dc/terms/> \n",
    "    prefix overheidrl: <http://linkeddata.overheid.nl/terms/>\n",
    "    prefix rdf: <http://www.w3.org/1999/02/22-rdf-syntax-ns#> \n",
    "    select ?link_id ?source ?target ?linktype\n",
    "    {\n",
    "        ?target rdf:type overheidrl:Jurisprudentie.\n",
    "        ?source rdf:type overheidrl:Jurisprudentie.\n",
    "        ?link_id overheidrl:heeftLinktype ?linktype.\n",
    "        ?link_id overheidrl:linktNaar  ?target.\n",
    "        ?link_id overheidrl:linktVan ?source\n",
    "    }\n",
    "\"\"\"\n",
    "\n",
    "sparql.setQuery(queryString)\n",
    "sparql.setReturnFormat(JSON)\n",
    "ret = sparql.query()\n",
    "result = ret.convert()\n",
    "case_to_case_links = sparql_result_to_df(result)\n",
    "print(case_to_case_links.shape)\n",
    "case_to_case_links.head()"
   ]
  },
  {
   "cell_type": "code",
   "execution_count": null,
   "metadata": {},
   "outputs": [],
   "source": [
    "case_to_case_links.to_csv('case_to_case_links.csv', index=False)"
   ]
  },
  {
   "cell_type": "code",
   "execution_count": null,
   "metadata": {},
   "outputs": [],
   "source": [
    "case_to_case_links_lx = case_to_case_links[\n",
    "    case_to_case_links['linktype']=='http://linkeddata.overheid.nl/terms/linktype/id/lx-referentie']\n",
    "case_to_case_links_lx = case_to_case_links_lx[['link_id', 'source', 'target']]\n",
    "print(case_to_case_links_lx.shape, case_to_case_links_lx.drop_duplicates().shape)"
   ]
  },
  {
   "cell_type": "code",
   "execution_count": null,
   "metadata": {},
   "outputs": [],
   "source": [
    "case_to_case_links_lx.to_csv('case_to_case_lx_links.csv', index=False)"
   ]
  },
  {
   "cell_type": "code",
   "execution_count": null,
   "metadata": {},
   "outputs": [],
   "source": [
    "case_to_case_links.groupby('linktype').count()['link_id'].sort_values(ascending=False)"
   ]
  },
  {
   "cell_type": "code",
   "execution_count": null,
   "metadata": {},
   "outputs": [],
   "source": [
    "# Case - Legislation network\n",
    "queryString = \"\"\"\n",
    "    prefix dcterm: <http://purl.org/dc/terms/> \n",
    "    prefix overheidrl: <http://linkeddata.overheid.nl/terms/>\n",
    "    prefix rdf: <http://www.w3.org/1999/02/22-rdf-syntax-ns#> \n",
    "    select ?link_id ?source ?target ?linktype\n",
    "    {\n",
    "        ?target rdf:type overheidrl:Artikel.\n",
    "        ?source rdf:type overheidrl:Jurisprudentie.\n",
    "        ?link_id overheidrl:heeftLinktype ?linktype.\n",
    "        ?link_id overheidrl:linktNaar  ?target.\n",
    "        ?link_id overheidrl:linktVan ?source\n",
    "    }\n",
    "\"\"\"\n",
    "sparql.setQuery(queryString)\n",
    "sparql.setReturnFormat(JSON)\n",
    "ret = sparql.query()\n",
    "result = ret.convert()\n",
    "case_article_network = sparql_result_to_df(result)\n",
    "case_article_network.shape"
   ]
  },
  {
   "cell_type": "code",
   "execution_count": null,
   "metadata": {},
   "outputs": [],
   "source": [
    "case_article_network.to_csv('/media/sf_VBox_Shared/CaseLaw/2018-01-29-lido/derived/case-to-article-links.csv', index=False)"
   ]
  },
  {
   "cell_type": "code",
   "execution_count": null,
   "metadata": {},
   "outputs": [],
   "source": [
    "case_article_network.groupby('linktype').count()['link_id']"
   ]
  },
  {
   "cell_type": "markdown",
   "metadata": {},
   "source": [
    "## Nodes"
   ]
  },
  {
   "cell_type": "code",
   "execution_count": null,
   "metadata": {},
   "outputs": [],
   "source": [
    "# Get all articles\n",
    "queryString = \"\"\"\n",
    "    prefix dcterm: <http://purl.org/dc/terms/> \n",
    "    prefix overheidrl: <http://linkeddata.overheid.nl/terms/>\n",
    "    prefix owms: <http://standaarden.overheid.nl/owms/terms/>\n",
    "    prefix rdf: <http://www.w3.org/1999/02/22-rdf-syntax-ns#> \n",
    "    prefix skos: <http://www.w3.org/2004/02/skos/core#>\n",
    "    select ?id ?title ?label ?authority\n",
    "    {\n",
    "        ?id rdf:type overheidrl:Artikel.\n",
    "        optional {?id dcterm:title ?title.}\n",
    "        optional {?id owms:authority ?authority.}\n",
    "        optional {?id skos:prefLabel ?label}\n",
    "    }\n",
    "\"\"\"\n",
    "sparql.setQuery(queryString)\n",
    "sparql.setReturnFormat(JSON)\n",
    "ret = sparql.query()\n",
    "result = ret.convert()\n",
    "article_nodes = sparql_result_to_df(result)\n",
    "article_nodes.shape"
   ]
  },
  {
   "cell_type": "code",
   "execution_count": null,
   "metadata": {},
   "outputs": [],
   "source": [
    "article_nodes.to_csv('/media/sf_VBox_Shared/CaseLaw/2018-01-29-lido/derived/article_nodes.csv', index=False)"
   ]
  },
  {
   "cell_type": "code",
   "execution_count": null,
   "metadata": {},
   "outputs": [],
   "source": [
    "article_nodes.head()"
   ]
  },
  {
   "cell_type": "markdown",
   "metadata": {},
   "source": [
    "Sometimes a law or article changes names, so there are multiple titles/labels. \n",
    "Unfortunately, we don't know what the latest version is.\n",
    "Therefore, we just take the alphabetically first option."
   ]
  },
  {
   "cell_type": "code",
   "execution_count": null,
   "metadata": {},
   "outputs": [],
   "source": [
    "article_nodes_dedup = article_nodes.sort_values(['title', 'label', 'authority']).groupby('id').first()\n",
    "article_nodes_dedup.shape"
   ]
  },
  {
   "cell_type": "code",
   "execution_count": null,
   "metadata": {},
   "outputs": [],
   "source": [
    "article_nodes_dedup.to_csv('/media/sf_VBox_Shared/CaseLaw/2018-01-29-lido/derived/article_nodes_nodup.csv', \n",
    "                          encoding='utf-8')"
   ]
  },
  {
   "cell_type": "code",
   "execution_count": null,
   "metadata": {},
   "outputs": [],
   "source": [
    "article_nodes_dedup.isnull().sum()"
   ]
  },
  {
   "cell_type": "code",
   "execution_count": null,
   "metadata": {},
   "outputs": [],
   "source": []
  }
 ],
 "metadata": {
  "language_info": {
   "name": "python",
   "pygments_lexer": "ipython3"
  }
 },
 "nbformat": 4,
 "nbformat_minor": 0
}
