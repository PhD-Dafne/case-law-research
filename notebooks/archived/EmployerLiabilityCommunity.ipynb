{
 "cells": [
  {
   "cell_type": "code",
   "execution_count": 1,
   "metadata": {},
   "outputs": [
    {
     "name": "stdout",
     "output_type": "stream",
     "text": [
      "[nltk_data] Downloading package punkt to /home/dafne/nltk_data...\n",
      "[nltk_data]   Package punkt is already up-to-date!\n"
     ]
    }
   ],
   "source": [
    "import matplotlib\n",
    "matplotlib.use('TkAgg')\n",
    "%matplotlib inline\n",
    "import pandas as pd\n",
    "import os\n",
    "import networkx as nx\n",
    "import matplotlib.pyplot as plt\n",
    "import caselawnet\n",
    "import numpy as np\n",
    "import community"
   ]
  },
  {
   "cell_type": "code",
   "execution_count": 2,
   "metadata": {},
   "outputs": [],
   "source": [
    "filepath = '/media/sf_VBox_Shared/CaseLaw/2018-01-29-lido/derived/'\n",
    "links_sub = pd.read_csv(os.path.join(filepath, 'subnetwork', 'case-to-case-links.csv'))\n",
    "cases_sub = pd.read_csv(os.path.join(filepath, 'subnetwork', 'case-nodes-sub.csv'))"
   ]
  },
  {
   "cell_type": "code",
   "execution_count": 5,
   "metadata": {},
   "outputs": [
    {
     "data": {
      "text/html": [
       "<div>\n",
       "<style>\n",
       "    .dataframe thead tr:only-child th {\n",
       "        text-align: right;\n",
       "    }\n",
       "\n",
       "    .dataframe thead th {\n",
       "        text-align: left;\n",
       "    }\n",
       "\n",
       "    .dataframe tbody tr th {\n",
       "        vertical-align: top;\n",
       "    }\n",
       "</style>\n",
       "<table border=\"1\" class=\"dataframe\">\n",
       "  <thead>\n",
       "    <tr style=\"text-align: right;\">\n",
       "      <th></th>\n",
       "      <th>ecli</th>\n",
       "      <th>lido_id</th>\n",
       "      <th>country</th>\n",
       "      <th>court</th>\n",
       "      <th>year</th>\n",
       "      <th>id</th>\n",
       "      <th>label</th>\n",
       "      <th>node_type</th>\n",
       "    </tr>\n",
       "  </thead>\n",
       "  <tbody>\n",
       "    <tr>\n",
       "      <th>0</th>\n",
       "      <td>ECLI:NL:CRVB:2016:2999</td>\n",
       "      <td>http://linkeddata.overheid.nl/terms/jurisprude...</td>\n",
       "      <td>NL</td>\n",
       "      <td>CRVB</td>\n",
       "      <td>2016.0</td>\n",
       "      <td>http://linkeddata.overheid.nl/terms/jurisprude...</td>\n",
       "      <td>CRVB:2016</td>\n",
       "      <td>0</td>\n",
       "    </tr>\n",
       "    <tr>\n",
       "      <th>1</th>\n",
       "      <td>ECLI:NL:RBROT:2013:BZ2568</td>\n",
       "      <td>http://linkeddata.overheid.nl/terms/jurisprude...</td>\n",
       "      <td>NL</td>\n",
       "      <td>RBROT</td>\n",
       "      <td>2013.0</td>\n",
       "      <td>http://linkeddata.overheid.nl/terms/jurisprude...</td>\n",
       "      <td>RBROT:2013</td>\n",
       "      <td>0</td>\n",
       "    </tr>\n",
       "    <tr>\n",
       "      <th>2</th>\n",
       "      <td>ECLI:NL:GHAMS:2011:BU6149</td>\n",
       "      <td>http://linkeddata.overheid.nl/terms/jurisprude...</td>\n",
       "      <td>NL</td>\n",
       "      <td>GHAMS</td>\n",
       "      <td>2011.0</td>\n",
       "      <td>http://linkeddata.overheid.nl/terms/jurisprude...</td>\n",
       "      <td>GHAMS:2011</td>\n",
       "      <td>0</td>\n",
       "    </tr>\n",
       "    <tr>\n",
       "      <th>3</th>\n",
       "      <td>ECLI:NL:GHARL:2014:6359</td>\n",
       "      <td>http://linkeddata.overheid.nl/terms/jurisprude...</td>\n",
       "      <td>NL</td>\n",
       "      <td>GHARL</td>\n",
       "      <td>2014.0</td>\n",
       "      <td>http://linkeddata.overheid.nl/terms/jurisprude...</td>\n",
       "      <td>GHARL:2014</td>\n",
       "      <td>0</td>\n",
       "    </tr>\n",
       "    <tr>\n",
       "      <th>4</th>\n",
       "      <td>ECLI:NL:RBNHO:2017:5966</td>\n",
       "      <td>http://linkeddata.overheid.nl/terms/jurisprude...</td>\n",
       "      <td>NL</td>\n",
       "      <td>RBNHO</td>\n",
       "      <td>2017.0</td>\n",
       "      <td>http://linkeddata.overheid.nl/terms/jurisprude...</td>\n",
       "      <td>RBNHO:2017</td>\n",
       "      <td>0</td>\n",
       "    </tr>\n",
       "  </tbody>\n",
       "</table>\n",
       "</div>"
      ],
      "text/plain": [
       "                        ecli  \\\n",
       "0     ECLI:NL:CRVB:2016:2999   \n",
       "1  ECLI:NL:RBROT:2013:BZ2568   \n",
       "2  ECLI:NL:GHAMS:2011:BU6149   \n",
       "3    ECLI:NL:GHARL:2014:6359   \n",
       "4    ECLI:NL:RBNHO:2017:5966   \n",
       "\n",
       "                                             lido_id country  court    year  \\\n",
       "0  http://linkeddata.overheid.nl/terms/jurisprude...      NL   CRVB  2016.0   \n",
       "1  http://linkeddata.overheid.nl/terms/jurisprude...      NL  RBROT  2013.0   \n",
       "2  http://linkeddata.overheid.nl/terms/jurisprude...      NL  GHAMS  2011.0   \n",
       "3  http://linkeddata.overheid.nl/terms/jurisprude...      NL  GHARL  2014.0   \n",
       "4  http://linkeddata.overheid.nl/terms/jurisprude...      NL  RBNHO  2017.0   \n",
       "\n",
       "                                                  id       label  node_type  \n",
       "0  http://linkeddata.overheid.nl/terms/jurisprude...   CRVB:2016          0  \n",
       "1  http://linkeddata.overheid.nl/terms/jurisprude...  RBROT:2013          0  \n",
       "2  http://linkeddata.overheid.nl/terms/jurisprude...  GHAMS:2011          0  \n",
       "3  http://linkeddata.overheid.nl/terms/jurisprude...  GHARL:2014          0  \n",
       "4  http://linkeddata.overheid.nl/terms/jurisprude...  RBNHO:2017          0  "
      ]
     },
     "execution_count": 5,
     "metadata": {},
     "output_type": "execute_result"
    }
   ],
   "source": [
    "cases_sub.head()"
   ]
  },
  {
   "cell_type": "code",
   "execution_count": 3,
   "metadata": {},
   "outputs": [],
   "source": [
    "cases_sub_list = cases_sub.rename_axis({'link_id':'id'}, axis=1).to_dict(orient='records')\n",
    "links_sub_list = links_sub.rename_axis({'link_id':'id'}, axis=1).to_dict(orient='records')"
   ]
  },
  {
   "cell_type": "code",
   "execution_count": 4,
   "metadata": {},
   "outputs": [],
   "source": [
    "graph = nx.readwrite.json_graph.node_link_graph({'nodes': cases_sub_list, 'links': links_sub_list}, directed=True, multigraph=False)"
   ]
  },
  {
   "cell_type": "code",
   "execution_count": 5,
   "metadata": {},
   "outputs": [
    {
     "data": {
      "text/plain": [
       "(1596, 1608)"
      ]
     },
     "execution_count": 5,
     "metadata": {},
     "output_type": "execute_result"
    }
   ],
   "source": [
    "graph.number_of_nodes(), graph.number_of_edges()"
   ]
  },
  {
   "cell_type": "code",
   "execution_count": 6,
   "metadata": {},
   "outputs": [],
   "source": [
    "ccs = list(nx.weakly_connected_components(graph))\n",
    "ccs_sizes = [len(cc) for cc in ccs]\n",
    "gcc = ccs[np.argmax(ccs_sizes)]\n",
    "g_gcc = graph.subgraph(gcc)"
   ]
  },
  {
   "cell_type": "code",
   "execution_count": 7,
   "metadata": {},
   "outputs": [
    {
     "data": {
      "text/plain": [
       "(615, 1225)"
      ]
     },
     "execution_count": 7,
     "metadata": {},
     "output_type": "execute_result"
    }
   ],
   "source": [
    "g_gcc.number_of_nodes(), g_gcc.number_of_edges()"
   ]
  },
  {
   "cell_type": "code",
   "execution_count": 8,
   "metadata": {},
   "outputs": [],
   "source": [
    "resolution_range = np.arange(0.5, 2, 0.1)\n",
    "nr_communities = np.zeros(len(resolution_range))\n",
    "modularities = np.zeros(len(resolution_range))\n",
    "for i in range(len(resolution_range)):\n",
    "    partition = community.best_partition(g_gcc.to_undirected(), resolution=resolution_range[i])\n",
    "    nr_communities[i] = len(set(partition.values()))\n",
    "    modularities[i] = community.modularity(partition, g_gcc.to_undirected())"
   ]
  },
  {
   "cell_type": "code",
   "execution_count": 9,
   "metadata": {},
   "outputs": [
    {
     "name": "stderr",
     "output_type": "stream",
     "text": [
      "/home/dafne/anaconda2/envs/caselaw/lib/python3.5/site-packages/matplotlib/figure.py:459: UserWarning: matplotlib is currently using a non-GUI backend, so cannot show the figure\n",
      "  \"matplotlib is currently using a non-GUI backend, \"\n"
     ]
    },
    {
     "data": {
      "image/png": "[encoded data removed]",
      "text/plain": [
       "<Figure size 720x720 with 2 Axes>"
      ]
     },
     "metadata": {},
     "output_type": "display_data"
    }
   ],
   "source": [
    "plt, axes = plt.subplots(2, sharex=True, figsize=(10,10))\n",
    "axes[0].scatter(resolution_range, nr_communities)\n",
    "axes[1].scatter(resolution_range, modularities)\n",
    "\n",
    "plt.show()"
   ]
  },
  {
   "cell_type": "code",
   "execution_count": 10,
   "metadata": {},
   "outputs": [],
   "source": [
    "def draw_communities(G, partition, pos=None):\n",
    "    size = len(set(partition.values()))\n",
    "    if pos is None:\n",
    "        pos = nx.spring_layout(G)\n",
    "    count = 0.\n",
    "    for com in set(partition.values()) :\n",
    "        count += 1.\n",
    "        list_nodes = [nodes for nodes in partition.keys()\n",
    "                                 if partition[nodes] == com]\n",
    "        nx.draw_networkx_nodes(G, pos, list_nodes, node_size = 20,\n",
    "                                node_color = [count / size]*len(list_nodes), cmap='rainbow', vmin=0, vmax=1)\n",
    "    nx.draw_networkx_edges(G, pos, alpha=0.5)\n",
    "    plt.gca().set_title('{} communities'.format(size))\n",
    "    plt.axis('off')\n",
    "    plt.show()"
   ]
  },
  {
   "cell_type": "code",
   "execution_count": 11,
   "metadata": {},
   "outputs": [
    {
     "name": "stdout",
     "output_type": "stream",
     "text": [
      "0.5\n",
      "0.8\n",
      "1.0\n",
      "1.6\n"
     ]
    }
   ],
   "source": [
    "com_df = pd.DataFrame()\n",
    "pos = nx.spring_layout(g_gcc, random_state=1, iterations=200, k=3)\n",
    "for resolution in [0.5, 0.8, 1.0, 1.6]:\n",
    "    print(resolution)\n",
    "    partition = community.best_partition(g_gcc.to_undirected(), resolution=resolution)\n",
    "    #draw_communities(g_gcc, partition, pos)\n",
    "    nx.set_node_attributes(g_gcc, partition, name='com_{:.1f}'.format(resolution))\n",
    "    com_df['com_{:.1f}'.format(resolution)] = pd.Series(partition)"
   ]
  },
  {
   "cell_type": "code",
   "execution_count": 10,
   "metadata": {},
   "outputs": [
    {
     "ename": "NameError",
     "evalue": "name 'com_df' is not defined",
     "output_type": "error",
     "traceback": [
      "\u001b[0;31m---------------------------------------------------------------------------\u001b[0m",
      "\u001b[0;31mNameError\u001b[0m                                 Traceback (most recent call last)",
      "\u001b[0;32m<ipython-input-10-6c6cb349da81>\u001b[0m in \u001b[0;36m<module>\u001b[0;34m()\u001b[0m\n\u001b[0;32m----> 1\u001b[0;31m \u001b[0mcom_df\u001b[0m\u001b[0;34m.\u001b[0m\u001b[0mnunique\u001b[0m\u001b[0;34m(\u001b[0m\u001b[0;34m)\u001b[0m\u001b[0;34m\u001b[0m\u001b[0m\n\u001b[0m",
      "\u001b[0;31mNameError\u001b[0m: name 'com_df' is not defined"
     ]
    }
   ],
   "source": [
    "com_df.nunique()"
   ]
  },
  {
   "cell_type": "code",
   "execution_count": 12,
   "metadata": {},
   "outputs": [],
   "source": [
    "nx.write_gexf(g_gcc, os.path.join(filepath, 'subnetwork', 'network.gexf'))"
   ]
  },
  {
   "cell_type": "code",
   "execution_count": null,
   "metadata": {},
   "outputs": [],
   "source": [
    "g_gcc.nodes.data()['http://linkeddata.overheid.nl/terms/jurisprudentie/id/ECLI:NL:HR:2008:BG7775']"
   ]
  },
  {
   "cell_type": "code",
   "execution_count": null,
   "metadata": {},
   "outputs": [],
   "source": []
  }
 ],
 "metadata": {
  "kernelspec": {
   "display_name": "Python [conda env:caselaw]",
   "language": "python",
   "name": "conda-env-caselaw-py"
  },
  "language_info": {
   "codemirror_mode": {
    "name": "ipython",
    "version": 3
   },
   "file_extension": ".py",
   "mimetype": "text/x-python",
   "name": "python",
   "nbconvert_exporter": "python",
   "pygments_lexer": "ipython3",
   "version": "3.5.5"
  }
 },
 "nbformat": 4,
 "nbformat_minor": 2
}
