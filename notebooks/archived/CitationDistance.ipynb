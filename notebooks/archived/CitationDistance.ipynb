{
 "cells": [
  {
   "cell_type": "markdown",
   "metadata": {},
   "source": [
    "Implementation of the proposed method inL Bommarito II, Michael J., et al. \"Distance measures for dynamic citation networks.\" *Physica A: Statistical Mechanics and its Applications* 389.19 (2010): 4201-4208."
   ]
  },
  {
   "cell_type": "code",
   "execution_count": 202,
   "metadata": {},
   "outputs": [],
   "source": [
    "%matplotlib inline\n",
    "import pandas as pd\n",
    "import os\n",
    "import networkx as nx\n",
    "import matplotlib.pyplot as plt\n",
    "import numpy as np\n",
    "import sklearn.cluster\n",
    "import json"
   ]
  },
  {
   "cell_type": "code",
   "execution_count": 200,
   "metadata": {},
   "outputs": [],
   "source": [
    "fp = '/media/sf_VBox_Shared/CaseLaw/2018-01-29-lido/derived/subnetwork/network-ext-hr.gexf'\n",
    "graph = nx.readwrite.gexf.read_gexf(fp)"
   ]
  },
  {
   "cell_type": "code",
   "execution_count": 209,
   "metadata": {},
   "outputs": [],
   "source": [
    "filepath = '/media/sf_VBox_Shared/CaseLaw/2018-01-29-lido/derived/subnetwork'\n",
    "links_sub = pd.read_csv(os.path.join(filepath, 'case-to-case-links-hr.csv')).rename_axis({'link_id':'id'}, axis=1).to_dict(orient='records')\n",
    "cases_sub = pd.read_csv(os.path.join(filepath, 'case-nodes-hr.csv')).to_dict(orient='records')\n",
    "graph = nx.readwrite.json_graph.node_link_graph({'nodes': cases_sub, 'links': links_sub}, directed=True, multigraph=False)"
   ]
  },
  {
   "cell_type": "code",
   "execution_count": 219,
   "metadata": {},
   "outputs": [],
   "source": [
    "# Clean up: only take largest connected component\n",
    "graph = sorted(nx.weakly_connected_component_subgraphs(graph), key=len, reverse=True)[0]"
   ]
  },
  {
   "cell_type": "code",
   "execution_count": 220,
   "metadata": {},
   "outputs": [
    {
     "data": {
      "text/plain": [
       "True"
      ]
     },
     "execution_count": 220,
     "metadata": {},
     "output_type": "execute_result"
    }
   ],
   "source": [
    "# check that we have one weakly connected component\n",
    "nx.is_weakly_connected(graph)"
   ]
  },
  {
   "cell_type": "code",
   "execution_count": 221,
   "metadata": {},
   "outputs": [],
   "source": [
    "# Clean up: remove cycles\n",
    "self_loops = [(a,b) for a, b in graph.edges if a==b]\n",
    "graph.remove_edges_from(self_loops)\n",
    "\n",
    "cycles = nx.algorithms.cycles.simple_cycles(graph)\n",
    "for c in cycles:\n",
    "    if len(c)==2:\n",
    "        a, b = c\n",
    "        if a<b:\n",
    "            graph.remove_edge(b,a)\n",
    "        else:\n",
    "            graph.remove_edge(a,b)"
   ]
  },
  {
   "cell_type": "code",
   "execution_count": 222,
   "metadata": {},
   "outputs": [
    {
     "data": {
      "text/plain": [
       "True"
      ]
     },
     "execution_count": 222,
     "metadata": {},
     "output_type": "execute_result"
    }
   ],
   "source": [
    "# Check if is DAG\n",
    "nx.algorithms.dag.is_directed_acyclic_graph(graph)"
   ]
  },
  {
   "cell_type": "code",
   "execution_count": 223,
   "metadata": {},
   "outputs": [
    {
     "data": {
      "text/plain": [
       "(32, 50)"
      ]
     },
     "execution_count": 223,
     "metadata": {},
     "output_type": "execute_result"
    }
   ],
   "source": [
    "graph.number_of_nodes(), graph.number_of_edges()"
   ]
  },
  {
   "cell_type": "code",
   "execution_count": 224,
   "metadata": {},
   "outputs": [],
   "source": [
    "sinks = [key for key, outdegree in graph.out_degree() if outdegree==0]"
   ]
  },
  {
   "cell_type": "code",
   "execution_count": 225,
   "metadata": {},
   "outputs": [
    {
     "data": {
      "text/plain": [
       "11"
      ]
     },
     "execution_count": 225,
     "metadata": {},
     "output_type": "execute_result"
    }
   ],
   "source": [
    "len(sinks)"
   ]
  },
  {
   "cell_type": "code",
   "execution_count": 226,
   "metadata": {},
   "outputs": [],
   "source": [
    "paths = {s: nx.shortest_path_length(graph, target=s) for s in sinks}\n",
    "paths_df = pd.DataFrame(paths)#, index=graph.nodes)\n",
    "paths_nonzero_df = 1*~paths_df.isnull()\n",
    "a_paths_nonzero = paths_nonzero_df.values"
   ]
  },
  {
   "cell_type": "code",
   "execution_count": 227,
   "metadata": {},
   "outputs": [
    {
     "data": {
      "text/plain": [
       "(32, 11)"
      ]
     },
     "execution_count": 227,
     "metadata": {},
     "output_type": "execute_result"
    }
   ],
   "source": [
    "a_paths_nonzero.shape"
   ]
  },
  {
   "cell_type": "code",
   "execution_count": 228,
   "metadata": {},
   "outputs": [],
   "source": [
    "m = a_paths_nonzero\n",
    "intersect = m.dot(m.T)\n",
    "union = m.dot(np.ones(m.shape).T) + np.ones(m.shape).dot(m.T) -intersect\n",
    "union[union==0] = 1\n",
    "dist1 = 1 - intersect/union"
   ]
  },
  {
   "cell_type": "code",
   "execution_count": 229,
   "metadata": {},
   "outputs": [
    {
     "name": "stdout",
     "output_type": "stream",
     "text": [
      "True\n",
      "True\n",
      "True\n"
     ]
    },
    {
     "data": {
      "text/plain": [
       "0.0"
      ]
     },
     "execution_count": 229,
     "metadata": {},
     "output_type": "execute_result"
    }
   ],
   "source": [
    "# Check if symmetric\n",
    "print(np.all(intersect==intersect.T))\n",
    "print(np.all(union==union.T))\n",
    "print(np.all(dist1==dist1.T))\n",
    "\n",
    "# check diagonal is 0\n",
    "sum(dist1.diagonal())"
   ]
  },
  {
   "cell_type": "code",
   "execution_count": 230,
   "metadata": {},
   "outputs": [
    {
     "data": {
      "image/png": "[encoded data removed]",
      "text/plain": [
       "<Figure size 432x288 with 1 Axes>"
      ]
     },
     "metadata": {},
     "output_type": "display_data"
    }
   ],
   "source": [
    "plt.hist(dist1);"
   ]
  },
  {
   "cell_type": "code",
   "execution_count": 231,
   "metadata": {},
   "outputs": [
    {
     "data": {
      "text/plain": [
       "<matplotlib.image.AxesImage at 0x7f18c8fa7a20>"
      ]
     },
     "execution_count": 231,
     "metadata": {},
     "output_type": "execute_result"
    },
    {
     "data": {
      "image/png": "[encoded data removed]",
      "text/plain": [
       "<Figure size 432x288 with 1 Axes>"
      ]
     },
     "metadata": {},
     "output_type": "display_data"
    }
   ],
   "source": [
    "plt.imshow(dist1)"
   ]
  },
  {
   "cell_type": "code",
   "execution_count": 232,
   "metadata": {},
   "outputs": [],
   "source": [
    "import scipy"
   ]
  },
  {
   "cell_type": "code",
   "execution_count": 233,
   "metadata": {},
   "outputs": [],
   "source": [
    "cl2 = scipy.cluster.hierarchy.linkage(scipy.spatial.distance.squareform(dist1), method='single')"
   ]
  },
  {
   "cell_type": "code",
   "execution_count": 234,
   "metadata": {},
   "outputs": [
    {
     "data": {
      "text/plain": [
       "(31, 4)"
      ]
     },
     "execution_count": 234,
     "metadata": {},
     "output_type": "execute_result"
    }
   ],
   "source": [
    "cl2.shape"
   ]
  },
  {
   "cell_type": "code",
   "execution_count": 235,
   "metadata": {},
   "outputs": [
    {
     "data": {
      "image/png": "[encoded data removed]",
      "text/plain": [
       "<Figure size 1800x720 with 1 Axes>"
      ]
     },
     "metadata": {},
     "output_type": "display_data"
    }
   ],
   "source": [
    "fig = plt.figure(figsize=(25, 10))\n",
    "scipy.cluster.hierarchy.dendrogram(cl2);"
   ]
  },
  {
   "cell_type": "code",
   "execution_count": 236,
   "metadata": {},
   "outputs": [
    {
     "data": {
      "image/png": "[encoded data removed]",
      "text/plain": [
       "<Figure size 432x288 with 1 Axes>"
      ]
     },
     "metadata": {},
     "output_type": "display_data"
    }
   ],
   "source": [
    "t_range = np.arange(0, 1, 0.05)\n",
    "nr_clusters = [len(set(scipy.cluster.hierarchy.fcluster(cl2, t, criterion='distance'))) for t in t_range]\n",
    "plt.plot(t_range, nr_clusters);"
   ]
  },
  {
   "cell_type": "code",
   "execution_count": 237,
   "metadata": {},
   "outputs": [],
   "source": [
    "clusters = scipy.cluster.hierarchy.fcluster(cl2, 0.5, criterion='distance')"
   ]
  },
  {
   "cell_type": "code",
   "execution_count": 240,
   "metadata": {},
   "outputs": [
    {
     "data": {
      "text/plain": [
       "3    16\n",
       "2     8\n",
       "1     3\n",
       "8     1\n",
       "7     1\n",
       "6     1\n",
       "5     1\n",
       "4     1\n",
       "dtype: int64"
      ]
     },
     "execution_count": 240,
     "metadata": {},
     "output_type": "execute_result"
    }
   ],
   "source": [
    "pd.Series(clusters).value_counts().head(10)"
   ]
  },
  {
   "cell_type": "code",
   "execution_count": 241,
   "metadata": {},
   "outputs": [],
   "source": [
    "nx.set_node_attributes(graph, {paths_nonzero_df.index[i]: int(clusters[i]) for i in range(len(clusters))}, name='cluster')"
   ]
  },
  {
   "cell_type": "code",
   "execution_count": 242,
   "metadata": {},
   "outputs": [],
   "source": [
    "#nx.readwrite.gexf.write_gexf(graph, '/media/sf_VBox_Shared/CaseLaw/2018-01-29-lido/derived/subnetwork/network-clusters.gexf')\n",
    "nx.readwrite.gexf.write_gexf(graph, '/media/sf_VBox_Shared/CaseLaw/2018-01-29-lido/derived/subnetwork/network-hr-clusters.gexf')"
   ]
  },
  {
   "cell_type": "code",
   "execution_count": null,
   "metadata": {},
   "outputs": [],
   "source": []
  }
 ],
 "metadata": {
  "kernelspec": {
   "display_name": "Python [conda env:caselaw]",
   "language": "python",
   "name": "conda-env-caselaw-py"
  },
  "language_info": {
   "codemirror_mode": {
    "name": "ipython",
    "version": 3
   },
   "file_extension": ".py",
   "mimetype": "text/x-python",
   "name": "python",
   "nbconvert_exporter": "python",
   "pygments_lexer": "ipython3",
   "version": "3.5.5"
  }
 },
 "nbformat": 4,
 "nbformat_minor": 2
}
