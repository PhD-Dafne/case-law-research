{
 "cells": [
  {
   "cell_type": "code",
   "execution_count": null,
   "metadata": {
    "collapsed": true
   },
   "outputs": [],
   "source": [
    "from SPARQLWrapper import SPARQLWrapper, JSON\n",
    "import os\n",
    "import pandas as pd\n",
    "\n",
    "%matplotlib inline"
   ]
  },
  {
   "cell_type": "code",
   "execution_count": null,
   "metadata": {
    "collapsed": true
   },
   "outputs": [],
   "source": [
    "sparql = SPARQLWrapper(\"http://localhost:9999/blazegraph/namespace/kb/sparql\")"
   ]
  },
  {
   "cell_type": "code",
   "execution_count": null,
   "metadata": {
    "collapsed": true
   },
   "outputs": [],
   "source": [
    "def sparql_result_to_df(result):\n",
    "    cols = result['head']['vars']\n",
    "    rows_dicts = result['results']['bindings']\n",
    "    rows = [{c: r.get(c, {'value': None})['value'] for c in cols} for r in rows_dicts]\n",
    "    return pd.DataFrame(rows)[cols]"
   ]
  },
  {
   "cell_type": "code",
   "execution_count": null,
   "metadata": {
    "collapsed": false
   },
   "outputs": [],
   "source": [
    "queryString = \"\"\"\n",
    "    prefix dcterm: <http://purl.org/dc/terms/> \n",
    "    select ?type (count(?s) as ?count)\n",
    "    {\n",
    "        ?s dcterm:type ?type.\n",
    "    }\n",
    "    group by ?type\n",
    "\"\"\"\n",
    "\n",
    "sparql.setQuery(queryString)\n",
    "sparql.setReturnFormat(JSON)\n",
    "ret = sparql.query()\n",
    "result = ret.convert()\n",
    "sparql_result_to_df(result)"
   ]
  },
  {
   "cell_type": "code",
   "execution_count": null,
   "metadata": {
    "collapsed": false
   },
   "outputs": [],
   "source": [
    "# wich attributes can appear multiple times?\n",
    "queryString = \"\"\"\n",
    "    prefix dcterm: <http://purl.org/dc/terms/> \n",
    "    select ?p (count(?o) as ?count) \n",
    "    {\n",
    "        ?s dcterm:type \"Jurisprudentie\".\n",
    "        ?s ?p ?o.\n",
    "    }\n",
    "    group by ?p\n",
    "    having(count(?o)>1)\n",
    "    order by ?p\n",
    "\"\"\"\n",
    "\n",
    "sparql.setQuery(queryString)\n",
    "sparql.setReturnFormat(JSON)\n",
    "ret = sparql.query()\n",
    "result = ret.convert()\n",
    "sparql_result_to_df(result)"
   ]
  },
  {
   "cell_type": "markdown",
   "metadata": {},
   "source": [
    "## Legislation"
   ]
  },
  {
   "cell_type": "code",
   "execution_count": 28,
   "metadata": {
    "collapsed": false
   },
   "outputs": [
    {
     "data": {
      "text/html": [
       "<div>\n",
       "<style>\n",
       "    .dataframe thead tr:only-child th {\n",
       "        text-align: right;\n",
       "    }\n",
       "\n",
       "    .dataframe thead th {\n",
       "        text-align: left;\n",
       "    }\n",
       "\n",
       "    .dataframe tbody tr th {\n",
       "        vertical-align: top;\n",
       "    }\n",
       "</style>\n",
       "<table border=\"1\" class=\"dataframe\">\n",
       "  <thead>\n",
       "    <tr style=\"text-align: right;\">\n",
       "      <th></th>\n",
       "      <th>article</th>\n",
       "      <th>title</th>\n",
       "      <th>cnt</th>\n",
       "    </tr>\n",
       "  </thead>\n",
       "  <tbody>\n",
       "    <tr>\n",
       "      <th>1671</th>\n",
       "      <td>http://linkeddata.overheid.nl/terms/bwb/id/BWB...</td>\n",
       "      <td>Wetboek van Strafvordering, Artikel 218</td>\n",
       "      <td>99</td>\n",
       "    </tr>\n",
       "    <tr>\n",
       "      <th>2565</th>\n",
       "      <td>http://linkeddata.overheid.nl/terms/bwb/id/BWB...</td>\n",
       "      <td>Wetboek van Strafvordering, Artikel 460</td>\n",
       "      <td>99</td>\n",
       "    </tr>\n",
       "    <tr>\n",
       "      <th>2650</th>\n",
       "      <td>http://linkeddata.overheid.nl/terms/bwb/id/BWB...</td>\n",
       "      <td>Algemene wet inzake rijksbelastingen, Artikel 47</td>\n",
       "      <td>97</td>\n",
       "    </tr>\n",
       "    <tr>\n",
       "      <th>6137</th>\n",
       "      <td>http://linkeddata.overheid.nl/terms/bwb/id/BWB...</td>\n",
       "      <td>Wetboek van Strafvordering, Artikel 450</td>\n",
       "      <td>91</td>\n",
       "    </tr>\n",
       "    <tr>\n",
       "      <th>9738</th>\n",
       "      <td>http://linkeddata.overheid.nl/terms/bwb/id/BWB...</td>\n",
       "      <td>Wetboek van Strafrecht</td>\n",
       "      <td>909</td>\n",
       "    </tr>\n",
       "    <tr>\n",
       "      <th>2579</th>\n",
       "      <td>http://linkeddata.overheid.nl/terms/bwb/id/BWB...</td>\n",
       "      <td>Wetboek van Strafvordering, Artikel 365a</td>\n",
       "      <td>90</td>\n",
       "    </tr>\n",
       "    <tr>\n",
       "      <th>10823</th>\n",
       "      <td>http://linkeddata.overheid.nl/terms/bwb/id/BWB...</td>\n",
       "      <td>Algemene wet bestuursrecht</td>\n",
       "      <td>90</td>\n",
       "    </tr>\n",
       "    <tr>\n",
       "      <th>2703</th>\n",
       "      <td>http://linkeddata.overheid.nl/terms/bwb/id/BWB...</td>\n",
       "      <td>Wet op de loonbelasting 1964, Artikel 11</td>\n",
       "      <td>9</td>\n",
       "    </tr>\n",
       "    <tr>\n",
       "      <th>2082</th>\n",
       "      <td>http://linkeddata.overheid.nl/terms/bwb/id/BWB...</td>\n",
       "      <td>Wet op de vennootschapsbelasting 1969</td>\n",
       "      <td>9</td>\n",
       "    </tr>\n",
       "    <tr>\n",
       "      <th>7215</th>\n",
       "      <td>http://linkeddata.overheid.nl/terms/bwb/id/BWB...</td>\n",
       "      <td>Wetboek van Strafvordering</td>\n",
       "      <td>9</td>\n",
       "    </tr>\n",
       "    <tr>\n",
       "      <th>9596</th>\n",
       "      <td>http://linkeddata.overheid.nl/terms/bwb/id/BWB...</td>\n",
       "      <td>Wetboek van Strafvordering, Artikel 425</td>\n",
       "      <td>9</td>\n",
       "    </tr>\n",
       "    <tr>\n",
       "      <th>1462</th>\n",
       "      <td>http://linkeddata.overheid.nl/terms/bwb/id/BWB...</td>\n",
       "      <td>Burgerlijk Wetboek Boek 3, Artikel 14</td>\n",
       "      <td>9</td>\n",
       "    </tr>\n",
       "    <tr>\n",
       "      <th>3446</th>\n",
       "      <td>http://linkeddata.overheid.nl/terms/bwb/id/BWB...</td>\n",
       "      <td>Wet op belastingen van rechtsverkeer</td>\n",
       "      <td>9</td>\n",
       "    </tr>\n",
       "    <tr>\n",
       "      <th>408</th>\n",
       "      <td>http://linkeddata.overheid.nl/terms/bwb/id/BWB...</td>\n",
       "      <td>Wet bodembescherming, Artikel 75</td>\n",
       "      <td>9</td>\n",
       "    </tr>\n",
       "    <tr>\n",
       "      <th>2698</th>\n",
       "      <td>http://linkeddata.overheid.nl/terms/bwb/id/BWB...</td>\n",
       "      <td>Wet waardering onroerende zaken, Artikel 22</td>\n",
       "      <td>9</td>\n",
       "    </tr>\n",
       "    <tr>\n",
       "      <th>3426</th>\n",
       "      <td>http://linkeddata.overheid.nl/terms/bwb/id/BWB...</td>\n",
       "      <td>Wetboek van Strafvordering, Artikel 103</td>\n",
       "      <td>9</td>\n",
       "    </tr>\n",
       "    <tr>\n",
       "      <th>6536</th>\n",
       "      <td>http://linkeddata.overheid.nl/terms/bwb/id/BWB...</td>\n",
       "      <td>Algemene wet inzake rijksbelastingen, Artikel 29</td>\n",
       "      <td>9</td>\n",
       "    </tr>\n",
       "    <tr>\n",
       "      <th>1484</th>\n",
       "      <td>http://linkeddata.overheid.nl/terms/bwb/id/BWB...</td>\n",
       "      <td>Burgerlijk Wetboek Boek 1, Artikel 88</td>\n",
       "      <td>9</td>\n",
       "    </tr>\n",
       "    <tr>\n",
       "      <th>3471</th>\n",
       "      <td>http://linkeddata.overheid.nl/terms/bwb/id/BWB...</td>\n",
       "      <td>Auteurswet 1912, Artikel 1</td>\n",
       "      <td>9</td>\n",
       "    </tr>\n",
       "    <tr>\n",
       "      <th>4503</th>\n",
       "      <td>http://linkeddata.overheid.nl/terms/bwb/id/BWB...</td>\n",
       "      <td>Algemene wet bestuursrecht, Artikel 8:56</td>\n",
       "      <td>9</td>\n",
       "    </tr>\n",
       "    <tr>\n",
       "      <th>6030</th>\n",
       "      <td>http://linkeddata.overheid.nl/terms/bwb/id/BWB...</td>\n",
       "      <td>Wetboek van Strafrecht, Artikel 244</td>\n",
       "      <td>9</td>\n",
       "    </tr>\n",
       "    <tr>\n",
       "      <th>2732</th>\n",
       "      <td>http://linkeddata.overheid.nl/terms/bwb/id/BWB...</td>\n",
       "      <td>Gemeentewet, Artikel 234</td>\n",
       "      <td>9</td>\n",
       "    </tr>\n",
       "    <tr>\n",
       "      <th>5055</th>\n",
       "      <td>http://linkeddata.overheid.nl/terms/bwb/id/BWB...</td>\n",
       "      <td>Faillissementswet, Artikel 292</td>\n",
       "      <td>9</td>\n",
       "    </tr>\n",
       "    <tr>\n",
       "      <th>6515</th>\n",
       "      <td>http://linkeddata.overheid.nl/terms/bwb/id/BWB...</td>\n",
       "      <td>Wet op de vennootschapsbelasting 1969, Artikel 8</td>\n",
       "      <td>9</td>\n",
       "    </tr>\n",
       "    <tr>\n",
       "      <th>1517</th>\n",
       "      <td>http://linkeddata.overheid.nl/terms/bwb/id/BWB...</td>\n",
       "      <td>Burgerlijk Wetboek Boek 7, Artikel 400</td>\n",
       "      <td>9</td>\n",
       "    </tr>\n",
       "    <tr>\n",
       "      <th>9533</th>\n",
       "      <td>http://linkeddata.overheid.nl/terms/bwb/id/BWB...</td>\n",
       "      <td>Wet op de belasting van personenauto's en moto...</td>\n",
       "      <td>9</td>\n",
       "    </tr>\n",
       "    <tr>\n",
       "      <th>4536</th>\n",
       "      <td>http://linkeddata.overheid.nl/terms/bwb/id/BWB...</td>\n",
       "      <td>Wetboek van Strafvordering, Artikel 378</td>\n",
       "      <td>9</td>\n",
       "    </tr>\n",
       "    <tr>\n",
       "      <th>1543</th>\n",
       "      <td>http://linkeddata.overheid.nl/terms/bwb/id/BWB...</td>\n",
       "      <td>Wetboek van Burgerlijke Rechtsvordering, Artik...</td>\n",
       "      <td>9</td>\n",
       "    </tr>\n",
       "    <tr>\n",
       "      <th>2795</th>\n",
       "      <td>http://linkeddata.overheid.nl/terms/bwb/id/BWB...</td>\n",
       "      <td>Wetboek van Strafvordering, Artikel 359</td>\n",
       "      <td>9</td>\n",
       "    </tr>\n",
       "    <tr>\n",
       "      <th>161</th>\n",
       "      <td>http://linkeddata.overheid.nl/terms/bwb/id/BWB...</td>\n",
       "      <td>Wetboek van Strafvordering, Artikel 94a</td>\n",
       "      <td>9</td>\n",
       "    </tr>\n",
       "    <tr>\n",
       "      <th>...</th>\n",
       "      <td>...</td>\n",
       "      <td>...</td>\n",
       "      <td>...</td>\n",
       "    </tr>\n",
       "    <tr>\n",
       "      <th>2989</th>\n",
       "      <td>http://linkeddata.overheid.nl/terms/bwb/id/BWB...</td>\n",
       "      <td>Wet wapens en munitie, Artikel 55</td>\n",
       "      <td>1</td>\n",
       "    </tr>\n",
       "    <tr>\n",
       "      <th>2991</th>\n",
       "      <td>http://linkeddata.overheid.nl/terms/bwb/id/BWB...</td>\n",
       "      <td>Faillissementswet, Artikel 292</td>\n",
       "      <td>1</td>\n",
       "    </tr>\n",
       "    <tr>\n",
       "      <th>3002</th>\n",
       "      <td>http://linkeddata.overheid.nl/terms/bwb/id/BWB...</td>\n",
       "      <td>Wet op de motorrijtuigenbelasting 1994, Artike...</td>\n",
       "      <td>1</td>\n",
       "    </tr>\n",
       "    <tr>\n",
       "      <th>3006</th>\n",
       "      <td>http://linkeddata.overheid.nl/terms/bwb/id/BWB...</td>\n",
       "      <td>Kostenwet invordering rijksbelastingen</td>\n",
       "      <td>1</td>\n",
       "    </tr>\n",
       "    <tr>\n",
       "      <th>7782</th>\n",
       "      <td>http://linkeddata.overheid.nl/terms/bwb/id/BWB...</td>\n",
       "      <td>Ziekenfondswet, Artikel 3</td>\n",
       "      <td>1</td>\n",
       "    </tr>\n",
       "    <tr>\n",
       "      <th>3009</th>\n",
       "      <td>http://linkeddata.overheid.nl/terms/bwb/id/BWB...</td>\n",
       "      <td>Wet arbeidsongeschiktheidsvoorziening jonggeha...</td>\n",
       "      <td>1</td>\n",
       "    </tr>\n",
       "    <tr>\n",
       "      <th>3010</th>\n",
       "      <td>http://linkeddata.overheid.nl/terms/bwb/id/BWB...</td>\n",
       "      <td>Wet sociale werkvoorziening</td>\n",
       "      <td>1</td>\n",
       "    </tr>\n",
       "    <tr>\n",
       "      <th>3011</th>\n",
       "      <td>http://linkeddata.overheid.nl/terms/bwb/id/BWB...</td>\n",
       "      <td>Burgerlijk Wetboek Boek 2, Artikel 317</td>\n",
       "      <td>1</td>\n",
       "    </tr>\n",
       "    <tr>\n",
       "      <th>2973</th>\n",
       "      <td>http://linkeddata.overheid.nl/terms/bwb/id/BWB...</td>\n",
       "      <td>Wet toezicht effectenverkeer 1995</td>\n",
       "      <td>1</td>\n",
       "    </tr>\n",
       "    <tr>\n",
       "      <th>2972</th>\n",
       "      <td>http://linkeddata.overheid.nl/terms/bwb/id/BWB...</td>\n",
       "      <td>Wet toezicht effectenverkeer 1995, Artikel 46</td>\n",
       "      <td>1</td>\n",
       "    </tr>\n",
       "    <tr>\n",
       "      <th>2971</th>\n",
       "      <td>http://linkeddata.overheid.nl/terms/bwb/id/BWB...</td>\n",
       "      <td>Invorderingswet 1990, Hoofdstuk VI</td>\n",
       "      <td>1</td>\n",
       "    </tr>\n",
       "    <tr>\n",
       "      <th>2969</th>\n",
       "      <td>http://linkeddata.overheid.nl/terms/bwb/id/BWB...</td>\n",
       "      <td>Burgerlijk Wetboek Boek 7, Artikel 212</td>\n",
       "      <td>1</td>\n",
       "    </tr>\n",
       "    <tr>\n",
       "      <th>2947</th>\n",
       "      <td>http://linkeddata.overheid.nl/terms/bwb/id/BWB...</td>\n",
       "      <td>Wijzigingswet Wet milieubeheer, enz. (structuu...</td>\n",
       "      <td>1</td>\n",
       "    </tr>\n",
       "    <tr>\n",
       "      <th>2949</th>\n",
       "      <td>http://linkeddata.overheid.nl/terms/bwb/id/BWB...</td>\n",
       "      <td>Huursubsidiewet</td>\n",
       "      <td>1</td>\n",
       "    </tr>\n",
       "    <tr>\n",
       "      <th>7841</th>\n",
       "      <td>http://linkeddata.overheid.nl/terms/bwb/id/BWB...</td>\n",
       "      <td>Wet inkomstenbelasting 2001, Artikel 3.87</td>\n",
       "      <td>1</td>\n",
       "    </tr>\n",
       "    <tr>\n",
       "      <th>7840</th>\n",
       "      <td>http://linkeddata.overheid.nl/terms/bwb/id/BWB...</td>\n",
       "      <td>Algemene Ouderdomswet, Artikel 13</td>\n",
       "      <td>1</td>\n",
       "    </tr>\n",
       "    <tr>\n",
       "      <th>7838</th>\n",
       "      <td>http://linkeddata.overheid.nl/terms/bwb/id/BWB...</td>\n",
       "      <td>Provinciewet</td>\n",
       "      <td>1</td>\n",
       "    </tr>\n",
       "    <tr>\n",
       "      <th>7836</th>\n",
       "      <td>http://linkeddata.overheid.nl/terms/bwb/id/BWB...</td>\n",
       "      <td>Wet administratiefrechtelijke handhaving verke...</td>\n",
       "      <td>1</td>\n",
       "    </tr>\n",
       "    <tr>\n",
       "      <th>2956</th>\n",
       "      <td>http://linkeddata.overheid.nl/terms/bwb/id/BWB...</td>\n",
       "      <td>Burgerlijk Wetboek Boek 7, Artikel 658a</td>\n",
       "      <td>1</td>\n",
       "    </tr>\n",
       "    <tr>\n",
       "      <th>7831</th>\n",
       "      <td>http://linkeddata.overheid.nl/terms/bwb/id/BWB...</td>\n",
       "      <td>Wet op de motorrijtuigenbelasting 1994</td>\n",
       "      <td>1</td>\n",
       "    </tr>\n",
       "    <tr>\n",
       "      <th>2958</th>\n",
       "      <td>http://linkeddata.overheid.nl/terms/bwb/id/BWB...</td>\n",
       "      <td>Wet op de (re)integratie arbeidsgehandicapten</td>\n",
       "      <td>1</td>\n",
       "    </tr>\n",
       "    <tr>\n",
       "      <th>7829</th>\n",
       "      <td>http://linkeddata.overheid.nl/terms/bwb/id/BWB...</td>\n",
       "      <td>Algemene wet inkomensafhankelijke regelingen</td>\n",
       "      <td>1</td>\n",
       "    </tr>\n",
       "    <tr>\n",
       "      <th>7828</th>\n",
       "      <td>http://linkeddata.overheid.nl/terms/bwb/id/BWB...</td>\n",
       "      <td>Auteurswet 1912, Artikel 51</td>\n",
       "      <td>1</td>\n",
       "    </tr>\n",
       "    <tr>\n",
       "      <th>2959</th>\n",
       "      <td>http://linkeddata.overheid.nl/terms/bwb/id/BWB...</td>\n",
       "      <td>Invoeringswet Wet structuur uitvoeringsorganis...</td>\n",
       "      <td>1</td>\n",
       "    </tr>\n",
       "    <tr>\n",
       "      <th>2960</th>\n",
       "      <td>http://linkeddata.overheid.nl/terms/bwb/id/BWB...</td>\n",
       "      <td>Wet verbetering poortwachter</td>\n",
       "      <td>1</td>\n",
       "    </tr>\n",
       "    <tr>\n",
       "      <th>2961</th>\n",
       "      <td>http://linkeddata.overheid.nl/terms/bwb/id/BWB...</td>\n",
       "      <td>Burgerlijk Wetboek Boek 3, Artikel 183</td>\n",
       "      <td>1</td>\n",
       "    </tr>\n",
       "    <tr>\n",
       "      <th>2963</th>\n",
       "      <td>http://linkeddata.overheid.nl/terms/bwb/id/BWB...</td>\n",
       "      <td>Comptabiliteitswet 2001</td>\n",
       "      <td>1</td>\n",
       "    </tr>\n",
       "    <tr>\n",
       "      <th>2966</th>\n",
       "      <td>http://linkeddata.overheid.nl/terms/bwb/id/BWB...</td>\n",
       "      <td>Wet toezicht kredietwezen 1992</td>\n",
       "      <td>1</td>\n",
       "    </tr>\n",
       "    <tr>\n",
       "      <th>7820</th>\n",
       "      <td>http://linkeddata.overheid.nl/terms/bwb/id/BWB...</td>\n",
       "      <td>Wetboek van Strafrecht, Artikel 420</td>\n",
       "      <td>1</td>\n",
       "    </tr>\n",
       "    <tr>\n",
       "      <th>5947</th>\n",
       "      <td>http://linkeddata.overheid.nl/terms/bwb/id/BWB...</td>\n",
       "      <td>Burgerlijk Wetboek Boek 1, Artikel 40</td>\n",
       "      <td>1</td>\n",
       "    </tr>\n",
       "  </tbody>\n",
       "</table>\n",
       "<p>11895 rows × 3 columns</p>\n",
       "</div>"
      ],
      "text/plain": [
       "                                                 article  \\\n",
       "1671   http://linkeddata.overheid.nl/terms/bwb/id/BWB...   \n",
       "2565   http://linkeddata.overheid.nl/terms/bwb/id/BWB...   \n",
       "2650   http://linkeddata.overheid.nl/terms/bwb/id/BWB...   \n",
       "6137   http://linkeddata.overheid.nl/terms/bwb/id/BWB...   \n",
       "9738   http://linkeddata.overheid.nl/terms/bwb/id/BWB...   \n",
       "2579   http://linkeddata.overheid.nl/terms/bwb/id/BWB...   \n",
       "10823  http://linkeddata.overheid.nl/terms/bwb/id/BWB...   \n",
       "2703   http://linkeddata.overheid.nl/terms/bwb/id/BWB...   \n",
       "2082   http://linkeddata.overheid.nl/terms/bwb/id/BWB...   \n",
       "7215   http://linkeddata.overheid.nl/terms/bwb/id/BWB...   \n",
       "9596   http://linkeddata.overheid.nl/terms/bwb/id/BWB...   \n",
       "1462   http://linkeddata.overheid.nl/terms/bwb/id/BWB...   \n",
       "3446   http://linkeddata.overheid.nl/terms/bwb/id/BWB...   \n",
       "408    http://linkeddata.overheid.nl/terms/bwb/id/BWB...   \n",
       "2698   http://linkeddata.overheid.nl/terms/bwb/id/BWB...   \n",
       "3426   http://linkeddata.overheid.nl/terms/bwb/id/BWB...   \n",
       "6536   http://linkeddata.overheid.nl/terms/bwb/id/BWB...   \n",
       "1484   http://linkeddata.overheid.nl/terms/bwb/id/BWB...   \n",
       "3471   http://linkeddata.overheid.nl/terms/bwb/id/BWB...   \n",
       "4503   http://linkeddata.overheid.nl/terms/bwb/id/BWB...   \n",
       "6030   http://linkeddata.overheid.nl/terms/bwb/id/BWB...   \n",
       "2732   http://linkeddata.overheid.nl/terms/bwb/id/BWB...   \n",
       "5055   http://linkeddata.overheid.nl/terms/bwb/id/BWB...   \n",
       "6515   http://linkeddata.overheid.nl/terms/bwb/id/BWB...   \n",
       "1517   http://linkeddata.overheid.nl/terms/bwb/id/BWB...   \n",
       "9533   http://linkeddata.overheid.nl/terms/bwb/id/BWB...   \n",
       "4536   http://linkeddata.overheid.nl/terms/bwb/id/BWB...   \n",
       "1543   http://linkeddata.overheid.nl/terms/bwb/id/BWB...   \n",
       "2795   http://linkeddata.overheid.nl/terms/bwb/id/BWB...   \n",
       "161    http://linkeddata.overheid.nl/terms/bwb/id/BWB...   \n",
       "...                                                  ...   \n",
       "2989   http://linkeddata.overheid.nl/terms/bwb/id/BWB...   \n",
       "2991   http://linkeddata.overheid.nl/terms/bwb/id/BWB...   \n",
       "3002   http://linkeddata.overheid.nl/terms/bwb/id/BWB...   \n",
       "3006   http://linkeddata.overheid.nl/terms/bwb/id/BWB...   \n",
       "7782   http://linkeddata.overheid.nl/terms/bwb/id/BWB...   \n",
       "3009   http://linkeddata.overheid.nl/terms/bwb/id/BWB...   \n",
       "3010   http://linkeddata.overheid.nl/terms/bwb/id/BWB...   \n",
       "3011   http://linkeddata.overheid.nl/terms/bwb/id/BWB...   \n",
       "2973   http://linkeddata.overheid.nl/terms/bwb/id/BWB...   \n",
       "2972   http://linkeddata.overheid.nl/terms/bwb/id/BWB...   \n",
       "2971   http://linkeddata.overheid.nl/terms/bwb/id/BWB...   \n",
       "2969   http://linkeddata.overheid.nl/terms/bwb/id/BWB...   \n",
       "2947   http://linkeddata.overheid.nl/terms/bwb/id/BWB...   \n",
       "2949   http://linkeddata.overheid.nl/terms/bwb/id/BWB...   \n",
       "7841   http://linkeddata.overheid.nl/terms/bwb/id/BWB...   \n",
       "7840   http://linkeddata.overheid.nl/terms/bwb/id/BWB...   \n",
       "7838   http://linkeddata.overheid.nl/terms/bwb/id/BWB...   \n",
       "7836   http://linkeddata.overheid.nl/terms/bwb/id/BWB...   \n",
       "2956   http://linkeddata.overheid.nl/terms/bwb/id/BWB...   \n",
       "7831   http://linkeddata.overheid.nl/terms/bwb/id/BWB...   \n",
       "2958   http://linkeddata.overheid.nl/terms/bwb/id/BWB...   \n",
       "7829   http://linkeddata.overheid.nl/terms/bwb/id/BWB...   \n",
       "7828   http://linkeddata.overheid.nl/terms/bwb/id/BWB...   \n",
       "2959   http://linkeddata.overheid.nl/terms/bwb/id/BWB...   \n",
       "2960   http://linkeddata.overheid.nl/terms/bwb/id/BWB...   \n",
       "2961   http://linkeddata.overheid.nl/terms/bwb/id/BWB...   \n",
       "2963   http://linkeddata.overheid.nl/terms/bwb/id/BWB...   \n",
       "2966   http://linkeddata.overheid.nl/terms/bwb/id/BWB...   \n",
       "7820   http://linkeddata.overheid.nl/terms/bwb/id/BWB...   \n",
       "5947   http://linkeddata.overheid.nl/terms/bwb/id/BWB...   \n",
       "\n",
       "                                                   title  cnt  \n",
       "1671             Wetboek van Strafvordering, Artikel 218   99  \n",
       "2565             Wetboek van Strafvordering, Artikel 460   99  \n",
       "2650    Algemene wet inzake rijksbelastingen, Artikel 47   97  \n",
       "6137             Wetboek van Strafvordering, Artikel 450   91  \n",
       "9738                              Wetboek van Strafrecht  909  \n",
       "2579            Wetboek van Strafvordering, Artikel 365a   90  \n",
       "10823                         Algemene wet bestuursrecht   90  \n",
       "2703            Wet op de loonbelasting 1964, Artikel 11    9  \n",
       "2082               Wet op de vennootschapsbelasting 1969    9  \n",
       "7215                          Wetboek van Strafvordering    9  \n",
       "9596             Wetboek van Strafvordering, Artikel 425    9  \n",
       "1462               Burgerlijk Wetboek Boek 3, Artikel 14    9  \n",
       "3446                Wet op belastingen van rechtsverkeer    9  \n",
       "408                     Wet bodembescherming, Artikel 75    9  \n",
       "2698         Wet waardering onroerende zaken, Artikel 22    9  \n",
       "3426             Wetboek van Strafvordering, Artikel 103    9  \n",
       "6536    Algemene wet inzake rijksbelastingen, Artikel 29    9  \n",
       "1484               Burgerlijk Wetboek Boek 1, Artikel 88    9  \n",
       "3471                          Auteurswet 1912, Artikel 1    9  \n",
       "4503            Algemene wet bestuursrecht, Artikel 8:56    9  \n",
       "6030                 Wetboek van Strafrecht, Artikel 244    9  \n",
       "2732                            Gemeentewet, Artikel 234    9  \n",
       "5055                      Faillissementswet, Artikel 292    9  \n",
       "6515    Wet op de vennootschapsbelasting 1969, Artikel 8    9  \n",
       "1517              Burgerlijk Wetboek Boek 7, Artikel 400    9  \n",
       "9533   Wet op de belasting van personenauto's en moto...    9  \n",
       "4536             Wetboek van Strafvordering, Artikel 378    9  \n",
       "1543   Wetboek van Burgerlijke Rechtsvordering, Artik...    9  \n",
       "2795             Wetboek van Strafvordering, Artikel 359    9  \n",
       "161              Wetboek van Strafvordering, Artikel 94a    9  \n",
       "...                                                  ...  ...  \n",
       "2989                   Wet wapens en munitie, Artikel 55    1  \n",
       "2991                      Faillissementswet, Artikel 292    1  \n",
       "3002   Wet op de motorrijtuigenbelasting 1994, Artike...    1  \n",
       "3006              Kostenwet invordering rijksbelastingen    1  \n",
       "7782                           Ziekenfondswet, Artikel 3    1  \n",
       "3009   Wet arbeidsongeschiktheidsvoorziening jonggeha...    1  \n",
       "3010                         Wet sociale werkvoorziening    1  \n",
       "3011              Burgerlijk Wetboek Boek 2, Artikel 317    1  \n",
       "2973                   Wet toezicht effectenverkeer 1995    1  \n",
       "2972       Wet toezicht effectenverkeer 1995, Artikel 46    1  \n",
       "2971                  Invorderingswet 1990, Hoofdstuk VI    1  \n",
       "2969              Burgerlijk Wetboek Boek 7, Artikel 212    1  \n",
       "2947   Wijzigingswet Wet milieubeheer, enz. (structuu...    1  \n",
       "2949                                     Huursubsidiewet    1  \n",
       "7841           Wet inkomstenbelasting 2001, Artikel 3.87    1  \n",
       "7840                   Algemene Ouderdomswet, Artikel 13    1  \n",
       "7838                                        Provinciewet    1  \n",
       "7836   Wet administratiefrechtelijke handhaving verke...    1  \n",
       "2956             Burgerlijk Wetboek Boek 7, Artikel 658a    1  \n",
       "7831              Wet op de motorrijtuigenbelasting 1994    1  \n",
       "2958       Wet op de (re)integratie arbeidsgehandicapten    1  \n",
       "7829        Algemene wet inkomensafhankelijke regelingen    1  \n",
       "7828                         Auteurswet 1912, Artikel 51    1  \n",
       "2959   Invoeringswet Wet structuur uitvoeringsorganis...    1  \n",
       "2960                        Wet verbetering poortwachter    1  \n",
       "2961              Burgerlijk Wetboek Boek 3, Artikel 183    1  \n",
       "2963                             Comptabiliteitswet 2001    1  \n",
       "2966                      Wet toezicht kredietwezen 1992    1  \n",
       "7820                 Wetboek van Strafrecht, Artikel 420    1  \n",
       "5947               Burgerlijk Wetboek Boek 1, Artikel 40    1  \n",
       "\n",
       "[11895 rows x 3 columns]"
      ]
     },
     "execution_count": 28,
     "metadata": {},
     "output_type": "execute_result"
    }
   ],
   "source": [
    "# Legislation titles\n",
    "queryString = \"\"\"\n",
    "    prefix dcterm: <http://purl.org/dc/terms/> \n",
    "    prefix overheidrl: <http://linkeddata.overheid.nl/terms/>\n",
    "    select ?article ?title (count(*) as ?cnt)\n",
    "    {\n",
    "        ?source dcterm:type \"Jurisprudentie\".\n",
    "        ?article dcterm:type \"Wet\".\n",
    "        ?link_id overheidrl:heeftLinktype ?link_type.\n",
    "        ?link_id overheidrl:linktVan  ?source.\n",
    "        ?link_id overheidrl:linktNaar  ?article.\n",
    "        ?link_type rdfs:label ?link_type_label.\n",
    "        ?article dcterm:title ?title\n",
    "    }\n",
    "    group by ?article ?title\n",
    "\"\"\"\n",
    "\n",
    "sparql.setQuery(queryString)\n",
    "sparql.setReturnFormat(JSON)\n",
    "ret = sparql.query()\n",
    "result = ret.convert()\n",
    "law_titles = sparql_result_to_df(result)\n",
    "law_titles.sort_values('cnt', ascending=False)"
   ]
  },
  {
   "cell_type": "code",
   "execution_count": 115,
   "metadata": {
    "collapsed": false
   },
   "outputs": [
    {
     "name": "stdout",
     "output_type": "stream",
     "text": [
      "(7171,)\n"
     ]
    },
    {
     "data": {
      "text/plain": [
       "title\n",
       "Wet op de rechterlijke organisatie, Artikel 81        14555\n",
       "Wetboek van Strafvordering                             3641\n",
       "Wetboek van Strafrecht                                 2428\n",
       "Wet op de rechterlijke organisatie, Artikel 80a        1239\n",
       "Wetboek van Strafvordering, Artikel 359                 731\n",
       "Opiumwet                                                720\n",
       "Wetboek van Burgerlijke Rechtsvordering                 715\n",
       "Wet waardering onroerende zaken                         714\n",
       "Burgerlijk Wetboek Boek 6                               714\n",
       "Wetboek van Strafvordering, Artikel 552a                700\n",
       "Wetboek van Strafvordering, Artikel 457                 658\n",
       "Burgerlijk Wetboek Boek 7                               475\n",
       "Wetboek van Strafvordering, Artikel 359a                443\n",
       "Wetboek van Strafvordering, Artikel 440                 438\n",
       "Wet op de omzetbelasting 1968                           429\n",
       "Algemene wet bestuursrecht                              424\n",
       "Algemene wet inzake rijksbelastingen                    424\n",
       "Wetboek van Strafvordering, Artikel 365a                418\n",
       "Wetboek van Strafrecht, Artikel 36e                     393\n",
       "Burgerlijk Wetboek Boek 3                               382\n",
       "Algemene wet bestuursrecht, Artikel 8:41                340\n",
       "Wetboek van Strafvordering, Artikel 415                 337\n",
       "Wegenverkeerswet 1994                                   333\n",
       "Wetboek van Strafvordering, Artikel 437                 313\n",
       "Faillissementswet                                       307\n",
       "Burgerlijk Wetboek Boek 6, Artikel 162                  298\n",
       "Burgerlijk Wetboek Boek 1                               245\n",
       "Faillissementswet, Artikel 288                          242\n",
       "Invorderingswet 1990                                    228\n",
       "Wet inkomstenbelasting 2001                             223\n",
       "                                                      ...  \n",
       "Faillissementswet, Artikel 116                            1\n",
       "Faillissementswet, Artikel 115                            1\n",
       "Faillissementswet, Artikel 114                            1\n",
       "Wet op de medische keuringen                              1\n",
       "Faillissementswet, Artikel 111                            1\n",
       "Wet op de motorrijtuigenbelasting 1966, Artikel 10        1\n",
       "Wet op de motorrijtuigenbelasting 1966, Artikel 14        1\n",
       "Wet op de loonbelasting 1964, Artikel 27a                 1\n",
       "Faillissementswet, Artikel 157                            1\n",
       "Faillissementswet, Artikel 212d                           1\n",
       "Faillissementswet, Artikel 185                            1\n",
       "Faillissementswet, Artikel 212a                           1\n",
       "Faillissementswet, Artikel 212                            1\n",
       "Wet op de lijkbezorging, Artikel 14                       1\n",
       "Wet op de lijkbezorging, Artikel 2                        1\n",
       "Faillissementswet, Artikel 198                            1\n",
       "Wet op de lijkbezorging, Artikel 31                       1\n",
       "Wet op de loonbelasting 1964, Artikel 11d                 1\n",
       "Wet op de loonbelasting 1964, Artikel 14                  1\n",
       "Wet op de loonbelasting 1964, Artikel 18e                 1\n",
       "Faillissementswet, Artikel 159                            1\n",
       "Wet op de loonbelasting 1964, Artikel 18h                 1\n",
       "Wet op de loonbelasting 1964, Artikel 18i                 1\n",
       "Faillissementswet, Artikel 173a                           1\n",
       "Faillissementswet, Artikel 166                            1\n",
       "Faillissementswet, Artikel 160                            1\n",
       "Wet op de loonbelasting 1964, Artikel 19c                 1\n",
       "Wet op de loonbelasting 1964, Artikel 19d                 1\n",
       "Wet op de loonbelasting 1964, Artikel 25                  1\n",
       "Burgerlijk Wetboek Boek 7, Artikel 461                    1\n",
       "Name: cnt, Length: 7171, dtype: int64"
      ]
     },
     "execution_count": 115,
     "metadata": {},
     "output_type": "execute_result"
    }
   ],
   "source": [
    "law_titles['cnt'] = law_titles['cnt'].astype('int')\n",
    "\n",
    "law_titles_unique = law_titles.groupby('title')['cnt'].sum().sort_values(ascending=False)\n",
    "print(law_titles_unique.shape)\n",
    "law_titles_unique"
   ]
  },
  {
   "cell_type": "code",
   "execution_count": null,
   "metadata": {
    "collapsed": true
   },
   "outputs": [],
   "source": [
    "# Legislation references\n",
    "# Links between cases\n",
    "queryString = \"\"\"\n",
    "    prefix dcterm: <http://purl.org/dc/terms/> \n",
    "    prefix overheidrl: <http://linkeddata.overheid.nl/terms/>\n",
    "    select ?link_id ?source ?article ?link_type ?link_type_label  ?title\n",
    "    {\n",
    "        ?source dcterm:type \"Jurisprudentie\".\n",
    "        ?article dcterm:type \"Wet\".\n",
    "        ?link_id overheidrl:heeftLinktype ?link_type.\n",
    "        ?link_id overheidrl:linktVan  ?source.\n",
    "        ?link_id overheidrl:linktNaar  ?article.\n",
    "        ?link_type rdfs:label ?link_type_label.\n",
    "        optional {?article dcterm:title ?title}\n",
    "    }\n",
    "\"\"\"\n",
    "\n",
    "sparql.setQuery(queryString)\n",
    "sparql.setReturnFormat(JSON)\n",
    "ret = sparql.query()\n",
    "result = ret.convert()\n",
    "legislation = sparql_result_to_df(result)\n",
    "legislation.shape"
   ]
  },
  {
   "cell_type": "code",
   "execution_count": null,
   "metadata": {
    "collapsed": true
   },
   "outputs": [],
   "source": [
    "legislation['title'].value_counts().head(20)"
   ]
  },
  {
   "cell_type": "code",
   "execution_count": null,
   "metadata": {
    "collapsed": true
   },
   "outputs": [],
   "source": [
    "legislation.to_csv(os.path.join(outpath, 'hr_simple_legislation_links.csv'), index=False)"
   ]
  },
  {
   "cell_type": "code",
   "execution_count": null,
   "metadata": {
    "collapsed": false
   },
   "outputs": [],
   "source": [
    "# Legislation network\n",
    "# Connections between legislation through common case\n",
    "queryString = \"\"\"\n",
    "    prefix dcterm: <http://purl.org/dc/terms/> \n",
    "    prefix overheidrl: <http://linkeddata.overheid.nl/terms/>\n",
    "    select ?article1 ?article2 ?title1 ?title2 (count(distinct ?source) as ?cnt)\n",
    "    {\n",
    "        ?source dcterm:type \"Jurisprudentie\".\n",
    "        ?article1 dcterm:type \"Wet\".\n",
    "        ?article2 dcterm:type \"Wet\".\n",
    "        ?link_id1 overheidrl:linktVan  ?source.\n",
    "        ?link_id1 overheidrl:linktNaar  ?article1.\n",
    "        optional {?article1 dcterm:title ?title1}\n",
    "        ?link_id2 overheidrl:linktVan  ?source.\n",
    "        ?link_id2 overheidrl:linktNaar  ?article2.\n",
    "        optional {?article1 dcterm:title ?title2}\n",
    "    }\n",
    "    group by ?article1 ?article2 ?title1 ?title2\n",
    "\"\"\"\n",
    "\n",
    "sparql.setQuery(queryString)\n",
    "sparql.setReturnFormat(JSON)\n",
    "ret = sparql.query()\n",
    "result = ret.convert()\n",
    "legislation_network = sparql_result_to_df(result)\n",
    "legislation_network.shape"
   ]
  },
  {
   "cell_type": "code",
   "execution_count": 63,
   "metadata": {
    "collapsed": false
   },
   "outputs": [],
   "source": [
    "legislation_network['cnt'] = legislation_network['cnt'].astype('int')"
   ]
  },
  {
   "cell_type": "code",
   "execution_count": 81,
   "metadata": {
    "collapsed": true
   },
   "outputs": [],
   "source": [
    "# Filter self loops \n",
    "legislation_network = legislation_network[~(legislation_network['article1']==legislation_network['article2'])]"
   ]
  },
  {
   "cell_type": "code",
   "execution_count": 89,
   "metadata": {
    "collapsed": false
   },
   "outputs": [
    {
     "data": {
      "text/html": [
       "<div>\n",
       "<style>\n",
       "    .dataframe thead tr:only-child th {\n",
       "        text-align: right;\n",
       "    }\n",
       "\n",
       "    .dataframe thead th {\n",
       "        text-align: left;\n",
       "    }\n",
       "\n",
       "    .dataframe tbody tr th {\n",
       "        vertical-align: top;\n",
       "    }\n",
       "</style>\n",
       "<table border=\"1\" class=\"dataframe\">\n",
       "  <thead>\n",
       "    <tr style=\"text-align: right;\">\n",
       "      <th></th>\n",
       "      <th>article1</th>\n",
       "      <th>article2</th>\n",
       "      <th>title1</th>\n",
       "      <th>title2</th>\n",
       "      <th>cnt</th>\n",
       "    </tr>\n",
       "  </thead>\n",
       "  <tbody>\n",
       "    <tr>\n",
       "      <th>0</th>\n",
       "      <td>http://linkeddata.overheid.nl/terms/bwb/id/BWB...</td>\n",
       "      <td>http://linkeddata.overheid.nl/terms/bwb/id/BWB...</td>\n",
       "      <td>Burgerlijk Wetboek Boek 3</td>\n",
       "      <td>Burgerlijk Wetboek Boek 3</td>\n",
       "      <td>2</td>\n",
       "    </tr>\n",
       "    <tr>\n",
       "      <th>1</th>\n",
       "      <td>http://linkeddata.overheid.nl/terms/bwb/id/BWB...</td>\n",
       "      <td>http://linkeddata.overheid.nl/terms/bwb/id/BWB...</td>\n",
       "      <td>Burgerlijk Wetboek Boek 3</td>\n",
       "      <td>Burgerlijk Wetboek Boek 3</td>\n",
       "      <td>2</td>\n",
       "    </tr>\n",
       "    <tr>\n",
       "      <th>3</th>\n",
       "      <td>http://linkeddata.overheid.nl/terms/bwb/id/BWB...</td>\n",
       "      <td>http://linkeddata.overheid.nl/terms/bwb/id/BWB...</td>\n",
       "      <td>Burgerlijk Wetboek Boek 3</td>\n",
       "      <td>Burgerlijk Wetboek Boek 3</td>\n",
       "      <td>1</td>\n",
       "    </tr>\n",
       "    <tr>\n",
       "      <th>4</th>\n",
       "      <td>http://linkeddata.overheid.nl/terms/bwb/id/BWB...</td>\n",
       "      <td>http://linkeddata.overheid.nl/terms/bwb/id/BWB...</td>\n",
       "      <td>Burgerlijk Wetboek Boek 3</td>\n",
       "      <td>Burgerlijk Wetboek Boek 3</td>\n",
       "      <td>2</td>\n",
       "    </tr>\n",
       "    <tr>\n",
       "      <th>5</th>\n",
       "      <td>http://linkeddata.overheid.nl/terms/bwb/id/BWB...</td>\n",
       "      <td>http://linkeddata.overheid.nl/terms/bwb/id/BWB...</td>\n",
       "      <td>Burgerlijk Wetboek Boek 3</td>\n",
       "      <td>Burgerlijk Wetboek Boek 3</td>\n",
       "      <td>1</td>\n",
       "    </tr>\n",
       "  </tbody>\n",
       "</table>\n",
       "</div>"
      ],
      "text/plain": [
       "                                            article1  \\\n",
       "0  http://linkeddata.overheid.nl/terms/bwb/id/BWB...   \n",
       "1  http://linkeddata.overheid.nl/terms/bwb/id/BWB...   \n",
       "3  http://linkeddata.overheid.nl/terms/bwb/id/BWB...   \n",
       "4  http://linkeddata.overheid.nl/terms/bwb/id/BWB...   \n",
       "5  http://linkeddata.overheid.nl/terms/bwb/id/BWB...   \n",
       "\n",
       "                                            article2  \\\n",
       "0  http://linkeddata.overheid.nl/terms/bwb/id/BWB...   \n",
       "1  http://linkeddata.overheid.nl/terms/bwb/id/BWB...   \n",
       "3  http://linkeddata.overheid.nl/terms/bwb/id/BWB...   \n",
       "4  http://linkeddata.overheid.nl/terms/bwb/id/BWB...   \n",
       "5  http://linkeddata.overheid.nl/terms/bwb/id/BWB...   \n",
       "\n",
       "                      title1                     title2  cnt  \n",
       "0  Burgerlijk Wetboek Boek 3  Burgerlijk Wetboek Boek 3    2  \n",
       "1  Burgerlijk Wetboek Boek 3  Burgerlijk Wetboek Boek 3    2  \n",
       "3  Burgerlijk Wetboek Boek 3  Burgerlijk Wetboek Boek 3    1  \n",
       "4  Burgerlijk Wetboek Boek 3  Burgerlijk Wetboek Boek 3    2  \n",
       "5  Burgerlijk Wetboek Boek 3  Burgerlijk Wetboek Boek 3    1  "
      ]
     },
     "execution_count": 89,
     "metadata": {},
     "output_type": "execute_result"
    }
   ],
   "source": [
    "legislation_network.head()"
   ]
  },
  {
   "cell_type": "code",
   "execution_count": 82,
   "metadata": {
    "collapsed": false
   },
   "outputs": [],
   "source": [
    "legislation_network_grouped = legislation_network.groupby(['article1', 'article2'])['cnt'].sum()"
   ]
  },
  {
   "cell_type": "code",
   "execution_count": 93,
   "metadata": {
    "collapsed": false
   },
   "outputs": [],
   "source": [
    "legislation_network_matrix = legislation_network_grouped.unstack(fill_value=0)"
   ]
  },
  {
   "cell_type": "code",
   "execution_count": 94,
   "metadata": {
    "collapsed": false
   },
   "outputs": [
    {
     "data": {
      "text/plain": [
       "(11707, 11707)"
      ]
     },
     "execution_count": 94,
     "metadata": {},
     "output_type": "execute_result"
    }
   ],
   "source": [
    "legislation_network_matrix.shape"
   ]
  },
  {
   "cell_type": "code",
   "execution_count": 95,
   "metadata": {
    "collapsed": false
   },
   "outputs": [
    {
     "data": {
      "text/plain": [
       "array([[0, 1, 1, ..., 0, 0, 0],\n",
       "       [1, 0, 1, ..., 0, 0, 0],\n",
       "       [1, 1, 0, ..., 0, 0, 0],\n",
       "       ..., \n",
       "       [0, 0, 0, ..., 0, 0, 1],\n",
       "       [0, 0, 0, ..., 0, 0, 1],\n",
       "       [0, 0, 0, ..., 1, 1, 0]])"
      ]
     },
     "execution_count": 95,
     "metadata": {},
     "output_type": "execute_result"
    }
   ],
   "source": [
    "import numpy as np\n",
    "m = legislation_network_matrix.as_matrix()\n",
    "m"
   ]
  },
  {
   "cell_type": "code",
   "execution_count": 70,
   "metadata": {
    "collapsed": false
   },
   "outputs": [
    {
     "data": {
      "text/plain": [
       "False"
      ]
     },
     "execution_count": 70,
     "metadata": {},
     "output_type": "execute_result"
    }
   ],
   "source": [
    "np.all(m==m.T)"
   ]
  },
  {
   "cell_type": "code",
   "execution_count": 96,
   "metadata": {
    "collapsed": false
   },
   "outputs": [
    {
     "data": {
      "text/plain": [
       "1898"
      ]
     },
     "execution_count": 96,
     "metadata": {},
     "output_type": "execute_result"
    }
   ],
   "source": [
    "np.sum(m != m.T)"
   ]
  },
  {
   "cell_type": "code",
   "execution_count": 30,
   "metadata": {
    "collapsed": true
   },
   "outputs": [],
   "source": [
    "outpath = '/media/sf_VBox_Shared/networks/caselaw/'"
   ]
  },
  {
   "cell_type": "code",
   "execution_count": 97,
   "metadata": {
    "collapsed": false
   },
   "outputs": [],
   "source": [
    "legislation_network_grouped.to_csv(os.path.join(outpath, 'legislation_links.csv'), \n",
    "                                   index=True, index_label=['source', 'target'], header='True')"
   ]
  },
  {
   "cell_type": "code",
   "execution_count": 116,
   "metadata": {
    "collapsed": false
   },
   "outputs": [
    {
     "data": {
      "text/plain": [
       "(7129,)"
      ]
     },
     "execution_count": 116,
     "metadata": {},
     "output_type": "execute_result"
    }
   ],
   "source": [
    "# Now group by name \n",
    "legislation_network_grouped_name = legislation_network.groupby(['title1', 'title2'])['cnt'].sum()\n",
    "legislation_network_grouped_name.shape"
   ]
  },
  {
   "cell_type": "code",
   "execution_count": 117,
   "metadata": {
    "collapsed": false
   },
   "outputs": [],
   "source": [
    "# Remove self-loops\n",
    "legislation_network_grouped_name = legislation_network_grouped_name[legislation_network_grouped_name.index[\n",
    "    [s!=t for (s,t) in legislation_network_grouped_name.index]]]"
   ]
  },
  {
   "cell_type": "code",
   "execution_count": 118,
   "metadata": {
    "collapsed": false
   },
   "outputs": [
    {
     "name": "stdout",
     "output_type": "stream",
     "text": [
      "(30,)\n"
     ]
    },
    {
     "data": {
      "text/plain": [
       "title1                                                                                          title2                                                                                        \n",
       "Wetboek van Burgerlijke Rechtsvordering, Artikel 843a                                           Wetboek van Burgerlijke Rechtsvordering (geldt in geval van digitaal procederen), Artikel 843a    237\n",
       "Wetboek van Burgerlijke Rechtsvordering (geldt in geval van digitaal procederen), Artikel 843a  Wetboek van Burgerlijke Rechtsvordering, Artikel 843a                                             237\n",
       "Wetboek van Burgerlijke Rechtsvordering, Artikel 401a                                           Wetboek van Burgerlijke Rechtsvordering (geldt in geval van digitaal procederen), Artikel 401a    229\n",
       "Wetboek van Burgerlijke Rechtsvordering (geldt in geval van digitaal procederen), Artikel 401a  Wetboek van Burgerlijke Rechtsvordering, Artikel 401a                                             229\n",
       "Wetboek van Burgerlijke Rechtsvordering (geldt in geval van digitaal procederen), Artikel 332   Wetboek van Burgerlijke Rechtsvordering, Artikel 332                                              154\n",
       "Name: cnt, dtype: int64"
      ]
     },
     "execution_count": 118,
     "metadata": {},
     "output_type": "execute_result"
    }
   ],
   "source": [
    "print(legislation_network_grouped_name.shape)\n",
    "legislation_network_grouped_name.sort_values(ascending=False).head()"
   ]
  },
  {
   "cell_type": "code",
   "execution_count": 120,
   "metadata": {
    "collapsed": true
   },
   "outputs": [],
   "source": [
    "legislation_network_grouped_name.to_csv(os.path.join(outpath, 'legislation_titles_links.csv'), \n",
    "                                   index=True, index_label=['source', 'target'], header='True', sep='\\t')"
   ]
  },
  {
   "cell_type": "code",
   "execution_count": 32,
   "metadata": {
    "collapsed": true
   },
   "outputs": [],
   "source": [
    "law_titles.to_csv(os.path.join(outpath, 'legislation_nodes.csv'), index=False)"
   ]
  },
  {
   "cell_type": "code",
   "execution_count": 111,
   "metadata": {
    "collapsed": false
   },
   "outputs": [
    {
     "data": {
      "text/plain": [
       "((11895, 3), (216232,), (30,))"
      ]
     },
     "execution_count": 111,
     "metadata": {},
     "output_type": "execute_result"
    }
   ],
   "source": [
    "law_titles.shape, legislation_network_grouped.shape, legislation_network_grouped_name.shape"
   ]
  },
  {
   "cell_type": "code",
   "execution_count": 99,
   "metadata": {
    "collapsed": false
   },
   "outputs": [
    {
     "data": {
      "text/plain": [
       "<matplotlib.axes._subplots.AxesSubplot at 0x7f3f136d5d68>"
      ]
     },
     "execution_count": 99,
     "metadata": {},
     "output_type": "execute_result"
    },
    {
     "data": {
      "image/png": "[encoded data removed]",
      "text/plain": [
       "<matplotlib.figure.Figure at 0x7f3f15822ba8>"
      ]
     },
     "metadata": {},
     "output_type": "display_data"
    }
   ],
   "source": [
    "legislation_network_grouped.hist(bins=range(10, 1000, 10))"
   ]
  },
  {
   "cell_type": "code",
   "execution_count": 100,
   "metadata": {
    "collapsed": false
   },
   "outputs": [
    {
     "data": {
      "text/plain": [
       "article1                                                                              article2                                                                            \n",
       "http://linkeddata.overheid.nl/terms/bwb/id/BWBR0001903/3010844/2015-11-17/2015-11-17  http://linkeddata.overheid.nl/terms/bwb/id/BWBR0001903/3010844/2016-08-11/2016-08-11    1325\n",
       "http://linkeddata.overheid.nl/terms/bwb/id/BWBR0001903/3010844/2016-08-11/2016-08-11  http://linkeddata.overheid.nl/terms/bwb/id/BWBR0001903/3010844/2015-11-17/2015-11-17    1325\n",
       "http://linkeddata.overheid.nl/terms/bwb/id/BWBR0001854/2970494/2016-04-20/2016-04-20  http://linkeddata.overheid.nl/terms/bwb/id/BWBR0001854/2970494/2016-07-01/2016-07-01     866\n",
       "http://linkeddata.overheid.nl/terms/bwb/id/BWBR0001854/2970494/2016-07-01/2016-07-01  http://linkeddata.overheid.nl/terms/bwb/id/BWBR0001854/2970494/2016-04-20/2016-04-20     866\n",
       "http://linkeddata.overheid.nl/terms/bwb/id/BWBR0001830/2637694/2002-01-01/2002-01-01  http://linkeddata.overheid.nl/terms/bwb/id/BWBR0001903/3010844/2015-11-17/2015-11-17     382\n",
       "Name: cnt, dtype: int64"
      ]
     },
     "execution_count": 100,
     "metadata": {},
     "output_type": "execute_result"
    }
   ],
   "source": [
    "legislation_network_grouped.sort_values(ascending=False).head()"
   ]
  },
  {
   "cell_type": "code",
   "execution_count": 101,
   "metadata": {
    "collapsed": false
   },
   "outputs": [
    {
     "name": "stdout",
     "output_type": "stream",
     "text": [
      "(2436,)\n"
     ]
    }
   ],
   "source": [
    "legislation_network_grouped_10 = legislation_network_grouped[legislation_network_grouped>10]\n",
    "print(legislation_network_grouped_10.shape)\n",
    "legislation_network_grouped_10.to_csv(os.path.join(outpath, 'legislation_links_10plus.csv'), \n",
    "                                   index=True, index_label=['source', 'target'], header='True')"
   ]
  },
  {
   "cell_type": "markdown",
   "metadata": {},
   "source": [
    "## Filter cases based on legislation"
   ]
  },
  {
   "cell_type": "code",
   "execution_count": null,
   "metadata": {
    "collapsed": true
   },
   "outputs": [],
   "source": [
    "# Filter cases on 81 RO - maybe not because can still contain references\n",
    "ref81ro = legislation[legislation['title']=='Wet op de rechterlijke organisatie, Artikel 81']\n",
    "cases_filtered = cases[~cases.id.isin(ref81ro['source'].unique())]\n",
    "cases_filtered.shape"
   ]
  }
 ],
 "metadata": {
  "anaconda-cloud": {},
  "kernelspec": {
   "display_name": "Python [conda env:caselaw]",
   "language": "python",
   "name": "conda-env-caselaw-py"
  },
  "language_info": {
   "codemirror_mode": {
    "name": "ipython",
    "version": 3
   },
   "file_extension": ".py",
   "mimetype": "text/x-python",
   "name": "python",
   "nbconvert_exporter": "python",
   "pygments_lexer": "ipython3",
   "version": "3.5.2"
  }
 },
 "nbformat": 4,
 "nbformat_minor": 0
}
