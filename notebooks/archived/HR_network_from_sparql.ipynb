{
 "cells": [
  {
   "cell_type": "code",
   "execution_count": 8,
   "metadata": {
    "collapsed": false
   },
   "outputs": [
    {
     "name": "stdout",
     "output_type": "stream",
     "text": [
      "[nltk_data] Downloading package punkt to /home/dafne/nltk_data...\n",
      "[nltk_data]   Package punkt is already up-to-date!\n"
     ]
    }
   ],
   "source": [
    "from SPARQLWrapper import SPARQLWrapper, JSON\n",
    "import os\n",
    "import pandas as pd\n",
    "import caselawnet\n",
    "\n",
    "%matplotlib inline"
   ]
  },
  {
   "cell_type": "code",
   "execution_count": 2,
   "metadata": {
    "collapsed": true
   },
   "outputs": [],
   "source": [
    "sparql = SPARQLWrapper(\"http://localhost:9999/blazegraph/namespace/kb/sparql\")"
   ]
  },
  {
   "cell_type": "code",
   "execution_count": 9,
   "metadata": {
    "collapsed": true
   },
   "outputs": [],
   "source": [
    "outpath = '/media/sf_VBox_Shared/CaseLaw/graphs/lido/'"
   ]
  },
  {
   "cell_type": "code",
   "execution_count": 3,
   "metadata": {
    "collapsed": true
   },
   "outputs": [],
   "source": [
    "def sparql_result_to_df(result):\n",
    "    cols = result['head']['vars']\n",
    "    rows_dicts = result['results']['bindings']\n",
    "    rows = [{c: r.get(c, {'value': None})['value'] for c in cols} for r in rows_dicts]\n",
    "    return pd.DataFrame(rows)[cols]"
   ]
  },
  {
   "cell_type": "code",
   "execution_count": 4,
   "metadata": {
    "collapsed": false
   },
   "outputs": [
    {
     "data": {
      "text/plain": [
       "(68339, 5)"
      ]
     },
     "execution_count": 4,
     "metadata": {},
     "output_type": "execute_result"
    }
   ],
   "source": [
    "# Nodes: all jurispidentie that includes a creator\n",
    "queryString = \"\"\"\n",
    "    prefix dcterm: <http://purl.org/dc/terms/> \n",
    "    select ?id ?creator ?title\n",
    "    {\n",
    "        ?id dcterm:type \"Jurisprudentie\".\n",
    "         ?id dcterm:creator ?creator. \n",
    "        optional { ?id dcterm:title ?title }\n",
    "    }\n",
    "\"\"\"\n",
    "\n",
    "sparql.setQuery(queryString)\n",
    "sparql.setReturnFormat(JSON)\n",
    "ret = sparql.query()\n",
    "result = ret.convert()\n",
    "cases = sparql_result_to_df(result)\n",
    "ecli_regex = '(ECLI:[A-Z]{2}:[A-Z]*:[0-9]{4}:[0-9A-Z\\.]{1,25}$)'\n",
    "cases['ecli'] = cases.id.str.extract(ecli_regex, expand=False)\n",
    "cases['court'] = cases.ecli.str.extract('ECLI:[A-Z]{2}:([A-Z]*):[0-9]{4}:[0-9A-Z\\.]{1,25}$', expand=False)\n",
    "cases.shape"
   ]
  },
  {
   "cell_type": "code",
   "execution_count": 6,
   "metadata": {
    "collapsed": false
   },
   "outputs": [
    {
     "data": {
      "text/plain": [
       "HR    68339\n",
       "Name: court, dtype: int64"
      ]
     },
     "execution_count": 6,
     "metadata": {},
     "output_type": "execute_result"
    }
   ],
   "source": [
    "cases['court'].value_counts()"
   ]
  },
  {
   "cell_type": "code",
   "execution_count": null,
   "metadata": {
    "collapsed": true
   },
   "outputs": [],
   "source": [
    "## TODO: there's duplicate ids"
   ]
  },
  {
   "cell_type": "code",
   "execution_count": 5,
   "metadata": {
    "collapsed": false
   },
   "outputs": [
    {
     "data": {
      "text/plain": [
       "(17240, 5)"
      ]
     },
     "execution_count": 5,
     "metadata": {},
     "output_type": "execute_result"
    }
   ],
   "source": [
    "# Links between cases\n",
    "queryString = \"\"\"\n",
    "    prefix dcterm: <http://purl.org/dc/terms/> \n",
    "    prefix overheidrl: <http://linkeddata.overheid.nl/terms/>\n",
    "    select ?link_id ?source ?target ?link_type ?link_type_label\n",
    "    {\n",
    "        ?source dcterm:type \"Jurisprudentie\".\n",
    "        ?target dcterm:type \"Jurisprudentie\".\n",
    "        ?link_id overheidrl:heeftLinktype ?link_type.\n",
    "        ?link_id overheidrl:linktVan  ?source.\n",
    "        ?link_id overheidrl:linktNaar  ?target.\n",
    "        ?link_type rdfs:label ?link_type_label.\n",
    "        ?source dcterm:creator ?creator_source. \n",
    "        ?target dcterm:creator ?creator_target. \n",
    "    }\n",
    "\"\"\"\n",
    "\n",
    "sparql.setQuery(queryString)\n",
    "sparql.setReturnFormat(JSON)\n",
    "ret = sparql.query()\n",
    "result = ret.convert()\n",
    "links = sparql_result_to_df(result)\n",
    "links.shape"
   ]
  },
  {
   "cell_type": "code",
   "execution_count": 7,
   "metadata": {
    "collapsed": false
   },
   "outputs": [
    {
     "data": {
      "text/plain": [
       "(16129, 5)"
      ]
     },
     "execution_count": 7,
     "metadata": {},
     "output_type": "execute_result"
    }
   ],
   "source": [
    "# Filter self-loops\n",
    "links = links[~(links['source']==links['target'])]\n",
    "links.shape"
   ]
  },
  {
   "cell_type": "code",
   "execution_count": 10,
   "metadata": {
    "collapsed": false
   },
   "outputs": [],
   "source": [
    "# Export nodes and links\n",
    "caselawnet.utils.to_sigma_json(cases.to_dict(orient='records'),\n",
    "                               links.to_dict(orient='records'),\n",
    "                               'Hoge Raad',\n",
    "                               filename=os.path.join('hr_simple.json')\n",
    "                              )"
   ]
  },
  {
   "cell_type": "code",
   "execution_count": 11,
   "metadata": {
    "collapsed": true
   },
   "outputs": [],
   "source": [
    "cases.to_csv(os.path.join(outpath, 'hr_simple_nodes.csv'), index=False)\n",
    "links.to_csv(os.path.join(outpath, 'hr_simple_links.csv'), index=False)"
   ]
  },
  {
   "cell_type": "markdown",
   "metadata": {},
   "source": [
    "## Enrich the nodes"
   ]
  },
  {
   "cell_type": "code",
   "execution_count": 13,
   "metadata": {
    "collapsed": true
   },
   "outputs": [],
   "source": [
    "eclis = list(cases['ecli'])\n",
    "nodes_enriched = []"
   ]
  },
  {
   "cell_type": "code",
   "execution_count": 33,
   "metadata": {
    "collapsed": true
   },
   "outputs": [],
   "source": [
    "eclis_enriched = set([c['ecli'] for c in nodes_enriched])"
   ]
  },
  {
   "cell_type": "code",
   "execution_count": 34,
   "metadata": {
    "collapsed": false
   },
   "outputs": [
    {
     "data": {
      "text/plain": [
       "68333"
      ]
     },
     "execution_count": 34,
     "metadata": {},
     "output_type": "execute_result"
    }
   ],
   "source": [
    "len(eclis_enriched)"
   ]
  },
  {
   "cell_type": "code",
   "execution_count": null,
   "metadata": {
    "collapsed": false
   },
   "outputs": [],
   "source": [
    "batch_size = 1000\n",
    "for i in range(0, len(eclis), batch_size):\n",
    "    print(i)\n",
    "    batch = set(eclis[i:i+batch_size]).difference(eclis_enriched)\n",
    "    nodes_enriched += caselawnet.enrich_eclis(batch, \n",
    "                                               rootpath='/media/sf_VBox_Shared/CaseLaw/OpenDataUitspraken/')"
   ]
  },
  {
   "cell_type": "code",
   "execution_count": 29,
   "metadata": {
    "collapsed": false
   },
   "outputs": [
    {
     "data": {
      "text/plain": [
       "(68339, 68333)"
      ]
     },
     "execution_count": 29,
     "metadata": {},
     "output_type": "execute_result"
    }
   ],
   "source": [
    "len(eclis), len(nodes_enriched)"
   ]
  },
  {
   "cell_type": "code",
   "execution_count": 32,
   "metadata": {
    "collapsed": false
   },
   "outputs": [
    {
     "data": {
      "text/html": [
       "<div>\n",
       "<style>\n",
       "    .dataframe thead tr:only-child th {\n",
       "        text-align: right;\n",
       "    }\n",
       "\n",
       "    .dataframe thead th {\n",
       "        text-align: left;\n",
       "    }\n",
       "\n",
       "    .dataframe tbody tr th {\n",
       "        vertical-align: top;\n",
       "    }\n",
       "</style>\n",
       "<table border=\"1\" class=\"dataframe\">\n",
       "  <thead>\n",
       "    <tr style=\"text-align: right;\">\n",
       "      <th></th>\n",
       "      <th>abstract</th>\n",
       "      <th>articles</th>\n",
       "      <th>count_annotation</th>\n",
       "      <th>count_version</th>\n",
       "      <th>creator</th>\n",
       "      <th>date</th>\n",
       "      <th>ecli</th>\n",
       "      <th>id</th>\n",
       "      <th>subject</th>\n",
       "      <th>title</th>\n",
       "      <th>year</th>\n",
       "    </tr>\n",
       "  </thead>\n",
       "  <tbody>\n",
       "    <tr>\n",
       "      <th>0</th>\n",
       "      <td>Artikel 3.92, lid 1, Wet IB 2001; inkomstenbel...</td>\n",
       "      <td>[]</td>\n",
       "      <td>4</td>\n",
       "      <td>6</td>\n",
       "      <td>http://standaarden.overheid.nl/owms/terms/Hoge...</td>\n",
       "      <td>2010-01-15</td>\n",
       "      <td>ECLI:NL:HR:2010:BH9198</td>\n",
       "      <td>http://deeplink.rechtspraak.nl/uitspraak?id=EC...</td>\n",
       "      <td>http://psi.rechtspraak.nl/rechtsgebied#bestuur...</td>\n",
       "      <td>ECLI:NL:HR:2010:BH9198 Hoge Raad , 15-01-2010 ...</td>\n",
       "      <td>2010</td>\n",
       "    </tr>\n",
       "    <tr>\n",
       "      <th>1</th>\n",
       "      <td></td>\n",
       "      <td>[]</td>\n",
       "      <td>1</td>\n",
       "      <td>1</td>\n",
       "      <td>http://standaarden.overheid.nl/owms/terms/Hoge...</td>\n",
       "      <td>1955-09-14</td>\n",
       "      <td>ECLI:NL:HR:1955:AY2555</td>\n",
       "      <td>http://deeplink.rechtspraak.nl/uitspraak?id=EC...</td>\n",
       "      <td></td>\n",
       "      <td></td>\n",
       "      <td>1955</td>\n",
       "    </tr>\n",
       "    <tr>\n",
       "      <th>2</th>\n",
       "      <td></td>\n",
       "      <td>[]</td>\n",
       "      <td>0</td>\n",
       "      <td>1</td>\n",
       "      <td>http://standaarden.overheid.nl/owms/terms/Hoge...</td>\n",
       "      <td>1956-02-15</td>\n",
       "      <td>ECLI:NL:HR:1956:AY2002</td>\n",
       "      <td>http://deeplink.rechtspraak.nl/uitspraak?id=EC...</td>\n",
       "      <td></td>\n",
       "      <td></td>\n",
       "      <td>1956</td>\n",
       "    </tr>\n",
       "    <tr>\n",
       "      <th>3</th>\n",
       "      <td></td>\n",
       "      <td>[]</td>\n",
       "      <td>1</td>\n",
       "      <td>1</td>\n",
       "      <td>http://standaarden.overheid.nl/owms/terms/Hoge...</td>\n",
       "      <td>1955-03-30</td>\n",
       "      <td>ECLI:NL:HR:1955:AY2453</td>\n",
       "      <td>http://deeplink.rechtspraak.nl/uitspraak?id=EC...</td>\n",
       "      <td></td>\n",
       "      <td></td>\n",
       "      <td>1955</td>\n",
       "    </tr>\n",
       "    <tr>\n",
       "      <th>4</th>\n",
       "      <td></td>\n",
       "      <td>[]</td>\n",
       "      <td>0</td>\n",
       "      <td>1</td>\n",
       "      <td>http://standaarden.overheid.nl/owms/terms/Hoge...</td>\n",
       "      <td>1954-05-26</td>\n",
       "      <td>ECLI:NL:HR:1954:AY2897</td>\n",
       "      <td>http://deeplink.rechtspraak.nl/uitspraak?id=EC...</td>\n",
       "      <td></td>\n",
       "      <td></td>\n",
       "      <td>1954</td>\n",
       "    </tr>\n",
       "  </tbody>\n",
       "</table>\n",
       "</div>"
      ],
      "text/plain": [
       "                                            abstract articles  \\\n",
       "0  Artikel 3.92, lid 1, Wet IB 2001; inkomstenbel...       []   \n",
       "1                                                          []   \n",
       "2                                                          []   \n",
       "3                                                          []   \n",
       "4                                                          []   \n",
       "\n",
       "  count_annotation count_version  \\\n",
       "0                4             6   \n",
       "1                1             1   \n",
       "2                0             1   \n",
       "3                1             1   \n",
       "4                0             1   \n",
       "\n",
       "                                             creator        date  \\\n",
       "0  http://standaarden.overheid.nl/owms/terms/Hoge...  2010-01-15   \n",
       "1  http://standaarden.overheid.nl/owms/terms/Hoge...  1955-09-14   \n",
       "2  http://standaarden.overheid.nl/owms/terms/Hoge...  1956-02-15   \n",
       "3  http://standaarden.overheid.nl/owms/terms/Hoge...  1955-03-30   \n",
       "4  http://standaarden.overheid.nl/owms/terms/Hoge...  1954-05-26   \n",
       "\n",
       "                     ecli                                                 id  \\\n",
       "0  ECLI:NL:HR:2010:BH9198  http://deeplink.rechtspraak.nl/uitspraak?id=EC...   \n",
       "1  ECLI:NL:HR:1955:AY2555  http://deeplink.rechtspraak.nl/uitspraak?id=EC...   \n",
       "2  ECLI:NL:HR:1956:AY2002  http://deeplink.rechtspraak.nl/uitspraak?id=EC...   \n",
       "3  ECLI:NL:HR:1955:AY2453  http://deeplink.rechtspraak.nl/uitspraak?id=EC...   \n",
       "4  ECLI:NL:HR:1954:AY2897  http://deeplink.rechtspraak.nl/uitspraak?id=EC...   \n",
       "\n",
       "                                             subject  \\\n",
       "0  http://psi.rechtspraak.nl/rechtsgebied#bestuur...   \n",
       "1                                                      \n",
       "2                                                      \n",
       "3                                                      \n",
       "4                                                      \n",
       "\n",
       "                                               title  year  \n",
       "0  ECLI:NL:HR:2010:BH9198 Hoge Raad , 15-01-2010 ...  2010  \n",
       "1                                                     1955  \n",
       "2                                                     1956  \n",
       "3                                                     1955  \n",
       "4                                                     1954  "
      ]
     },
     "execution_count": 32,
     "metadata": {},
     "output_type": "execute_result"
    }
   ],
   "source": [
    "nodes_enriched_df = pd.DataFrame(nodes_enriched)\n",
    "nodes_enriched_df.head()"
   ]
  },
  {
   "cell_type": "code",
   "execution_count": 36,
   "metadata": {
    "collapsed": false
   },
   "outputs": [],
   "source": [
    "nodes_enriched_df.to_csv(os.path.join(outpath, 'hr_enriched_nodes_1.csv'), index=False)"
   ]
  },
  {
   "cell_type": "code",
   "execution_count": 37,
   "metadata": {
    "collapsed": false
   },
   "outputs": [],
   "source": [
    "cases_merged = cases.merge(nodes_enriched_df[['ecli', 'subject', 'creator', 'year', 'date', 'abstract']], on='ecli')"
   ]
  },
  {
   "cell_type": "code",
   "execution_count": 38,
   "metadata": {
    "collapsed": false
   },
   "outputs": [],
   "source": [
    "cases_merged['creator'] = [c['creator_x'] if c['creator_x'] else c['creator_y'].split('/')[-1].replace('_', ' ')\n",
    "                           for i, c in cases_merged.iterrows()]"
   ]
  },
  {
   "cell_type": "code",
   "execution_count": 40,
   "metadata": {
    "collapsed": false
   },
   "outputs": [],
   "source": [
    "cases_merged = cases_merged[['id', 'ecli', 'title', 'subject', 'creator', 'year', 'date', 'abstract']]"
   ]
  },
  {
   "cell_type": "code",
   "execution_count": 41,
   "metadata": {
    "collapsed": false
   },
   "outputs": [
    {
     "data": {
      "text/html": [
       "<div>\n",
       "<style>\n",
       "    .dataframe thead tr:only-child th {\n",
       "        text-align: right;\n",
       "    }\n",
       "\n",
       "    .dataframe thead th {\n",
       "        text-align: left;\n",
       "    }\n",
       "\n",
       "    .dataframe tbody tr th {\n",
       "        vertical-align: top;\n",
       "    }\n",
       "</style>\n",
       "<table border=\"1\" class=\"dataframe\">\n",
       "  <thead>\n",
       "    <tr style=\"text-align: right;\">\n",
       "      <th></th>\n",
       "      <th>id</th>\n",
       "      <th>ecli</th>\n",
       "      <th>title</th>\n",
       "      <th>subject</th>\n",
       "      <th>creator</th>\n",
       "      <th>year</th>\n",
       "      <th>date</th>\n",
       "      <th>abstract</th>\n",
       "    </tr>\n",
       "  </thead>\n",
       "  <tbody>\n",
       "    <tr>\n",
       "      <th>0</th>\n",
       "      <td>http://linkeddata.overheid.nl/terms/jurisprude...</td>\n",
       "      <td>ECLI:NL:HR:1954:AY3407</td>\n",
       "      <td>ECLI:NL:HR:1954:AY3407 - Hoge Raad, 10-11-1954...</td>\n",
       "      <td></td>\n",
       "      <td>Hoge Raad der Nederlanden</td>\n",
       "      <td>1954</td>\n",
       "      <td>1954-11-10</td>\n",
       "      <td></td>\n",
       "    </tr>\n",
       "    <tr>\n",
       "      <th>1</th>\n",
       "      <td>http://linkeddata.overheid.nl/terms/jurisprude...</td>\n",
       "      <td>ECLI:NL:HR:1954:AY3410</td>\n",
       "      <td>ECLI:NL:HR:1954:AY3410 - Hoge Raad, 03-11-1954...</td>\n",
       "      <td></td>\n",
       "      <td>Hoge Raad der Nederlanden</td>\n",
       "      <td>1954</td>\n",
       "      <td>1954-11-03</td>\n",
       "      <td></td>\n",
       "    </tr>\n",
       "    <tr>\n",
       "      <th>2</th>\n",
       "      <td>http://linkeddata.overheid.nl/terms/jurisprude...</td>\n",
       "      <td>ECLI:NL:HR:1954:AY3414</td>\n",
       "      <td>ECLI:NL:HR:1954:AY3414 - Hoge Raad, 03-11-1954...</td>\n",
       "      <td></td>\n",
       "      <td>Hoge Raad der Nederlanden</td>\n",
       "      <td>1954</td>\n",
       "      <td>1954-11-03</td>\n",
       "      <td></td>\n",
       "    </tr>\n",
       "    <tr>\n",
       "      <th>3</th>\n",
       "      <td>http://linkeddata.overheid.nl/terms/jurisprude...</td>\n",
       "      <td>ECLI:NL:HR:1954:AY4071</td>\n",
       "      <td>ECLI:NL:HR:1954:AY4071 - Hoge Raad, 23-06-1954...</td>\n",
       "      <td></td>\n",
       "      <td>Hoge Raad der Nederlanden</td>\n",
       "      <td>1954</td>\n",
       "      <td>1954-06-23</td>\n",
       "      <td></td>\n",
       "    </tr>\n",
       "    <tr>\n",
       "      <th>4</th>\n",
       "      <td>http://linkeddata.overheid.nl/terms/jurisprude...</td>\n",
       "      <td>ECLI:NL:HR:1998:AA2296</td>\n",
       "      <td>ECLI:NL:HR:1998:AA2296 - Hoge Raad, 10-08-1998...</td>\n",
       "      <td>http://psi.rechtspraak.nl/rechtsgebied#bestuur...</td>\n",
       "      <td>Hoge Raad der Nederlanden</td>\n",
       "      <td>1998</td>\n",
       "      <td>1998-08-10</td>\n",
       "      <td>-</td>\n",
       "    </tr>\n",
       "  </tbody>\n",
       "</table>\n",
       "</div>"
      ],
      "text/plain": [
       "                                                  id                    ecli  \\\n",
       "0  http://linkeddata.overheid.nl/terms/jurisprude...  ECLI:NL:HR:1954:AY3407   \n",
       "1  http://linkeddata.overheid.nl/terms/jurisprude...  ECLI:NL:HR:1954:AY3410   \n",
       "2  http://linkeddata.overheid.nl/terms/jurisprude...  ECLI:NL:HR:1954:AY3414   \n",
       "3  http://linkeddata.overheid.nl/terms/jurisprude...  ECLI:NL:HR:1954:AY4071   \n",
       "4  http://linkeddata.overheid.nl/terms/jurisprude...  ECLI:NL:HR:1998:AA2296   \n",
       "\n",
       "                                               title  \\\n",
       "0  ECLI:NL:HR:1954:AY3407 - Hoge Raad, 10-11-1954...   \n",
       "1  ECLI:NL:HR:1954:AY3410 - Hoge Raad, 03-11-1954...   \n",
       "2  ECLI:NL:HR:1954:AY3414 - Hoge Raad, 03-11-1954...   \n",
       "3  ECLI:NL:HR:1954:AY4071 - Hoge Raad, 23-06-1954...   \n",
       "4  ECLI:NL:HR:1998:AA2296 - Hoge Raad, 10-08-1998...   \n",
       "\n",
       "                                             subject  \\\n",
       "0                                                      \n",
       "1                                                      \n",
       "2                                                      \n",
       "3                                                      \n",
       "4  http://psi.rechtspraak.nl/rechtsgebied#bestuur...   \n",
       "\n",
       "                     creator  year        date abstract  \n",
       "0  Hoge Raad der Nederlanden  1954  1954-11-10           \n",
       "1  Hoge Raad der Nederlanden  1954  1954-11-03           \n",
       "2  Hoge Raad der Nederlanden  1954  1954-11-03           \n",
       "3  Hoge Raad der Nederlanden  1954  1954-06-23           \n",
       "4  Hoge Raad der Nederlanden  1998  1998-08-10        -  "
      ]
     },
     "execution_count": 41,
     "metadata": {},
     "output_type": "execute_result"
    }
   ],
   "source": [
    "cases_merged.head()"
   ]
  },
  {
   "cell_type": "code",
   "execution_count": 42,
   "metadata": {
    "collapsed": true
   },
   "outputs": [],
   "source": [
    "cases_merged.to_csv(os.path.join(outpath, 'hr_enriched_nodes_2.csv'), index=False)"
   ]
  },
  {
   "cell_type": "code",
   "execution_count": 51,
   "metadata": {
    "collapsed": false
   },
   "outputs": [],
   "source": [
    "links = links.rename(columns={'link_id': 'id'})"
   ]
  },
  {
   "cell_type": "code",
   "execution_count": null,
   "metadata": {
    "collapsed": false
   },
   "outputs": [],
   "source": [
    "cases_network, links_network = caselawnet.network_analysis.add_network_statistics(\n",
    "    cases_merged.to_dict(orient='records'), links.to_dict(orient='records'))"
   ]
  },
  {
   "cell_type": "code",
   "execution_count": null,
   "metadata": {
    "collapsed": true
   },
   "outputs": [],
   "source": []
  }
 ],
 "metadata": {
  "anaconda-cloud": {},
  "kernelspec": {
   "display_name": "Python [conda env:caselaw]",
   "language": "python",
   "name": "conda-env-caselaw-py"
  },
  "language_info": {
   "codemirror_mode": {
    "name": "ipython",
    "version": 3
   },
   "file_extension": ".py",
   "mimetype": "text/x-python",
   "name": "python",
   "nbconvert_exporter": "python",
   "pygments_lexer": "ipython3",
   "version": "3.5.2"
  }
 },
 "nbformat": 4,
 "nbformat_minor": 0
}
