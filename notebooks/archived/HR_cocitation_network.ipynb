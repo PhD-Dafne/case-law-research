{
 "cells": [
  {
   "cell_type": "code",
   "execution_count": 1,
   "metadata": {
    "collapsed": true
   },
   "outputs": [],
   "source": [
    "import pandas as pd\n",
    "import networkx as nx\n",
    "import numpy as np\n",
    "import os"
   ]
  },
  {
   "cell_type": "code",
   "execution_count": 2,
   "metadata": {
    "collapsed": true
   },
   "outputs": [],
   "source": [
    "datapath = '/media/sf_VBox_Shared/CaseLaw/graphs/lido/'"
   ]
  },
  {
   "cell_type": "code",
   "execution_count": 3,
   "metadata": {
    "collapsed": false
   },
   "outputs": [],
   "source": [
    "links = pd.read_csv(os.path.join(datapath, 'hr_simple_links.csv'))"
   ]
  },
  {
   "cell_type": "code",
   "execution_count": 4,
   "metadata": {
    "collapsed": false
   },
   "outputs": [],
   "source": [
    "g = nx.from_edgelist(links[['source', 'target']].as_matrix(), create_using=nx.DiGraph())"
   ]
  },
  {
   "cell_type": "code",
   "execution_count": 5,
   "metadata": {
    "collapsed": false
   },
   "outputs": [
    {
     "data": {
      "text/plain": [
       "16119"
      ]
     },
     "execution_count": 5,
     "metadata": {},
     "output_type": "execute_result"
    }
   ],
   "source": [
    "g.size()"
   ]
  },
  {
   "cell_type": "code",
   "execution_count": 6,
   "metadata": {
    "collapsed": true
   },
   "outputs": [],
   "source": [
    "nodelist = g.nodes()\n",
    "g_matrix = nx.adjacency_matrix(g, nodelist=nodelist)"
   ]
  },
  {
   "cell_type": "code",
   "execution_count": 7,
   "metadata": {
    "collapsed": false
   },
   "outputs": [
    {
     "data": {
      "text/plain": [
       "(15139, 15139)"
      ]
     },
     "execution_count": 7,
     "metadata": {},
     "output_type": "execute_result"
    }
   ],
   "source": [
    "g_matrix.shape"
   ]
  },
  {
   "cell_type": "code",
   "execution_count": 32,
   "metadata": {
    "collapsed": true
   },
   "outputs": [],
   "source": [
    "g_cocitation_matrix = g_matrix.T.dot(g_matrix)"
   ]
  },
  {
   "cell_type": "code",
   "execution_count": 33,
   "metadata": {
    "collapsed": false
   },
   "outputs": [
    {
     "name": "stderr",
     "output_type": "stream",
     "text": [
      "/home/dafne/anaconda2/envs/caselaw/lib/python3.5/site-packages/scipy/sparse/compressed.py:774: SparseEfficiencyWarning: Changing the sparsity structure of a csc_matrix is expensive. lil_matrix is more efficient.\n",
      "  SparseEfficiencyWarning)\n"
     ]
    }
   ],
   "source": [
    "# Remove selfloops\n",
    "g_cocitation_matrix.setdiag(0)"
   ]
  },
  {
   "cell_type": "code",
   "execution_count": 34,
   "metadata": {
    "collapsed": false
   },
   "outputs": [],
   "source": [
    "symmetric = g_cocitation_matrix != g_cocitation_matrix.T"
   ]
  },
  {
   "cell_type": "code",
   "execution_count": 35,
   "metadata": {
    "collapsed": false
   },
   "outputs": [
    {
     "data": {
      "text/plain": [
       "0"
      ]
     },
     "execution_count": 35,
     "metadata": {},
     "output_type": "execute_result"
    }
   ],
   "source": [
    "symmetric.sum()"
   ]
  },
  {
   "cell_type": "code",
   "execution_count": 36,
   "metadata": {
    "collapsed": false
   },
   "outputs": [],
   "source": [
    "g_cocitation = nx.from_scipy_sparse_matrix(g_cocitation_matrix)"
   ]
  },
  {
   "cell_type": "code",
   "execution_count": 37,
   "metadata": {
    "collapsed": false
   },
   "outputs": [
    {
     "data": {
      "text/plain": [
       "10083"
      ]
     },
     "execution_count": 37,
     "metadata": {},
     "output_type": "execute_result"
    }
   ],
   "source": [
    "len(list(nx.connected_components(g_cocitation)))"
   ]
  },
  {
   "cell_type": "code",
   "execution_count": 38,
   "metadata": {
    "collapsed": false
   },
   "outputs": [],
   "source": [
    "links_cocitation =  pd.DataFrame([(nodelist[s], nodelist[t], att['weight']) \n",
    "                          for (s, t, att) in g_cocitation.edges(data=True) \n",
    "                              if att['weight'] != 0])"
   ]
  },
  {
   "cell_type": "code",
   "execution_count": 39,
   "metadata": {
    "collapsed": false
   },
   "outputs": [],
   "source": [
    "links_cocitation.columns = ['source', 'target', 'weight']"
   ]
  },
  {
   "cell_type": "code",
   "execution_count": 40,
   "metadata": {
    "collapsed": false
   },
   "outputs": [
    {
     "data": {
      "text/html": [
       "<div>\n",
       "<style>\n",
       "    .dataframe thead tr:only-child th {\n",
       "        text-align: right;\n",
       "    }\n",
       "\n",
       "    .dataframe thead th {\n",
       "        text-align: left;\n",
       "    }\n",
       "\n",
       "    .dataframe tbody tr th {\n",
       "        vertical-align: top;\n",
       "    }\n",
       "</style>\n",
       "<table border=\"1\" class=\"dataframe\">\n",
       "  <thead>\n",
       "    <tr style=\"text-align: right;\">\n",
       "      <th></th>\n",
       "      <th>source</th>\n",
       "      <th>target</th>\n",
       "      <th>weight</th>\n",
       "    </tr>\n",
       "  </thead>\n",
       "  <tbody>\n",
       "    <tr>\n",
       "      <th>0</th>\n",
       "      <td>http://linkeddata.overheid.nl/terms/jurisprude...</td>\n",
       "      <td>http://linkeddata.overheid.nl/terms/jurisprude...</td>\n",
       "      <td>1</td>\n",
       "    </tr>\n",
       "    <tr>\n",
       "      <th>1</th>\n",
       "      <td>http://linkeddata.overheid.nl/terms/jurisprude...</td>\n",
       "      <td>http://linkeddata.overheid.nl/terms/jurisprude...</td>\n",
       "      <td>1</td>\n",
       "    </tr>\n",
       "    <tr>\n",
       "      <th>2</th>\n",
       "      <td>http://linkeddata.overheid.nl/terms/jurisprude...</td>\n",
       "      <td>http://linkeddata.overheid.nl/terms/jurisprude...</td>\n",
       "      <td>1</td>\n",
       "    </tr>\n",
       "    <tr>\n",
       "      <th>3</th>\n",
       "      <td>http://linkeddata.overheid.nl/terms/jurisprude...</td>\n",
       "      <td>http://linkeddata.overheid.nl/terms/jurisprude...</td>\n",
       "      <td>1</td>\n",
       "    </tr>\n",
       "    <tr>\n",
       "      <th>4</th>\n",
       "      <td>http://linkeddata.overheid.nl/terms/jurisprude...</td>\n",
       "      <td>http://linkeddata.overheid.nl/terms/jurisprude...</td>\n",
       "      <td>1</td>\n",
       "    </tr>\n",
       "  </tbody>\n",
       "</table>\n",
       "</div>"
      ],
      "text/plain": [
       "                                              source  \\\n",
       "0  http://linkeddata.overheid.nl/terms/jurisprude...   \n",
       "1  http://linkeddata.overheid.nl/terms/jurisprude...   \n",
       "2  http://linkeddata.overheid.nl/terms/jurisprude...   \n",
       "3  http://linkeddata.overheid.nl/terms/jurisprude...   \n",
       "4  http://linkeddata.overheid.nl/terms/jurisprude...   \n",
       "\n",
       "                                              target  weight  \n",
       "0  http://linkeddata.overheid.nl/terms/jurisprude...       1  \n",
       "1  http://linkeddata.overheid.nl/terms/jurisprude...       1  \n",
       "2  http://linkeddata.overheid.nl/terms/jurisprude...       1  \n",
       "3  http://linkeddata.overheid.nl/terms/jurisprude...       1  \n",
       "4  http://linkeddata.overheid.nl/terms/jurisprude...       1  "
      ]
     },
     "execution_count": 40,
     "metadata": {},
     "output_type": "execute_result"
    }
   ],
   "source": [
    "links_cocitation.head()"
   ]
  },
  {
   "cell_type": "code",
   "execution_count": 41,
   "metadata": {
    "collapsed": false
   },
   "outputs": [],
   "source": [
    "links_cocitation.to_csv(os.path.join(datapath, 'links_cocitation.csv'), index=False)"
   ]
  },
  {
   "cell_type": "code",
   "execution_count": 42,
   "metadata": {
    "collapsed": false
   },
   "outputs": [
    {
     "name": "stdout",
     "output_type": "stream",
     "text": [
      "(1451, 3)\n"
     ]
    }
   ],
   "source": [
    "links_cocitation_multiple = links_cocitation[links_cocitation['weight']>1]\n",
    "print(links_cocitation_multiple.shape)"
   ]
  },
  {
   "cell_type": "code",
   "execution_count": 43,
   "metadata": {
    "collapsed": true
   },
   "outputs": [],
   "source": [
    "links_cocitation_multiple.to_csv(os.path.join(datapath, 'links_cocitation_multiple.csv'), index=False)"
   ]
  },
  {
   "cell_type": "code",
   "execution_count": 47,
   "metadata": {
    "collapsed": false
   },
   "outputs": [
    {
     "data": {
      "text/plain": [
       "('http://linkeddata.overheid.nl/terms/jurisprudentie/id/ECLI:NL:HR:1975:AB4802',\n",
       " 'http://linkeddata.overheid.nl/terms/jurisprudentie/id/ECLI:NL:HR:2005:AR8225',\n",
       " 1)"
      ]
     },
     "execution_count": 47,
     "metadata": {},
     "output_type": "execute_result"
    }
   ],
   "source": [
    "s, t, w = links_cocitation.iloc[0]\n",
    "s,t,w"
   ]
  },
  {
   "cell_type": "code",
   "execution_count": 48,
   "metadata": {
    "collapsed": false
   },
   "outputs": [
    {
     "data": {
      "text/html": [
       "<div>\n",
       "<style>\n",
       "    .dataframe thead tr:only-child th {\n",
       "        text-align: right;\n",
       "    }\n",
       "\n",
       "    .dataframe thead th {\n",
       "        text-align: left;\n",
       "    }\n",
       "\n",
       "    .dataframe tbody tr th {\n",
       "        vertical-align: top;\n",
       "    }\n",
       "</style>\n",
       "<table border=\"1\" class=\"dataframe\">\n",
       "  <thead>\n",
       "    <tr style=\"text-align: right;\">\n",
       "      <th></th>\n",
       "      <th>link_id</th>\n",
       "      <th>source</th>\n",
       "      <th>target</th>\n",
       "      <th>link_type</th>\n",
       "      <th>link_type_label</th>\n",
       "    </tr>\n",
       "  </thead>\n",
       "  <tbody>\n",
       "    <tr>\n",
       "      <th>593</th>\n",
       "      <td>http://linkeddata.overheid.nl/terms/linktype/i...</td>\n",
       "      <td>http://linkeddata.overheid.nl/terms/jurisprude...</td>\n",
       "      <td>http://linkeddata.overheid.nl/terms/jurisprude...</td>\n",
       "      <td>http://linkeddata.overheid.nl/terms/linktype/i...</td>\n",
       "      <td>Door computer herkende referentie</td>\n",
       "    </tr>\n",
       "  </tbody>\n",
       "</table>\n",
       "</div>"
      ],
      "text/plain": [
       "                                               link_id  \\\n",
       "593  http://linkeddata.overheid.nl/terms/linktype/i...   \n",
       "\n",
       "                                                source  \\\n",
       "593  http://linkeddata.overheid.nl/terms/jurisprude...   \n",
       "\n",
       "                                                target  \\\n",
       "593  http://linkeddata.overheid.nl/terms/jurisprude...   \n",
       "\n",
       "                                             link_type  \\\n",
       "593  http://linkeddata.overheid.nl/terms/linktype/i...   \n",
       "\n",
       "                       link_type_label  \n",
       "593  Door computer herkende referentie  "
      ]
     },
     "execution_count": 48,
     "metadata": {},
     "output_type": "execute_result"
    }
   ],
   "source": [
    "links[links['target']==s]"
   ]
  },
  {
   "cell_type": "code",
   "execution_count": null,
   "metadata": {
    "collapsed": true
   },
   "outputs": [],
   "source": []
  }
 ],
 "metadata": {
  "anaconda-cloud": {},
  "kernelspec": {
   "display_name": "Python [conda env:caselaw]",
   "language": "python",
   "name": "conda-env-caselaw-py"
  },
  "language_info": {
   "codemirror_mode": {
    "name": "ipython",
    "version": 3
   },
   "file_extension": ".py",
   "mimetype": "text/x-python",
   "name": "python",
   "nbconvert_exporter": "python",
   "pygments_lexer": "ipython3",
   "version": "3.5.2"
  }
 },
 "nbformat": 4,
 "nbformat_minor": 0
}
