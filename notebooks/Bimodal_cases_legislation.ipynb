{
 "cells": [
  {
   "cell_type": "code",
   "execution_count": 2,
   "metadata": {
    "collapsed": true
   },
   "outputs": [],
   "source": [
    "import os\n",
    "import pandas as pd"
   ]
  },
  {
   "cell_type": "code",
   "execution_count": 3,
   "metadata": {
    "collapsed": false
   },
   "outputs": [],
   "source": [
    "# load cases, links and legislation\n",
    "inputpath = '/media/sf_VBox_Shared/CaseLaw/graphs/lido/'\n",
    "cases = pd.read_csv(os.path.join(inputpath, 'hr_simple_nodes.csv'))\n",
    "legislation = pd.read_csv(os.path.join(inputpath, 'hr_simple_legislation_links.csv'))\n",
    "cases_links = pd.read_csv(os.path.join(inputpath, 'hr_simple_links.csv'))"
   ]
  },
  {
   "cell_type": "code",
   "execution_count": 4,
   "metadata": {
    "collapsed": true
   },
   "outputs": [],
   "source": [
    "leg_per_node = legislation.groupby('source')['title'].apply(lambda l: \"|\".join(list(sorted(l))))"
   ]
  },
  {
   "cell_type": "code",
   "execution_count": 5,
   "metadata": {
    "collapsed": true
   },
   "outputs": [],
   "source": [
    "cases = cases.set_index('id')\n",
    "cases['leg'] = leg_per_node\n",
    "cases = cases.reset_index()"
   ]
  },
  {
   "cell_type": "code",
   "execution_count": 6,
   "metadata": {
    "collapsed": false
   },
   "outputs": [
    {
     "data": {
      "text/plain": [
       "title\n",
       "Wet op de rechterlijke organisatie, Artikel 81     12732\n",
       "Wetboek van Strafvordering                          2043\n",
       "Wetboek van Strafrecht                              1395\n",
       "Wet op de rechterlijke organisatie, Artikel 80a     1222\n",
       "Wet waardering onroerende zaken                      708\n",
       "Opiumwet                                             624\n",
       "Wetboek van Strafvordering, Artikel 457              614\n",
       "Wetboek van Strafvordering, Artikel 359              603\n",
       "Wetboek van Strafvordering, Artikel 552a             567\n",
       "Wetboek van Strafvordering, Artikel 440              432\n",
       "Wet op de omzetbelasting 1968                        413\n",
       "Burgerlijk Wetboek Boek 6                            410\n",
       "Wetboek van Burgerlijke Rechtsvordering              402\n",
       "Algemene wet inzake rijksbelastingen                 400\n",
       "Wetboek van Strafvordering, Artikel 365a             397\n",
       "Wetboek van Strafvordering, Artikel 359a             338\n",
       "Algemene wet bestuursrecht, Artikel 8:41             337\n",
       "Algemene wet bestuursrecht                           311\n",
       "Wetboek van Strafvordering, Artikel 415              304\n",
       "Wetboek van Strafrecht, Artikel 36e                  294\n",
       "Name: source, dtype: int64"
      ]
     },
     "execution_count": 6,
     "metadata": {},
     "output_type": "execute_result"
    }
   ],
   "source": [
    "legislation.groupby('title')['source'].nunique().sort_values(ascending=False).head(20)"
   ]
  },
  {
   "cell_type": "markdown",
   "metadata": {},
   "source": [
    "## Investigate legislation network"
   ]
  },
  {
   "cell_type": "code",
   "execution_count": 10,
   "metadata": {
    "collapsed": false
   },
   "outputs": [
    {
     "data": {
      "text/plain": [
       "Index(['link_id', 'source', 'article', 'link_type', 'link_type_label',\n",
       "       'title'],\n",
       "      dtype='object')"
      ]
     },
     "execution_count": 10,
     "metadata": {},
     "output_type": "execute_result"
    }
   ],
   "source": [
    "legislation.columns"
   ]
  },
  {
   "cell_type": "code",
   "execution_count": 11,
   "metadata": {
    "collapsed": false
   },
   "outputs": [
    {
     "data": {
      "text/plain": [
       "title\n",
       "Wetboek van Strafvordering                                                                  81\n",
       "Wetboek van Strafrecht                                                                      70\n",
       "Algemene wet bestuursrecht                                                                  68\n",
       "Wet inkomstenbelasting 2001                                                                 54\n",
       "Algemene wet inzake rijksbelastingen                                                        50\n",
       "Wet milieubeheer                                                                            49\n",
       "Wegenverkeerswet 1994                                                                       46\n",
       "Gemeentewet                                                                                 45\n",
       "Wet op de vennootschapsbelasting 1969                                                       43\n",
       "Wetboek van Burgerlijke Rechtsvordering                                                     41\n",
       "Invorderingswet 1990                                                                        39\n",
       "Wet op de omzetbelasting 1968                                                               38\n",
       "Wet op de loonbelasting 1964                                                                36\n",
       "Algemene Ouderdomswet                                                                       33\n",
       "Wet op de economische delicten                                                              31\n",
       "Faillissementswet                                                                           30\n",
       "Wet op de accijns                                                                           29\n",
       "Opiumwet                                                                                    28\n",
       "Wet op de arbeidsongeschiktheidsverzekering                                                 24\n",
       "Ziektewet                                                                                   23\n",
       "Wet belastingen op milieugrondslag                                                          23\n",
       "Wet wapens en munitie                                                                       23\n",
       "Successiewet 1956                                                                           23\n",
       "Werkloosheidswet                                                                            23\n",
       "Wet op belastingen van rechtsverkeer                                                        23\n",
       "Wet werk en bijstand                                                                        22\n",
       "Wet op de belasting van personenauto's en motorrijwielen 1992                               21\n",
       "Wet waardering onroerende zaken                                                             21\n",
       "Wet arbeidsongeschiktheidsverzekering zelfstandigen                                         20\n",
       "Algemene Kinderbijslagwet                                                                   20\n",
       "                                                                                            ..\n",
       "Wet op de kansspelen, Artikel 27                                                             1\n",
       "Wet op de kansspelen, Artikel 27g                                                            1\n",
       "Wet op de kansspelen, Artikel 27i                                                            1\n",
       "Wet op de kansspelen, Artikel 30b                                                            1\n",
       "Wet op de kansspelen, Artikel 30c                                                            1\n",
       "Wet op de kansspelen, Artikel 30d                                                            1\n",
       "Wet op de jeugdzorg, Artikel 41                                                              1\n",
       "Wet op de jeugdzorg, Artikel 37                                                              1\n",
       "Wet op de internationale bijstandsverlening bij de heffing van belastingen, Artikel 5        1\n",
       "Wet op de jeugdzorg, Artikel 29h                                                             1\n",
       "Wet op de internationale bijstandsverlening bij de heffing van belastingen, Hoofdstuk II     1\n",
       "Wet op de jeugdhulpverlening                                                                 1\n",
       "Wet op de jeugdhulpverlening, Artikel 1                                                      1\n",
       "Wet op de jeugdhulpverlening, Artikel 13                                                     1\n",
       "Wet op de jeugdhulpverlening, Artikel 3                                                      1\n",
       "Wet op de jeugdhulpverlening, Artikel 39                                                     1\n",
       "Wet op de jeugdhulpverlening, Artikel 3a                                                     1\n",
       "Wet op de jeugdhulpverlening, Artikel 40                                                     1\n",
       "Wet op de jeugdhulpverlening, Artikel 53                                                     1\n",
       "Wet op de jeugdhulpverlening, Artikel 60                                                     1\n",
       "Wet op de jeugdhulpverlening, Artikel 61                                                     1\n",
       "Wet op de jeugdhulpverlening, Artikel 8                                                      1\n",
       "Wet op de jeugdzorg, Artikel 102                                                             1\n",
       "Wet op de jeugdzorg, Artikel 111                                                             1\n",
       "Wet op de jeugdzorg, Artikel 29b                                                             1\n",
       "Wet op de jeugdzorg, Artikel 29c                                                             1\n",
       "Wet op de jeugdzorg, Artikel 29d                                                             1\n",
       "Wet op de jeugdzorg, Artikel 29e                                                             1\n",
       "Wet op de jeugdzorg, Artikel 29f                                                             1\n",
       "Wet conflictenrecht huwelijk, Artikel 3                                                      1\n",
       "Name: article, Length: 7171, dtype: int64"
      ]
     },
     "execution_count": 11,
     "metadata": {},
     "output_type": "execute_result"
    }
   ],
   "source": [
    "legislation.groupby('title')['article'].nunique().sort_values(ascending=False)"
   ]
  },
  {
   "cell_type": "code",
   "execution_count": 12,
   "metadata": {
    "collapsed": false
   },
   "outputs": [],
   "source": [
    "legislation_title_references = legislation[['source', 'title']].drop_duplicates()"
   ]
  },
  {
   "cell_type": "code",
   "execution_count": 13,
   "metadata": {
    "collapsed": false
   },
   "outputs": [
    {
     "data": {
      "text/plain": [
       "(71834, 2)"
      ]
     },
     "execution_count": 13,
     "metadata": {},
     "output_type": "execute_result"
    }
   ],
   "source": [
    "legislation_title_references.shape"
   ]
  },
  {
   "cell_type": "code",
   "execution_count": 14,
   "metadata": {
    "collapsed": true
   },
   "outputs": [],
   "source": [
    "legislation_title_references.to_csv(os.path.join(inputpath, 'hr_case_leg_titles.csv'))"
   ]
  },
  {
   "cell_type": "markdown",
   "metadata": {},
   "source": [
    "## Investigate hierarcy"
   ]
  },
  {
   "cell_type": "code",
   "execution_count": 60,
   "metadata": {
    "collapsed": false
   },
   "outputs": [
    {
     "data": {
      "text/html": [
       "<div>\n",
       "<style>\n",
       "    .dataframe thead tr:only-child th {\n",
       "        text-align: right;\n",
       "    }\n",
       "\n",
       "    .dataframe thead th {\n",
       "        text-align: left;\n",
       "    }\n",
       "\n",
       "    .dataframe tbody tr th {\n",
       "        vertical-align: top;\n",
       "    }\n",
       "</style>\n",
       "<table border=\"1\" class=\"dataframe\">\n",
       "  <thead>\n",
       "    <tr style=\"text-align: right;\">\n",
       "      <th></th>\n",
       "      <th>source</th>\n",
       "      <th>title</th>\n",
       "    </tr>\n",
       "  </thead>\n",
       "  <tbody>\n",
       "    <tr>\n",
       "      <th>0</th>\n",
       "      <td>http://linkeddata.overheid.nl/terms/jurisprude...</td>\n",
       "      <td>Wet inkomstenbelasting 2001, Artikel 2.3</td>\n",
       "    </tr>\n",
       "    <tr>\n",
       "      <th>1</th>\n",
       "      <td>http://linkeddata.overheid.nl/terms/jurisprude...</td>\n",
       "      <td>Wet inkomstenbelasting 2001, Artikel 2.7</td>\n",
       "    </tr>\n",
       "    <tr>\n",
       "      <th>2</th>\n",
       "      <td>http://linkeddata.overheid.nl/terms/jurisprude...</td>\n",
       "      <td>Wet inkomstenbelasting 2001, Artikel 6.2</td>\n",
       "    </tr>\n",
       "    <tr>\n",
       "      <th>3</th>\n",
       "      <td>http://linkeddata.overheid.nl/terms/jurisprude...</td>\n",
       "      <td>Wet inkomstenbelasting 2001, Artikel 6.24</td>\n",
       "    </tr>\n",
       "    <tr>\n",
       "      <th>4</th>\n",
       "      <td>http://linkeddata.overheid.nl/terms/jurisprude...</td>\n",
       "      <td>Wet inkomstenbelasting 2001, Artikel 6.39</td>\n",
       "    </tr>\n",
       "  </tbody>\n",
       "</table>\n",
       "</div>"
      ],
      "text/plain": [
       "                                              source  \\\n",
       "0  http://linkeddata.overheid.nl/terms/jurisprude...   \n",
       "1  http://linkeddata.overheid.nl/terms/jurisprude...   \n",
       "2  http://linkeddata.overheid.nl/terms/jurisprude...   \n",
       "3  http://linkeddata.overheid.nl/terms/jurisprude...   \n",
       "4  http://linkeddata.overheid.nl/terms/jurisprude...   \n",
       "\n",
       "                                       title  \n",
       "0   Wet inkomstenbelasting 2001, Artikel 2.3  \n",
       "1   Wet inkomstenbelasting 2001, Artikel 2.7  \n",
       "2   Wet inkomstenbelasting 2001, Artikel 6.2  \n",
       "3  Wet inkomstenbelasting 2001, Artikel 6.24  \n",
       "4  Wet inkomstenbelasting 2001, Artikel 6.39  "
      ]
     },
     "execution_count": 60,
     "metadata": {},
     "output_type": "execute_result"
    }
   ],
   "source": [
    "legislation_title_references.head()"
   ]
  },
  {
   "cell_type": "code",
   "execution_count": 66,
   "metadata": {
    "collapsed": false
   },
   "outputs": [
    {
     "data": {
      "text/html": [
       "<div>\n",
       "<style>\n",
       "    .dataframe thead tr:only-child th {\n",
       "        text-align: right;\n",
       "    }\n",
       "\n",
       "    .dataframe thead th {\n",
       "        text-align: left;\n",
       "    }\n",
       "\n",
       "    .dataframe tbody tr th {\n",
       "        vertical-align: top;\n",
       "    }\n",
       "</style>\n",
       "<table border=\"1\" class=\"dataframe\">\n",
       "  <thead>\n",
       "    <tr style=\"text-align: right;\">\n",
       "      <th></th>\n",
       "      <th>source</th>\n",
       "      <th>title</th>\n",
       "    </tr>\n",
       "    <tr>\n",
       "      <th>source</th>\n",
       "      <th></th>\n",
       "      <th></th>\n",
       "    </tr>\n",
       "  </thead>\n",
       "  <tbody>\n",
       "    <tr>\n",
       "      <th>http://linkeddata.overheid.nl/terms/jurisprudentie/id/ECLI:NL:HR:1958:AG2051</th>\n",
       "      <td>1</td>\n",
       "      <td>2</td>\n",
       "    </tr>\n",
       "    <tr>\n",
       "      <th>http://linkeddata.overheid.nl/terms/jurisprudentie/id/ECLI:NL:HR:1997:AG3125</th>\n",
       "      <td>1</td>\n",
       "      <td>8</td>\n",
       "    </tr>\n",
       "    <tr>\n",
       "      <th>http://linkeddata.overheid.nl/terms/jurisprudentie/id/ECLI:NL:HR:1998:ZD9060</th>\n",
       "      <td>1</td>\n",
       "      <td>2</td>\n",
       "    </tr>\n",
       "    <tr>\n",
       "      <th>http://linkeddata.overheid.nl/terms/jurisprudentie/id/ECLI:NL:HR:2001:AB0576</th>\n",
       "      <td>1</td>\n",
       "      <td>4</td>\n",
       "    </tr>\n",
       "    <tr>\n",
       "      <th>http://linkeddata.overheid.nl/terms/jurisprudentie/id/ECLI:NL:HR:2001:AB2961</th>\n",
       "      <td>1</td>\n",
       "      <td>8</td>\n",
       "    </tr>\n",
       "    <tr>\n",
       "      <th>http://linkeddata.overheid.nl/terms/jurisprudentie/id/ECLI:NL:HR:2001:AF9978</th>\n",
       "      <td>1</td>\n",
       "      <td>6</td>\n",
       "    </tr>\n",
       "    <tr>\n",
       "      <th>http://linkeddata.overheid.nl/terms/jurisprudentie/id/ECLI:NL:HR:2001:AF9985</th>\n",
       "      <td>1</td>\n",
       "      <td>2</td>\n",
       "    </tr>\n",
       "    <tr>\n",
       "      <th>http://linkeddata.overheid.nl/terms/jurisprudentie/id/ECLI:NL:HR:2001:AL6496</th>\n",
       "      <td>1</td>\n",
       "      <td>2</td>\n",
       "    </tr>\n",
       "    <tr>\n",
       "      <th>http://linkeddata.overheid.nl/terms/jurisprudentie/id/ECLI:NL:HR:2001:AL6511</th>\n",
       "      <td>1</td>\n",
       "      <td>2</td>\n",
       "    </tr>\n",
       "    <tr>\n",
       "      <th>http://linkeddata.overheid.nl/terms/jurisprudentie/id/ECLI:NL:HR:2001:AL6682</th>\n",
       "      <td>1</td>\n",
       "      <td>2</td>\n",
       "    </tr>\n",
       "    <tr>\n",
       "      <th>http://linkeddata.overheid.nl/terms/jurisprudentie/id/ECLI:NL:HR:2002:AD8693</th>\n",
       "      <td>1</td>\n",
       "      <td>6</td>\n",
       "    </tr>\n",
       "    <tr>\n",
       "      <th>http://linkeddata.overheid.nl/terms/jurisprudentie/id/ECLI:NL:HR:2002:AD9557</th>\n",
       "      <td>1</td>\n",
       "      <td>8</td>\n",
       "    </tr>\n",
       "    <tr>\n",
       "      <th>http://linkeddata.overheid.nl/terms/jurisprudentie/id/ECLI:NL:HR:2002:AE0537</th>\n",
       "      <td>1</td>\n",
       "      <td>7</td>\n",
       "    </tr>\n",
       "    <tr>\n",
       "      <th>http://linkeddata.overheid.nl/terms/jurisprudentie/id/ECLI:NL:HR:2002:AE1182</th>\n",
       "      <td>1</td>\n",
       "      <td>5</td>\n",
       "    </tr>\n",
       "    <tr>\n",
       "      <th>http://linkeddata.overheid.nl/terms/jurisprudentie/id/ECLI:NL:HR:2002:AE1195</th>\n",
       "      <td>1</td>\n",
       "      <td>8</td>\n",
       "    </tr>\n",
       "    <tr>\n",
       "      <th>http://linkeddata.overheid.nl/terms/jurisprudentie/id/ECLI:NL:HR:2002:AE1316</th>\n",
       "      <td>1</td>\n",
       "      <td>2</td>\n",
       "    </tr>\n",
       "    <tr>\n",
       "      <th>http://linkeddata.overheid.nl/terms/jurisprudentie/id/ECLI:NL:HR:2002:AE1321</th>\n",
       "      <td>1</td>\n",
       "      <td>9</td>\n",
       "    </tr>\n",
       "    <tr>\n",
       "      <th>http://linkeddata.overheid.nl/terms/jurisprudentie/id/ECLI:NL:HR:2002:AE1511</th>\n",
       "      <td>1</td>\n",
       "      <td>4</td>\n",
       "    </tr>\n",
       "    <tr>\n",
       "      <th>http://linkeddata.overheid.nl/terms/jurisprudentie/id/ECLI:NL:HR:2002:AE2114</th>\n",
       "      <td>1</td>\n",
       "      <td>4</td>\n",
       "    </tr>\n",
       "    <tr>\n",
       "      <th>http://linkeddata.overheid.nl/terms/jurisprudentie/id/ECLI:NL:HR:2002:AE2126</th>\n",
       "      <td>1</td>\n",
       "      <td>8</td>\n",
       "    </tr>\n",
       "    <tr>\n",
       "      <th>http://linkeddata.overheid.nl/terms/jurisprudentie/id/ECLI:NL:HR:2002:AE4200</th>\n",
       "      <td>1</td>\n",
       "      <td>6</td>\n",
       "    </tr>\n",
       "    <tr>\n",
       "      <th>http://linkeddata.overheid.nl/terms/jurisprudentie/id/ECLI:NL:HR:2002:AE4268</th>\n",
       "      <td>1</td>\n",
       "      <td>8</td>\n",
       "    </tr>\n",
       "    <tr>\n",
       "      <th>http://linkeddata.overheid.nl/terms/jurisprudentie/id/ECLI:NL:HR:2002:AE4269</th>\n",
       "      <td>1</td>\n",
       "      <td>4</td>\n",
       "    </tr>\n",
       "    <tr>\n",
       "      <th>http://linkeddata.overheid.nl/terms/jurisprudentie/id/ECLI:NL:HR:2002:AE5202</th>\n",
       "      <td>1</td>\n",
       "      <td>9</td>\n",
       "    </tr>\n",
       "    <tr>\n",
       "      <th>http://linkeddata.overheid.nl/terms/jurisprudentie/id/ECLI:NL:HR:2002:AE5590</th>\n",
       "      <td>1</td>\n",
       "      <td>9</td>\n",
       "    </tr>\n",
       "    <tr>\n",
       "      <th>http://linkeddata.overheid.nl/terms/jurisprudentie/id/ECLI:NL:HR:2002:AE6111</th>\n",
       "      <td>1</td>\n",
       "      <td>2</td>\n",
       "    </tr>\n",
       "    <tr>\n",
       "      <th>http://linkeddata.overheid.nl/terms/jurisprudentie/id/ECLI:NL:HR:2002:AE7380</th>\n",
       "      <td>1</td>\n",
       "      <td>3</td>\n",
       "    </tr>\n",
       "    <tr>\n",
       "      <th>http://linkeddata.overheid.nl/terms/jurisprudentie/id/ECLI:NL:HR:2002:AE8846</th>\n",
       "      <td>1</td>\n",
       "      <td>10</td>\n",
       "    </tr>\n",
       "    <tr>\n",
       "      <th>http://linkeddata.overheid.nl/terms/jurisprudentie/id/ECLI:NL:HR:2002:AE8871</th>\n",
       "      <td>1</td>\n",
       "      <td>2</td>\n",
       "    </tr>\n",
       "    <tr>\n",
       "      <th>http://linkeddata.overheid.nl/terms/jurisprudentie/id/ECLI:NL:HR:2002:AE9023</th>\n",
       "      <td>1</td>\n",
       "      <td>2</td>\n",
       "    </tr>\n",
       "    <tr>\n",
       "      <th>...</th>\n",
       "      <td>...</td>\n",
       "      <td>...</td>\n",
       "    </tr>\n",
       "    <tr>\n",
       "      <th>http://linkeddata.overheid.nl/terms/jurisprudentie/id/ECLI:NL:HR:2017:645</th>\n",
       "      <td>1</td>\n",
       "      <td>8</td>\n",
       "    </tr>\n",
       "    <tr>\n",
       "      <th>http://linkeddata.overheid.nl/terms/jurisprudentie/id/ECLI:NL:HR:2017:646</th>\n",
       "      <td>1</td>\n",
       "      <td>8</td>\n",
       "    </tr>\n",
       "    <tr>\n",
       "      <th>http://linkeddata.overheid.nl/terms/jurisprudentie/id/ECLI:NL:HR:2017:652</th>\n",
       "      <td>1</td>\n",
       "      <td>11</td>\n",
       "    </tr>\n",
       "    <tr>\n",
       "      <th>http://linkeddata.overheid.nl/terms/jurisprudentie/id/ECLI:NL:HR:2017:653</th>\n",
       "      <td>1</td>\n",
       "      <td>19</td>\n",
       "    </tr>\n",
       "    <tr>\n",
       "      <th>http://linkeddata.overheid.nl/terms/jurisprudentie/id/ECLI:NL:HR:2017:66</th>\n",
       "      <td>1</td>\n",
       "      <td>4</td>\n",
       "    </tr>\n",
       "    <tr>\n",
       "      <th>http://linkeddata.overheid.nl/terms/jurisprudentie/id/ECLI:NL:HR:2017:668</th>\n",
       "      <td>1</td>\n",
       "      <td>8</td>\n",
       "    </tr>\n",
       "    <tr>\n",
       "      <th>http://linkeddata.overheid.nl/terms/jurisprudentie/id/ECLI:NL:HR:2017:67</th>\n",
       "      <td>1</td>\n",
       "      <td>7</td>\n",
       "    </tr>\n",
       "    <tr>\n",
       "      <th>http://linkeddata.overheid.nl/terms/jurisprudentie/id/ECLI:NL:HR:2017:699</th>\n",
       "      <td>1</td>\n",
       "      <td>2</td>\n",
       "    </tr>\n",
       "    <tr>\n",
       "      <th>http://linkeddata.overheid.nl/terms/jurisprudentie/id/ECLI:NL:HR:2017:7</th>\n",
       "      <td>1</td>\n",
       "      <td>9</td>\n",
       "    </tr>\n",
       "    <tr>\n",
       "      <th>http://linkeddata.overheid.nl/terms/jurisprudentie/id/ECLI:NL:HR:2017:700</th>\n",
       "      <td>1</td>\n",
       "      <td>2</td>\n",
       "    </tr>\n",
       "    <tr>\n",
       "      <th>http://linkeddata.overheid.nl/terms/jurisprudentie/id/ECLI:NL:HR:2017:701</th>\n",
       "      <td>1</td>\n",
       "      <td>3</td>\n",
       "    </tr>\n",
       "    <tr>\n",
       "      <th>http://linkeddata.overheid.nl/terms/jurisprudentie/id/ECLI:NL:HR:2017:706</th>\n",
       "      <td>1</td>\n",
       "      <td>7</td>\n",
       "    </tr>\n",
       "    <tr>\n",
       "      <th>http://linkeddata.overheid.nl/terms/jurisprudentie/id/ECLI:NL:HR:2017:719</th>\n",
       "      <td>1</td>\n",
       "      <td>4</td>\n",
       "    </tr>\n",
       "    <tr>\n",
       "      <th>http://linkeddata.overheid.nl/terms/jurisprudentie/id/ECLI:NL:HR:2017:728</th>\n",
       "      <td>1</td>\n",
       "      <td>4</td>\n",
       "    </tr>\n",
       "    <tr>\n",
       "      <th>http://linkeddata.overheid.nl/terms/jurisprudentie/id/ECLI:NL:HR:2017:8</th>\n",
       "      <td>1</td>\n",
       "      <td>8</td>\n",
       "    </tr>\n",
       "    <tr>\n",
       "      <th>http://linkeddata.overheid.nl/terms/jurisprudentie/id/ECLI:NL:HR:2017:828</th>\n",
       "      <td>1</td>\n",
       "      <td>5</td>\n",
       "    </tr>\n",
       "    <tr>\n",
       "      <th>http://linkeddata.overheid.nl/terms/jurisprudentie/id/ECLI:NL:HR:2017:831</th>\n",
       "      <td>1</td>\n",
       "      <td>4</td>\n",
       "    </tr>\n",
       "    <tr>\n",
       "      <th>http://linkeddata.overheid.nl/terms/jurisprudentie/id/ECLI:NL:HR:2017:834</th>\n",
       "      <td>1</td>\n",
       "      <td>3</td>\n",
       "    </tr>\n",
       "    <tr>\n",
       "      <th>http://linkeddata.overheid.nl/terms/jurisprudentie/id/ECLI:NL:HR:2017:884</th>\n",
       "      <td>1</td>\n",
       "      <td>4</td>\n",
       "    </tr>\n",
       "    <tr>\n",
       "      <th>http://linkeddata.overheid.nl/terms/jurisprudentie/id/ECLI:NL:HR:2017:888</th>\n",
       "      <td>1</td>\n",
       "      <td>2</td>\n",
       "    </tr>\n",
       "    <tr>\n",
       "      <th>http://linkeddata.overheid.nl/terms/jurisprudentie/id/ECLI:NL:HR:2017:890</th>\n",
       "      <td>1</td>\n",
       "      <td>6</td>\n",
       "    </tr>\n",
       "    <tr>\n",
       "      <th>http://linkeddata.overheid.nl/terms/jurisprudentie/id/ECLI:NL:HR:2017:944</th>\n",
       "      <td>1</td>\n",
       "      <td>8</td>\n",
       "    </tr>\n",
       "    <tr>\n",
       "      <th>http://linkeddata.overheid.nl/terms/jurisprudentie/id/ECLI:NL:HR:2017:948</th>\n",
       "      <td>1</td>\n",
       "      <td>8</td>\n",
       "    </tr>\n",
       "    <tr>\n",
       "      <th>http://linkeddata.overheid.nl/terms/jurisprudentie/id/ECLI:NL:HR:2017:949</th>\n",
       "      <td>1</td>\n",
       "      <td>9</td>\n",
       "    </tr>\n",
       "    <tr>\n",
       "      <th>http://linkeddata.overheid.nl/terms/jurisprudentie/id/ECLI:NL:HR:2017:951</th>\n",
       "      <td>1</td>\n",
       "      <td>6</td>\n",
       "    </tr>\n",
       "    <tr>\n",
       "      <th>http://linkeddata.overheid.nl/terms/jurisprudentie/id/ECLI:NL:HR:2017:953</th>\n",
       "      <td>1</td>\n",
       "      <td>5</td>\n",
       "    </tr>\n",
       "    <tr>\n",
       "      <th>http://linkeddata.overheid.nl/terms/jurisprudentie/id/ECLI:NL:HR:2017:967</th>\n",
       "      <td>1</td>\n",
       "      <td>12</td>\n",
       "    </tr>\n",
       "    <tr>\n",
       "      <th>http://linkeddata.overheid.nl/terms/jurisprudentie/id/ECLI:NL:HR:2017:970</th>\n",
       "      <td>1</td>\n",
       "      <td>7</td>\n",
       "    </tr>\n",
       "    <tr>\n",
       "      <th>http://linkeddata.overheid.nl/terms/jurisprudentie/id/ECLI:NL:HR:2017:973</th>\n",
       "      <td>1</td>\n",
       "      <td>3</td>\n",
       "    </tr>\n",
       "    <tr>\n",
       "      <th>http://linkeddata.overheid.nl/terms/jurisprudentie/id/ECLI:NL:HR:2017:977</th>\n",
       "      <td>1</td>\n",
       "      <td>2</td>\n",
       "    </tr>\n",
       "  </tbody>\n",
       "</table>\n",
       "<p>1395 rows × 2 columns</p>\n",
       "</div>"
      ],
      "text/plain": [
       "                                                    source  title\n",
       "source                                                           \n",
       "http://linkeddata.overheid.nl/terms/jurispruden...       1      2\n",
       "http://linkeddata.overheid.nl/terms/jurispruden...       1      8\n",
       "http://linkeddata.overheid.nl/terms/jurispruden...       1      2\n",
       "http://linkeddata.overheid.nl/terms/jurispruden...       1      4\n",
       "http://linkeddata.overheid.nl/terms/jurispruden...       1      8\n",
       "http://linkeddata.overheid.nl/terms/jurispruden...       1      6\n",
       "http://linkeddata.overheid.nl/terms/jurispruden...       1      2\n",
       "http://linkeddata.overheid.nl/terms/jurispruden...       1      2\n",
       "http://linkeddata.overheid.nl/terms/jurispruden...       1      2\n",
       "http://linkeddata.overheid.nl/terms/jurispruden...       1      2\n",
       "http://linkeddata.overheid.nl/terms/jurispruden...       1      6\n",
       "http://linkeddata.overheid.nl/terms/jurispruden...       1      8\n",
       "http://linkeddata.overheid.nl/terms/jurispruden...       1      7\n",
       "http://linkeddata.overheid.nl/terms/jurispruden...       1      5\n",
       "http://linkeddata.overheid.nl/terms/jurispruden...       1      8\n",
       "http://linkeddata.overheid.nl/terms/jurispruden...       1      2\n",
       "http://linkeddata.overheid.nl/terms/jurispruden...       1      9\n",
       "http://linkeddata.overheid.nl/terms/jurispruden...       1      4\n",
       "http://linkeddata.overheid.nl/terms/jurispruden...       1      4\n",
       "http://linkeddata.overheid.nl/terms/jurispruden...       1      8\n",
       "http://linkeddata.overheid.nl/terms/jurispruden...       1      6\n",
       "http://linkeddata.overheid.nl/terms/jurispruden...       1      8\n",
       "http://linkeddata.overheid.nl/terms/jurispruden...       1      4\n",
       "http://linkeddata.overheid.nl/terms/jurispruden...       1      9\n",
       "http://linkeddata.overheid.nl/terms/jurispruden...       1      9\n",
       "http://linkeddata.overheid.nl/terms/jurispruden...       1      2\n",
       "http://linkeddata.overheid.nl/terms/jurispruden...       1      3\n",
       "http://linkeddata.overheid.nl/terms/jurispruden...       1     10\n",
       "http://linkeddata.overheid.nl/terms/jurispruden...       1      2\n",
       "http://linkeddata.overheid.nl/terms/jurispruden...       1      2\n",
       "...                                                    ...    ...\n",
       "http://linkeddata.overheid.nl/terms/jurispruden...       1      8\n",
       "http://linkeddata.overheid.nl/terms/jurispruden...       1      8\n",
       "http://linkeddata.overheid.nl/terms/jurispruden...       1     11\n",
       "http://linkeddata.overheid.nl/terms/jurispruden...       1     19\n",
       "http://linkeddata.overheid.nl/terms/jurispruden...       1      4\n",
       "http://linkeddata.overheid.nl/terms/jurispruden...       1      8\n",
       "http://linkeddata.overheid.nl/terms/jurispruden...       1      7\n",
       "http://linkeddata.overheid.nl/terms/jurispruden...       1      2\n",
       "http://linkeddata.overheid.nl/terms/jurispruden...       1      9\n",
       "http://linkeddata.overheid.nl/terms/jurispruden...       1      2\n",
       "http://linkeddata.overheid.nl/terms/jurispruden...       1      3\n",
       "http://linkeddata.overheid.nl/terms/jurispruden...       1      7\n",
       "http://linkeddata.overheid.nl/terms/jurispruden...       1      4\n",
       "http://linkeddata.overheid.nl/terms/jurispruden...       1      4\n",
       "http://linkeddata.overheid.nl/terms/jurispruden...       1      8\n",
       "http://linkeddata.overheid.nl/terms/jurispruden...       1      5\n",
       "http://linkeddata.overheid.nl/terms/jurispruden...       1      4\n",
       "http://linkeddata.overheid.nl/terms/jurispruden...       1      3\n",
       "http://linkeddata.overheid.nl/terms/jurispruden...       1      4\n",
       "http://linkeddata.overheid.nl/terms/jurispruden...       1      2\n",
       "http://linkeddata.overheid.nl/terms/jurispruden...       1      6\n",
       "http://linkeddata.overheid.nl/terms/jurispruden...       1      8\n",
       "http://linkeddata.overheid.nl/terms/jurispruden...       1      8\n",
       "http://linkeddata.overheid.nl/terms/jurispruden...       1      9\n",
       "http://linkeddata.overheid.nl/terms/jurispruden...       1      6\n",
       "http://linkeddata.overheid.nl/terms/jurispruden...       1      5\n",
       "http://linkeddata.overheid.nl/terms/jurispruden...       1     12\n",
       "http://linkeddata.overheid.nl/terms/jurispruden...       1      7\n",
       "http://linkeddata.overheid.nl/terms/jurispruden...       1      3\n",
       "http://linkeddata.overheid.nl/terms/jurispruden...       1      2\n",
       "\n",
       "[1395 rows x 2 columns]"
      ]
     },
     "execution_count": 66,
     "metadata": {},
     "output_type": "execute_result"
    }
   ],
   "source": [
    "high_title = 'Wetboek van Strafrecht'\n",
    "referring_sources = legislation_title_references[legislation_title_references['title']==high_title]['source'].unique()\n",
    "legislation_title_references[legislation_title_references['source'].isin(referring_sources)].groupby('source').nunique('title')"
   ]
  },
  {
   "cell_type": "markdown",
   "metadata": {},
   "source": [
    "# Collapse network"
   ]
  },
  {
   "cell_type": "code",
   "execution_count": 67,
   "metadata": {
    "collapsed": true
   },
   "outputs": [],
   "source": [
    "import scipy.sparse"
   ]
  },
  {
   "cell_type": "code",
   "execution_count": 68,
   "metadata": {
    "collapsed": false
   },
   "outputs": [],
   "source": [
    "ltr_df = legislation_title_references.set_index(['source', 'title'])\n",
    "ltr_df['cnt'] = 1\n",
    "case_leg_adj_df = ltr_df.unstack(fill_value=0)"
   ]
  },
  {
   "cell_type": "code",
   "execution_count": 69,
   "metadata": {
    "collapsed": false
   },
   "outputs": [],
   "source": [
    "case_leg_adj_m = scipy.sparse.coo_matrix(case_leg_adj_df.values)"
   ]
  },
  {
   "cell_type": "code",
   "execution_count": 70,
   "metadata": {
    "collapsed": false
   },
   "outputs": [
    {
     "data": {
      "text/plain": [
       "(25446, 7171)"
      ]
     },
     "execution_count": 70,
     "metadata": {},
     "output_type": "execute_result"
    }
   ],
   "source": [
    "case_leg_adj_m.shape"
   ]
  },
  {
   "cell_type": "code",
   "execution_count": 71,
   "metadata": {
    "collapsed": false
   },
   "outputs": [],
   "source": [
    "case_to_case = case_leg_adj_m.dot(case_leg_adj_m.T)\n",
    "leg_to_leg = case_leg_adj_m.T.dot(case_leg_adj_m)"
   ]
  },
  {
   "cell_type": "code",
   "execution_count": 72,
   "metadata": {
    "collapsed": false
   },
   "outputs": [],
   "source": [
    "case_to_case = case_to_case.asformat('coo')"
   ]
  },
  {
   "cell_type": "code",
   "execution_count": 34,
   "metadata": {
    "collapsed": true
   },
   "outputs": [],
   "source": [
    "leg_to_leg = leg_to_leg.tocoo()"
   ]
  },
  {
   "cell_type": "code",
   "execution_count": 77,
   "metadata": {
    "collapsed": true
   },
   "outputs": [],
   "source": [
    "leg_to_leg = scipy.sparse.triu(leg_to_leg, 1)\n",
    "\n",
    "case_to_case = scipy.sparse.triu(case_to_case, 1)"
   ]
  },
  {
   "cell_type": "code",
   "execution_count": 79,
   "metadata": {
    "collapsed": false
   },
   "outputs": [
    {
     "data": {
      "text/plain": [
       "(<25446x25446 sparse matrix of type '<class 'numpy.int64'>'\n",
       " \twith 86460934 stored elements in COOrdinate format>,\n",
       " <7171x7171 sparse matrix of type '<class 'numpy.int64'>'\n",
       " \twith 70999 stored elements in COOrdinate format>)"
      ]
     },
     "execution_count": 79,
     "metadata": {},
     "output_type": "execute_result"
    }
   ],
   "source": [
    "case_to_case, leg_to_leg"
   ]
  },
  {
   "cell_type": "code",
   "execution_count": 91,
   "metadata": {
    "collapsed": true
   },
   "outputs": [],
   "source": [
    "leg_labels = pd.Series(case_leg_adj_df.columns.get_level_values(1)).as_matrix()"
   ]
  },
  {
   "cell_type": "code",
   "execution_count": 80,
   "metadata": {
    "collapsed": false
   },
   "outputs": [],
   "source": [
    "\n",
    "sources = leg_labels[leg_to_leg.row]\n",
    "targets = leg_labels[leg_to_leg.col]\n",
    "values = leg_to_leg.data"
   ]
  },
  {
   "cell_type": "code",
   "execution_count": 81,
   "metadata": {
    "collapsed": false
   },
   "outputs": [
    {
     "data": {
      "text/plain": [
       "(70999, 70999, 70999)"
      ]
     },
     "execution_count": 81,
     "metadata": {},
     "output_type": "execute_result"
    }
   ],
   "source": [
    "len(sources), len(targets), len(values)"
   ]
  },
  {
   "cell_type": "code",
   "execution_count": 82,
   "metadata": {
    "collapsed": false
   },
   "outputs": [
    {
     "data": {
      "text/html": [
       "<div>\n",
       "<style>\n",
       "    .dataframe thead tr:only-child th {\n",
       "        text-align: right;\n",
       "    }\n",
       "\n",
       "    .dataframe thead th {\n",
       "        text-align: left;\n",
       "    }\n",
       "\n",
       "    .dataframe tbody tr th {\n",
       "        vertical-align: top;\n",
       "    }\n",
       "</style>\n",
       "<table border=\"1\" class=\"dataframe\">\n",
       "  <thead>\n",
       "    <tr style=\"text-align: right;\">\n",
       "      <th></th>\n",
       "      <th>cnt</th>\n",
       "      <th>source</th>\n",
       "      <th>target</th>\n",
       "    </tr>\n",
       "  </thead>\n",
       "  <tbody>\n",
       "    <tr>\n",
       "      <th>0</th>\n",
       "      <td>1</td>\n",
       "      <td>Aanbestedingswet 2012</td>\n",
       "      <td>Aanbestedingswet 2012, Artikel 4.30</td>\n",
       "    </tr>\n",
       "    <tr>\n",
       "      <th>1</th>\n",
       "      <td>1</td>\n",
       "      <td>Aanbestedingswet 2012</td>\n",
       "      <td>Aanbestedingswet 2012, Artikel 1.4</td>\n",
       "    </tr>\n",
       "    <tr>\n",
       "      <th>2</th>\n",
       "      <td>1</td>\n",
       "      <td>Aanbestedingswet 2012</td>\n",
       "      <td>Wet implementatie rechtsbeschermingsrichtlijne...</td>\n",
       "    </tr>\n",
       "    <tr>\n",
       "      <th>3</th>\n",
       "      <td>1</td>\n",
       "      <td>Aanbestedingswet 2012</td>\n",
       "      <td>Wet implementatie rechtsbeschermingsrichtlijne...</td>\n",
       "    </tr>\n",
       "    <tr>\n",
       "      <th>4</th>\n",
       "      <td>1</td>\n",
       "      <td>Aanbestedingswet 2012</td>\n",
       "      <td>Wet implementatie rechtsbeschermingsrichtlijne...</td>\n",
       "    </tr>\n",
       "  </tbody>\n",
       "</table>\n",
       "</div>"
      ],
      "text/plain": [
       "   cnt                 source  \\\n",
       "0    1  Aanbestedingswet 2012   \n",
       "1    1  Aanbestedingswet 2012   \n",
       "2    1  Aanbestedingswet 2012   \n",
       "3    1  Aanbestedingswet 2012   \n",
       "4    1  Aanbestedingswet 2012   \n",
       "\n",
       "                                              target  \n",
       "0                Aanbestedingswet 2012, Artikel 4.30  \n",
       "1                 Aanbestedingswet 2012, Artikel 1.4  \n",
       "2  Wet implementatie rechtsbeschermingsrichtlijne...  \n",
       "3  Wet implementatie rechtsbeschermingsrichtlijne...  \n",
       "4  Wet implementatie rechtsbeschermingsrichtlijne...  "
      ]
     },
     "execution_count": 82,
     "metadata": {},
     "output_type": "execute_result"
    }
   ],
   "source": [
    "leg_to_leg_df = pd.DataFrame(data={'source': sources, 'target': targets, 'cnt': values}) # columns=['source', 'target', 'cnt'])\n",
    "leg_to_leg_df.head()"
   ]
  },
  {
   "cell_type": "code",
   "execution_count": 84,
   "metadata": {
    "collapsed": true
   },
   "outputs": [],
   "source": [
    "leg_to_leg_df.to_csv(os.path.join(inputpath, '2018-01-03 leg_to_leg_titles.csv'), index=False)"
   ]
  },
  {
   "cell_type": "code",
   "execution_count": 85,
   "metadata": {
    "collapsed": true
   },
   "outputs": [],
   "source": [
    "leg_to_leg_df_min10 = leg_to_leg_df[leg_to_leg_df['cnt']>=10]\n",
    "leg_to_leg_df_min10.to_csv(os.path.join(inputpath, '2018-01-03 leg_to_leg_titles_min10.tsv'), index=False, sep='\\t')"
   ]
  },
  {
   "cell_type": "code",
   "execution_count": null,
   "metadata": {
    "collapsed": true
   },
   "outputs": [],
   "source": [
    "case_to_case_min2 "
   ]
  },
  {
   "cell_type": "code",
   "execution_count": 86,
   "metadata": {
    "collapsed": true
   },
   "outputs": [],
   "source": [
    "case_labels = pd.Series(case_leg_adj_df.index).as_matrix()\n",
    "sources = case_labels[case_to_case.row]\n",
    "targets = case_labels[case_to_case.col]\n",
    "values = case_to_case.data"
   ]
  },
  {
   "cell_type": "code",
   "execution_count": 88,
   "metadata": {
    "collapsed": false
   },
   "outputs": [
    {
     "ename": "MemoryError",
     "evalue": "",
     "output_type": "error",
     "traceback": [
      "\u001b[0;31m---------------------------------------------------------------------------\u001b[0m",
      "\u001b[0;31mMemoryError\u001b[0m                               Traceback (most recent call last)",
      "\u001b[0;32m<ipython-input-88-32b8b5c8055d>\u001b[0m in \u001b[0;36m<module>\u001b[0;34m()\u001b[0m\n\u001b[0;32m----> 1\u001b[0;31m \u001b[0mcase_to_case_df\u001b[0m \u001b[0;34m=\u001b[0m \u001b[0mpd\u001b[0m\u001b[0;34m.\u001b[0m\u001b[0mDataFrame\u001b[0m\u001b[0;34m(\u001b[0m\u001b[0;34m[\u001b[0m\u001b[0msources\u001b[0m\u001b[0;34m,\u001b[0m \u001b[0mtargets\u001b[0m\u001b[0;34m,\u001b[0m \u001b[0mvalues\u001b[0m\u001b[0;34m]\u001b[0m\u001b[0;34m,\u001b[0m \u001b[0mcolumns\u001b[0m\u001b[0;34m=\u001b[0m\u001b[0;34m[\u001b[0m\u001b[0;34m'source'\u001b[0m\u001b[0;34m,\u001b[0m \u001b[0;34m'target'\u001b[0m\u001b[0;34m,\u001b[0m \u001b[0;34m'cnt'\u001b[0m\u001b[0;34m]\u001b[0m\u001b[0;34m)\u001b[0m\u001b[0;34m\u001b[0m\u001b[0m\n\u001b[0m\u001b[1;32m      2\u001b[0m \u001b[0mcase_to_case_df\u001b[0m\u001b[0;34m.\u001b[0m\u001b[0mhead\u001b[0m\u001b[0;34m(\u001b[0m\u001b[0;34m)\u001b[0m\u001b[0;34m\u001b[0m\u001b[0m\n",
      "\u001b[0;32m/home/dafne/anaconda2/envs/caselaw/lib/python3.5/site-packages/pandas/core/frame.py\u001b[0m in \u001b[0;36m__init__\u001b[0;34m(self, data, index, columns, dtype, copy)\u001b[0m\n\u001b[1;32m    312\u001b[0m                     \u001b[0;32mif\u001b[0m \u001b[0mis_named_tuple\u001b[0m\u001b[0;34m(\u001b[0m\u001b[0mdata\u001b[0m\u001b[0;34m[\u001b[0m\u001b[0;36m0\u001b[0m\u001b[0;34m]\u001b[0m\u001b[0;34m)\u001b[0m \u001b[0;32mand\u001b[0m \u001b[0mcolumns\u001b[0m \u001b[0;32mis\u001b[0m \u001b[0;32mNone\u001b[0m\u001b[0;34m:\u001b[0m\u001b[0;34m\u001b[0m\u001b[0m\n\u001b[1;32m    313\u001b[0m                         \u001b[0mcolumns\u001b[0m \u001b[0;34m=\u001b[0m \u001b[0mdata\u001b[0m\u001b[0;34m[\u001b[0m\u001b[0;36m0\u001b[0m\u001b[0;34m]\u001b[0m\u001b[0;34m.\u001b[0m\u001b[0m_fields\u001b[0m\u001b[0;34m\u001b[0m\u001b[0m\n\u001b[0;32m--> 314\u001b[0;31m                     \u001b[0marrays\u001b[0m\u001b[0;34m,\u001b[0m \u001b[0mcolumns\u001b[0m \u001b[0;34m=\u001b[0m \u001b[0m_to_arrays\u001b[0m\u001b[0;34m(\u001b[0m\u001b[0mdata\u001b[0m\u001b[0;34m,\u001b[0m \u001b[0mcolumns\u001b[0m\u001b[0;34m,\u001b[0m \u001b[0mdtype\u001b[0m\u001b[0;34m=\u001b[0m\u001b[0mdtype\u001b[0m\u001b[0;34m)\u001b[0m\u001b[0;34m\u001b[0m\u001b[0m\n\u001b[0m\u001b[1;32m    315\u001b[0m                     \u001b[0mcolumns\u001b[0m \u001b[0;34m=\u001b[0m \u001b[0m_ensure_index\u001b[0m\u001b[0;34m(\u001b[0m\u001b[0mcolumns\u001b[0m\u001b[0;34m)\u001b[0m\u001b[0;34m\u001b[0m\u001b[0m\n\u001b[1;32m    316\u001b[0m \u001b[0;34m\u001b[0m\u001b[0m\n",
      "\u001b[0;32m/home/dafne/anaconda2/envs/caselaw/lib/python3.5/site-packages/pandas/core/frame.py\u001b[0m in \u001b[0;36m_to_arrays\u001b[0;34m(data, columns, coerce_float, dtype)\u001b[0m\n\u001b[1;32m   5635\u001b[0m     \u001b[0;32melse\u001b[0m\u001b[0;34m:\u001b[0m\u001b[0;34m\u001b[0m\u001b[0m\n\u001b[1;32m   5636\u001b[0m         \u001b[0;31m# last ditch effort\u001b[0m\u001b[0;34m\u001b[0m\u001b[0;34m\u001b[0m\u001b[0m\n\u001b[0;32m-> 5637\u001b[0;31m         \u001b[0mdata\u001b[0m \u001b[0;34m=\u001b[0m \u001b[0mlmap\u001b[0m\u001b[0;34m(\u001b[0m\u001b[0mtuple\u001b[0m\u001b[0;34m,\u001b[0m \u001b[0mdata\u001b[0m\u001b[0;34m)\u001b[0m\u001b[0;34m\u001b[0m\u001b[0m\n\u001b[0m\u001b[1;32m   5638\u001b[0m         return _list_to_arrays(data, columns, coerce_float=coerce_float,\n\u001b[1;32m   5639\u001b[0m                                dtype=dtype)\n",
      "\u001b[0;32m/home/dafne/anaconda2/envs/caselaw/lib/python3.5/site-packages/pandas/compat/__init__.py\u001b[0m in \u001b[0;36mlmap\u001b[0;34m(*args, **kwargs)\u001b[0m\n\u001b[1;32m    122\u001b[0m \u001b[0;34m\u001b[0m\u001b[0m\n\u001b[1;32m    123\u001b[0m     \u001b[0;32mdef\u001b[0m \u001b[0mlmap\u001b[0m\u001b[0;34m(\u001b[0m\u001b[0;34m*\u001b[0m\u001b[0margs\u001b[0m\u001b[0;34m,\u001b[0m \u001b[0;34m**\u001b[0m\u001b[0mkwargs\u001b[0m\u001b[0;34m)\u001b[0m\u001b[0;34m:\u001b[0m\u001b[0;34m\u001b[0m\u001b[0m\n\u001b[0;32m--> 124\u001b[0;31m         \u001b[0;32mreturn\u001b[0m \u001b[0mlist\u001b[0m\u001b[0;34m(\u001b[0m\u001b[0mmap\u001b[0m\u001b[0;34m(\u001b[0m\u001b[0;34m*\u001b[0m\u001b[0margs\u001b[0m\u001b[0;34m,\u001b[0m \u001b[0;34m**\u001b[0m\u001b[0mkwargs\u001b[0m\u001b[0;34m)\u001b[0m\u001b[0;34m)\u001b[0m\u001b[0;34m\u001b[0m\u001b[0m\n\u001b[0m\u001b[1;32m    125\u001b[0m \u001b[0;34m\u001b[0m\u001b[0m\n\u001b[1;32m    126\u001b[0m     \u001b[0;32mdef\u001b[0m \u001b[0mlfilter\u001b[0m\u001b[0;34m(\u001b[0m\u001b[0;34m*\u001b[0m\u001b[0margs\u001b[0m\u001b[0;34m,\u001b[0m \u001b[0;34m**\u001b[0m\u001b[0mkwargs\u001b[0m\u001b[0;34m)\u001b[0m\u001b[0;34m:\u001b[0m\u001b[0;34m\u001b[0m\u001b[0m\n",
      "\u001b[0;31mMemoryError\u001b[0m: "
     ]
    }
   ],
   "source": [
    "# TODO: this is a very dense network\n",
    "case_to_case_df = pd.DataFrame([sources, targets, values], columns=['source', 'target', 'cnt'])\n",
    "case_to_case_df.head()"
   ]
  },
  {
   "cell_type": "markdown",
   "metadata": {},
   "source": [
    "## Itemsets"
   ]
  },
  {
   "cell_type": "code",
   "execution_count": 74,
   "metadata": {
    "collapsed": true
   },
   "outputs": [],
   "source": [
    "from orangecontrib.associate import fpgrowth"
   ]
  },
  {
   "cell_type": "code",
   "execution_count": 102,
   "metadata": {
    "collapsed": false
   },
   "outputs": [],
   "source": [
    "itemsets = fpgrowth.frequent_itemsets(case_leg_adj_m, min_support=10)\n",
    "rules = fpgrowth.association_rules(dict(itemsets), min_confidence=0.9)"
   ]
  },
  {
   "cell_type": "code",
   "execution_count": 103,
   "metadata": {
    "collapsed": false
   },
   "outputs": [
    {
     "name": "stdout",
     "output_type": "stream",
     "text": [
      "['Wet voorkeursrecht gemeenten, Artikel 14'] -> ['Wet voorkeursrecht gemeenten' 'Wet voorkeursrecht gemeenten, Artikel 26'\n",
      " 'Wet voorkeursrecht gemeenten, Artikel 27'\n",
      " 'Wet voorkeursrecht gemeenten, Artikel 10'\n",
      " 'Wet op de rechterlijke organisatie, Artikel 81'] 10 1.0\n",
      "['Wet voorkeursrecht gemeenten, Artikel 14'] -> ['Wet voorkeursrecht gemeenten' 'Wet voorkeursrecht gemeenten, Artikel 26'\n",
      " 'Wet voorkeursrecht gemeenten, Artikel 27'\n",
      " 'Wet op de rechterlijke organisatie, Artikel 81'] 10 1.0\n",
      "['Wet voorkeursrecht gemeenten, Artikel 14'] -> ['Wet voorkeursrecht gemeenten' 'Wet voorkeursrecht gemeenten, Artikel 26'\n",
      " 'Wet voorkeursrecht gemeenten, Artikel 27'\n",
      " 'Wet voorkeursrecht gemeenten, Artikel 10'] 10 1.0\n",
      "['Wet voorkeursrecht gemeenten, Artikel 14'] -> ['Wet op de rechterlijke organisatie, Artikel 81'\n",
      " 'Wet voorkeursrecht gemeenten, Artikel 26'\n",
      " 'Wet voorkeursrecht gemeenten, Artikel 27'\n",
      " 'Wet voorkeursrecht gemeenten, Artikel 10'] 10 1.0\n",
      "['Wet voorkeursrecht gemeenten, Artikel 14'] -> ['Wet voorkeursrecht gemeenten' 'Wet voorkeursrecht gemeenten, Artikel 10'\n",
      " 'Wet voorkeursrecht gemeenten, Artikel 27'\n",
      " 'Wet op de rechterlijke organisatie, Artikel 81'] 10 1.0\n",
      "['Wet voorkeursrecht gemeenten, Artikel 14'] -> ['Wet voorkeursrecht gemeenten' 'Wet voorkeursrecht gemeenten, Artikel 26'\n",
      " 'Wet op de rechterlijke organisatie, Artikel 81'\n",
      " 'Wet voorkeursrecht gemeenten, Artikel 10'] 10 1.0\n",
      "['Wet voorkeursrecht gemeenten, Artikel 14'] -> ['Wet op de rechterlijke organisatie, Artikel 81'\n",
      " 'Wet voorkeursrecht gemeenten, Artikel 26'\n",
      " 'Wet voorkeursrecht gemeenten, Artikel 27'] 10 1.0\n",
      "['Wet voorkeursrecht gemeenten, Artikel 14'] -> ['Wet voorkeursrecht gemeenten' 'Wet voorkeursrecht gemeenten, Artikel 26'\n",
      " 'Wet op de rechterlijke organisatie, Artikel 81'] 10 1.0\n",
      "['Wet voorkeursrecht gemeenten, Artikel 14'] -> ['Wet op de rechterlijke organisatie, Artikel 81'\n",
      " 'Wet voorkeursrecht gemeenten, Artikel 10'\n",
      " 'Wet voorkeursrecht gemeenten, Artikel 27'] 10 1.0\n",
      "['Wetboek van Strafrecht, Artikel 60a'] -> ['Wetboek van Strafrecht, Artikel 24c'\n",
      " 'Wetboek van Strafrecht, Artikel 36f' 'Wetboek van Strafrecht, Artikel 57'] 12 1.0\n",
      "['Wet voorkeursrecht gemeenten, Artikel 14'] -> ['Wet voorkeursrecht gemeenten' 'Wet voorkeursrecht gemeenten, Artikel 26'\n",
      " 'Wet voorkeursrecht gemeenten, Artikel 10'] 10 1.0\n",
      "['Wet voorkeursrecht gemeenten, Artikel 10'] -> ['Wet voorkeursrecht gemeenten' 'Wet voorkeursrecht gemeenten, Artikel 26'\n",
      " 'Wet voorkeursrecht gemeenten, Artikel 27'] 15 0.9375\n",
      "['Wet voorkeursrecht gemeenten, Artikel 27'] -> ['Wet voorkeursrecht gemeenten' 'Wet voorkeursrecht gemeenten, Artikel 26'\n",
      " 'Wet voorkeursrecht gemeenten, Artikel 10'] 15 1.0\n",
      "['Wet voorkeursrecht gemeenten, Artikel 14'] -> ['Wet voorkeursrecht gemeenten, Artikel 26'\n",
      " 'Wet voorkeursrecht gemeenten, Artikel 27'\n",
      " 'Wet voorkeursrecht gemeenten, Artikel 10'] 10 1.0\n",
      "['Wet voorkeursrecht gemeenten, Artikel 14'] -> ['Wet voorkeursrecht gemeenten' 'Wet voorkeursrecht gemeenten, Artikel 26'\n",
      " 'Wet voorkeursrecht gemeenten, Artikel 27'] 10 1.0\n",
      "['Wet voorkeursrecht gemeenten, Artikel 14'] -> ['Wet voorkeursrecht gemeenten' 'Wet voorkeursrecht gemeenten, Artikel 10'\n",
      " 'Wet voorkeursrecht gemeenten, Artikel 27'] 10 1.0\n",
      "['Wet voorkeursrecht gemeenten, Artikel 14'] -> ['Wet op de rechterlijke organisatie, Artikel 81'\n",
      " 'Wet voorkeursrecht gemeenten, Artikel 26'\n",
      " 'Wet voorkeursrecht gemeenten, Artikel 10'] 10 1.0\n",
      "['Wet voorkeursrecht gemeenten, Artikel 14'] -> ['Wet voorkeursrecht gemeenten' 'Wet voorkeursrecht gemeenten, Artikel 10'\n",
      " 'Wet op de rechterlijke organisatie, Artikel 81'] 10 1.0\n",
      "['Wet voorkeursrecht gemeenten, Artikel 14'] -> ['Wet voorkeursrecht gemeenten' 'Wet voorkeursrecht gemeenten, Artikel 27'\n",
      " 'Wet op de rechterlijke organisatie, Artikel 81'] 10 1.0\n",
      "['Wet voorkeursrecht gemeenten, Artikel 14'] -> ['Wet voorkeursrecht gemeenten, Artikel 26'\n",
      " 'Wet voorkeursrecht gemeenten, Artikel 27'] 10 1.0\n",
      "['Wet voorkeursrecht gemeenten, Artikel 14'] -> ['Wet voorkeursrecht gemeenten' 'Wet voorkeursrecht gemeenten, Artikel 27'] 10 1.0\n",
      "['Wegenverkeerswet 1994, Artikel 67'] -> ['Wet aansprakelijkheidsverzekering motorrijtuigen, Artikel 2'\n",
      " 'Wet aansprakelijkheidsverzekering motorrijtuigen'] 13 0.9285714285714286\n",
      "['Wet voorkeursrecht gemeenten, Artikel 27'] -> ['Wet voorkeursrecht gemeenten' 'Wet voorkeursrecht gemeenten, Artikel 26'] 15 1.0\n",
      "['Wet voorkeursrecht gemeenten, Artikel 10'] -> ['Wet voorkeursrecht gemeenten, Artikel 26'\n",
      " 'Wet voorkeursrecht gemeenten, Artikel 27'] 15 0.9375\n",
      "['Wet voorkeursrecht gemeenten, Artikel 27'] -> ['Wet voorkeursrecht gemeenten, Artikel 26'\n",
      " 'Wet voorkeursrecht gemeenten, Artikel 10'] 15 1.0\n",
      "['Wet arbeidsongeschiktheidsverzekering zelfstandigen, Artikel 3'] -> ['Ziekenfondswet' 'Ziekenfondswet, Artikel 3d'] 16 1.0\n",
      "['Wet voorkeursrecht gemeenten, Artikel 14'] -> ['Wet voorkeursrecht gemeenten' 'Wet voorkeursrecht gemeenten, Artikel 26'] 10 1.0\n",
      "['Wetboek van Strafvordering, Artikel 125l'] -> ['Wetboek van Strafvordering, Artikel 552a'\n",
      " 'Wetboek van Strafvordering, Artikel 98'] 12 0.9230769230769231\n",
      "['Wetboek van Strafrecht, Artikel 60a'] -> ['Wetboek van Strafrecht, Artikel 36f'\n",
      " 'Wetboek van Strafrecht, Artikel 24c'] 12 1.0\n",
      "['Wet voorkeursrecht gemeenten, Artikel 14'] -> ['Wet op de rechterlijke organisatie, Artikel 81'\n",
      " 'Wet voorkeursrecht gemeenten, Artikel 10'] 10 1.0\n",
      "['Wet voorkeursrecht gemeenten, Artikel 14'] -> ['Wet op de rechterlijke organisatie, Artikel 81'\n",
      " 'Wet voorkeursrecht gemeenten, Artikel 26'] 10 1.0\n",
      "['Wetboek van Strafrecht, Artikel 60a'] -> ['Wetboek van Strafrecht, Artikel 36f' 'Wetboek van Strafrecht, Artikel 57'] 12 1.0\n",
      "['Wet voorkeursrecht gemeenten, Artikel 14'] -> ['Wet op de rechterlijke organisatie, Artikel 81'\n",
      " 'Wet voorkeursrecht gemeenten, Artikel 27'] 10 1.0\n",
      "['Wet voorkeursrecht gemeenten, Artikel 14'] -> ['Wet voorkeursrecht gemeenten, Artikel 10'\n",
      " 'Wet voorkeursrecht gemeenten, Artikel 27'] 10 1.0\n",
      "['Wetboek van Strafrecht, Artikel 60a'] -> ['Wetboek van Strafrecht, Artikel 24c' 'Wetboek van Strafrecht, Artikel 57'] 12 1.0\n",
      "['Wetboek van Strafvordering, Artikel 483'] -> ['Wet op de rechterlijke organisatie, Artikel 76' 'Grondwet, Artikel 119'] 10 1.0\n",
      "['Grondwet, Artikel 119'] -> ['Wet op de rechterlijke organisatie, Artikel 76'\n",
      " 'Wetboek van Strafvordering, Artikel 483'] 10 1.0\n",
      "['Wet op de rechterlijke organisatie, Artikel 76'] -> ['Wetboek van Strafvordering, Artikel 483' 'Grondwet, Artikel 119'] 10 1.0\n",
      "['Wet voorkeursrecht gemeenten, Artikel 10'] -> ['Wet voorkeursrecht gemeenten' 'Wet voorkeursrecht gemeenten, Artikel 26'] 15 0.9375\n",
      "['Wet voorkeursrecht gemeenten, Artikel 14'] -> ['Wet voorkeursrecht gemeenten' 'Wet voorkeursrecht gemeenten, Artikel 10'] 10 1.0\n",
      "['Wet voorkeursrecht gemeenten, Artikel 14'] -> ['Wet voorkeursrecht gemeenten, Artikel 26'\n",
      " 'Wet voorkeursrecht gemeenten, Artikel 10'] 10 1.0\n",
      "['Ziekenfondswet, Artikel 3'] -> ['Ziekenfondswet' 'Ziekenfondswet, Artikel 3d'] 11 0.9166666666666666\n",
      "['Wet voorkeursrecht gemeenten, Artikel 14'] -> ['Wet voorkeursrecht gemeenten'\n",
      " 'Wet op de rechterlijke organisatie, Artikel 81'] 10 1.0\n",
      "['Wet op de accijns, Artikel 52a'] -> ['Wet op de accijns, Artikel 2f' 'Wet op de accijns'] 10 1.0\n",
      "['Wet op de accijns, Artikel 51a'] -> ['Wet op de accijns, Artikel 2f' 'Wet op de accijns'] 13 1.0\n",
      "['Wet voorkeursrecht gemeenten, Artikel 27'] -> ['Wet voorkeursrecht gemeenten' 'Wet voorkeursrecht gemeenten, Artikel 10'] 15 1.0\n",
      "['Wet voorkeursrecht gemeenten, Artikel 10'] -> ['Wet voorkeursrecht gemeenten' 'Wet voorkeursrecht gemeenten, Artikel 27'] 15 0.9375\n",
      "['Wet op de accijns, Artikel 52a'] -> ['Wet op de accijns, Artikel 2f'] 10 1.0\n",
      "['Ziekenfondswet, Artikel 3d'] -> ['Ziekenfondswet'] 28 0.9655172413793104\n",
      "['Wet voorkeursrecht gemeenten, Artikel 14'] -> ['Wet voorkeursrecht gemeenten, Artikel 26'] 10 1.0\n",
      "['Wetboek van Strafvordering, Artikel 476'] -> ['Wetboek van Strafvordering, Artikel 467'] 25 0.9615384615384616\n",
      "['Wet op de accijns, Artikel 39'] -> ['Wet op de accijns'] 13 1.0\n",
      "['Wegenverkeerswet 1994, Artikel 175'] -> ['Wegenverkeerswet 1994, Artikel 6'] 22 0.9166666666666666\n",
      "[ 'Wetboek van Burgerlijke Rechtsvordering (geldt in geval van digitaal procederen), Artikel 401a'] -> ['Wetboek van Burgerlijke Rechtsvordering, Artikel 401a'] 72 1.0\n",
      "['Wetboek van Burgerlijke Rechtsvordering, Artikel 401a'] -> [ 'Wetboek van Burgerlijke Rechtsvordering (geldt in geval van digitaal procederen), Artikel 401a'] 72 1.0\n",
      "['Wet op de accijns, Artikel 2f'] -> ['Wet op de accijns'] 23 0.92\n",
      "['Wet op de omzetbelasting 1968, Artikel 37'] -> ['Wet op de omzetbelasting 1968'] 25 0.9259259259259259\n",
      "['Wet op de accijns, Artikel 52a'] -> ['Wet op de accijns'] 10 1.0\n",
      "['Wet belastingen op milieugrondslag, Artikel 12'] -> ['Wet belastingen op milieugrondslag'] 13 0.9285714285714286\n",
      "['Burgerlijk Wetboek Boek 6, Artikel 82'] -> ['Burgerlijk Wetboek Boek 6, Artikel 83'] 11 0.9166666666666666\n",
      "[ 'Wetboek van Burgerlijke Rechtsvordering (geldt in geval van digitaal procederen), Artikel 426'] -> ['Wetboek van Burgerlijke Rechtsvordering, Artikel 426'] 36 1.0\n",
      "['Wetboek van Burgerlijke Rechtsvordering, Artikel 426'] -> [ 'Wetboek van Burgerlijke Rechtsvordering (geldt in geval van digitaal procederen), Artikel 426'] 36 1.0\n",
      "['Leerplichtwet 1969, Artikel 8'] -> ['Leerplichtwet 1969'] 10 1.0\n",
      "['Wetboek van Strafvordering, Artikel 96a'] -> ['Wetboek van Strafvordering, Artikel 552a'] 11 0.9166666666666666\n",
      "['Algemene wet bestuursrecht, Artikel 8:31'] -> ['Algemene wet bestuursrecht, Artikel 8:42'] 55 0.9322033898305084\n",
      "['Wetboek van Strafvordering, Artikel 459'] -> ['Wetboek van Strafvordering, Artikel 457'] 107 0.9907407407407407\n",
      "['Wetboek van Strafvordering, Artikel 352'] -> ['Wetboek van Strafvordering'] 24 1.0\n",
      "['Ziekenfondswet, Artikel 3'] -> ['Ziekenfondswet'] 12 1.0\n",
      "['Invorderingswet 1990, Artikel 49'] -> ['Invorderingswet 1990'] 27 0.9\n",
      "['Wet bijzondere opnemingen in psychiatrische ziekenhuizen, Artikel 41'] -> ['Wet bijzondere opnemingen in psychiatrische ziekenhuizen'] 10 0.9090909090909091\n",
      "['Wet voorkeursrecht gemeenten, Artikel 27'] -> ['Wet voorkeursrecht gemeenten, Artikel 26'] 15 1.0\n",
      "['Wet voorkeursrecht gemeenten, Artikel 27'] -> ['Wet voorkeursrecht gemeenten'] 15 1.0\n",
      "['Wetboek van Strafvordering, Artikel 460'] -> ['Wetboek van Strafvordering, Artikel 457'] 121 0.9918032786885246\n",
      "['Wetboek van Strafrecht, Artikel 60a'] -> ['Wetboek van Strafrecht, Artikel 57'] 12 1.0\n",
      "['Wet arbeidsongeschiktheidsverzekering zelfstandigen, Artikel 3'] -> ['Ziekenfondswet, Artikel 3d'] 16 1.0\n",
      "['Wetboek van Strafvordering, Artikel 552d'] -> ['Wetboek van Strafvordering, Artikel 552a'] 32 0.9411764705882353\n",
      "['Algemene wet inzake rijksbelastingen, Artikel 49'] -> ['Algemene wet inzake rijksbelastingen, Artikel 47'] 13 0.9285714285714286\n",
      "['Wetboek van Strafrecht, Artikel 37b'] -> ['Wetboek van Strafrecht, Artikel 37a'] 11 0.9166666666666666\n",
      "[ 'Wet vermindering afdracht loonbelasting en premie voor de volksverzekeringen, Artikel 1'] -> [ 'Wet vermindering afdracht loonbelasting en premie voor de volksverzekeringen'] 10 1.0\n",
      "['Grondwet, Artikel 119'] -> ['Wet op de rechterlijke organisatie, Artikel 76'] 10 1.0\n",
      "['Wet op de rechterlijke organisatie, Artikel 76'] -> ['Grondwet, Artikel 119'] 10 1.0\n",
      "['Wet op de omzetbelasting 1968, Artikel 2'] -> ['Wet op de omzetbelasting 1968'] 11 0.9166666666666666\n",
      "['Wet voorkeursrecht gemeenten, Artikel 14'] -> ['Wet voorkeursrecht gemeenten'] 10 1.0\n",
      "['Wetboek van Strafvordering, Artikel 125g'] -> ['Wetboek van Strafvordering'] 11 0.9166666666666666\n",
      "['Wet voorkeursrecht gemeenten, Artikel 14'] -> ['Wet op de rechterlijke organisatie, Artikel 81'] 10 1.0\n",
      "[ 'Wetboek van Burgerlijke Rechtsvordering (geldt in geval van digitaal procederen), Artikel 279'] -> ['Wetboek van Burgerlijke Rechtsvordering, Artikel 279'] 11 1.0\n",
      "['Gemeentewet, Artikel 172'] -> ['Gemeentewet'] 11 0.9166666666666666\n",
      "['Wet waardering onroerende zaken, Artikel 17'] -> ['Wet waardering onroerende zaken'] 68 0.9577464788732394\n",
      "['Wetboek van Burgerlijke Rechtsvordering, Artikel 282a'] -> ['Wetboek van Burgerlijke Rechtsvordering, Artikel 427b'] 20 0.9090909090909091\n",
      "['Wetboek van Burgerlijke Rechtsvordering, Artikel 427b'] -> ['Wetboek van Burgerlijke Rechtsvordering, Artikel 282a'] 20 1.0\n",
      "[ 'Wetboek van Burgerlijke Rechtsvordering (geldt in geval van digitaal procederen), Artikel 270'] -> ['Wetboek van Burgerlijke Rechtsvordering, Artikel 270'] 10 1.0\n",
      "['Wetboek van Burgerlijke Rechtsvordering, Artikel 270'] -> [ 'Wetboek van Burgerlijke Rechtsvordering (geldt in geval van digitaal procederen), Artikel 270'] 10 0.9090909090909091\n",
      "['Wet waardering onroerende zaken, Artikel 19'] -> ['Wet waardering onroerende zaken'] 11 1.0\n",
      "['Burgerlijk Wetboek Boek 7, Artikel 678'] -> ['Burgerlijk Wetboek Boek 7, Artikel 677'] 10 0.9090909090909091\n",
      "['Wetboek van Burgerlijke Rechtsvordering, Artikel 843a'] -> [ 'Wetboek van Burgerlijke Rechtsvordering (geldt in geval van digitaal procederen), Artikel 843a'] 38 1.0\n",
      "[ 'Wetboek van Burgerlijke Rechtsvordering (geldt in geval van digitaal procederen), Artikel 843a'] -> ['Wetboek van Burgerlijke Rechtsvordering, Artikel 843a'] 38 1.0\n",
      "['Wet voorkeursrecht gemeenten, Artikel 26'] -> ['Wet voorkeursrecht gemeenten'] 26 0.9629629629629629\n",
      "['Wetboek van Strafvordering, Artikel 335'] -> ['Wetboek van Strafvordering, Artikel 361'] 17 1.0\n",
      "['Wetboek van Strafvordering, Artikel 125l'] -> ['Wetboek van Strafvordering, Artikel 552a'] 13 1.0\n",
      "['Wet arbeid vreemdelingen, Artikel 2'] -> ['Wet arbeid vreemdelingen'] 12 0.9230769230769231\n",
      "['Wetboek van Strafvordering, Artikel 483'] -> ['Wet op de rechterlijke organisatie, Artikel 76'] 10 1.0\n",
      "['Wet op de rechterlijke organisatie, Artikel 76'] -> ['Wetboek van Strafvordering, Artikel 483'] 10 1.0\n",
      "['Opiumwet, Artikel 9'] -> ['Opiumwet'] 37 0.9736842105263158\n",
      "['Wetboek van Burgerlijke Rechtsvordering, Artikel 332'] -> [ 'Wetboek van Burgerlijke Rechtsvordering (geldt in geval van digitaal procederen), Artikel 332'] 23 1.0\n",
      "[ 'Wetboek van Burgerlijke Rechtsvordering (geldt in geval van digitaal procederen), Artikel 332'] -> ['Wetboek van Burgerlijke Rechtsvordering, Artikel 332'] 23 1.0\n",
      "['Algemene wet bestuursrecht, Artikel 8:74'] -> ['Wet op de rechterlijke organisatie, Artikel 81'] 10 0.9090909090909091\n",
      "['Algemene Ouderdomswet, Artikel 53'] -> ['Algemene Ouderdomswet'] 15 1.0\n",
      "['Wet aansprakelijkheidsverzekering motorrijtuigen, Artikel 34'] -> ['Wet aansprakelijkheidsverzekering motorrijtuigen'] 26 0.9629629629629629\n",
      "['Invorderingswet 1990, Artikel 40'] -> ['Invorderingswet 1990'] 13 1.0\n",
      "['Wet voorkeursrecht gemeenten, Artikel 10'] -> ['Wet voorkeursrecht gemeenten'] 15 0.9375\n",
      "['Grondwet, Artikel 119'] -> ['Wetboek van Strafvordering, Artikel 483'] 10 1.0\n",
      "['Wetboek van Strafvordering, Artikel 483'] -> ['Grondwet, Artikel 119'] 10 1.0\n",
      "['Wet op de accijns, Artikel 51a'] -> ['Wet op de accijns, Artikel 2f'] 13 1.0\n",
      "['Wetboek van Strafvordering, Artikel 142'] -> ['Wetboek van Strafvordering, Artikel 141'] 27 0.9642857142857143\n",
      "['Wet op de omzetbelasting 1968, Artikel 6'] -> ['Wet op de omzetbelasting 1968'] 15 0.9375\n",
      "[\"Wet op de belasting van personenauto's en motorrijwielen 1992, Artikel 9\"] -> [\"Wet op de belasting van personenauto's en motorrijwielen 1992\"] 27 0.9310344827586207\n",
      "['Wet op de accijns, Artikel 53'] -> ['Wet op de accijns'] 11 1.0\n",
      "['Wetboek van Strafvordering, Artikel 280'] -> ['Wetboek van Strafvordering'] 21 0.9545454545454546\n",
      "['Wet bijzondere opnemingen in psychiatrische ziekenhuizen, Artikel 48'] -> ['Wet bijzondere opnemingen in psychiatrische ziekenhuizen'] 12 0.9230769230769231\n",
      "['Wet waardering onroerende zaken, Artikel 22'] -> ['Wet waardering onroerende zaken'] 25 0.9615384615384616\n",
      "['Wetboek van Strafvordering, Artikel 132'] -> ['Wetboek van Strafvordering, Artikel 359a'] 10 0.9090909090909091\n",
      "['Wet voorkeursrecht gemeenten, Artikel 27'] -> ['Wet voorkeursrecht gemeenten, Artikel 10'] 15 1.0\n",
      "['Wet voorkeursrecht gemeenten, Artikel 10'] -> ['Wet voorkeursrecht gemeenten, Artikel 27'] 15 0.9375\n",
      "['Wetboek van Strafrecht, Artikel 420quater'] -> ['Wetboek van Strafrecht, Artikel 420bis'] 46 0.92\n",
      "['Wegenverkeerswet 1994, Artikel 160'] -> ['Wegenverkeerswet 1994'] 13 0.9285714285714286\n",
      "['Wet op de vennootschapsbelasting 1969, Artikel 10d'] -> ['Wet op de vennootschapsbelasting 1969'] 10 1.0\n",
      "['Wet waardering onroerende zaken, Artikel 18'] -> ['Wet waardering onroerende zaken'] 17 1.0\n",
      "['Wetboek van Strafrecht, Artikel 60a'] -> ['Wetboek van Strafrecht, Artikel 24c'] 12 1.0\n",
      "['Leerplichtwet 1969, Artikel 5'] -> ['Leerplichtwet 1969'] 14 1.0\n",
      "['Algemene wet inzake rijksbelastingen, Artikel 74'] -> ['Wetboek van Strafrecht, Artikel 36e'] 11 1.0\n",
      "[ 'Wetboek van Burgerlijke Rechtsvordering (geldt in geval van digitaal procederen), Artikel 217'] -> ['Wetboek van Burgerlijke Rechtsvordering, Artikel 217'] 15 1.0\n",
      "['Wetboek van Burgerlijke Rechtsvordering, Artikel 217'] -> [ 'Wetboek van Burgerlijke Rechtsvordering (geldt in geval van digitaal procederen), Artikel 217'] 15 1.0\n",
      "['Wetboek van Strafvordering, Artikel 103'] -> ['Wetboek van Strafvordering, Artikel 94a'] 16 1.0\n",
      "['Wet rechtspositie rechterlijke ambtenaren, Artikel 46o'] -> ['Wet rechtspositie rechterlijke ambtenaren'] 11 0.9166666666666666\n",
      "['Wet op de omzetbelasting 1968, Artikel 9'] -> ['Wet op de omzetbelasting 1968'] 51 0.9107142857142857\n",
      "['Wet voorkeursrecht gemeenten, Artikel 14'] -> ['Wet voorkeursrecht gemeenten, Artikel 27'] 10 1.0\n",
      "['Wetboek van Strafrecht, Artikel 71'] -> ['Wetboek van Strafrecht, Artikel 70'] 18 0.9473684210526315\n",
      "['Wet op de accijns, Artikel 1'] -> ['Wet op de accijns'] 14 1.0\n",
      "['Wet op de vennootschapsbelasting 1969, Artikel 10a'] -> ['Wet op de vennootschapsbelasting 1969'] 21 0.9130434782608695\n",
      "['Wet bijzondere opnemingen in psychiatrische ziekenhuizen, Artikel 29'] -> ['Wet bijzondere opnemingen in psychiatrische ziekenhuizen'] 11 0.9166666666666666\n",
      "['Wetboek van Strafvordering, Artikel 98'] -> ['Wetboek van Strafvordering, Artikel 552a'] 56 0.9333333333333333\n",
      "['Wet op de omzetbelasting 1968, Artikel 31'] -> ['Wet op de omzetbelasting 1968'] 19 1.0\n",
      "['Wetboek van Burgerlijke Rechtsvordering, Artikel 393'] -> ['Wetboek van Burgerlijke Rechtsvordering, Artikel 392'] 44 1.0\n",
      "['Wetboek van Strafvordering, Artikel 138b'] -> ['Wetboek van Strafvordering, Artikel 365a'] 15 0.9375\n",
      "['Wetboek van Strafvordering, Artikel 551a'] -> ['Wetboek van Strafrecht, Artikel 138a'] 13 0.9285714285714286\n",
      "['Wetboek van Strafvordering, Artikel 511h'] -> ['Wetboek van Strafvordering, Artikel 437'] 44 0.9361702127659575\n",
      "[\"Wet op de belasting van personenauto's en motorrijwielen 1992, Artikel 6\"] -> [\"Wet op de belasting van personenauto's en motorrijwielen 1992\"] 12 0.9230769230769231\n",
      "['Wet voorkeursrecht gemeenten, Artikel 10'] -> ['Wet voorkeursrecht gemeenten, Artikel 26'] 16 1.0\n",
      "['Wetboek van Strafvordering, Artikel 351'] -> ['Wetboek van Strafvordering'] 56 0.9333333333333333\n",
      "['Ziekenfondswet, Artikel 3'] -> ['Ziekenfondswet, Artikel 3d'] 11 0.9166666666666666\n",
      "[ 'Wetboek van Burgerlijke Rechtsvordering (geldt in geval van digitaal procederen), Artikel 426a'] -> ['Wetboek van Burgerlijke Rechtsvordering, Artikel 426a'] 63 1.0\n",
      "['Wetboek van Burgerlijke Rechtsvordering, Artikel 426a'] -> [ 'Wetboek van Burgerlijke Rechtsvordering (geldt in geval van digitaal procederen), Artikel 426a'] 63 1.0\n",
      "['Wetboek van Strafrecht, Artikel 140a'] -> ['Wetboek van Strafrecht, Artikel 140'] 21 1.0\n",
      "['Wet op de accijns, Artikel 51a'] -> ['Wet op de accijns'] 13 1.0\n",
      "['Wetboek van Strafvordering, Artikel 22'] -> ['Wetboek van Strafvordering, Artikel 552a'] 10 0.9090909090909091\n",
      "['Wetboek van Strafvordering, Artikel 338'] -> ['Wetboek van Strafvordering'] 18 0.9\n",
      "['Wetboek van Strafvordering, Artikel 116'] -> ['Wetboek van Strafvordering, Artikel 552a'] 76 0.9620253164556962\n",
      "['Wegenverkeerswet 1994, Artikel 67'] -> ['Wet aansprakelijkheidsverzekering motorrijtuigen, Artikel 2'] 13 0.9285714285714286\n",
      "['Uitleveringswet, Artikel 10'] -> ['Uitleveringswet'] 10 0.9090909090909091\n",
      "['Wet op de vennootschapsbelasting 1969, Artikel 20'] -> ['Wet op de vennootschapsbelasting 1969'] 22 0.9166666666666666\n",
      "['Wet op de accijns, Artikel 2'] -> ['Wet op de accijns'] 12 1.0\n",
      "['Wetboek van Strafrecht, Artikel 60a'] -> ['Wetboek van Strafrecht, Artikel 36f'] 12 1.0\n",
      "['Wet waardering onroerende zaken, Artikel 16'] -> ['Wet waardering onroerende zaken'] 33 0.9166666666666666\n",
      "['Wegenverkeerswet 1994, Artikel 67'] -> ['Wet aansprakelijkheidsverzekering motorrijtuigen'] 14 1.0\n",
      "['Wetboek van Strafvordering, Artikel 125l'] -> ['Wetboek van Strafvordering, Artikel 98'] 12 0.9230769230769231\n",
      "['Wetboek van Strafvordering, Artikel 465'] -> ['Wetboek van Strafvordering, Artikel 457'] 18 1.0\n",
      "['Wet bijzondere opnemingen in psychiatrische ziekenhuizen, Artikel 14d'] -> ['Wet bijzondere opnemingen in psychiatrische ziekenhuizen'] 11 0.9166666666666666\n",
      "['Algemene wet bestuursrecht, Artikel 8:66'] -> ['Algemene wet bestuursrecht, Artikel 8:73'] 17 1.0\n",
      "['Wet arbeidsongeschiktheidsverzekering zelfstandigen, Artikel 3'] -> ['Ziekenfondswet'] 16 1.0\n",
      "['Wetboek van Strafvordering, Artikel 472'] -> ['Wetboek van Strafvordering, Artikel 457'] 37 0.9487179487179487\n",
      "['Wetboek van Strafvordering, Artikel 126ij'] -> ['Wetboek van Strafvordering'] 13 0.9285714285714286\n",
      "['Wet voorkeursrecht gemeenten, Artikel 14'] -> ['Wet voorkeursrecht gemeenten, Artikel 10'] 10 1.0\n",
      "['Burgerlijk Wetboek Boek 1, Artikel 89'] -> ['Burgerlijk Wetboek Boek 1, Artikel 88'] 18 0.9473684210526315\n",
      "[ 'Wetboek van Burgerlijke Rechtsvordering (geldt in geval van digitaal procederen), Artikel 475h'] -> ['Wetboek van Burgerlijke Rechtsvordering, Artikel 475h'] 10 1.0\n"
     ]
    }
   ],
   "source": [
    "for ante, conse, support, conf in list(rules):\n",
    "    if(len(ante)<=1):\n",
    "        print(leg_labels[list(ante)], '->', leg_labels[list(conse)], support, conf)"
   ]
  },
  {
   "cell_type": "markdown",
   "metadata": {},
   "source": [
    "## Create subnetwork"
   ]
  },
  {
   "cell_type": "code",
   "execution_count": 22,
   "metadata": {
    "collapsed": true
   },
   "outputs": [],
   "source": [
    "def create_subnetwork_and(articles, legislation, nodes_in, links_in):\n",
    "    case_ids = legislation[legislation['title'].isin(articles)]['source'].unique()\n",
    "    nodes_sub = nodes_in[nodes_in['id'].isin(case_ids)]\n",
    "    links_sub = links_in[links_in['source'].isin(case_ids)]\n",
    "    links_sub = links_sub[links_sub['target'].isin(case_ids)]\n",
    "    return nodes_sub, links_sub"
   ]
  },
  {
   "cell_type": "code",
   "execution_count": 57,
   "metadata": {
    "collapsed": true
   },
   "outputs": [],
   "source": [
    "def create_subnetwork_or(articles, legislation, nodes_in, links_in):\n",
    "    case_ids = legislation[legislation['title'].isin(articles)]['source'].unique()\n",
    "    links_sub = links_in[links_in['source'].isin(case_ids) | links_in['target'].isin(case_ids)]\n",
    "    case_ids_extended = set(links_sub['source']).union(set(links_sub['target'])).union(case_ids)\n",
    "    nodes_sub = nodes_in[nodes_in['id'].isin(case_ids_extended)].copy()\n",
    "    nodes_sub['in_set'] = nodes_sub['id'].isin(case_ids)\n",
    "    return nodes_sub, links_sub"
   ]
  },
  {
   "cell_type": "code",
   "execution_count": 58,
   "metadata": {
    "collapsed": false
   },
   "outputs": [
    {
     "name": "stdout",
     "output_type": "stream",
     "text": [
      "(127, 6) (53, 5)\n"
     ]
    }
   ],
   "source": [
    "nodes_wga, links_wga = create_subnetwork_and(\n",
    "    [\"Burgerlijk Wetboek Boek 7, Artikel 658\", \"Burgerlijk Wetboek Boek 7, Artikel 611\"], \n",
    "    legislation, cases, cases_links)\n",
    "print(nodes_wga.shape, links_wga.shape)"
   ]
  },
  {
   "cell_type": "code",
   "execution_count": 59,
   "metadata": {
    "collapsed": false
   },
   "outputs": [
    {
     "name": "stdout",
     "output_type": "stream",
     "text": [
      "(197, 7) (154, 5)\n"
     ]
    }
   ],
   "source": [
    "nodes_wga_extended, links_wga_extended = create_subnetwork_or(\n",
    "    [\"Burgerlijk Wetboek Boek 7, Artikel 658\", \"Burgerlijk Wetboek Boek 7, Artikel 611\"], \n",
    "    legislation, cases, cases_links)\n",
    "print(nodes_wga_extended.shape, links_wga_extended.shape)"
   ]
  },
  {
   "cell_type": "code",
   "execution_count": 9,
   "metadata": {
    "collapsed": false
   },
   "outputs": [
    {
     "name": "stdout",
     "output_type": "stream",
     "text": [
      "(12732, 6) (1380, 5)\n"
     ]
    }
   ],
   "source": [
    "nodes_81ro, links_81ro = create_subnetwork(\n",
    "    [\"Wet op de rechterlijke organisatie, Artikel 81\"],\n",
    "    legislation, cases, cases_links)\n",
    "print(nodes_81ro.shape, links_81ro.shape)"
   ]
  },
  {
   "cell_type": "code",
   "execution_count": null,
   "metadata": {
    "collapsed": true
   },
   "outputs": [],
   "source": []
  }
 ],
 "metadata": {
  "anaconda-cloud": {},
  "kernelspec": {
   "display_name": "Python [conda env:caselaw]",
   "language": "python",
   "name": "conda-env-caselaw-py"
  },
  "language_info": {
   "codemirror_mode": {
    "name": "ipython",
    "version": 3
   },
   "file_extension": ".py",
   "mimetype": "text/x-python",
   "name": "python",
   "nbconvert_exporter": "python",
   "pygments_lexer": "ipython3",
   "version": "3.5.2"
  }
 },
 "nbformat": 4,
 "nbformat_minor": 0
}
