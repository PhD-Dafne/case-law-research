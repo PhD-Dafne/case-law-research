{
 "cells": [
  {
   "cell_type": "code",
   "execution_count": 3,
   "metadata": {
    "collapsed": true
   },
   "outputs": [],
   "source": [
    "import os\n",
    "import pandas as pd"
   ]
  },
  {
   "cell_type": "code",
   "execution_count": 4,
   "metadata": {
    "collapsed": true
   },
   "outputs": [],
   "source": [
    "# load cases, links and legislation\n",
    "inputpath = '/media/sf_VBox_Shared/CaseLaw/graphs/lido/'\n",
    "cases = pd.read_csv(os.path.join(inputpath, 'hr_simple_nodes.csv'))\n",
    "legislation = pd.read_csv(os.path.join(inputpath, 'hr_simple_legislation_links.csv'))"
   ]
  },
  {
   "cell_type": "code",
   "execution_count": 5,
   "metadata": {
    "collapsed": true
   },
   "outputs": [],
   "source": [
    "leg_per_node = legislation.groupby('source')['title'].apply(lambda l: \"|\".join(list(sorted(l))))"
   ]
  },
  {
   "cell_type": "code",
   "execution_count": 6,
   "metadata": {
    "collapsed": true
   },
   "outputs": [],
   "source": [
    "cases = cases.set_index('id')\n",
    "cases['leg'] = leg_per_node\n",
    "cases = cases.reset_index()"
   ]
  },
  {
   "cell_type": "code",
   "execution_count": 7,
   "metadata": {
    "collapsed": false
   },
   "outputs": [
    {
     "data": {
      "text/plain": [
       "title\n",
       "Wet op de rechterlijke organisatie, Artikel 81     12732\n",
       "Wetboek van Strafvordering                          2043\n",
       "Wetboek van Strafrecht                              1395\n",
       "Wet op de rechterlijke organisatie, Artikel 80a     1222\n",
       "Wet waardering onroerende zaken                      708\n",
       "Opiumwet                                             624\n",
       "Wetboek van Strafvordering, Artikel 457              614\n",
       "Wetboek van Strafvordering, Artikel 359              603\n",
       "Wetboek van Strafvordering, Artikel 552a             567\n",
       "Wetboek van Strafvordering, Artikel 440              432\n",
       "Wet op de omzetbelasting 1968                        413\n",
       "Burgerlijk Wetboek Boek 6                            410\n",
       "Wetboek van Burgerlijke Rechtsvordering              402\n",
       "Algemene wet inzake rijksbelastingen                 400\n",
       "Wetboek van Strafvordering, Artikel 365a             397\n",
       "Wetboek van Strafvordering, Artikel 359a             338\n",
       "Algemene wet bestuursrecht, Artikel 8:41             337\n",
       "Algemene wet bestuursrecht                           311\n",
       "Wetboek van Strafvordering, Artikel 415              304\n",
       "Wetboek van Strafrecht, Artikel 36e                  294\n",
       "Name: source, dtype: int64"
      ]
     },
     "execution_count": 7,
     "metadata": {},
     "output_type": "execute_result"
    }
   ],
   "source": [
    "legislation.groupby('title')['source'].nunique().sort_values(ascending=False).head(20)"
   ]
  },
  {
   "cell_type": "markdown",
   "metadata": {},
   "source": [
    "## Investigate legislation network"
   ]
  },
  {
   "cell_type": "code",
   "execution_count": 8,
   "metadata": {
    "collapsed": false
   },
   "outputs": [
    {
     "data": {
      "text/plain": [
       "Index(['link_id', 'source', 'article', 'link_type', 'link_type_label',\n",
       "       'title'],\n",
       "      dtype='object')"
      ]
     },
     "execution_count": 8,
     "metadata": {},
     "output_type": "execute_result"
    }
   ],
   "source": [
    "legislation.columns"
   ]
  },
  {
   "cell_type": "code",
   "execution_count": 9,
   "metadata": {
    "collapsed": false
   },
   "outputs": [
    {
     "data": {
      "text/plain": [
       "title\n",
       "Wetboek van Strafvordering                                                                  81\n",
       "Wetboek van Strafrecht                                                                      70\n",
       "Algemene wet bestuursrecht                                                                  68\n",
       "Wet inkomstenbelasting 2001                                                                 54\n",
       "Algemene wet inzake rijksbelastingen                                                        50\n",
       "Wet milieubeheer                                                                            49\n",
       "Wegenverkeerswet 1994                                                                       46\n",
       "Gemeentewet                                                                                 45\n",
       "Wet op de vennootschapsbelasting 1969                                                       43\n",
       "Wetboek van Burgerlijke Rechtsvordering                                                     41\n",
       "Invorderingswet 1990                                                                        39\n",
       "Wet op de omzetbelasting 1968                                                               38\n",
       "Wet op de loonbelasting 1964                                                                36\n",
       "Algemene Ouderdomswet                                                                       33\n",
       "Wet op de economische delicten                                                              31\n",
       "Faillissementswet                                                                           30\n",
       "Wet op de accijns                                                                           29\n",
       "Opiumwet                                                                                    28\n",
       "Wet op de arbeidsongeschiktheidsverzekering                                                 24\n",
       "Ziektewet                                                                                   23\n",
       "Wet belastingen op milieugrondslag                                                          23\n",
       "Wet wapens en munitie                                                                       23\n",
       "Successiewet 1956                                                                           23\n",
       "Werkloosheidswet                                                                            23\n",
       "Wet op belastingen van rechtsverkeer                                                        23\n",
       "Wet werk en bijstand                                                                        22\n",
       "Wet op de belasting van personenauto's en motorrijwielen 1992                               21\n",
       "Wet waardering onroerende zaken                                                             21\n",
       "Wet arbeidsongeschiktheidsverzekering zelfstandigen                                         20\n",
       "Algemene Kinderbijslagwet                                                                   20\n",
       "                                                                                            ..\n",
       "Wet op de kansspelen, Artikel 27                                                             1\n",
       "Wet op de kansspelen, Artikel 27g                                                            1\n",
       "Wet op de kansspelen, Artikel 27i                                                            1\n",
       "Wet op de kansspelen, Artikel 30b                                                            1\n",
       "Wet op de kansspelen, Artikel 30c                                                            1\n",
       "Wet op de kansspelen, Artikel 30d                                                            1\n",
       "Wet op de jeugdzorg, Artikel 41                                                              1\n",
       "Wet op de jeugdzorg, Artikel 37                                                              1\n",
       "Wet op de internationale bijstandsverlening bij de heffing van belastingen, Artikel 5        1\n",
       "Wet op de jeugdzorg, Artikel 29h                                                             1\n",
       "Wet op de internationale bijstandsverlening bij de heffing van belastingen, Hoofdstuk II     1\n",
       "Wet op de jeugdhulpverlening                                                                 1\n",
       "Wet op de jeugdhulpverlening, Artikel 1                                                      1\n",
       "Wet op de jeugdhulpverlening, Artikel 13                                                     1\n",
       "Wet op de jeugdhulpverlening, Artikel 3                                                      1\n",
       "Wet op de jeugdhulpverlening, Artikel 39                                                     1\n",
       "Wet op de jeugdhulpverlening, Artikel 3a                                                     1\n",
       "Wet op de jeugdhulpverlening, Artikel 40                                                     1\n",
       "Wet op de jeugdhulpverlening, Artikel 53                                                     1\n",
       "Wet op de jeugdhulpverlening, Artikel 60                                                     1\n",
       "Wet op de jeugdhulpverlening, Artikel 61                                                     1\n",
       "Wet op de jeugdhulpverlening, Artikel 8                                                      1\n",
       "Wet op de jeugdzorg, Artikel 102                                                             1\n",
       "Wet op de jeugdzorg, Artikel 111                                                             1\n",
       "Wet op de jeugdzorg, Artikel 29b                                                             1\n",
       "Wet op de jeugdzorg, Artikel 29c                                                             1\n",
       "Wet op de jeugdzorg, Artikel 29d                                                             1\n",
       "Wet op de jeugdzorg, Artikel 29e                                                             1\n",
       "Wet op de jeugdzorg, Artikel 29f                                                             1\n",
       "Wet conflictenrecht huwelijk, Artikel 3                                                      1\n",
       "Name: article, Length: 7171, dtype: int64"
      ]
     },
     "execution_count": 9,
     "metadata": {},
     "output_type": "execute_result"
    }
   ],
   "source": [
    "legislation.groupby('title')['article'].nunique().sort_values(ascending=False)"
   ]
  },
  {
   "cell_type": "code",
   "execution_count": 10,
   "metadata": {
    "collapsed": false
   },
   "outputs": [],
   "source": [
    "legislation_title_references = legislation[['source', 'title']].drop_duplicates()"
   ]
  },
  {
   "cell_type": "code",
   "execution_count": 11,
   "metadata": {
    "collapsed": false
   },
   "outputs": [
    {
     "data": {
      "text/plain": [
       "(71834, 2)"
      ]
     },
     "execution_count": 11,
     "metadata": {},
     "output_type": "execute_result"
    }
   ],
   "source": [
    "legislation_title_references.shape"
   ]
  },
  {
   "cell_type": "code",
   "execution_count": 21,
   "metadata": {
    "collapsed": true
   },
   "outputs": [],
   "source": [
    "legislation_title_references.to_csv(os.path.join(inputpath, 'hr_case_leg_titles.csv'))"
   ]
  },
  {
   "cell_type": "markdown",
   "metadata": {},
   "source": [
    "# Collapse network"
   ]
  },
  {
   "cell_type": "code",
   "execution_count": 16,
   "metadata": {
    "collapsed": true
   },
   "outputs": [],
   "source": [
    "import scipy.sparse"
   ]
  },
  {
   "cell_type": "code",
   "execution_count": 12,
   "metadata": {
    "collapsed": false
   },
   "outputs": [],
   "source": [
    "ltr_df = legislation_title_references.set_index(['source', 'title'])\n",
    "ltr_df['cnt'] = 1\n",
    "case_leg_adj_df = ltr_df.unstack(fill_value=0)"
   ]
  },
  {
   "cell_type": "code",
   "execution_count": 17,
   "metadata": {
    "collapsed": false
   },
   "outputs": [],
   "source": [
    "case_leg_adj_m = scipy.sparse.coo_matrix(case_leg_adj_df.values)"
   ]
  },
  {
   "cell_type": "code",
   "execution_count": 18,
   "metadata": {
    "collapsed": false
   },
   "outputs": [
    {
     "data": {
      "text/plain": [
       "(25446, 7171)"
      ]
     },
     "execution_count": 18,
     "metadata": {},
     "output_type": "execute_result"
    }
   ],
   "source": [
    "case_leg_adj_m.shape"
   ]
  },
  {
   "cell_type": "code",
   "execution_count": 20,
   "metadata": {
    "collapsed": false
   },
   "outputs": [],
   "source": [
    "case_to_case = case_leg_adj_m.dot(case_leg_adj_m.T)\n",
    "leg_to_leg = case_leg_adj_m.T.dot(case_leg_adj_m)"
   ]
  },
  {
   "cell_type": "code",
   "execution_count": 32,
   "metadata": {
    "collapsed": false
   },
   "outputs": [],
   "source": [
    "case_to_case = case_to_case.asformat('coo')"
   ]
  },
  {
   "cell_type": "code",
   "execution_count": 34,
   "metadata": {
    "collapsed": true
   },
   "outputs": [],
   "source": [
    "leg_to_leg = leg_to_leg.tocoo()"
   ]
  },
  {
   "cell_type": "code",
   "execution_count": 77,
   "metadata": {
    "collapsed": true
   },
   "outputs": [],
   "source": [
    "leg_to_leg = scipy.sparse.triu(leg_to_leg, 1)\n",
    "\n",
    "case_to_case = scipy.sparse.triu(case_to_case, 1)"
   ]
  },
  {
   "cell_type": "code",
   "execution_count": 79,
   "metadata": {
    "collapsed": false
   },
   "outputs": [
    {
     "data": {
      "text/plain": [
       "(<25446x25446 sparse matrix of type '<class 'numpy.int64'>'\n",
       " \twith 86460934 stored elements in COOrdinate format>,\n",
       " <7171x7171 sparse matrix of type '<class 'numpy.int64'>'\n",
       " \twith 70999 stored elements in COOrdinate format>)"
      ]
     },
     "execution_count": 79,
     "metadata": {},
     "output_type": "execute_result"
    }
   ],
   "source": [
    "case_to_case, leg_to_leg"
   ]
  },
  {
   "cell_type": "code",
   "execution_count": 80,
   "metadata": {
    "collapsed": false
   },
   "outputs": [],
   "source": [
    "leg_labels = pd.Series(case_leg_adj_df.columns.get_level_values(1)).as_matrix()\n",
    "sources = leg_labels[leg_to_leg.row]\n",
    "targets = leg_labels[leg_to_leg.col]\n",
    "values = leg_to_leg.data"
   ]
  },
  {
   "cell_type": "code",
   "execution_count": 81,
   "metadata": {
    "collapsed": false
   },
   "outputs": [
    {
     "data": {
      "text/plain": [
       "(70999, 70999, 70999)"
      ]
     },
     "execution_count": 81,
     "metadata": {},
     "output_type": "execute_result"
    }
   ],
   "source": [
    "len(sources), len(targets), len(values)"
   ]
  },
  {
   "cell_type": "code",
   "execution_count": 82,
   "metadata": {
    "collapsed": false
   },
   "outputs": [
    {
     "data": {
      "text/html": [
       "<div>\n",
       "<style>\n",
       "    .dataframe thead tr:only-child th {\n",
       "        text-align: right;\n",
       "    }\n",
       "\n",
       "    .dataframe thead th {\n",
       "        text-align: left;\n",
       "    }\n",
       "\n",
       "    .dataframe tbody tr th {\n",
       "        vertical-align: top;\n",
       "    }\n",
       "</style>\n",
       "<table border=\"1\" class=\"dataframe\">\n",
       "  <thead>\n",
       "    <tr style=\"text-align: right;\">\n",
       "      <th></th>\n",
       "      <th>cnt</th>\n",
       "      <th>source</th>\n",
       "      <th>target</th>\n",
       "    </tr>\n",
       "  </thead>\n",
       "  <tbody>\n",
       "    <tr>\n",
       "      <th>0</th>\n",
       "      <td>1</td>\n",
       "      <td>Aanbestedingswet 2012</td>\n",
       "      <td>Aanbestedingswet 2012, Artikel 4.30</td>\n",
       "    </tr>\n",
       "    <tr>\n",
       "      <th>1</th>\n",
       "      <td>1</td>\n",
       "      <td>Aanbestedingswet 2012</td>\n",
       "      <td>Aanbestedingswet 2012, Artikel 1.4</td>\n",
       "    </tr>\n",
       "    <tr>\n",
       "      <th>2</th>\n",
       "      <td>1</td>\n",
       "      <td>Aanbestedingswet 2012</td>\n",
       "      <td>Wet implementatie rechtsbeschermingsrichtlijne...</td>\n",
       "    </tr>\n",
       "    <tr>\n",
       "      <th>3</th>\n",
       "      <td>1</td>\n",
       "      <td>Aanbestedingswet 2012</td>\n",
       "      <td>Wet implementatie rechtsbeschermingsrichtlijne...</td>\n",
       "    </tr>\n",
       "    <tr>\n",
       "      <th>4</th>\n",
       "      <td>1</td>\n",
       "      <td>Aanbestedingswet 2012</td>\n",
       "      <td>Wet implementatie rechtsbeschermingsrichtlijne...</td>\n",
       "    </tr>\n",
       "  </tbody>\n",
       "</table>\n",
       "</div>"
      ],
      "text/plain": [
       "   cnt                 source  \\\n",
       "0    1  Aanbestedingswet 2012   \n",
       "1    1  Aanbestedingswet 2012   \n",
       "2    1  Aanbestedingswet 2012   \n",
       "3    1  Aanbestedingswet 2012   \n",
       "4    1  Aanbestedingswet 2012   \n",
       "\n",
       "                                              target  \n",
       "0                Aanbestedingswet 2012, Artikel 4.30  \n",
       "1                 Aanbestedingswet 2012, Artikel 1.4  \n",
       "2  Wet implementatie rechtsbeschermingsrichtlijne...  \n",
       "3  Wet implementatie rechtsbeschermingsrichtlijne...  \n",
       "4  Wet implementatie rechtsbeschermingsrichtlijne...  "
      ]
     },
     "execution_count": 82,
     "metadata": {},
     "output_type": "execute_result"
    }
   ],
   "source": [
    "leg_to_leg_df = pd.DataFrame(data={'source': sources, 'target': targets, 'cnt': values}) # columns=['source', 'target', 'cnt'])\n",
    "leg_to_leg_df.head()"
   ]
  },
  {
   "cell_type": "code",
   "execution_count": 84,
   "metadata": {
    "collapsed": true
   },
   "outputs": [],
   "source": [
    "leg_to_leg_df.to_csv(os.path.join(inputpath, '2018-01-03 leg_to_leg_titles.csv'), index=False)"
   ]
  },
  {
   "cell_type": "code",
   "execution_count": 85,
   "metadata": {
    "collapsed": true
   },
   "outputs": [],
   "source": [
    "leg_to_leg_df_min10 = leg_to_leg_df[leg_to_leg_df['cnt']>=10]\n",
    "leg_to_leg_df_min10.to_csv(os.path.join(inputpath, '2018-01-03 leg_to_leg_titles_min10.tsv'), index=False, sep='\\t')"
   ]
  },
  {
   "cell_type": "code",
   "execution_count": null,
   "metadata": {
    "collapsed": true
   },
   "outputs": [],
   "source": [
    "case_to_case_min2 "
   ]
  },
  {
   "cell_type": "code",
   "execution_count": 86,
   "metadata": {
    "collapsed": true
   },
   "outputs": [],
   "source": [
    "case_labels = pd.Series(case_leg_adj_df.index).as_matrix()\n",
    "sources = case_labels[case_to_case.row]\n",
    "targets = case_labels[case_to_case.col]\n",
    "values = case_to_case.data"
   ]
  },
  {
   "cell_type": "code",
   "execution_count": 88,
   "metadata": {
    "collapsed": false
   },
   "outputs": [
    {
     "ename": "MemoryError",
     "evalue": "",
     "output_type": "error",
     "traceback": [
      "\u001b[0;31m---------------------------------------------------------------------------\u001b[0m",
      "\u001b[0;31mMemoryError\u001b[0m                               Traceback (most recent call last)",
      "\u001b[0;32m<ipython-input-88-32b8b5c8055d>\u001b[0m in \u001b[0;36m<module>\u001b[0;34m()\u001b[0m\n\u001b[0;32m----> 1\u001b[0;31m \u001b[0mcase_to_case_df\u001b[0m \u001b[0;34m=\u001b[0m \u001b[0mpd\u001b[0m\u001b[0;34m.\u001b[0m\u001b[0mDataFrame\u001b[0m\u001b[0;34m(\u001b[0m\u001b[0;34m[\u001b[0m\u001b[0msources\u001b[0m\u001b[0;34m,\u001b[0m \u001b[0mtargets\u001b[0m\u001b[0;34m,\u001b[0m \u001b[0mvalues\u001b[0m\u001b[0;34m]\u001b[0m\u001b[0;34m,\u001b[0m \u001b[0mcolumns\u001b[0m\u001b[0;34m=\u001b[0m\u001b[0;34m[\u001b[0m\u001b[0;34m'source'\u001b[0m\u001b[0;34m,\u001b[0m \u001b[0;34m'target'\u001b[0m\u001b[0;34m,\u001b[0m \u001b[0;34m'cnt'\u001b[0m\u001b[0;34m]\u001b[0m\u001b[0;34m)\u001b[0m\u001b[0;34m\u001b[0m\u001b[0m\n\u001b[0m\u001b[1;32m      2\u001b[0m \u001b[0mcase_to_case_df\u001b[0m\u001b[0;34m.\u001b[0m\u001b[0mhead\u001b[0m\u001b[0;34m(\u001b[0m\u001b[0;34m)\u001b[0m\u001b[0;34m\u001b[0m\u001b[0m\n",
      "\u001b[0;32m/home/dafne/anaconda2/envs/caselaw/lib/python3.5/site-packages/pandas/core/frame.py\u001b[0m in \u001b[0;36m__init__\u001b[0;34m(self, data, index, columns, dtype, copy)\u001b[0m\n\u001b[1;32m    312\u001b[0m                     \u001b[0;32mif\u001b[0m \u001b[0mis_named_tuple\u001b[0m\u001b[0;34m(\u001b[0m\u001b[0mdata\u001b[0m\u001b[0;34m[\u001b[0m\u001b[0;36m0\u001b[0m\u001b[0;34m]\u001b[0m\u001b[0;34m)\u001b[0m \u001b[0;32mand\u001b[0m \u001b[0mcolumns\u001b[0m \u001b[0;32mis\u001b[0m \u001b[0;32mNone\u001b[0m\u001b[0;34m:\u001b[0m\u001b[0;34m\u001b[0m\u001b[0m\n\u001b[1;32m    313\u001b[0m                         \u001b[0mcolumns\u001b[0m \u001b[0;34m=\u001b[0m \u001b[0mdata\u001b[0m\u001b[0;34m[\u001b[0m\u001b[0;36m0\u001b[0m\u001b[0;34m]\u001b[0m\u001b[0;34m.\u001b[0m\u001b[0m_fields\u001b[0m\u001b[0;34m\u001b[0m\u001b[0m\n\u001b[0;32m--> 314\u001b[0;31m                     \u001b[0marrays\u001b[0m\u001b[0;34m,\u001b[0m \u001b[0mcolumns\u001b[0m \u001b[0;34m=\u001b[0m \u001b[0m_to_arrays\u001b[0m\u001b[0;34m(\u001b[0m\u001b[0mdata\u001b[0m\u001b[0;34m,\u001b[0m \u001b[0mcolumns\u001b[0m\u001b[0;34m,\u001b[0m \u001b[0mdtype\u001b[0m\u001b[0;34m=\u001b[0m\u001b[0mdtype\u001b[0m\u001b[0;34m)\u001b[0m\u001b[0;34m\u001b[0m\u001b[0m\n\u001b[0m\u001b[1;32m    315\u001b[0m                     \u001b[0mcolumns\u001b[0m \u001b[0;34m=\u001b[0m \u001b[0m_ensure_index\u001b[0m\u001b[0;34m(\u001b[0m\u001b[0mcolumns\u001b[0m\u001b[0;34m)\u001b[0m\u001b[0;34m\u001b[0m\u001b[0m\n\u001b[1;32m    316\u001b[0m \u001b[0;34m\u001b[0m\u001b[0m\n",
      "\u001b[0;32m/home/dafne/anaconda2/envs/caselaw/lib/python3.5/site-packages/pandas/core/frame.py\u001b[0m in \u001b[0;36m_to_arrays\u001b[0;34m(data, columns, coerce_float, dtype)\u001b[0m\n\u001b[1;32m   5635\u001b[0m     \u001b[0;32melse\u001b[0m\u001b[0;34m:\u001b[0m\u001b[0;34m\u001b[0m\u001b[0m\n\u001b[1;32m   5636\u001b[0m         \u001b[0;31m# last ditch effort\u001b[0m\u001b[0;34m\u001b[0m\u001b[0;34m\u001b[0m\u001b[0m\n\u001b[0;32m-> 5637\u001b[0;31m         \u001b[0mdata\u001b[0m \u001b[0;34m=\u001b[0m \u001b[0mlmap\u001b[0m\u001b[0;34m(\u001b[0m\u001b[0mtuple\u001b[0m\u001b[0;34m,\u001b[0m \u001b[0mdata\u001b[0m\u001b[0;34m)\u001b[0m\u001b[0;34m\u001b[0m\u001b[0m\n\u001b[0m\u001b[1;32m   5638\u001b[0m         return _list_to_arrays(data, columns, coerce_float=coerce_float,\n\u001b[1;32m   5639\u001b[0m                                dtype=dtype)\n",
      "\u001b[0;32m/home/dafne/anaconda2/envs/caselaw/lib/python3.5/site-packages/pandas/compat/__init__.py\u001b[0m in \u001b[0;36mlmap\u001b[0;34m(*args, **kwargs)\u001b[0m\n\u001b[1;32m    122\u001b[0m \u001b[0;34m\u001b[0m\u001b[0m\n\u001b[1;32m    123\u001b[0m     \u001b[0;32mdef\u001b[0m \u001b[0mlmap\u001b[0m\u001b[0;34m(\u001b[0m\u001b[0;34m*\u001b[0m\u001b[0margs\u001b[0m\u001b[0;34m,\u001b[0m \u001b[0;34m**\u001b[0m\u001b[0mkwargs\u001b[0m\u001b[0;34m)\u001b[0m\u001b[0;34m:\u001b[0m\u001b[0;34m\u001b[0m\u001b[0m\n\u001b[0;32m--> 124\u001b[0;31m         \u001b[0;32mreturn\u001b[0m \u001b[0mlist\u001b[0m\u001b[0;34m(\u001b[0m\u001b[0mmap\u001b[0m\u001b[0;34m(\u001b[0m\u001b[0;34m*\u001b[0m\u001b[0margs\u001b[0m\u001b[0;34m,\u001b[0m \u001b[0;34m**\u001b[0m\u001b[0mkwargs\u001b[0m\u001b[0;34m)\u001b[0m\u001b[0;34m)\u001b[0m\u001b[0;34m\u001b[0m\u001b[0m\n\u001b[0m\u001b[1;32m    125\u001b[0m \u001b[0;34m\u001b[0m\u001b[0m\n\u001b[1;32m    126\u001b[0m     \u001b[0;32mdef\u001b[0m \u001b[0mlfilter\u001b[0m\u001b[0;34m(\u001b[0m\u001b[0;34m*\u001b[0m\u001b[0margs\u001b[0m\u001b[0;34m,\u001b[0m \u001b[0;34m**\u001b[0m\u001b[0mkwargs\u001b[0m\u001b[0;34m)\u001b[0m\u001b[0;34m:\u001b[0m\u001b[0;34m\u001b[0m\u001b[0m\n",
      "\u001b[0;31mMemoryError\u001b[0m: "
     ]
    }
   ],
   "source": [
    "# TODO: this is a very dense network\n",
    "case_to_case_df = pd.DataFrame([sources, targets, values], columns=['source', 'target', 'cnt'])\n",
    "case_to_case_df.head()"
   ]
  },
  {
   "cell_type": "markdown",
   "metadata": {},
   "source": [
    "## Create subnetwork"
   ]
  },
  {
   "cell_type": "code",
   "execution_count": 3,
   "metadata": {
    "collapsed": true
   },
   "outputs": [],
   "source": [
    "def create_subnetwork(articles, legislation, nodes_in, links_in):\n",
    "    case_ids = legislation[legislation['title'].isin(articles)]['source'].unique()\n",
    "    nodes_sub = nodes_in[nodes_in['id'].isin(case_ids)]\n",
    "    links_sub = links_in[links_in['source'].isin(case_ids)]\n",
    "    links_sub = links_sub[links_sub['target'].isin(case_ids)]\n",
    "    return nodes_sub, links_sub"
   ]
  },
  {
   "cell_type": "code",
   "execution_count": 4,
   "metadata": {
    "collapsed": false
   },
   "outputs": [
    {
     "ename": "NameError",
     "evalue": "name 'legislation' is not defined",
     "output_type": "error",
     "traceback": [
      "\u001b[0;31m---------------------------------------------------------------------------\u001b[0m",
      "\u001b[0;31mNameError\u001b[0m                                 Traceback (most recent call last)",
      "\u001b[0;32m<ipython-input-4-b52f04978a78>\u001b[0m in \u001b[0;36m<module>\u001b[0;34m()\u001b[0m\n\u001b[1;32m      1\u001b[0m nodes_wga, links_wga = create_subnetwork(\n\u001b[1;32m      2\u001b[0m     \u001b[0;34m[\u001b[0m\u001b[0;34m\"Burgerlijk Wetboek Boek 7, Artikel 658\"\u001b[0m\u001b[0;34m,\u001b[0m \u001b[0;34m\"Burgerlijk Wetboek Boek 7, Artikel 611\"\u001b[0m\u001b[0;34m]\u001b[0m\u001b[0;34m,\u001b[0m\u001b[0;34m\u001b[0m\u001b[0m\n\u001b[0;32m----> 3\u001b[0;31m     legislation, cases, links)\n\u001b[0m\u001b[1;32m      4\u001b[0m \u001b[0mprint\u001b[0m\u001b[0;34m(\u001b[0m\u001b[0mnodes_wga\u001b[0m\u001b[0;34m.\u001b[0m\u001b[0mshape\u001b[0m\u001b[0;34m,\u001b[0m \u001b[0mlinks_wga\u001b[0m\u001b[0;34m.\u001b[0m\u001b[0mshape\u001b[0m\u001b[0;34m)\u001b[0m\u001b[0;34m\u001b[0m\u001b[0m\n",
      "\u001b[0;31mNameError\u001b[0m: name 'legislation' is not defined"
     ]
    }
   ],
   "source": [
    "nodes_wga, links_wga = create_subnetwork(\n",
    "    [\"Burgerlijk Wetboek Boek 7, Artikel 658\", \"Burgerlijk Wetboek Boek 7, Artikel 611\"], \n",
    "    legislation, cases, links)\n",
    "print(nodes_wga.shape, links_wga.shape)"
   ]
  },
  {
   "cell_type": "code",
   "execution_count": null,
   "metadata": {
    "collapsed": true
   },
   "outputs": [],
   "source": []
  }
 ],
 "metadata": {
  "anaconda-cloud": {},
  "kernelspec": {
   "display_name": "Python [conda env:caselaw]",
   "language": "python",
   "name": "conda-env-caselaw-py"
  },
  "language_info": {
   "codemirror_mode": {
    "name": "ipython",
    "version": 3
   },
   "file_extension": ".py",
   "mimetype": "text/x-python",
   "name": "python",
   "nbconvert_exporter": "python",
   "pygments_lexer": "ipython3",
   "version": "3.5.2"
  }
 },
 "nbformat": 4,
 "nbformat_minor": 0
}
