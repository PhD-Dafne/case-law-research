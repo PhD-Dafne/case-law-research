{
 "cells": [
  {
   "cell_type": "code",
   "execution_count": 1,
   "metadata": {},
   "outputs": [
    {
     "name": "stdout",
     "output_type": "stream",
     "text": [
      "[nltk_data] Downloading package punkt to /home/dafne/nltk_data...\n",
      "[nltk_data]   Package punkt is already up-to-date!\n"
     ]
    }
   ],
   "source": [
    "%matplotlib inline\n",
    "import pandas as pd\n",
    "import os\n",
    "import networkx as nx\n",
    "import matplotlib.pyplot as plt\n",
    "import caselawnet"
   ]
  },
  {
   "cell_type": "code",
   "execution_count": 2,
   "metadata": {},
   "outputs": [],
   "source": [
    "filepath = '/media/sf_VBox_Shared/CaseLaw/2018-01-29-lido/derived/'\n",
    "links_sub = pd.read_csv(os.path.join(filepath, 'subnetwork', 'case-to-case-links.csv'))\n",
    "cases_sub = pd.read_csv(os.path.join(filepath, 'subnetwork', 'case-nodes-sub.csv'))\n",
    "links_sub_ext = pd.read_csv(os.path.join(filepath, 'subnetwork', 'case-to-case-links-ext.csv'))\n",
    "cases_sub_ext = pd.read_csv(os.path.join(filepath, 'subnetwork', 'case-nodes-ext.csv'))"
   ]
  },
  {
   "cell_type": "code",
   "execution_count": 36,
   "metadata": {},
   "outputs": [],
   "source": [
    "links_sub_hr = pd.read_csv(os.path.join(filepath, 'subnetwork', 'case-to-case-links-hr.csv'))"
   ]
  },
  {
   "cell_type": "code",
   "execution_count": 12,
   "metadata": {},
   "outputs": [
    {
     "name": "stdout",
     "output_type": "stream",
     "text": [
      "1596 1608\n",
      "2086 2795\n"
     ]
    }
   ],
   "source": [
    "print(len(cases_sub), len(links_sub))\n",
    "print(len(cases_sub_ext), len(links_sub_ext))"
   ]
  },
  {
   "cell_type": "code",
   "execution_count": 7,
   "metadata": {},
   "outputs": [],
   "source": [
    "ecli_links_sub = pd.DataFrame({'source': links_sub.source.map(lambda s: s.split('/')[-1]), 'target': links_sub.target.map(lambda s: s.split('/')[-1])})\n",
    "ecli_links_sub.to_csv('/media/sf_VBox_Shared/CaseLaw/2018-01-29-lido/derived/subnetwork/article/ecli_links.csv', index=False)"
   ]
  },
  {
   "cell_type": "code",
   "execution_count": 8,
   "metadata": {},
   "outputs": [],
   "source": [
    "ecli_links_sub_ext = pd.DataFrame({'source': links_sub_ext.source.map(lambda s: s.split('/')[-1]), 'target': links_sub_ext.target.map(lambda s: s.split('/')[-1])})\n",
    "ecli_links_sub_ext.to_csv('/media/sf_VBox_Shared/CaseLaw/2018-01-29-lido/derived/subnetwork/article/ecli_links_extended.csv', index=False)"
   ]
  },
  {
   "cell_type": "code",
   "execution_count": 37,
   "metadata": {},
   "outputs": [],
   "source": [
    "ecli_links_sub_hr = pd.DataFrame({'source': links_sub_hr.source.map(lambda s: s.split('/')[-1]), 'target': links_sub_hr.target.map(lambda s: s.split('/')[-1])})\n",
    "ecli_links_sub_hr.to_csv('/media/sf_VBox_Shared/CaseLaw/2018-01-29-lido/derived/subnetwork/article/ecli_links_hr.csv', index=False)"
   ]
  },
  {
   "cell_type": "code",
   "execution_count": 34,
   "metadata": {},
   "outputs": [],
   "source": [
    "graph_sub = nx.from_pandas_edgelist(ecli_links_sub)\n",
    "graph_sub_gcc = graph_sub.subgraph(sorted(nx.connected_components(graph_sub), key=len)[-1])"
   ]
  },
  {
   "cell_type": "code",
   "execution_count": 35,
   "metadata": {},
   "outputs": [],
   "source": [
    "ecli_links_sub_gcc = pd.DataFrame([(s, t) for s,t in graph_sub_gcc.edges()], columns=['source', 'target'])\n",
    "ecli_links_sub_gcc.to_csv('/media/sf_VBox_Shared/CaseLaw/2018-01-29-lido/derived/subnetwork/article/ecli_links_gcc.csv', index=False)"
   ]
  },
  {
   "cell_type": "code",
   "execution_count": 32,
   "metadata": {},
   "outputs": [],
   "source": [
    "graph_sub_ext = nx.from_pandas_edgelist(ecli_links_sub_ext)\n",
    "graph_sub_ext_gcc = graph_sub.subgraph(sorted(nx.connected_components(graph_sub_ext), key=len)[-1])"
   ]
  },
  {
   "cell_type": "code",
   "execution_count": 33,
   "metadata": {},
   "outputs": [],
   "source": [
    "ecli_links_sub_ext_gcc = pd.DataFrame([(s, t) for s,t in graph_sub_ext_gcc.edges()], columns=['source', 'target'])\n",
    "ecli_links_sub_ext_gcc.to_csv('/media/sf_VBox_Shared/CaseLaw/2018-01-29-lido/derived/subnetwork/article/ecli_links_ext_gcc.csv', index=False)"
   ]
  },
  {
   "cell_type": "code",
   "execution_count": null,
   "metadata": {},
   "outputs": [],
   "source": []
  }
 ],
 "metadata": {
  "kernelspec": {
   "display_name": "Python [conda env:caselaw]",
   "language": "python",
   "name": "conda-env-caselaw-py"
  },
  "language_info": {
   "codemirror_mode": {
    "name": "ipython",
    "version": 3
   },
   "file_extension": ".py",
   "mimetype": "text/x-python",
   "name": "python",
   "nbconvert_exporter": "python",
   "pygments_lexer": "ipython3",
   "version": "3.5.5"
  }
 },
 "nbformat": 4,
 "nbformat_minor": 2
}
