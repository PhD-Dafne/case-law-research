{
 "cells": [
  {
   "cell_type": "code",
   "execution_count": 45,
   "metadata": {},
   "outputs": [],
   "source": [
    "import caselawnet\n",
    "from caselawnet import echrapi as echr\n",
    "import requests\n",
    "import pandas as pd"
   ]
  },
  {
   "cell_type": "markdown",
   "metadata": {},
   "source": [
    "We want to fetch `https://hudoc.echr.coe.int/eng#{%22languageisocode%22:[%22ENG%22,%22FRE%22],%22kpthesaurus%22:[%22210%22],%22documentcollectionid2%22:[%22JUDGMENTS%22,%22DECISIONS%22]}`"
   ]
  },
  {
   "cell_type": "code",
   "execution_count": 46,
   "metadata": {},
   "outputs": [
    {
     "name": "stdout",
     "output_type": "stream",
     "text": [
      "https://hudoc.echr.coe.int/app/query/results?sort=&start=0&length=1000&query=((kpthesaurus=\"210\")) AND ((languageisocode=\"ENG\" OR languageisocode=\"FRE\")) AND ((documentcollectionid=\"JUDGMENTS\" OR documentcollectionid=\"DECISIONS\"))&select=sharepointid,Rank,ECHRRanking,languagenumber,itemid,docname,doctype,application,appno,conclusion,importance,originatingbody,typedescription,kpdate,kpdateAsText,documentcollectionid,documentcollectionid2,languageisocode,extractedappno,isplaceholder,doctypebranch,respondent,ecli,appnoparts,sclappnos,article\n"
     ]
    }
   ],
   "source": [
    "kpthesaurus_keyword = '(Art. 1) Jurisdiction of States'\n",
    "url = echr.buildKeywordUrl(kpthesaurus_keyword)\n",
    "print(url)"
   ]
  },
  {
   "cell_type": "code",
   "execution_count": 47,
   "metadata": {},
   "outputs": [],
   "source": [
    "kptVal = echr.kpthesaurus[kpthesaurus_keyword]\n",
    "# languages = ['ENG', 'FRE']\n",
    "# doc_types = ['JUDGMENTS', 'DECISIONS']\n",
    "\n",
    "# keyword_filter = '((kpthesaurus=\"' + kptVal + '\"))'\n",
    "# language_filter = construct_or_clause(languages, 'languageisocode=\"{}\"')\n",
    "# doc_type_filter = construct_or_clause(doc_types, 'documentcollectionid=\"{}\"')\n",
    "\n",
    "# filters = [keyword_filter, language_filter, doc_type_filter]\n",
    "# query = ' AND '.join(filters)\n",
    "# print(query)\n",
    "\n",
    "# query_url = hudoc_base + '/app/query/results?sort=&start=0&length=1000&query=' + query + selectColumns\n",
    "# print(query_url)"
   ]
  },
  {
   "cell_type": "code",
   "execution_count": 48,
   "metadata": {},
   "outputs": [],
   "source": [
    "nodes = echr.getDataForUrl(url)"
   ]
  },
  {
   "cell_type": "code",
   "execution_count": 49,
   "metadata": {},
   "outputs": [
    {
     "name": "stdout",
     "output_type": "stream",
     "text": [
      "Initial results:  141\n"
     ]
    }
   ],
   "source": [
    "print('Initial results: ', len(nodes))"
   ]
  },
  {
   "cell_type": "code",
   "execution_count": 50,
   "metadata": {},
   "outputs": [
    {
     "data": {
      "text/plain": [
       "{'abstract': 'Admissible',\n",
       " 'appno': '18360/91',\n",
       " 'articles': ['P1-1', 'P1-1-1', '1'],\n",
       " 'creator': 'ADMISSIBILITY',\n",
       " 'date': '1999-15-6',\n",
       " 'ecli': 'ECLI:CE:ECHR:1999:0615DEC001836091',\n",
       " 'id': 'https://hudoc.echr.coe.int/eng#{\"appno\":[\"18360/91\"]}',\n",
       " 'language': 'ENG',\n",
       " 'refersTo': ['15299/89',\n",
       "  '6780/74',\n",
       "  '6950/75',\n",
       "  '15318/89',\n",
       "  '8007/77',\n",
       "  '15300/89',\n",
       "  '18360/91'],\n",
       " 'subject': 'P1-1;P1-1-1;1',\n",
       " 'title': 'ANDREOU v. TURKEY',\n",
       " 'year': 1999}"
      ]
     },
     "execution_count": 50,
     "metadata": {},
     "output_type": "execute_result"
    }
   ],
   "source": [
    "nodes[0]"
   ]
  },
  {
   "cell_type": "code",
   "execution_count": 56,
   "metadata": {},
   "outputs": [],
   "source": [
    "# Appno's appear multiple time, mostly because of 2 languages (FR and EN) but sometimes because of different type (decision/judgement)\n",
    "# Select one node per appno (preferably the english one) and merge the references\n",
    "id_col = 'appno'\n",
    "node_dict = {}\n",
    "for node in nodes:\n",
    "    id0 = node[id_col]\n",
    "    if id0 not in node_dict:\n",
    "        node_dict[id0] = node\n",
    "    else:\n",
    "        references = list(set(node_dict[id0]['refersTo'] + node['refersTo']))\n",
    "        if node['language']=='ENG':\n",
    "            node_dict[id0] = node\n",
    "        node_dict[id0]['refersTo'] = references"
   ]
  },
  {
   "cell_type": "code",
   "execution_count": 57,
   "metadata": {},
   "outputs": [
    {
     "data": {
      "text/plain": [
       "79"
      ]
     },
     "execution_count": 57,
     "metadata": {},
     "output_type": "execute_result"
    }
   ],
   "source": [
    "len(node_dict)"
   ]
  },
  {
   "cell_type": "code",
   "execution_count": 58,
   "metadata": {},
   "outputs": [
    {
     "name": "stdout",
     "output_type": "stream",
     "text": [
      "Total number of cases considered:  79\n"
     ]
    }
   ],
   "source": [
    "nodesAll = node_dict.values()\n",
    "nodesAll = list(nodesAll) \n",
    "print('Total number of cases considered: ', len(nodesAll))"
   ]
  },
  {
   "cell_type": "code",
   "execution_count": 59,
   "metadata": {},
   "outputs": [
    {
     "name": "stdout",
     "output_type": "stream",
     "text": [
      "In total, out cases contain a total number of citations:  2009\n"
     ]
    }
   ],
   "source": [
    "links = []\n",
    "for node in nodesAll:\n",
    "    appno = node['appno']\n",
    "    refers = node['refersTo']\n",
    "    for refAppNo in refers:\n",
    "        if refAppNo != appno:\n",
    "            links.append((appno, refAppNo))\n",
    "links = list(set(links))\n",
    "print('In total, out cases contain a total number of citations: ', len(links))"
   ]
  },
  {
   "cell_type": "code",
   "execution_count": 60,
   "metadata": {},
   "outputs": [
    {
     "name": "stdout",
     "output_type": "stream",
     "text": [
      "But we are only interested in the citations inside our set of cases:  276\n"
     ]
    }
   ],
   "source": [
    "appnos = [ node['appno'] for node in node_dict.values() ]\n",
    "\n",
    "filtered_links = []\n",
    "for source_appno, target_appno in links:\n",
    "    if (source_appno in appnos) and (target_appno in appnos):\n",
    "        source_id = node_dict[source_appno]['id']\n",
    "        target_id = node_dict[target_appno]['id']\n",
    "        filtered_links.append((source_id, target_id))\n",
    "print('But we are only interested in the citations inside our set of cases: ', len(filtered_links))"
   ]
  },
  {
   "cell_type": "code",
   "execution_count": 61,
   "metadata": {},
   "outputs": [
    {
     "data": {
      "text/plain": [
       "(276, 276)"
      ]
     },
     "execution_count": 61,
     "metadata": {},
     "output_type": "execute_result"
    }
   ],
   "source": [
    "len(filtered_links), len(set(filtered_links))"
   ]
  },
  {
   "cell_type": "code",
   "execution_count": 62,
   "metadata": {},
   "outputs": [],
   "source": [
    "def buildEdge(source, target):\n",
    "    id = source + '_' + target\n",
    "    return {\n",
    "      \"source\": source,\n",
    "      \"target\": target,\n",
    "      \"id\": id\n",
    "    }\n",
    "\n",
    "edges = [ buildEdge(source, target) for source, target in list(set(filtered_links)) ]\n",
    "nodesAllEnriched = caselawnet.network_analysis.add_network_statistics(nodesAll, edges)\n",
    "\n",
    "network = {\n",
    "    'title': kpthesaurus_keyword,\n",
    "    'nodes': nodesAllEnriched,\n",
    "    'edges': edges\n",
    "}"
   ]
  },
  {
   "cell_type": "code",
   "execution_count": 63,
   "metadata": {},
   "outputs": [],
   "source": [
    "import json\n",
    "import os\n",
    "#fnout = 'jurisdiction.json'\n",
    "\n",
    "fpath = '/media/sf_VBox_Shared/CaseLaw/european/ECtHR/'\n",
    "fnout = os.path.join(fpath, '2018-10-24-jurisdiction.json')\n",
    "with open(fnout, 'w') as fout:\n",
    "    net_str = json.dumps(network)\n",
    "    fout.write(net_str)"
   ]
  },
  {
   "cell_type": "code",
   "execution_count": 64,
   "metadata": {},
   "outputs": [],
   "source": [
    "pd.DataFrame(nodesAllEnriched).to_csv(os.path.join(fpath, '2018-10-24-jurisdiction-nodes.csv'), index=False)\n",
    "pd.DataFrame(edges).to_csv(os.path.join(fpath, '2018-10-24-jurisdiction-edges.csv'), index=False)"
   ]
  },
  {
   "cell_type": "markdown",
   "metadata": {},
   "source": [
    "## inspect HUDOC output"
   ]
  },
  {
   "cell_type": "code",
   "execution_count": 15,
   "metadata": {},
   "outputs": [],
   "source": [
    "import requests\n",
    "import json\n",
    "\n",
    "resp = requests.get(url)\n",
    "data = json.loads(resp.text)\n",
    "nodes = [ hit['columns'] for hit in data['results'] ]"
   ]
  },
  {
   "cell_type": "code",
   "execution_count": 16,
   "metadata": {},
   "outputs": [
    {
     "data": {
      "text/html": [
       "<div>\n",
       "<style>\n",
       "    .dataframe thead tr:only-child th {\n",
       "        text-align: right;\n",
       "    }\n",
       "\n",
       "    .dataframe thead th {\n",
       "        text-align: left;\n",
       "    }\n",
       "\n",
       "    .dataframe tbody tr th {\n",
       "        vertical-align: top;\n",
       "    }\n",
       "</style>\n",
       "<table border=\"1\" class=\"dataframe\">\n",
       "  <thead>\n",
       "    <tr style=\"text-align: right;\">\n",
       "      <th></th>\n",
       "      <th>ECHRRanking</th>\n",
       "      <th>Rank</th>\n",
       "      <th>application</th>\n",
       "      <th>appno</th>\n",
       "      <th>appnoparts</th>\n",
       "      <th>article</th>\n",
       "      <th>conclusion</th>\n",
       "      <th>docname</th>\n",
       "      <th>doctype</th>\n",
       "      <th>doctypebranch</th>\n",
       "      <th>...</th>\n",
       "      <th>itemid</th>\n",
       "      <th>kpdate</th>\n",
       "      <th>kpdateAsText</th>\n",
       "      <th>languageisocode</th>\n",
       "      <th>languagenumber</th>\n",
       "      <th>originatingbody</th>\n",
       "      <th>respondent</th>\n",
       "      <th>sclappnos</th>\n",
       "      <th>sharepointid</th>\n",
       "      <th>typedescription</th>\n",
       "    </tr>\n",
       "  </thead>\n",
       "  <tbody>\n",
       "    <tr>\n",
       "      <th>0</th>\n",
       "      <td>1181</td>\n",
       "      <td>6.48195791244507</td>\n",
       "      <td>MS WORD</td>\n",
       "      <td>18360/91</td>\n",
       "      <td>18360;91</td>\n",
       "      <td>P1-1;P1-1-1;1</td>\n",
       "      <td>Admissible</td>\n",
       "      <td>ANDREOU v. TURKEY</td>\n",
       "      <td>HEDEC</td>\n",
       "      <td>ADMISSIBILITY</td>\n",
       "      <td>...</td>\n",
       "      <td>001-4638</td>\n",
       "      <td>6/15/1999 12:00:00 AM</td>\n",
       "      <td>15/06/1999 00:00:00</td>\n",
       "      <td>ENG</td>\n",
       "      <td>1</td>\n",
       "      <td>4</td>\n",
       "      <td>TUR</td>\n",
       "      <td>15318/89</td>\n",
       "      <td>286683</td>\n",
       "      <td>8</td>\n",
       "    </tr>\n",
       "    <tr>\n",
       "      <th>1</th>\n",
       "      <td>881</td>\n",
       "      <td>6.48195791244507</td>\n",
       "      <td>TEXT</td>\n",
       "      <td>20652/92</td>\n",
       "      <td>20652;92</td>\n",
       "      <td>1;10;11;11-1;13;35;35-1</td>\n",
       "      <td>Partly inadmissible;Partly admissible</td>\n",
       "      <td>DJAVIT AN v. TURKEY</td>\n",
       "      <td>HEDEC</td>\n",
       "      <td>DECCOMMISSION</td>\n",
       "      <td>...</td>\n",
       "      <td>001-4180</td>\n",
       "      <td>4/14/1998 12:00:00 AM</td>\n",
       "      <td>14/04/1998 00:00:00</td>\n",
       "      <td>ENG</td>\n",
       "      <td>1</td>\n",
       "      <td>3</td>\n",
       "      <td>TUR</td>\n",
       "      <td>21893/93;15318/89</td>\n",
       "      <td>286823</td>\n",
       "      <td>8</td>\n",
       "    </tr>\n",
       "    <tr>\n",
       "      <th>2</th>\n",
       "      <td>881</td>\n",
       "      <td>6.48195791244507</td>\n",
       "      <td>TEXT</td>\n",
       "      <td>37650/97</td>\n",
       "      <td>37650;97</td>\n",
       "      <td>1;6;6-1</td>\n",
       "      <td>Inadmissible</td>\n",
       "      <td>MANNERS AND 4 OTHERS v. the United Kingdom</td>\n",
       "      <td>HEDEC</td>\n",
       "      <td>DECCOMMISSION</td>\n",
       "      <td>...</td>\n",
       "      <td>001-4294</td>\n",
       "      <td>5/21/1998 12:00:00 AM</td>\n",
       "      <td>21/05/1998 00:00:00</td>\n",
       "      <td>ENG</td>\n",
       "      <td>1</td>\n",
       "      <td>1</td>\n",
       "      <td>GBR</td>\n",
       "      <td>6878/75;8793/79;9006/80;9310/81;12033/86;17101/90</td>\n",
       "      <td>286940</td>\n",
       "      <td>8</td>\n",
       "    </tr>\n",
       "    <tr>\n",
       "      <th>3</th>\n",
       "      <td>881</td>\n",
       "      <td>6.48195791244507</td>\n",
       "      <td>TEXT</td>\n",
       "      <td>13258/87</td>\n",
       "      <td>13258;87</td>\n",
       "      <td>1;6;6-3-c;35;35-3</td>\n",
       "      <td>Inadmissible</td>\n",
       "      <td>M. &amp; Co. v. the FEDERAL REPUBLIC OF GERMANY</td>\n",
       "      <td>HEDEC</td>\n",
       "      <td>DECCOMMISSION</td>\n",
       "      <td>...</td>\n",
       "      <td>001-863</td>\n",
       "      <td>2/9/1990 12:00:00 AM</td>\n",
       "      <td>09/02/1990 00:00:00</td>\n",
       "      <td>ENG</td>\n",
       "      <td>1</td>\n",
       "      <td>21</td>\n",
       "      <td>DEU</td>\n",
       "      <td>14038/88</td>\n",
       "      <td>287348</td>\n",
       "      <td>8</td>\n",
       "    </tr>\n",
       "    <tr>\n",
       "      <th>4</th>\n",
       "      <td>901</td>\n",
       "      <td>6.48195791244507</td>\n",
       "      <td>TEXT</td>\n",
       "      <td>15299/89;15300/89;15318/89</td>\n",
       "      <td>15299;89;15300;89;15318;89</td>\n",
       "      <td>1;3;5;5-1;6;7;8;9;13;P1-1;35;35-3;57</td>\n",
       "      <td>Partly admissible;Partly inadmissible</td>\n",
       "      <td>CHRYSOSTOMOS, PAPACHRYSOSTOMOU AND LOIZIDOU v....</td>\n",
       "      <td>HEDEC</td>\n",
       "      <td>DECCOMMISSION</td>\n",
       "      <td>...</td>\n",
       "      <td>001-2621</td>\n",
       "      <td>3/4/1991 12:00:00 AM</td>\n",
       "      <td>04/03/1991 00:00:00</td>\n",
       "      <td>ENG</td>\n",
       "      <td>1</td>\n",
       "      <td>3</td>\n",
       "      <td>TUR</td>\n",
       "      <td>1474/62;5310/71;6694/74;10328/83</td>\n",
       "      <td>289843</td>\n",
       "      <td>8</td>\n",
       "    </tr>\n",
       "  </tbody>\n",
       "</table>\n",
       "<p>5 rows × 26 columns</p>\n",
       "</div>"
      ],
      "text/plain": [
       "  ECHRRanking              Rank application                       appno  \\\n",
       "0        1181  6.48195791244507     MS WORD                    18360/91   \n",
       "1         881  6.48195791244507        TEXT                    20652/92   \n",
       "2         881  6.48195791244507        TEXT                    37650/97   \n",
       "3         881  6.48195791244507        TEXT                    13258/87   \n",
       "4         901  6.48195791244507        TEXT  15299/89;15300/89;15318/89   \n",
       "\n",
       "                   appnoparts                               article  \\\n",
       "0                    18360;91                         P1-1;P1-1-1;1   \n",
       "1                    20652;92               1;10;11;11-1;13;35;35-1   \n",
       "2                    37650;97                               1;6;6-1   \n",
       "3                    13258;87                     1;6;6-3-c;35;35-3   \n",
       "4  15299;89;15300;89;15318;89  1;3;5;5-1;6;7;8;9;13;P1-1;35;35-3;57   \n",
       "\n",
       "                              conclusion  \\\n",
       "0                             Admissible   \n",
       "1  Partly inadmissible;Partly admissible   \n",
       "2                           Inadmissible   \n",
       "3                           Inadmissible   \n",
       "4  Partly admissible;Partly inadmissible   \n",
       "\n",
       "                                             docname doctype  doctypebranch  \\\n",
       "0                                  ANDREOU v. TURKEY   HEDEC  ADMISSIBILITY   \n",
       "1                                DJAVIT AN v. TURKEY   HEDEC  DECCOMMISSION   \n",
       "2         MANNERS AND 4 OTHERS v. the United Kingdom   HEDEC  DECCOMMISSION   \n",
       "3        M. & Co. v. the FEDERAL REPUBLIC OF GERMANY   HEDEC  DECCOMMISSION   \n",
       "4  CHRYSOSTOMOS, PAPACHRYSOSTOMOU AND LOIZIDOU v....   HEDEC  DECCOMMISSION   \n",
       "\n",
       "        ...          itemid                 kpdate         kpdateAsText  \\\n",
       "0       ...        001-4638  6/15/1999 12:00:00 AM  15/06/1999 00:00:00   \n",
       "1       ...        001-4180  4/14/1998 12:00:00 AM  14/04/1998 00:00:00   \n",
       "2       ...        001-4294  5/21/1998 12:00:00 AM  21/05/1998 00:00:00   \n",
       "3       ...         001-863   2/9/1990 12:00:00 AM  09/02/1990 00:00:00   \n",
       "4       ...        001-2621   3/4/1991 12:00:00 AM  04/03/1991 00:00:00   \n",
       "\n",
       "  languageisocode languagenumber originatingbody respondent  \\\n",
       "0             ENG              1               4        TUR   \n",
       "1             ENG              1               3        TUR   \n",
       "2             ENG              1               1        GBR   \n",
       "3             ENG              1              21        DEU   \n",
       "4             ENG              1               3        TUR   \n",
       "\n",
       "                                           sclappnos sharepointid  \\\n",
       "0                                           15318/89       286683   \n",
       "1                                  21893/93;15318/89       286823   \n",
       "2  6878/75;8793/79;9006/80;9310/81;12033/86;17101/90       286940   \n",
       "3                                           14038/88       287348   \n",
       "4                   1474/62;5310/71;6694/74;10328/83       289843   \n",
       "\n",
       "  typedescription  \n",
       "0               8  \n",
       "1               8  \n",
       "2               8  \n",
       "3               8  \n",
       "4               8  \n",
       "\n",
       "[5 rows x 26 columns]"
      ]
     },
     "execution_count": 16,
     "metadata": {},
     "output_type": "execute_result"
    }
   ],
   "source": [
    "nodes_df = pd.DataFrame(nodes)\n",
    "nodes_df.head()"
   ]
  },
  {
   "cell_type": "code",
   "execution_count": 17,
   "metadata": {},
   "outputs": [
    {
     "data": {
      "text/plain": [
       "DECCOMMISSION      39\n",
       "CHAMBER            36\n",
       "GRANDCHAMBER       30\n",
       "ADMISSIBILITY      30\n",
       "DECGRANDCHAMBER     6\n",
       "Name: doctypebranch, dtype: int64"
      ]
     },
     "execution_count": 17,
     "metadata": {},
     "output_type": "execute_result"
    }
   ],
   "source": [
    "nodes_df.doctypebranch.value_counts()"
   ]
  },
  {
   "cell_type": "code",
   "execution_count": 18,
   "metadata": {},
   "outputs": [
    {
     "name": "stdout",
     "output_type": "stream",
     "text": [
      "ECHRRanking 31\n",
      "Rank 2\n",
      "application 4\n",
      "appno 80\n",
      "appnoparts 80\n",
      "article 78\n",
      "conclusion 84\n",
      "docname 138\n",
      "doctype 4\n",
      "doctypebranch 5\n",
      "documentcollectionid 10\n",
      "documentcollectionid2 10\n",
      "ecli 83\n",
      "extractedappno 94\n",
      "importance 4\n",
      "isplaceholder 2\n",
      "itemid 141\n",
      "kpdate 74\n",
      "kpdateAsText 74\n",
      "languageisocode 2\n",
      "languagenumber 2\n",
      "originatingbody 10\n",
      "respondent 32\n",
      "sclappnos 76\n",
      "sharepointid 141\n",
      "typedescription 5\n"
     ]
    }
   ],
   "source": [
    "for c in nodes_df.columns:\n",
    "    print(c, nodes_df[c].astype(str).nunique())"
   ]
  },
  {
   "cell_type": "code",
   "execution_count": 19,
   "metadata": {},
   "outputs": [
    {
     "data": {
      "text/plain": [
       "appno     docname                                         \n",
       "6231/73   HESS v. the UNITED KINGDOM                          2\n",
       "          HESS c. ROYAUME-UNI                                 2\n",
       "18360/91  ANDREOU v. TURKEY                                   1\n",
       "25781/94  CYPRUS v. TURKEY                                    1\n",
       "          CHYPRE c. TURQUIE                                   1\n",
       "24833/94  CASE OF MATTHEWS v. THE UNITED KINGDOM              1\n",
       "          AFFAIRE MATTHEWS c. ROYAUME-UNI                     1\n",
       "23687/05  CASE OF IVANŢOC AND OTHERS v. MOLDOVA AND RUSSIA    1\n",
       "          AFFAIRE IVANŢOC ET AUTRES c. MOLDOVA ET RUSSIE      1\n",
       "9360/81   W. v. IRELAND                                       1\n",
       "Name: Rank, dtype: int64"
      ]
     },
     "execution_count": 19,
     "metadata": {},
     "output_type": "execute_result"
    }
   ],
   "source": [
    "nodes_df.groupby(['appno', 'docname']).agg(len)['Rank'].sort_values(ascending=False)[:10]"
   ]
  },
  {
   "cell_type": "code",
   "execution_count": 20,
   "metadata": {},
   "outputs": [
    {
     "data": {
      "text/plain": [
       "appno     docname                                         \n",
       "6231/73   HESS v. the UNITED KINGDOM                          2\n",
       "          HESS c. ROYAUME-UNI                                 2\n",
       "18360/91  ANDREOU v. TURKEY                                   1\n",
       "25781/94  CYPRUS v. TURKEY                                    1\n",
       "          CHYPRE c. TURQUIE                                   1\n",
       "24833/94  CASE OF MATTHEWS v. THE UNITED KINGDOM              1\n",
       "          AFFAIRE MATTHEWS c. ROYAUME-UNI                     1\n",
       "23687/05  CASE OF IVANŢOC AND OTHERS v. MOLDOVA AND RUSSIA    1\n",
       "          AFFAIRE IVANŢOC ET AUTRES c. MOLDOVA ET RUSSIE      1\n",
       "9360/81   W. v. IRELAND                                       1\n",
       "Name: Rank, dtype: int64"
      ]
     },
     "execution_count": 20,
     "metadata": {},
     "output_type": "execute_result"
    }
   ],
   "source": [
    "nodes_df.groupby(['appno', 'docname']).agg(len)['Rank'].sort_values(ascending=False)[:10]"
   ]
  },
  {
   "cell_type": "code",
   "execution_count": 55,
   "metadata": {},
   "outputs": [
    {
     "data": {
      "text/plain": [
       "appno     doctypebranch  languageisocode\n",
       "15318/89  GRANDCHAMBER   ENG                2\n",
       "                         FRE                2\n",
       "6231/73   DECCOMMISSION  ENG                2\n",
       "                         FRE                2\n",
       "22302/10  CHAMBER        FRE                1\n",
       "22617/07  ADMISSIBILITY  ENG                1\n",
       "23276/04  ADMISSIBILITY  ENG                1\n",
       "23687/05  CHAMBER        ENG                1\n",
       "22302/10  CHAMBER        ENG                1\n",
       "20652/92  DECCOMMISSION  ENG                1\n",
       "Name: Rank, dtype: int64"
      ]
     },
     "execution_count": 55,
     "metadata": {},
     "output_type": "execute_result"
    }
   ],
   "source": [
    "nodes_df.groupby(['appno', 'doctypebranch', 'languageisocode']).agg(len)['Rank'].sort_values(ascending=False)[:10]"
   ]
  },
  {
   "cell_type": "code",
   "execution_count": 41,
   "metadata": {},
   "outputs": [
    {
     "data": {
      "text/plain": [
       "ecli                                languageisocode\n",
       "ECLI:CE:ECHR:1975:0528DEC000623173  ENG                2\n",
       "                                    FRE                2\n",
       "ECLI:CE:ECHR:2018:0717JUD002103405  FRE                1\n",
       "ECLI:CE:ECHR:1999:0615DEC001836091  ENG                1\n",
       "ECLI:CE:ECHR:2001:0704DEC004878799  FRE                1\n",
       "                                    ENG                1\n",
       "ECLI:CE:ECHR:2000:0208DEC003521497  ENG                1\n",
       "ECLI:CE:ECHR:2000:0201DEC004135598  ENG                1\n",
       "ECLI:CE:ECHR:1999:1125DEC005088799  FRE                1\n",
       "                                    ENG                1\n",
       "Name: Rank, dtype: int64"
      ]
     },
     "execution_count": 41,
     "metadata": {},
     "output_type": "execute_result"
    }
   ],
   "source": [
    "nodes_df.groupby(['ecli', 'languageisocode']).agg(len)['Rank'].sort_values(ascending=False)[:10]"
   ]
  },
  {
   "cell_type": "code",
   "execution_count": 65,
   "metadata": {},
   "outputs": [
    {
     "data": {
      "text/plain": [
       "appno\n",
       "20652/92    2\n",
       "45036/98    2\n",
       "48787/99    2\n",
       "9360/81     1\n",
       "27410/95    1\n",
       "22617/07    1\n",
       "23276/04    1\n",
       "23687/05    1\n",
       "24833/94    1\n",
       "25781/94    1\n",
       "Name: doctypebranch, dtype: int64"
      ]
     },
     "execution_count": 65,
     "metadata": {},
     "output_type": "execute_result"
    }
   ],
   "source": [
    "nodes_df.groupby('appno').nunique()['doctypebranch'].sort_values(ascending=False)[:10]"
   ]
  },
  {
   "cell_type": "code",
   "execution_count": 34,
   "metadata": {},
   "outputs": [
    {
     "data": {
      "text/plain": [
       "appno     doctypebranch\n",
       "15318/89  GRANDCHAMBER     2\n",
       "9360/81   DECCOMMISSION    1\n",
       "27765/09  GRANDCHAMBER     1\n",
       "22617/07  ADMISSIBILITY    1\n",
       "23276/04  ADMISSIBILITY    1\n",
       "23687/05  CHAMBER          1\n",
       "24833/94  GRANDCHAMBER     1\n",
       "25781/94  DECCOMMISSION    1\n",
       "27021/08  GRANDCHAMBER     1\n",
       "27410/95  DECCOMMISSION    1\n",
       "Name: ecli, dtype: int64"
      ]
     },
     "execution_count": 34,
     "metadata": {},
     "output_type": "execute_result"
    }
   ],
   "source": [
    "nodes_df.groupby(['appno', 'doctypebranch']).nunique()['ecli'].sort_values(ascending=False)[:10]"
   ]
  },
  {
   "cell_type": "code",
   "execution_count": 42,
   "metadata": {},
   "outputs": [
    {
     "data": {
      "text/plain": [
       "ecli\n",
       "ECLI:CE:ECHR:2005:0303DEC006086100    2\n",
       "ECLI:CE:ECHR:1990:0312DEC001613790    2\n",
       "ECLI:CE:ECHR:2002:1212DEC005902100    2\n",
       "ECLI:CE:ECHR:2009:0421JUD001195607    2\n",
       "ECLI:CE:ECHR:1999:1125DEC005088799    2\n",
       "ECLI:CE:ECHR:2012:1019JUD004337004    2\n",
       "ECLI:CE:ECHR:2013:1126JUD000580908    2\n",
       "ECLI:CE:ECHR:2003:0220JUD002065292    2\n",
       "ECLI:CE:ECHR:1983:0228DEC000934881    1\n",
       "ECLI:CE:ECHR:2001:0904DEC003859597    1\n",
       "Name: sclappnos, dtype: int64"
      ]
     },
     "execution_count": 42,
     "metadata": {},
     "output_type": "execute_result"
    }
   ],
   "source": [
    "nodes_df.groupby(['ecli']).nunique()['sclappnos'].sort_values(ascending=False)[:10]"
   ]
  },
  {
   "cell_type": "code",
   "execution_count": 43,
   "metadata": {},
   "outputs": [
    {
     "data": {
      "text/plain": [
       "41    4451/70;7151/75;12747/87;13071/87;13134/87;153...\n",
       "42                                                     \n",
       "Name: sclappnos, dtype: object"
      ]
     },
     "execution_count": 43,
     "metadata": {},
     "output_type": "execute_result"
    }
   ],
   "source": [
    "nodes_df[nodes_df.ecli=='ECLI:CE:ECHR:2005:0303DEC006086100']['sclappnos']"
   ]
  },
  {
   "cell_type": "code",
   "execution_count": 21,
   "metadata": {},
   "outputs": [
    {
     "data": {
      "text/plain": [
       "ecli                                docname                                                       \n",
       "ECLI:CE:ECHR:1975:0528DEC000623173  HESS c. ROYAUME-UNI                                               2\n",
       "                                    HESS v. the UNITED KINGDOM                                        2\n",
       "ECLI:CE:ECHR:2018:0717JUD002103405  CASE OF SANDU AND OTHERS v. THE REPUBLIC OF MOLDOVA AND RUSSIA    1\n",
       "ECLI:CE:ECHR:1999:0615DEC001836091  ANDREOU v. TURKEY                                                 1\n",
       "ECLI:CE:ECHR:2001:0704DEC004878799  ILAŞCU et AUTRES contre MOLDOVA et RUSSIE                         1\n",
       "                                    ILAŞCU and OTHERS v. MOLDOVA and RUSSIA                           1\n",
       "ECLI:CE:ECHR:2000:0208DEC003521497  HAPESHIS AND HAPESHI-MICHAELIDOU v. TURKEY                        1\n",
       "ECLI:CE:ECHR:2000:0201DEC004135598  GAVRIEL v. TURKEY                                                 1\n",
       "ECLI:CE:ECHR:1999:1125DEC005088799  YONGHONG v. PORTUGAL                                              1\n",
       "                                    YONGHONG contre le PORTUGAL                                       1\n",
       "Name: Rank, dtype: int64"
      ]
     },
     "execution_count": 21,
     "metadata": {},
     "output_type": "execute_result"
    }
   ],
   "source": [
    "nodes_df.groupby(['ecli', 'docname']).agg(len)['Rank'].sort_values(ascending=False)[:10]"
   ]
  },
  {
   "cell_type": "code",
   "execution_count": null,
   "metadata": {},
   "outputs": [],
   "source": [
    "nodes_df.groupby(['ecli', 'docname']).agg(len)['Rank'].sort_values(ascending=False)[:10]"
   ]
  },
  {
   "cell_type": "code",
   "execution_count": 22,
   "metadata": {},
   "outputs": [
    {
     "data": {
      "text/plain": [
       "ecli                                docname                                                       \n",
       "ECLI:CE:ECHR:1975:0528DEC000623173  HESS c. ROYAUME-UNI                                               2\n",
       "                                    HESS v. the UNITED KINGDOM                                        2\n",
       "ECLI:CE:ECHR:2018:0717JUD002103405  CASE OF SANDU AND OTHERS v. THE REPUBLIC OF MOLDOVA AND RUSSIA    1\n",
       "ECLI:CE:ECHR:1999:0615DEC001836091  ANDREOU v. TURKEY                                                 1\n",
       "ECLI:CE:ECHR:2001:0704DEC004878799  ILAŞCU et AUTRES contre MOLDOVA et RUSSIE                         1\n",
       "                                    ILAŞCU and OTHERS v. MOLDOVA and RUSSIA                           1\n",
       "ECLI:CE:ECHR:2000:0208DEC003521497  HAPESHIS AND HAPESHI-MICHAELIDOU v. TURKEY                        1\n",
       "ECLI:CE:ECHR:2000:0201DEC004135598  GAVRIEL v. TURKEY                                                 1\n",
       "ECLI:CE:ECHR:1999:1125DEC005088799  YONGHONG v. PORTUGAL                                              1\n",
       "                                    YONGHONG contre le PORTUGAL                                       1\n",
       "Name: Rank, dtype: int64"
      ]
     },
     "execution_count": 22,
     "metadata": {},
     "output_type": "execute_result"
    }
   ],
   "source": [
    "nodes_df.groupby(['ecli', 'docname']).agg(len)['Rank'].sort_values(ascending=False)[:10]"
   ]
  },
  {
   "cell_type": "code",
   "execution_count": 23,
   "metadata": {},
   "outputs": [
    {
     "data": {
      "text/html": [
       "<div>\n",
       "<style>\n",
       "    .dataframe thead tr:only-child th {\n",
       "        text-align: right;\n",
       "    }\n",
       "\n",
       "    .dataframe thead th {\n",
       "        text-align: left;\n",
       "    }\n",
       "\n",
       "    .dataframe tbody tr th {\n",
       "        vertical-align: top;\n",
       "    }\n",
       "</style>\n",
       "<table border=\"1\" class=\"dataframe\">\n",
       "  <thead>\n",
       "    <tr style=\"text-align: right;\">\n",
       "      <th></th>\n",
       "      <th>32</th>\n",
       "      <th>38</th>\n",
       "      <th>39</th>\n",
       "      <th>40</th>\n",
       "    </tr>\n",
       "  </thead>\n",
       "  <tbody>\n",
       "    <tr>\n",
       "      <th>ECHRRanking</th>\n",
       "      <td>881</td>\n",
       "      <td>880</td>\n",
       "      <td>881</td>\n",
       "      <td>880</td>\n",
       "    </tr>\n",
       "    <tr>\n",
       "      <th>Rank</th>\n",
       "      <td>6.48195791244507</td>\n",
       "      <td>6.48195791244507</td>\n",
       "      <td>6.48195791244507</td>\n",
       "      <td>6.48195791244507</td>\n",
       "    </tr>\n",
       "    <tr>\n",
       "      <th>application</th>\n",
       "      <td>ACROBAT</td>\n",
       "      <td>ACROBAT</td>\n",
       "      <td>ACROBAT</td>\n",
       "      <td>ACROBAT</td>\n",
       "    </tr>\n",
       "    <tr>\n",
       "      <th>appno</th>\n",
       "      <td>6231/73</td>\n",
       "      <td>6231/73</td>\n",
       "      <td>6231/73</td>\n",
       "      <td>6231/73</td>\n",
       "    </tr>\n",
       "    <tr>\n",
       "      <th>appnoparts</th>\n",
       "      <td>6231;73</td>\n",
       "      <td>6231;73</td>\n",
       "      <td>6231;73</td>\n",
       "      <td>6231;73</td>\n",
       "    </tr>\n",
       "    <tr>\n",
       "      <th>article</th>\n",
       "      <td>1</td>\n",
       "      <td>1</td>\n",
       "      <td>1</td>\n",
       "      <td>1</td>\n",
       "    </tr>\n",
       "    <tr>\n",
       "      <th>conclusion</th>\n",
       "      <td>Inadmissible</td>\n",
       "      <td>Irrecevable</td>\n",
       "      <td>Inadmissible</td>\n",
       "      <td>Irrecevable</td>\n",
       "    </tr>\n",
       "    <tr>\n",
       "      <th>docname</th>\n",
       "      <td>HESS v. the UNITED KINGDOM</td>\n",
       "      <td>HESS c. ROYAUME-UNI</td>\n",
       "      <td>HESS v. the UNITED KINGDOM</td>\n",
       "      <td>HESS c. ROYAUME-UNI</td>\n",
       "    </tr>\n",
       "    <tr>\n",
       "      <th>doctype</th>\n",
       "      <td>HEDEC</td>\n",
       "      <td>HFDEC</td>\n",
       "      <td>HEDEC</td>\n",
       "      <td>HFDEC</td>\n",
       "    </tr>\n",
       "    <tr>\n",
       "      <th>doctypebranch</th>\n",
       "      <td>DECCOMMISSION</td>\n",
       "      <td>DECCOMMISSION</td>\n",
       "      <td>DECCOMMISSION</td>\n",
       "      <td>DECCOMMISSION</td>\n",
       "    </tr>\n",
       "    <tr>\n",
       "      <th>documentcollectionid</th>\n",
       "      <td>CASELAW;DECISIONS;DECCOMMISSION;ENG</td>\n",
       "      <td>CASELAW;DECISIONS;DECCOMMISSION;FRA;FRE</td>\n",
       "      <td>CASELAW;DECISIONS;DECCOMMISSION;ENG</td>\n",
       "      <td>CASELAW;DECISIONS;DECCOMMISSION;FRA;FRE</td>\n",
       "    </tr>\n",
       "    <tr>\n",
       "      <th>documentcollectionid2</th>\n",
       "      <td>CASELAW;DECISIONS;DECCOMMISSION;ENG</td>\n",
       "      <td>CASELAW;DECISIONS;DECCOMMISSION;FRA;FRE</td>\n",
       "      <td>CASELAW;DECISIONS;DECCOMMISSION;ENG</td>\n",
       "      <td>CASELAW;DECISIONS;DECCOMMISSION;FRA;FRE</td>\n",
       "    </tr>\n",
       "    <tr>\n",
       "      <th>ecli</th>\n",
       "      <td>ECLI:CE:ECHR:1975:0528DEC000623173</td>\n",
       "      <td>ECLI:CE:ECHR:1975:0528DEC000623173</td>\n",
       "      <td>ECLI:CE:ECHR:1975:0528DEC000623173</td>\n",
       "      <td>ECLI:CE:ECHR:1975:0528DEC000623173</td>\n",
       "    </tr>\n",
       "    <tr>\n",
       "      <th>extractedappno</th>\n",
       "      <td>6231/73;1611/62</td>\n",
       "      <td>6231/73;1611/62</td>\n",
       "      <td>6231/73;1611/62</td>\n",
       "      <td>6231/73;1611/62</td>\n",
       "    </tr>\n",
       "    <tr>\n",
       "      <th>importance</th>\n",
       "      <td>4</td>\n",
       "      <td>4</td>\n",
       "      <td>4</td>\n",
       "      <td>4</td>\n",
       "    </tr>\n",
       "    <tr>\n",
       "      <th>isplaceholder</th>\n",
       "      <td>False</td>\n",
       "      <td>False</td>\n",
       "      <td>False</td>\n",
       "      <td>False</td>\n",
       "    </tr>\n",
       "    <tr>\n",
       "      <th>itemid</th>\n",
       "      <td>001-73854</td>\n",
       "      <td>001-75058</td>\n",
       "      <td>001-70003</td>\n",
       "      <td>001-70004</td>\n",
       "    </tr>\n",
       "    <tr>\n",
       "      <th>kpdate</th>\n",
       "      <td>5/28/1975 12:00:00 AM</td>\n",
       "      <td>5/28/1975 12:00:00 AM</td>\n",
       "      <td>5/28/1975 12:00:00 AM</td>\n",
       "      <td>5/28/1975 12:00:00 AM</td>\n",
       "    </tr>\n",
       "    <tr>\n",
       "      <th>kpdateAsText</th>\n",
       "      <td>28/05/1975 00:00:00</td>\n",
       "      <td>28/05/1975 00:00:00</td>\n",
       "      <td>28/05/1975 00:00:00</td>\n",
       "      <td>28/05/1975 00:00:00</td>\n",
       "    </tr>\n",
       "    <tr>\n",
       "      <th>languageisocode</th>\n",
       "      <td>ENG</td>\n",
       "      <td>FRE</td>\n",
       "      <td>ENG</td>\n",
       "      <td>FRE</td>\n",
       "    </tr>\n",
       "    <tr>\n",
       "      <th>languagenumber</th>\n",
       "      <td>1</td>\n",
       "      <td>2</td>\n",
       "      <td>1</td>\n",
       "      <td>2</td>\n",
       "    </tr>\n",
       "    <tr>\n",
       "      <th>originatingbody</th>\n",
       "      <td>3</td>\n",
       "      <td>3</td>\n",
       "      <td>3</td>\n",
       "      <td>3</td>\n",
       "    </tr>\n",
       "    <tr>\n",
       "      <th>respondent</th>\n",
       "      <td>GBR</td>\n",
       "      <td>GBR</td>\n",
       "      <td>GBR</td>\n",
       "      <td>GBR</td>\n",
       "    </tr>\n",
       "    <tr>\n",
       "      <th>sclappnos</th>\n",
       "      <td>1611/62</td>\n",
       "      <td>1611/62</td>\n",
       "      <td>1611/62</td>\n",
       "      <td>1611/62</td>\n",
       "    </tr>\n",
       "    <tr>\n",
       "      <th>sharepointid</th>\n",
       "      <td>327252</td>\n",
       "      <td>328725</td>\n",
       "      <td>328954</td>\n",
       "      <td>328955</td>\n",
       "    </tr>\n",
       "    <tr>\n",
       "      <th>typedescription</th>\n",
       "      <td>8</td>\n",
       "      <td>8</td>\n",
       "      <td>8</td>\n",
       "      <td>8</td>\n",
       "    </tr>\n",
       "  </tbody>\n",
       "</table>\n",
       "</div>"
      ],
      "text/plain": [
       "                                                        32  \\\n",
       "ECHRRanking                                            881   \n",
       "Rank                                      6.48195791244507   \n",
       "application                                        ACROBAT   \n",
       "appno                                              6231/73   \n",
       "appnoparts                                         6231;73   \n",
       "article                                                  1   \n",
       "conclusion                                    Inadmissible   \n",
       "docname                         HESS v. the UNITED KINGDOM   \n",
       "doctype                                              HEDEC   \n",
       "doctypebranch                                DECCOMMISSION   \n",
       "documentcollectionid   CASELAW;DECISIONS;DECCOMMISSION;ENG   \n",
       "documentcollectionid2  CASELAW;DECISIONS;DECCOMMISSION;ENG   \n",
       "ecli                    ECLI:CE:ECHR:1975:0528DEC000623173   \n",
       "extractedappno                             6231/73;1611/62   \n",
       "importance                                               4   \n",
       "isplaceholder                                        False   \n",
       "itemid                                           001-73854   \n",
       "kpdate                               5/28/1975 12:00:00 AM   \n",
       "kpdateAsText                           28/05/1975 00:00:00   \n",
       "languageisocode                                        ENG   \n",
       "languagenumber                                           1   \n",
       "originatingbody                                          3   \n",
       "respondent                                             GBR   \n",
       "sclappnos                                          1611/62   \n",
       "sharepointid                                        327252   \n",
       "typedescription                                          8   \n",
       "\n",
       "                                                            38  \\\n",
       "ECHRRanking                                                880   \n",
       "Rank                                          6.48195791244507   \n",
       "application                                            ACROBAT   \n",
       "appno                                                  6231/73   \n",
       "appnoparts                                             6231;73   \n",
       "article                                                      1   \n",
       "conclusion                                         Irrecevable   \n",
       "docname                                    HESS c. ROYAUME-UNI   \n",
       "doctype                                                  HFDEC   \n",
       "doctypebranch                                    DECCOMMISSION   \n",
       "documentcollectionid   CASELAW;DECISIONS;DECCOMMISSION;FRA;FRE   \n",
       "documentcollectionid2  CASELAW;DECISIONS;DECCOMMISSION;FRA;FRE   \n",
       "ecli                        ECLI:CE:ECHR:1975:0528DEC000623173   \n",
       "extractedappno                                 6231/73;1611/62   \n",
       "importance                                                   4   \n",
       "isplaceholder                                            False   \n",
       "itemid                                               001-75058   \n",
       "kpdate                                   5/28/1975 12:00:00 AM   \n",
       "kpdateAsText                               28/05/1975 00:00:00   \n",
       "languageisocode                                            FRE   \n",
       "languagenumber                                               2   \n",
       "originatingbody                                              3   \n",
       "respondent                                                 GBR   \n",
       "sclappnos                                              1611/62   \n",
       "sharepointid                                            328725   \n",
       "typedescription                                              8   \n",
       "\n",
       "                                                        39  \\\n",
       "ECHRRanking                                            881   \n",
       "Rank                                      6.48195791244507   \n",
       "application                                        ACROBAT   \n",
       "appno                                              6231/73   \n",
       "appnoparts                                         6231;73   \n",
       "article                                                  1   \n",
       "conclusion                                    Inadmissible   \n",
       "docname                         HESS v. the UNITED KINGDOM   \n",
       "doctype                                              HEDEC   \n",
       "doctypebranch                                DECCOMMISSION   \n",
       "documentcollectionid   CASELAW;DECISIONS;DECCOMMISSION;ENG   \n",
       "documentcollectionid2  CASELAW;DECISIONS;DECCOMMISSION;ENG   \n",
       "ecli                    ECLI:CE:ECHR:1975:0528DEC000623173   \n",
       "extractedappno                             6231/73;1611/62   \n",
       "importance                                               4   \n",
       "isplaceholder                                        False   \n",
       "itemid                                           001-70003   \n",
       "kpdate                               5/28/1975 12:00:00 AM   \n",
       "kpdateAsText                           28/05/1975 00:00:00   \n",
       "languageisocode                                        ENG   \n",
       "languagenumber                                           1   \n",
       "originatingbody                                          3   \n",
       "respondent                                             GBR   \n",
       "sclappnos                                          1611/62   \n",
       "sharepointid                                        328954   \n",
       "typedescription                                          8   \n",
       "\n",
       "                                                            40  \n",
       "ECHRRanking                                                880  \n",
       "Rank                                          6.48195791244507  \n",
       "application                                            ACROBAT  \n",
       "appno                                                  6231/73  \n",
       "appnoparts                                             6231;73  \n",
       "article                                                      1  \n",
       "conclusion                                         Irrecevable  \n",
       "docname                                    HESS c. ROYAUME-UNI  \n",
       "doctype                                                  HFDEC  \n",
       "doctypebranch                                    DECCOMMISSION  \n",
       "documentcollectionid   CASELAW;DECISIONS;DECCOMMISSION;FRA;FRE  \n",
       "documentcollectionid2  CASELAW;DECISIONS;DECCOMMISSION;FRA;FRE  \n",
       "ecli                        ECLI:CE:ECHR:1975:0528DEC000623173  \n",
       "extractedappno                                 6231/73;1611/62  \n",
       "importance                                                   4  \n",
       "isplaceholder                                            False  \n",
       "itemid                                               001-70004  \n",
       "kpdate                                   5/28/1975 12:00:00 AM  \n",
       "kpdateAsText                               28/05/1975 00:00:00  \n",
       "languageisocode                                            FRE  \n",
       "languagenumber                                               2  \n",
       "originatingbody                                              3  \n",
       "respondent                                                 GBR  \n",
       "sclappnos                                              1611/62  \n",
       "sharepointid                                            328955  \n",
       "typedescription                                              8  "
      ]
     },
     "execution_count": 23,
     "metadata": {},
     "output_type": "execute_result"
    }
   ],
   "source": [
    "nodes_df[nodes_df.appno=='6231/73'].transpose()"
   ]
  },
  {
   "cell_type": "code",
   "execution_count": 24,
   "metadata": {},
   "outputs": [
    {
     "data": {
      "text/html": [
       "<div>\n",
       "<style>\n",
       "    .dataframe thead tr:only-child th {\n",
       "        text-align: right;\n",
       "    }\n",
       "\n",
       "    .dataframe thead th {\n",
       "        text-align: left;\n",
       "    }\n",
       "\n",
       "    .dataframe tbody tr th {\n",
       "        vertical-align: top;\n",
       "    }\n",
       "</style>\n",
       "<table border=\"1\" class=\"dataframe\">\n",
       "  <thead>\n",
       "    <tr style=\"text-align: right;\">\n",
       "      <th></th>\n",
       "      <th>62</th>\n",
       "    </tr>\n",
       "  </thead>\n",
       "  <tbody>\n",
       "    <tr>\n",
       "      <th>ECHRRanking</th>\n",
       "      <td>1190</td>\n",
       "    </tr>\n",
       "    <tr>\n",
       "      <th>Rank</th>\n",
       "      <td>6.48195791244507</td>\n",
       "    </tr>\n",
       "    <tr>\n",
       "      <th>application</th>\n",
       "      <td>MS WORD</td>\n",
       "    </tr>\n",
       "    <tr>\n",
       "      <th>appno</th>\n",
       "      <td>31322/07</td>\n",
       "    </tr>\n",
       "    <tr>\n",
       "      <th>appnoparts</th>\n",
       "      <td>31322;07</td>\n",
       "    </tr>\n",
       "    <tr>\n",
       "      <th>article</th>\n",
       "      <td>1;35;35-3</td>\n",
       "    </tr>\n",
       "    <tr>\n",
       "      <th>conclusion</th>\n",
       "      <td>Recevable</td>\n",
       "    </tr>\n",
       "    <tr>\n",
       "      <th>docname</th>\n",
       "      <td>HAAS c. SUISSE</td>\n",
       "    </tr>\n",
       "    <tr>\n",
       "      <th>doctype</th>\n",
       "      <td>HFDEC</td>\n",
       "    </tr>\n",
       "    <tr>\n",
       "      <th>doctypebranch</th>\n",
       "      <td>ADMISSIBILITY</td>\n",
       "    </tr>\n",
       "    <tr>\n",
       "      <th>documentcollectionid</th>\n",
       "      <td>CASELAW;DECISIONS;ADMISSIBILITY;FRA;FRE</td>\n",
       "    </tr>\n",
       "    <tr>\n",
       "      <th>documentcollectionid2</th>\n",
       "      <td>CASELAW;DECISIONS;ADMISSIBILITY;FRA;FRE</td>\n",
       "    </tr>\n",
       "    <tr>\n",
       "      <th>ecli</th>\n",
       "      <td>ECLI:CE:ECHR:2010:0520DEC003132207</td>\n",
       "    </tr>\n",
       "    <tr>\n",
       "      <th>extractedappno</th>\n",
       "      <td>31322/07;2346/02;8327/03</td>\n",
       "    </tr>\n",
       "    <tr>\n",
       "      <th>importance</th>\n",
       "      <td>3</td>\n",
       "    </tr>\n",
       "    <tr>\n",
       "      <th>isplaceholder</th>\n",
       "      <td>False</td>\n",
       "    </tr>\n",
       "    <tr>\n",
       "      <th>itemid</th>\n",
       "      <td>001-99255</td>\n",
       "    </tr>\n",
       "    <tr>\n",
       "      <th>kpdate</th>\n",
       "      <td>5/20/2010 12:00:00 AM</td>\n",
       "    </tr>\n",
       "    <tr>\n",
       "      <th>kpdateAsText</th>\n",
       "      <td>20/05/2010 00:00:00</td>\n",
       "    </tr>\n",
       "    <tr>\n",
       "      <th>languageisocode</th>\n",
       "      <td>FRE</td>\n",
       "    </tr>\n",
       "    <tr>\n",
       "      <th>languagenumber</th>\n",
       "      <td>2</td>\n",
       "    </tr>\n",
       "    <tr>\n",
       "      <th>originatingbody</th>\n",
       "      <td>4</td>\n",
       "    </tr>\n",
       "    <tr>\n",
       "      <th>respondent</th>\n",
       "      <td>CHE</td>\n",
       "    </tr>\n",
       "    <tr>\n",
       "      <th>sclappnos</th>\n",
       "      <td></td>\n",
       "    </tr>\n",
       "    <tr>\n",
       "      <th>sharepointid</th>\n",
       "      <td>357652</td>\n",
       "    </tr>\n",
       "    <tr>\n",
       "      <th>typedescription</th>\n",
       "      <td>8</td>\n",
       "    </tr>\n",
       "  </tbody>\n",
       "</table>\n",
       "</div>"
      ],
      "text/plain": [
       "                                                            62\n",
       "ECHRRanking                                               1190\n",
       "Rank                                          6.48195791244507\n",
       "application                                            MS WORD\n",
       "appno                                                 31322/07\n",
       "appnoparts                                            31322;07\n",
       "article                                              1;35;35-3\n",
       "conclusion                                           Recevable\n",
       "docname                                         HAAS c. SUISSE\n",
       "doctype                                                  HFDEC\n",
       "doctypebranch                                    ADMISSIBILITY\n",
       "documentcollectionid   CASELAW;DECISIONS;ADMISSIBILITY;FRA;FRE\n",
       "documentcollectionid2  CASELAW;DECISIONS;ADMISSIBILITY;FRA;FRE\n",
       "ecli                        ECLI:CE:ECHR:2010:0520DEC003132207\n",
       "extractedappno                        31322/07;2346/02;8327/03\n",
       "importance                                                   3\n",
       "isplaceholder                                            False\n",
       "itemid                                               001-99255\n",
       "kpdate                                   5/20/2010 12:00:00 AM\n",
       "kpdateAsText                               20/05/2010 00:00:00\n",
       "languageisocode                                            FRE\n",
       "languagenumber                                               2\n",
       "originatingbody                                              4\n",
       "respondent                                                 CHE\n",
       "sclappnos                                                     \n",
       "sharepointid                                            357652\n",
       "typedescription                                              8"
      ]
     },
     "execution_count": 24,
     "metadata": {},
     "output_type": "execute_result"
    }
   ],
   "source": [
    "nodes_df[nodes_df.appno=='31322/07'].transpose()"
   ]
  },
  {
   "cell_type": "code",
   "execution_count": 27,
   "metadata": {},
   "outputs": [],
   "source": [
    "nodes_df.to_csv(os.path.join(fpath, '2018-10-24-jurisdiction_nodes_raw.csv'), index=False)"
   ]
  },
  {
   "cell_type": "code",
   "execution_count": null,
   "metadata": {},
   "outputs": [],
   "source": []
  }
 ],
 "metadata": {
  "kernelspec": {
   "display_name": "Python [conda env:caselaw]",
   "language": "python",
   "name": "conda-env-caselaw-py"
  },
  "language_info": {
   "codemirror_mode": {
    "name": "ipython",
    "version": 3
   },
   "file_extension": ".py",
   "mimetype": "text/x-python",
   "name": "python",
   "nbconvert_exporter": "python",
   "pygments_lexer": "ipython3",
   "version": "3.5.5"
  }
 },
 "nbformat": 4,
 "nbformat_minor": 2
}
