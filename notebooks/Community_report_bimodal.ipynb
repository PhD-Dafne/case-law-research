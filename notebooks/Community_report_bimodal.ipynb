{
 "cells": [
  {
   "cell_type": "code",
   "execution_count": null,
   "metadata": {},
   "outputs": [],
   "source": [
    "%matplotlib inline\n",
    "import pandas as pd\n",
    "import os\n",
    "import matplotlib.pyplot as plt\n",
    "from IPython.display import display"
   ]
  },
  {
   "cell_type": "code",
   "execution_count": null,
   "metadata": {},
   "outputs": [],
   "source": [
    "filepath = '/media/sf_VBox_Shared/CaseLaw/2018-01-29-lido/derived/'\n",
    "art_nodes = pd.read_csv(os.path.join(filepath, 'article_nodes_nodup_min5_bimodal_titles.csv'))\n",
    "case_nodes = pd.read_csv(os.path.join(filepath, 'case_nodes_simple_bimodal_titles.csv'))\n",
    "bimodal_links = pd.read_csv(os.path.join(filepath, 'case_to_article_title_links.csv'))\n",
    "bimodal_clusters = pd.read_csv(os.path.join(filepath, 'bimodal_clusters_titles.csv'))"
   ]
  },
  {
   "cell_type": "code",
   "execution_count": null,
   "metadata": {},
   "outputs": [],
   "source": [
    "comm_counts = bimodal_clusters.groupby(['community', 'type']).count()['name'].unstack()"
   ]
  },
  {
   "cell_type": "code",
   "execution_count": null,
   "metadata": {},
   "outputs": [],
   "source": [
    "fig, axes = plt.subplots(3, 1, figsize=(8, 15))\n",
    "\n",
    "n = 50\n",
    "\n",
    "comm_counts[:n].plot(kind='bar', ax=axes[0], title='Cases and articles')\n",
    "comm_counts['article'][:n].plot(kind='bar', ax=axes[1], title='Articles')\n",
    "comm_counts['case'][:n].plot(kind='bar', ax=axes[2], title='Cases')"
   ]
  },
  {
   "cell_type": "code",
   "execution_count": null,
   "metadata": {},
   "outputs": [],
   "source": [
    "largest_coms = bimodal_clusters.community.value_counts().index"
   ]
  },
  {
   "cell_type": "code",
   "execution_count": null,
   "metadata": {},
   "outputs": [],
   "source": [
    "df_plot = case_nodes[case_nodes.community_bimodal.isin(largest_coms[:10])]\n",
    "df_plot.groupby(['year','community_bimodal']).count()['ecli'].unstack().plot(colormap='nipy_spectral')\n",
    "plt.gca().set_xlim(1990, 2017)\n",
    "plt.legend(bbox_to_anchor=(1.05, 1), loc=2, borderaxespad=0.)"
   ]
  },
  {
   "cell_type": "markdown",
   "metadata": {},
   "source": [
    "## compare with courts"
   ]
  },
  {
   "cell_type": "code",
   "execution_count": null,
   "metadata": {},
   "outputs": [],
   "source": [
    "courts = pd.read_csv(os.path.join(filepath, 'court_nodes.csv'))\n",
    "\n",
    "# Some mappings\n",
    "courts.loc[courts['Type']=='TypeHr','Type'] = 'Hoge Raad'\n",
    "courts.loc[courts['Type']=='TypeCBb','Type'] = 'College van beroep'\n",
    "courts.loc[courts['Type']=='TypeCRvB','Type'] = 'Centrale Raad van Beroep'\n",
    "courts.loc[courts['Type']=='TypeRvS','Type'] = 'Raad van State'\n",
    "courts.loc[courts['Type']=='http://psi.rechtspraak.nl/buitenlandseInstantie','Type'] = 'Buitenlandse Instantie'"
   ]
  },
  {
   "cell_type": "code",
   "execution_count": null,
   "metadata": {},
   "outputs": [],
   "source": [
    "courts.Type.value_counts()"
   ]
  },
  {
   "cell_type": "code",
   "execution_count": null,
   "metadata": {},
   "outputs": [],
   "source": [
    "case_nodes_courts = pd.merge(case_nodes, courts, how='left', left_on='court', right_on='id')"
   ]
  },
  {
   "cell_type": "code",
   "execution_count": null,
   "metadata": {},
   "outputs": [],
   "source": [
    "df_plot = case_nodes_courts[case_nodes_courts.community_bimodal.isin(largest_coms[:20])]\n",
    "df_plot.groupby(['community_bimodal', 'Type']).count()['ecli'].unstack().plot.bar(stacked=True, colormap='nipy_spectral', figsize=(13,5))\n",
    "plt.legend(bbox_to_anchor=(0, 1.1),loc=8, borderaxespad=0.)\n",
    "plt.show()"
   ]
  },
  {
   "cell_type": "code",
   "execution_count": null,
   "metadata": {},
   "outputs": [],
   "source": [
    "for com in largest_coms[:20]:\n",
    "    nodes_sub = art_nodes[art_nodes.community==com]\n",
    "    nodes_sub.groupby(['book']).count()['id'].plot.barh(figsize=(3,3))\n",
    "    plt.title('Community {}, {} articles'.format(com, len(nodes_sub)))\n",
    "    plt.show()\n",
    "    #display(nodes_sub)"
   ]
  },
  {
   "cell_type": "code",
   "execution_count": null,
   "metadata": {},
   "outputs": [],
   "source": []
  },
  {
   "cell_type": "code",
   "execution_count": null,
   "metadata": {},
   "outputs": [],
   "source": []
  }
 ],
 "metadata": {
  "language_info": {
   "name": "python",
   "pygments_lexer": "ipython3"
  }
 },
 "nbformat": 4,
 "nbformat_minor": 2
}
